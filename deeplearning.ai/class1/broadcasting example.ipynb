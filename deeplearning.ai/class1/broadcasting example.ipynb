{
 "cells": [
  {
   "cell_type": "code",
   "execution_count": 15,
   "metadata": {},
   "outputs": [
    {
     "name": "stdout",
     "output_type": "stream",
     "text": [
      "[[  56.     0.     4.4   68. ]\n",
      " [   1.2  104.    52.     8. ]\n",
      " [   1.8  135.    99.     0.9]]\n",
      "[  59.   239.   155.4   76.9]\n",
      "[[ 0.94915254  0.          0.02831403  0.88426528]\n",
      " [ 0.02033898  0.43514644  0.33462033  0.10403121]\n",
      " [ 0.03050847  0.56485356  0.63706564  0.01170351]]\n",
      "[ 128.4  165.2  236.7]\n",
      "[[ 0.43613707  0.          0.03426791  0.52959502]\n",
      " [ 0.00726392  0.62953995  0.31476998  0.04842615]\n",
      " [ 0.00760456  0.57034221  0.41825095  0.00380228]]\n"
     ]
    }
   ],
   "source": [
    "import numpy as np\n",
    "A = np.array([[56.0, 0.0, 4.4, 68.0],\n",
    "              [1.2, 104.0, 52.0, 8.0],\n",
    "              [1.8, 135.0, 99.0, 0.9]])\n",
    "print (A)\n",
    "\n",
    "\n",
    "B = A.sum(axis = 0)\n",
    "print (B)\n",
    "\n",
    "C = A / B\n",
    "print (C)\n",
    "\n",
    "B = A.sum(axis = 1)\n",
    "print (B)\n",
    "\n",
    "C = A / B.reshape([3, 1])\n",
    "print (C)"
   ]
  },
  {
   "cell_type": "code",
   "execution_count": 3,
   "metadata": {},
   "outputs": [
    {
     "data": {
      "text/plain": [
       "[56.0, 0, 0, 4, 4, 68.0, 1.2, 104.0, 52.0, 8.0, 1.8, 135.0, 99.0, 0.9]"
      ]
     },
     "execution_count": 3,
     "metadata": {},
     "output_type": "execute_result"
    }
   ],
   "source": [
    "B"
   ]
  }
 ],
 "metadata": {
  "kernelspec": {
   "display_name": "Python 3",
   "language": "python",
   "name": "python3"
  },
  "language_info": {
   "codemirror_mode": {
    "name": "ipython",
    "version": 3
   },
   "file_extension": ".py",
   "mimetype": "text/x-python",
   "name": "python",
   "nbconvert_exporter": "python",
   "pygments_lexer": "ipython3",
   "version": "3.6.3"
  }
 },
 "nbformat": 4,
 "nbformat_minor": 2
}
