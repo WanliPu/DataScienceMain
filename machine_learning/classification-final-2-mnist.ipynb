{
 "cells": [
  {
   "cell_type": "code",
   "execution_count": 11,
   "metadata": {
    "collapsed": true
   },
   "outputs": [],
   "source": [
    "# sklearn version 0.19.0 or 0.19.1 required\n",
    "# import sklearn\n",
    "# sklearn.__version__\n",
    "# python 3.0 recommended\n",
    "\n",
    "from __future__ import division, print_function, unicode_literals\n",
    "import numpy as np\n",
    "import pandas as pd\n",
    "import os\n",
    "import matplotlib\n",
    "import matplotlib.pyplot as plt\n",
    "%matplotlib inline\n",
    "plt.style.use('ggplot')\n",
    "\n",
    "from sklearn.datasets import load_iris\n",
    "from sklearn.model_selection import train_test_split #from model_selection instead of cross_validation\n",
    "from sklearn.model_selection import validation_curve #from model_selection instead of learning_curve\n",
    "from sklearn.model_selection import learning_curve\n",
    "from sklearn.utils import shuffle\n",
    "\n",
    "from sklearn.tree import DecisionTreeClassifier\n",
    "from sklearn.neural_network import MLPClassifier\n",
    "from sklearn.ensemble import AdaBoostClassifier\n",
    "from sklearn.svm import SVC\n",
    "from sklearn.neighbors import KNeighborsClassifier\n",
    "from sklearn.model_selection import cross_val_score\n",
    "from sklearn.model_selection import cross_validate"
   ]
  },
  {
   "cell_type": "markdown",
   "metadata": {},
   "source": [
    "certain portion of code was borrowed from \"Hands-On Machine Learning with Scikit-Learn and TensorFlow\" Book"
   ]
  },
  {
   "cell_type": "code",
   "execution_count": 12,
   "metadata": {
    "collapsed": true
   },
   "outputs": [],
   "source": [
    "# To plot pretty figures\n",
    "plt.rcParams['axes.labelsize'] = 14\n",
    "plt.rcParams['xtick.labelsize'] = 12\n",
    "plt.rcParams['ytick.labelsize'] = 12\n",
    "\n",
    "# Where to save the figures\n",
    "PROJECT_ROOT_DIR = \".\"\n",
    "PROJECT_ID = \"classification\"\n",
    "DATASET_ID = \"_mnist_\"  # for handwritten digits dataset\n",
    "\n",
    "def image_path(fig_id):\n",
    "    return os.path.join(PROJECT_ROOT_DIR, PROJECT_ID + DATASET_ID + fig_id)\n",
    "\n",
    "def save_fig(fig_id, tight_layout=True):\n",
    "    print(\"Saving figure\", fig_id)\n",
    "    if tight_layout:\n",
    "        plt.tight_layout()\n",
    "    plt.savefig(image_path(fig_id) + \".png\", format='png', dpi=300)\n",
    "    \n",
    "def plot_curve(sizes, data, dots=True, **kwargs):\n",
    "    mu, std = data.mean(1), data.std(1)\n",
    "    if dots:\n",
    "        lines = plt.plot(sizes, mu, 'o-', **kwargs)\n",
    "    else:\n",
    "        lines = plt.plot(sizes, mu, '-', **kwargs)\n",
    "    plt.fill_between(sizes, mu - std, mu + std, edgecolor='none',\n",
    "                     facecolor=lines[0].get_color(), alpha=0.3)\n",
    "    \n",
    "def normalize_data(df, columns):\n",
    "    for column in columns:\n",
    "        mean_value = df.loc[:,column].mean()\n",
    "        stdev = np.std(df.loc[:,column].values)\n",
    "        df.loc[:,column] = (df.loc[:,column] - mean_value) / stdev\n",
    "    return df"
   ]
  },
  {
   "cell_type": "markdown",
   "metadata": {},
   "source": [
    "# Sklearn Handwritten Digits Data (originally from UCI)\n",
    "http://archive.ics.uci.edu/ml/datasets/Pen-Based+Recognition+of+Handwritten+Digits"
   ]
  },
  {
   "cell_type": "code",
   "execution_count": 13,
   "metadata": {
    "collapsed": true
   },
   "outputs": [],
   "source": [
    "import pickle, gzip, numpy, urllib.request, json\n",
    "\n",
    "# Load the dataset\n",
    "urllib.request.urlretrieve(\"http://deeplearning.net/data/mnist/mnist.pkl.gz\", \"mnist.pkl.gz\")\n",
    "with gzip.open('mnist.pkl.gz', 'rb') as f:\n",
    "    train_set, valid_set, test_set = pickle.load(f, encoding='latin1')"
   ]
  },
  {
   "cell_type": "code",
   "execution_count": 14,
   "metadata": {
    "collapsed": true
   },
   "outputs": [],
   "source": [
    "X = train_set[0]\n",
    "y = train_set[1]\n",
    "index = np.array(range(X.shape[0]))%20==0"
   ]
  },
  {
   "cell_type": "code",
   "execution_count": 15,
   "metadata": {
    "collapsed": true
   },
   "outputs": [],
   "source": [
    "X = X[index, :]\n",
    "y = y[index]\n",
    "\n",
    "\n",
    "#shuffle data\n",
    "X, y = shuffle(X, y, random_state=23)\n",
    "\n",
    "#split data\n",
    "X_train, X_test, y_train, y_test = train_test_split(X, y, test_size = 0.3, random_state=0)"
   ]
  },
  {
   "cell_type": "code",
   "execution_count": 16,
   "metadata": {},
   "outputs": [
    {
     "name": "stdout",
     "output_type": "stream",
     "text": [
      "(2500, 784)\n"
     ]
    }
   ],
   "source": [
    "print (X.shape)"
   ]
  },
  {
   "cell_type": "code",
   "execution_count": 17,
   "metadata": {
    "scrolled": true
   },
   "outputs": [
    {
     "data": {
      "text/plain": [
       "([<matplotlib.axis.XTick at 0x19152804860>,\n",
       "  <matplotlib.axis.XTick at 0x19152804c88>,\n",
       "  <matplotlib.axis.XTick at 0x191533225c0>,\n",
       "  <matplotlib.axis.XTick at 0x19147277908>,\n",
       "  <matplotlib.axis.XTick at 0x19147277f98>,\n",
       "  <matplotlib.axis.XTick at 0x1914727b6a0>,\n",
       "  <matplotlib.axis.XTick at 0x1914727bd68>,\n",
       "  <matplotlib.axis.XTick at 0x19147280470>,\n",
       "  <matplotlib.axis.XTick at 0x19147280b38>,\n",
       "  <matplotlib.axis.XTick at 0x19147286240>],\n",
       " <a list of 10 Text xticklabel objects>)"
      ]
     },
     "execution_count": 17,
     "metadata": {},
     "output_type": "execute_result"
    },
    {
     "data": {
      "image/png": "[encoded data removed]",
      "text/plain": [
       "<matplotlib.figure.Figure at 0x19146cbf978>"
      ]
     },
     "metadata": {},
     "output_type": "display_data"
    }
   ],
   "source": [
    "unique, counts = np.unique(y, return_counts=True)\n",
    "plt.bar(unique, counts)\n",
    "plt.xticks(unique, ('0', '1', '2', '3', '4', '5', '6', '7', '8', '9'))"
   ]
  },
  {
   "cell_type": "markdown",
   "metadata": {},
   "source": [
    "# DecisionTreeClassifier"
   ]
  },
  {
   "cell_type": "code",
   "execution_count": 18,
   "metadata": {},
   "outputs": [
    {
     "name": "stdout",
     "output_type": "stream",
     "text": [
      "Saving figure Decision Tree Complexity Curve (max_depth)\n"
     ]
    },
    {
     "data": {
      "image/png": "[encoded data removed]",
      "text/plain": [
       "<matplotlib.figure.Figure at 0x19147298d30>"
      ]
     },
     "metadata": {},
     "output_type": "display_data"
    }
   ],
   "source": [
    "def plot_complexity_curve_dt():\n",
    "    param_name=\"max_depth\"\n",
    "    param_range=range(1,16)\n",
    "    val_train, val_test = validation_curve(DecisionTreeClassifier(random_state=0),\n",
    "                                           X_train, y_train, \n",
    "                                           param_name=param_name, param_range=param_range, cv=10)\n",
    "    #print (val_train)\n",
    "    plot_curve(param_range, val_train, label='training scores', color = 'r')\n",
    "    plot_curve(param_range, val_test, label='validation scores', color = 'b')\n",
    "    lower = 0; upper = 1; interval = 0.1\n",
    "    ytick_range = np.arange(lower, upper+interval, interval)\n",
    "    plt.ylim(lower, upper+interval)\n",
    "    plt.yticks(ytick_range)\n",
    "    plt.xticks(param_range)\n",
    "    plt.xlabel('Tree Max Depth (max_depth)'); plt.ylabel('Accuracy')\n",
    "    plt.title('Decision Tree Complexity Curve (max_depth)', fontsize=16)\n",
    "    plt.legend(fontsize = 11)\n",
    "    #plt.grid()\n",
    "    save_fig('Decision Tree Complexity Curve (max_depth)', tight_layout=True)\n",
    "    \n",
    "plot_complexity_curve_dt()"
   ]
  },
  {
   "cell_type": "code",
   "execution_count": 19,
   "metadata": {},
   "outputs": [
    {
     "name": "stdout",
     "output_type": "stream",
     "text": [
      "Saving figure Decision Tree Learning Curve\n"
     ]
    },
    {
     "data": {
      "image/png": "[encoded data removed]",
      "text/plain": [
       "<matplotlib.figure.Figure at 0x19147307080>"
      ]
     },
     "metadata": {},
     "output_type": "display_data"
    }
   ],
   "source": [
    "def plot_learning_curve_dt():\n",
    "    train_sizes = np.linspace(0.05, 1, 20)\n",
    "    N_train, val_train, val_test = learning_curve(DecisionTreeClassifier(max_depth=8),\n",
    "                                                  X_train, y_train, train_sizes=train_sizes, cv=10)\n",
    "    plot_curve(N_train, val_train, label='training scores', color = 'r')\n",
    "    plot_curve(N_train, val_test, label='validation scores', color = 'b')\n",
    "    lower = 0; upper = 1; interval = 0.1\n",
    "    ytick_range = np.arange(lower, upper+interval, interval)\n",
    "    plt.ylim(lower, upper+interval)\n",
    "    plt.yticks(ytick_range)\n",
    "    plt.xlabel('Training Set Size'); plt.ylabel('Accuracy')\n",
    "    plt.title('Decision Tree Learning Curve', fontsize=16)\n",
    "    plt.legend(fontsize = 11)\n",
    "    #plt.grid()\n",
    "    save_fig('Decision Tree Learning Curve', tight_layout=True)\n",
    "    \n",
    "plot_learning_curve_dt()"
   ]
  },
  {
   "cell_type": "code",
   "execution_count": null,
   "metadata": {},
   "outputs": [
    {
     "name": "stdout",
     "output_type": "stream",
     "text": [
      "Decision Tree Model Prediction Accuracy on Test Data: 0.6747\n"
     ]
    }
   ],
   "source": [
    "dt_clf = DecisionTreeClassifier(max_depth = 8, random_state=0)\n",
    "dt_clf.fit(X_train, y_train)\n",
    "test_score = dt_clf.score(X_test, y_test)\n",
    "print ('Decision Tree Model Prediction Accuracy on Test Data: {:.4f}'.format(test_score))"
   ]
  },
  {
   "cell_type": "markdown",
   "metadata": {},
   "source": [
    "# MLPClassifier"
   ]
  },
  {
   "cell_type": "code",
   "execution_count": null,
   "metadata": {},
   "outputs": [],
   "source": [
    "# first to test on one layer only\n",
    "def plot_complexity_curve_mlp():\n",
    "    param_name=\"hidden_layer_sizes\"\n",
    "    param_range=range(1,41)\n",
    "    val_train, val_test = validation_curve(MLPClassifier(solver='lbfgs', random_state=0),\n",
    "                                           X_train, y_train,\n",
    "                                           param_name=param_name, param_range=param_range, cv=10)\n",
    "    plot_curve(param_range, val_train, dots = False, label='training scores', color = 'r')\n",
    "    plot_curve(param_range, val_test, dots = False, label='validation scores', color = 'b')\n",
    "    lower = 0; upper = 1; interval = 0.1\n",
    "    ytick_range = np.arange(lower, upper+interval, interval)\n",
    "    plt.ylim(lower, upper+interval)\n",
    "    plt.yticks(ytick_range)\n",
    "    plt.xlabel('Hidden Layer (One Layer) Sizes'); plt.ylabel('Accuracy')\n",
    "    plt.title('MLP Complexity Curve 1 (hidden_layer_sizes)', fontsize=16)\n",
    "    plt.legend(fontsize = 11)\n",
    "    #plt.grid()\n",
    "    save_fig('MLP Complexity Curve 1 (hidden_layer_sizes)', tight_layout=True)\n",
    "    \n",
    "plot_complexity_curve_mlp()"
   ]
  },
  {
   "cell_type": "code",
   "execution_count": null,
   "metadata": {},
   "outputs": [],
   "source": [
    "def plot_complexity_curve_mlp2():\n",
    "    val_train_result = [np.array([])]\n",
    "    val_train_std = np.array([])\n",
    "    val_test_result = np.array([])\n",
    "    val_test_std = np.array([])\n",
    "    sizes = [(30,), (30, 30), (30, 30, 30), (30, 30, 30, 30), (30, 30, 30, 30, 30)]\n",
    "    for i in sizes:\n",
    "        clf = MLPClassifier(solver='lbfgs', hidden_layer_sizes = i, random_state=0)\n",
    "        results = cross_validate(clf, X_train, y_train, cv=10, return_train_score=True)\n",
    "\n",
    "        val_train_result = np.append(val_train_result, results['train_score'].mean())\n",
    "        val_test_result = np.append(val_test_result, results['test_score'].mean())\n",
    "        val_train_std = np.append(val_train_std, results['train_score'].std())\n",
    "        val_test_std = np.append(val_test_std, results['test_score'].std())                     \n",
    "        \n",
    "    lines1 = plt.plot(range(1,6),val_train_result , 'o-', color = 'r', label='training scores')\n",
    "    lines2 = plt.plot(range(1,6),val_test_result , 'o-', color = 'b', label='test scores')\n",
    "\n",
    "    plt.fill_between(range(1,6), val_train_result - val_train_std, val_train_result + val_train_std, edgecolor='none',\n",
    "                     facecolor=lines1[0].get_color(), alpha=0.3)\n",
    "    plt.fill_between(range(1,6), val_test_result - val_test_std, val_test_result + val_test_std, edgecolor='none',\n",
    "                     facecolor=lines2[0].get_color(), alpha=0.3)\n",
    "    lower = 0.8; upper = 1; interval = 0.05\n",
    "    ytick_range = np.arange(lower, upper+interval, interval)\n",
    "    plt.ylim(lower, upper+interval)\n",
    "    plt.yticks(ytick_range)\n",
    "    plt.xticks(range(1, 6))\n",
    "    plt.xlabel('Number of Hidden Layers'); plt.ylabel('Accuracy')\n",
    "    plt.title('MLP Complexity Curve 2 (hidden_layer numbers)', fontsize=16)    \n",
    "    plt.legend(fontsize = 11)\n",
    "    #plt.grid()\n",
    "    save_fig('MLP Complexity Curve 2 (hidden_layer numbers)', tight_layout=True)\n",
    "    \n",
    "plot_complexity_curve_mlp2()"
   ]
  },
  {
   "cell_type": "code",
   "execution_count": null,
   "metadata": {},
   "outputs": [],
   "source": [
    "def plot_complexity_curve_mlp3():\n",
    "    param_name=\"max_iter\"\n",
    "    param_range=range(10, 200, 10)\n",
    "    val_train, val_test = validation_curve(MLPClassifier(solver='lbfgs', hidden_layer_sizes=30, random_state=0),\n",
    "                                           X_train, y_train,\n",
    "                                           param_name=param_name, param_range=param_range, cv=10)\n",
    "    plot_curve(param_range, val_train, label='training scores', color = 'r')\n",
    "    plot_curve(param_range, val_test, label='validation scores', color = 'b')\n",
    "    lower = 0.5; upper = 1; interval = 0.05\n",
    "    ytick_range = np.arange(lower, upper+interval, interval)\n",
    "    plt.ylim(lower, upper+interval)\n",
    "    plt.yticks(ytick_range)\n",
    "    plt.xlabel('Max Iterations (max_iter)'); plt.ylabel('Accuracy')\n",
    "    plt.title('MLP Complexity Curve 3 (max_iter)', fontsize=16)\n",
    "    plt.legend(fontsize=11)\n",
    "    #plt.grid()\n",
    "    save_fig('MLP Complexity Curve 3 (max_iter)', tight_layout=True)\n",
    "\n",
    "plot_complexity_curve_mlp3()"
   ]
  },
  {
   "cell_type": "code",
   "execution_count": null,
   "metadata": {},
   "outputs": [],
   "source": [
    "def plot_complexity_curve_mlp4():\n",
    "    param_name=\"alpha\"\n",
    "    param_range=[1e-6, 1e-5, 1e-4, 1e-3, 1e-2, 1e-1, 1e0, 10, 100]\n",
    "    val_train, val_test = validation_curve(MLPClassifier(solver='lbfgs', hidden_layer_sizes=30, \n",
    "                                                         max_iter = 100, random_state=0),\n",
    "                                           X_train, y_train,\n",
    "                                           param_name=param_name, param_range=param_range, cv=10)\n",
    "    plot_curve(np.log10(param_range), val_train, label='training scores', color = 'r')\n",
    "    plot_curve(np.log10(param_range), val_test, label='validation scores', color = 'b')\n",
    "    lower = 0.8; upper = 1; interval = 0.05\n",
    "    ytick_range = np.arange(lower, upper+interval, interval)\n",
    "    plt.ylim(lower, upper+interval)\n",
    "    plt.yticks(ytick_range)\n",
    "    plt.xlabel('LOG10(alpha)'); plt.ylabel('Accuracy')\n",
    "    plt.title('MLP Complexity Curve 4 (alpha)', fontsize=16)\n",
    "    plt.legend(fontsize=11)\n",
    "    #plt.grid()\n",
    "    save_fig('MLP Complexity Curve 4 (alpha)', tight_layout=True)\n",
    "    \n",
    "plot_complexity_curve_mlp4()"
   ]
  },
  {
   "cell_type": "code",
   "execution_count": null,
   "metadata": {
    "scrolled": true
   },
   "outputs": [],
   "source": [
    "def plot_learning_curve():\n",
    "    train_sizes = np.linspace(0.05, 1, 20) # if the train size is too small, training sample may only contain one class\n",
    "    N_train, val_train, val_test = learning_curve(MLPClassifier(solver='lbfgs', alpha=1e-5, \n",
    "                                                                hidden_layer_sizes=30, max_iter = 100, random_state=0),\n",
    "                                                  X_train, y_train, train_sizes=train_sizes, cv=10)\n",
    "    plot_curve(N_train, val_train, label='training scores', color = 'r')\n",
    "    plot_curve(N_train, val_test, label='validation scores', color = 'b')\n",
    "    lower = 0.5; upper = 1; interval = 0.05\n",
    "    ytick_range = np.arange(lower, upper+interval, interval)\n",
    "    plt.ylim(lower, upper+interval)\n",
    "    plt.yticks(ytick_range)\n",
    "    plt.xlabel('Training Set Size'); plt.ylabel('Accuracy')\n",
    "    plt.title('MLP Learning Curve 1 (relu)', fontsize=16)\n",
    "    plt.legend(fontsize=11)\n",
    "    #plt.grid()\n",
    "    save_fig('MLP Learning Curve 1 (relu)', tight_layout=True)\n",
    "    \n",
    "plot_learning_curve()"
   ]
  },
  {
   "cell_type": "code",
   "execution_count": null,
   "metadata": {},
   "outputs": [],
   "source": [
    "def plot_learning_curve_mlp2():\n",
    "    train_sizes = np.linspace(0.05, 1, 20) \n",
    "    # if the train size is too small, training sample may only contain one class\n",
    "    N_train, val_train, val_test = learning_curve(MLPClassifier(solver='lbfgs', alpha=1e-5, \n",
    "                        hidden_layer_sizes=30, max_iter = 100, activation = 'logistic',random_state=1),\n",
    "                                                  X_train, y_train, train_sizes=train_sizes, cv=10)\n",
    "    plot_curve(N_train, val_train, label='training scores', color = 'r')\n",
    "    plot_curve(N_train, val_test, label='validation scores', color = 'b')\n",
    "    lower = 0.5; upper = 1; interval = 0.05\n",
    "    ytick_range = np.arange(lower, upper+interval, interval)\n",
    "    plt.ylim(lower, upper+interval)\n",
    "    plt.yticks(ytick_range)\n",
    "    plt.xlabel('Training Set Size'); plt.ylabel('Accuracy')\n",
    "    plt.title('MLP Learning Curve 2 (logistic)', fontsize=16)\n",
    "    plt.legend(fontsize=11)\n",
    "    #plt.grid()\n",
    "    save_fig('MLP Learning Curve 2 (logistic)', tight_layout=True)\n",
    "    \n",
    "plot_learning_curve_mlp2()"
   ]
  },
  {
   "cell_type": "code",
   "execution_count": null,
   "metadata": {},
   "outputs": [],
   "source": [
    "# mlp_clf = MLPClassifier(solver='lbfgs', alpha=1e-5, \n",
    "#                         hidden_layer_sizes=(10, 2), max_iter = 200,random_state=0)\n",
    "mlp_clf = MLPClassifier(solver='lbfgs', alpha=1e-5, \n",
    "                        hidden_layer_sizes=30, max_iter = 100,random_state=0)\n",
    "mlp_clf.fit(X_train, y_train)\n",
    "test_score = mlp_clf.score(X_test, y_test)\n",
    "print ('ANN Model Prediction Accuracy on Test Data: {:.4f}'.format(test_score))"
   ]
  },
  {
   "cell_type": "code",
   "execution_count": null,
   "metadata": {},
   "outputs": [],
   "source": [
    "# mlp_clf = MLPClassifier(solver='lbfgs', alpha=1e-5, \n",
    "#                         hidden_layer_sizes=(10, 2), max_iter = 200,random_state=0)\n",
    "mlp_clf = MLPClassifier(solver='lbfgs', alpha=1e-5, \n",
    "                        hidden_layer_sizes=30, max_iter = 100,activation = 'logistic', random_state=0)\n",
    "mlp_clf.fit(X_train, y_train)\n",
    "test_score = mlp_clf.score(X_test, y_test)\n",
    "print ('ANN Model Prediction Accuracy on Test Data: {:.4f}'.format(test_score))"
   ]
  },
  {
   "cell_type": "markdown",
   "metadata": {},
   "source": [
    "# AdaBoostClassifier"
   ]
  },
  {
   "cell_type": "code",
   "execution_count": null,
   "metadata": {},
   "outputs": [],
   "source": [
    "def plot_complexity_curve_bdt1():\n",
    "    val_train_result = [np.array([])]\n",
    "    val_train_std = np.array([])\n",
    "    val_test_result = np.array([])\n",
    "    val_test_std = np.array([])\n",
    "    sizes = range(1, 16)\n",
    "    for i in sizes:\n",
    "        clf = AdaBoostClassifier(DecisionTreeClassifier(max_depth=i),learning_rate=1,algorithm=\"SAMME\")\n",
    "        results = cross_validate(clf, X_train, y_train, cv=10, return_train_score = True)\n",
    "\n",
    "        val_train_result = np.append(val_train_result, results['train_score'].mean())\n",
    "        val_test_result = np.append(val_test_result, results['test_score'].mean())\n",
    "        val_train_std = np.append(val_train_std, results['train_score'].std())\n",
    "        val_test_std = np.append(val_test_std, results['test_score'].std())                     \n",
    "        \n",
    "    lines1 = plt.plot(sizes,val_train_result , 'o-', color = 'r', label='training scores')\n",
    "    lines2 = plt.plot(sizes,val_test_result , 'o-', color = 'b', label='test scores')\n",
    "\n",
    "    plt.fill_between(sizes, val_train_result - val_train_std, val_train_result + val_train_std, edgecolor='none',\n",
    "                     facecolor=lines1[0].get_color(), alpha=0.3)\n",
    "    plt.fill_between(sizes, val_test_result - val_test_std, val_test_result + val_test_std, edgecolor='none',\n",
    "                     facecolor=lines2[0].get_color(), alpha=0.3)\n",
    "    lower = 0.5; upper = 1; interval = 0.05\n",
    "    ytick_range = np.arange(lower, upper+interval, interval)\n",
    "    plt.ylim(lower, upper+interval)\n",
    "    plt.yticks(ytick_range)\n",
    "    plt.xlabel('Max Depth of DecisionTreeClassifier'); plt.ylabel('Accuracy')\n",
    "    plt.title('AdaBoost Complexity Curve 1 (Tree max_depth)', fontsize=16)    \n",
    "    plt.legend(fontsize = 11)\n",
    "    #plt.grid()\n",
    "    save_fig('AdaBoost Complexity Curve 1 (Tree max_depth)', tight_layout=True)\n",
    "    \n",
    "plot_complexity_curve_bdt1()"
   ]
  },
  {
   "cell_type": "code",
   "execution_count": null,
   "metadata": {},
   "outputs": [],
   "source": [
    "def plot_complexity_curve_bdt2():\n",
    "    #train_sizes = np.linspace(0.1, 0.95, 18)\n",
    "    param_name=\"n_estimators\"\n",
    "    param_range=range(10, 200, 10)\n",
    "    val_train, val_test = validation_curve(AdaBoostClassifier(DecisionTreeClassifier(max_depth=8),\n",
    "                                           learning_rate=1,algorithm=\"SAMME\"),\n",
    "                                           X_train, y_train, \n",
    "                                           param_name=param_name, param_range=param_range, cv=10)\n",
    "    #print (val_train)\n",
    "    plot_curve(param_range, val_train, label='training scores', color = 'r')\n",
    "    plot_curve(param_range, val_test, label='validation scores', color = 'b')\n",
    "    lower = 0.8; upper = 1; interval = 0.05\n",
    "    ytick_range = np.arange(lower, upper+interval, interval)\n",
    "    plt.ylim(lower, upper+interval)\n",
    "    plt.yticks(ytick_range)\n",
    "    plt.xlabel('Number of Estimators (n_estimators)'); plt.ylabel('Accuracy')\n",
    "    plt.title('AdaBoost Complexity Curve 2 (n_estimators)', fontsize=16)    \n",
    "    plt.legend(fontsize = 11)\n",
    "    #plt.grid()\n",
    "    save_fig('AdaBoost Complexity Curve 2 (n_estimators)', tight_layout=True)\n",
    "    \n",
    "plot_complexity_curve_bdt2()"
   ]
  },
  {
   "cell_type": "code",
   "execution_count": null,
   "metadata": {},
   "outputs": [],
   "source": [
    "def plot_learning_curve_bdt():\n",
    "    train_sizes = np.linspace(0.05, 1, 20) # if the train size is too small, training sample may only contain one class\n",
    "    N_train, val_train, val_test = learning_curve(AdaBoostClassifier(DecisionTreeClassifier(max_depth=8),\n",
    "                                                                     n_estimators=100,learning_rate=1,algorithm=\"SAMME\"),\n",
    "                                                  X_train, y_train, train_sizes=train_sizes, cv=10)\n",
    "    plot_curve(N_train, val_train, label='training scores', color = 'r')\n",
    "    plot_curve(N_train, val_test, label='validation scores', color = 'b')\n",
    "    ytick_range = np.arange(0.5, 1.05, 0.05)\n",
    "    lower = 0.5; upper = 1; interval = 0.05\n",
    "    ytick_range = np.arange(lower, upper+interval, interval)\n",
    "    plt.ylim(lower, upper+interval)\n",
    "    plt.yticks(ytick_range)\n",
    "    plt.xlabel('Training Set Size'); plt.ylabel('Accuracy')\n",
    "    plt.title('AdaBoost Learning Curve 1', fontsize=16)    \n",
    "    plt.legend(fontsize = 11)\n",
    "    #plt.grid()\n",
    "    save_fig('AdaBoost Learning Curve 1', tight_layout=True)\n",
    "    \n",
    "plot_learning_curve_bdt()"
   ]
  },
  {
   "cell_type": "code",
   "execution_count": null,
   "metadata": {},
   "outputs": [],
   "source": [
    "def plot_learning_curve_bdt2():\n",
    "    train_sizes = np.linspace(0.05, 1, 20) # if the train size is too small, training sample may only contain one class\n",
    "    N_train, val_train, val_test = learning_curve(AdaBoostClassifier(DecisionTreeClassifier(max_depth=8),\n",
    "                                                                     n_estimators=100,learning_rate=0.1,algorithm=\"SAMME\"),\n",
    "                                                  X_train, y_train, train_sizes=train_sizes, cv=10)\n",
    "    plot_curve(N_train, val_train, label='training scores', color = 'r')\n",
    "    plot_curve(N_train, val_test, label='validation scores', color = 'b')\n",
    "    ytick_range = np.arange(0.5, 1.05, 0.05)\n",
    "    lower = 0.5; upper = 1; interval = 0.05\n",
    "    ytick_range = np.arange(lower, upper+interval, interval)\n",
    "    plt.ylim(lower, upper+interval)\n",
    "    plt.yticks(ytick_range)\n",
    "    plt.xlabel('Training Set Size'); plt.ylabel('Accuracy')\n",
    "    plt.title('AdaBoost Learning Curve 2 (smaller learning rate)', fontsize=16)    \n",
    "    plt.legend(fontsize = 11)\n",
    "    #plt.grid()\n",
    "    save_fig('AdaBoost Learning Curve 2 (smaller learning rate)', tight_layout=True)\n",
    "    \n",
    "plot_learning_curve_bdt2()"
   ]
  },
  {
   "cell_type": "code",
   "execution_count": null,
   "metadata": {},
   "outputs": [],
   "source": [
    "np.arange(0.5, 1.1, 0.05)"
   ]
  },
  {
   "cell_type": "code",
   "execution_count": null,
   "metadata": {},
   "outputs": [],
   "source": [
    "bdt_clf = AdaBoostClassifier(\n",
    "    DecisionTreeClassifier(max_depth=8),\n",
    "    n_estimators=100,\n",
    "    learning_rate=1,\n",
    "    algorithm=\"SAMME\")\n",
    "bdt_clf.fit(X_train, y_train)\n",
    "test_score = bdt_clf.score(X_test, y_test)\n",
    "print ('AdaBoost Model Prediction Accuracy on Test Data: {:.4f}'.format(test_score))"
   ]
  },
  {
   "cell_type": "code",
   "execution_count": null,
   "metadata": {},
   "outputs": [],
   "source": [
    "bdt_clf = AdaBoostClassifier(\n",
    "    DecisionTreeClassifier(max_depth=8),\n",
    "    n_estimators=100,\n",
    "    learning_rate=0.1,\n",
    "    algorithm=\"SAMME\")\n",
    "bdt_clf.fit(X_train, y_train)\n",
    "test_score = bdt_clf.score(X_test, y_test)\n",
    "print ('AdaBoost Model Prediction Accuracy on Test Data: {:.4f}'.format(test_score))"
   ]
  },
  {
   "cell_type": "markdown",
   "metadata": {},
   "source": [
    "# SVC"
   ]
  },
  {
   "cell_type": "code",
   "execution_count": null,
   "metadata": {
    "collapsed": true
   },
   "outputs": [],
   "source": [
    "# svm_clf = SVC(kernel='linear', C=1)\n",
    "# svm_clf.fit(X, y)"
   ]
  },
  {
   "cell_type": "code",
   "execution_count": null,
   "metadata": {},
   "outputs": [],
   "source": [
    "def plot_complexity_curve_svm1():\n",
    "    #train_sizes = np.linspace(0.1, 0.95, 18)\n",
    "    param_name=\"C\"\n",
    "    param_range=[0.01, 0.03, 0.1, 0.3, 1, 3, 10, 30, 100, 300, 1000]\n",
    "    val_train, val_test = validation_curve(SVC(kernel= 'rbf'),\n",
    "                                           X_train, y_train, \n",
    "                                           param_name=param_name, param_range=param_range, cv=10)\n",
    "    #print (val_train)\n",
    "    plot_curve(np.log10(param_range), val_train, label='training scores', color = 'r')\n",
    "    plot_curve(np.log10(param_range), val_test, label='validation scores', color = 'b')\n",
    "    lower = 0; upper = 1; interval = 0.1\n",
    "    ytick_range = np.arange(lower, upper+interval, interval)\n",
    "    plt.ylim(lower, upper+interval)\n",
    "    plt.yticks(ytick_range)\n",
    "    plt.xlabel('log10(C)'); plt.ylabel('Accuracy')\n",
    "    plt.title('SVC Complexity Curve (rbf) 1 (C)', fontsize=16)\n",
    "    plt.legend(fontsize = 11)\n",
    "    #plt.grid()\n",
    "    save_fig('SVC Complexity Curve (rbf) 1 (C)', tight_layout=True)\n",
    "    \n",
    "plot_complexity_curve_svm1()"
   ]
  },
  {
   "cell_type": "code",
   "execution_count": null,
   "metadata": {},
   "outputs": [],
   "source": [
    "np.arange(0.1, 1.1, 0.1)"
   ]
  },
  {
   "cell_type": "code",
   "execution_count": null,
   "metadata": {},
   "outputs": [],
   "source": [
    "def plot_complexity_curve_svm2():\n",
    "    #train_sizes = np.linspace(0.1, 0.95, 18)\n",
    "    param_name=\"gamma\"\n",
    "    param_range=[0.000001, 0.000003, 0.00001, 0.00003, 0.0001, 0.0003, 0.001, 0.003, 0.01, 0.03, 0.1]\n",
    "    val_train, val_test = validation_curve(SVC(kernel= 'rbf', C = 1),\n",
    "                                           X_train, y_train, \n",
    "                                           param_name=param_name, param_range=param_range, cv=10)\n",
    "    #print (val_train)\n",
    "    plot_curve(np.log10(param_range), val_train, label='training scores', color = 'r')\n",
    "    plot_curve(np.log10(param_range), val_test, label='validation scores', color = 'b')\n",
    "    lower = 0; upper = 1; interval = 0.1\n",
    "    ytick_range = np.arange(lower, upper+interval, interval)\n",
    "    plt.ylim(lower, upper+interval)\n",
    "    plt.yticks(ytick_range)\n",
    "    plt.xlabel('log10(gamma)'); plt.ylabel('Accuracy')\n",
    "    plt.title('SVC Complexity Curve (rbf) 2 (gamma)', fontsize=16)\n",
    "    plt.legend(fontsize = 11)\n",
    "    #plt.grid()\n",
    "    save_fig('SVC Complexity Curve (rbf) 2 (gamma)', tight_layout=True)\n",
    "    \n",
    "plot_complexity_curve_svm2()"
   ]
  },
  {
   "cell_type": "code",
   "execution_count": null,
   "metadata": {},
   "outputs": [],
   "source": [
    "def plot_complexity_curve_svm3():\n",
    "    #train_sizes = np.linspace(0.1, 0.95, 18)\n",
    "    param_name=\"C\"\n",
    "    param_range=[0.01, 0.03, 0.1, 0.3, 1, 3, 10, 30, 100, 300, 1000]\n",
    "    val_train, val_test = validation_curve(SVC(kernel= 'rbf', gamma = 0.001),\n",
    "                                           X_train, y_train, \n",
    "                                           param_name=param_name, param_range=param_range, cv=10)\n",
    "    #print (val_train)\n",
    "    plot_curve(np.log10(param_range), val_train, label='training scores', color = 'r')\n",
    "    plot_curve(np.log10(param_range), val_test, label='validation scores', color = 'b')\n",
    "    lower = 0; upper = 1; interval = 0.1\n",
    "    ytick_range = np.arange(lower, upper+interval, interval)\n",
    "    plt.ylim(lower, upper+interval)\n",
    "    plt.yticks(ytick_range)\n",
    "    plt.xlabel('log10(C)'); plt.ylabel('Accuracy')\n",
    "    plt.title('SVC Complexity Curve (rbf) 3 (C)', fontsize=16)\n",
    "    plt.legend(fontsize = 11)\n",
    "    #plt.grid()\n",
    "    save_fig('SVC Complexity Curve (rbf) 3 (C)', tight_layout=True)\n",
    "    \n",
    "plot_complexity_curve_svm3()"
   ]
  },
  {
   "cell_type": "code",
   "execution_count": null,
   "metadata": {
    "scrolled": false
   },
   "outputs": [],
   "source": [
    "def plot_learning_curve_svm1():\n",
    "    train_sizes = np.linspace(0.05, 1, 20) # if the train size is too small, training sample may only contain one class\n",
    "    N_train, val_train, val_test = learning_curve(SVC(kernel= 'rbf', C = 10, gamma = 0.001),\n",
    "                                                  X_train, y_train, train_sizes=train_sizes, cv=10)\n",
    "    plot_curve(N_train, val_train, label='training scores', color = 'r')\n",
    "    plot_curve(N_train, val_test, label='validation scores', color = 'b')\n",
    "    lower = 0.5; upper = 1; interval = 0.05\n",
    "    ytick_range = np.arange(lower, upper+interval, interval)\n",
    "    plt.ylim(lower, upper+interval)\n",
    "    plt.yticks(ytick_range)\n",
    "    plt.xlabel('Training Set Size'); plt.ylabel('Accuracy')\n",
    "    plt.title('SVC Learning Curve (rbf)', fontsize=16)\n",
    "    plt.legend(fontsize = 11)\n",
    "    #plt.grid()\n",
    "    save_fig('SVC Learning Curve (rbf)', tight_layout=True)\n",
    "    \n",
    "plot_learning_curve_svm1()"
   ]
  },
  {
   "cell_type": "code",
   "execution_count": null,
   "metadata": {},
   "outputs": [],
   "source": [
    "def plot_complexity_curve_svm4():\n",
    "    param_name=\"degree\"\n",
    "    param_range=range(1, 16)\n",
    "    val_train, val_test = validation_curve(SVC(kernel= 'poly'),\n",
    "                                           X_train, y_train, \n",
    "                                           param_name=param_name, param_range=param_range, cv=10)\n",
    "    plot_curve(param_range, val_train, label='training scores', color = 'r')\n",
    "    plot_curve(param_range, val_test, label='validation scores', color = 'b')\n",
    "    lower = 0.8; upper = 1; interval = 0.05\n",
    "    ytick_range = np.arange(lower, upper+interval, interval)\n",
    "    plt.ylim(lower, upper+interval)\n",
    "    plt.yticks(ytick_range)\n",
    "    plt.xlabel('degree'); plt.ylabel('Accuracy')\n",
    "    plt.title('SVC Complexity Curve (poly) 1 (degree)', fontsize=16)\n",
    "    plt.legend(fontsize = 11)\n",
    "    #plt.grid()\n",
    "    save_fig('SVC Complexity Curve (poly) 1 (degree)', tight_layout=True)\n",
    "    \n",
    "plot_complexity_curve_svm4()"
   ]
  },
  {
   "cell_type": "code",
   "execution_count": null,
   "metadata": {},
   "outputs": [],
   "source": [
    "def plot_complexity_curve_svm5():\n",
    "    param_name=\"C\"\n",
    "    param_range=[0.0001, 0.0003, 0.001, 0.003, 0.01, 0.03, 0.1, 0.3, 1, 3, 10]\n",
    "    val_train, val_test = validation_curve(SVC(kernel= 'poly', degree = 2),\n",
    "                                           X_train, y_train, \n",
    "                                           param_name=param_name, param_range=param_range, cv=10)\n",
    "    plot_curve(np.log10(param_range), val_train, label='training scores', color = 'r')\n",
    "    plot_curve(np.log10(param_range), val_test, label='validation scores', color = 'b')\n",
    "    lower = 0.9; upper = 1; interval = 0.02\n",
    "    ytick_range = np.arange(lower, upper+interval, interval)\n",
    "    plt.ylim(lower, upper+interval)\n",
    "    plt.yticks(ytick_range)\n",
    "    plt.xlabel('log10(C)'); plt.ylabel('Accuracy')\n",
    "    plt.title('SVC Complexity Curve (poly) 2 (C)', fontsize=16)\n",
    "    plt.legend(fontsize = 11)\n",
    "    #plt.grid()\n",
    "    save_fig('SVC Complexity Curve (poly) 2 (C)', tight_layout=True)\n",
    "    \n",
    "plot_complexity_curve_svm5()"
   ]
  },
  {
   "cell_type": "code",
   "execution_count": null,
   "metadata": {
    "scrolled": true
   },
   "outputs": [],
   "source": [
    "def plot_complexity_curve_svm6():\n",
    "    #train_sizes = np.linspace(0.1, 0.95, 18)\n",
    "    param_name=\"gamma\"\n",
    "    param_range=[0.0001, 0.0003, 0.001, 0.003, 0.01, 0.03, 0.1, 0.3]\n",
    "    val_train, val_test = validation_curve(SVC(kernel= 'poly', C = 1, degree = 2),\n",
    "                                           X_train, y_train, \n",
    "                                           param_name=param_name, param_range=param_range, cv=10)\n",
    "    #print (val_train)\n",
    "    plot_curve(np.log10(param_range), val_train, label='training scores', color = 'r')\n",
    "    plot_curve(np.log10(param_range), val_test, label='validation scores', color = 'b')\n",
    "    lower = 0.9; upper = 1; interval = 0.02\n",
    "    ytick_range = np.arange(lower, upper+interval, interval)\n",
    "    plt.ylim(lower, upper+interval)\n",
    "    plt.yticks(ytick_range)\n",
    "    plt.xticks(range(-4, 1))\n",
    "    plt.xlabel('log10(gamma)'); plt.ylabel('Accuracy')\n",
    "    plt.title('SVC Complexity Curve (poly) 3 (gamma)', fontsize=16)\n",
    "    plt.legend(fontsize = 11)\n",
    "    #plt.grid()\n",
    "    save_fig('SVC Complexity Curve (poly) 3 (gamma)', tight_layout=True)\n",
    "    \n",
    "plot_complexity_curve_svm6()"
   ]
  },
  {
   "cell_type": "code",
   "execution_count": null,
   "metadata": {},
   "outputs": [],
   "source": [
    "def plot_learning_curve_svm2():\n",
    "    train_sizes = np.linspace(0.05, 1, 20) \n",
    "    # if the train size is too small, training sample may only contain one class\n",
    "    N_train, val_train, val_test = learning_curve(SVC(kernel= 'poly', C = 1, degree = 2, gamma = 0.01),\n",
    "                                                  X_train, y_train, train_sizes=train_sizes, cv=10)\n",
    "    plot_curve(N_train, val_train, label='training scores', color = 'r')\n",
    "    plot_curve(N_train, val_test, label='validation scores', color = 'b')\n",
    "    lower = 0.5; upper = 1; interval = 0.05\n",
    "    ytick_range = np.arange(lower, upper+interval, interval)\n",
    "    plt.ylim(lower, upper+interval)\n",
    "    plt.yticks(ytick_range)\n",
    "    plt.xlabel('Training Set Size'); plt.ylabel('Accuracy')\n",
    "    plt.title('SVC Learning Curve (poly)', fontsize=16)\n",
    "    plt.legend(fontsize = 11)\n",
    "    #plt.grid()\n",
    "    save_fig('SVC Learning Curve (poly)', tight_layout=True)\n",
    "    \n",
    "plot_learning_curve_svm2()"
   ]
  },
  {
   "cell_type": "code",
   "execution_count": null,
   "metadata": {},
   "outputs": [],
   "source": [
    "# svm_clf = SVC(kernel='linear', C=1)\n",
    "#svm_clf = SVC(kernel='rbf', C=100, gamma='auto')\n",
    "svm_clf = SVC(kernel='rbf', C=1, gamma=0.001)\n",
    "svm_clf.fit(X_train, y_train)\n",
    "test_score = svm_clf.score(X_test, y_test)\n",
    "print ('SVM Model Prediction Accuracy on Test Data: {:.4f}'.format(test_score))"
   ]
  },
  {
   "cell_type": "code",
   "execution_count": null,
   "metadata": {},
   "outputs": [],
   "source": [
    "# svm_clf = SVC(kernel='linear', C=1)\n",
    "#svm_clf = SVC(kernel='rbf', C=100, gamma='auto')\n",
    "svm_clf = SVC(kernel='poly', C=10, gamma=0.01, degree = 2)\n",
    "svm_clf.fit(X_train, y_train)\n",
    "test_score = svm_clf.score(X_test, y_test)\n",
    "print ('SVM Model Prediction Accuracy on Test Data: {:.4f}'.format(test_score))"
   ]
  },
  {
   "cell_type": "markdown",
   "metadata": {},
   "source": [
    "# KNN"
   ]
  },
  {
   "cell_type": "code",
   "execution_count": null,
   "metadata": {},
   "outputs": [],
   "source": [
    "def plot_complexity_curve_knn():\n",
    "    #train_sizes = np.linspace(0.1, 0.95, 18)\n",
    "    param_name=\"n_neighbors\"\n",
    "    param_range=range(1, 25)\n",
    "    val_train, val_test = validation_curve(KNeighborsClassifier(),\n",
    "                                           X_train, y_train, \n",
    "                                           param_name=param_name, param_range=param_range, cv=10)\n",
    "    #print (val_train)\n",
    "    plot_curve(param_range, val_train, label='training scores', color = 'r')\n",
    "    plot_curve(param_range, val_test, label='validation scores', color = 'b')\n",
    "    lower = 0.8; upper = 1; interval = 0.05\n",
    "    ytick_range = np.arange(lower, upper+interval, interval)\n",
    "    plt.ylim(lower, upper+interval)\n",
    "    plt.yticks(ytick_range)\n",
    "    plt.xlabel('Number of Neighbors (n_neighbors)'); plt.ylabel('Accuracy')\n",
    "    plt.title('KNN Complexity Curve (n_neighbors)', fontsize=16)\n",
    "    plt.legend(fontsize = 11)\n",
    "    #plt.grid()\n",
    "    save_fig('KNN Complexity Curve (n_neighbors)', tight_layout=True)\n",
    "    \n",
    "plot_complexity_curve_knn()"
   ]
  },
  {
   "cell_type": "code",
   "execution_count": null,
   "metadata": {
    "scrolled": true
   },
   "outputs": [],
   "source": [
    "def plot_learning_curve_knn():\n",
    "    train_sizes = np.linspace(0.05, 1, 20) # if the train size is too small, training sample may only contain one class\n",
    "    N_train, val_train, val_test = learning_curve(KNeighborsClassifier(n_neighbors=1),\n",
    "                                                  X_train, y_train, train_sizes=train_sizes, cv=10)\n",
    "    plot_curve(N_train, val_train, label='training scores', color = 'r')\n",
    "    plot_curve(N_train, val_test, label='validation scores', color = 'b')\n",
    "    lower = 0.5; upper = 1; interval = 0.05\n",
    "    ytick_range = np.arange(lower, upper+interval, interval)\n",
    "    plt.ylim(lower, upper+interval)\n",
    "    plt.yticks(ytick_range)\n",
    "    plt.xlabel('Training Set Size'); plt.ylabel('Accuracy')\n",
    "    plt.title('KNN Learning Curve', fontsize=16)\n",
    "    plt.legend(fontsize = 11)\n",
    "    #plt.grid()\n",
    "    save_fig('KNN Learning Curve', tight_layout=True)\n",
    "    \n",
    "plot_learning_curve_knn()"
   ]
  },
  {
   "cell_type": "code",
   "execution_count": null,
   "metadata": {},
   "outputs": [],
   "source": [
    "def plot_learning_curve_knn():\n",
    "    train_sizes = np.linspace(0.05, 1, 20) # if the train size is too small, training sample may only contain one class\n",
    "    N_train, val_train, val_test = learning_curve(KNeighborsClassifier(n_neighbors=1),\n",
    "                                                  X_train, y_train, train_sizes=train_sizes, scoring = 'average_precision',cv=10)\n",
    "    plot_curve(N_train, val_train, label='training scores', color = 'r')\n",
    "    plot_curve(N_train, val_test, label='validation scores', color = 'b')\n",
    "    lower = 0.5; upper = 1; interval = 0.05\n",
    "    ytick_range = np.arange(lower, upper+interval, interval)\n",
    "    plt.ylim(lower, upper+interval)\n",
    "    plt.yticks(ytick_range)\n",
    "    plt.xlabel('Training Set Size'); plt.ylabel('average_precision')\n",
    "    plt.title('KNN Learning Curve', fontsize=16)\n",
    "    plt.legend(fontsize = 11)\n",
    "    #plt.grid()\n",
    "    save_fig('KNN Learning Curve', tight_layout=True)\n",
    "    \n",
    "plot_learning_curve_knn()"
   ]
  },
  {
   "cell_type": "code",
   "execution_count": null,
   "metadata": {},
   "outputs": [],
   "source": [
    "knn_clf = KNeighborsClassifier(n_neighbors=10)\n",
    "knn_clf.fit(X_train, y_train)\n",
    "test_score = knn_clf.score(X_test, y_test)\n",
    "print ('KNN Model Prediction Accuracy on Test Data: {:.4f}'.format(test_score))"
   ]
  },
  {
   "cell_type": "code",
   "execution_count": null,
   "metadata": {},
   "outputs": [],
   "source": [
    "knn_clf = KNeighborsClassifier(n_neighbors=1)\n",
    "knn_clf.fit(X_train, y_train)\n",
    "test_score = knn_clf.score(X_test, y_test)\n",
    "print ('KNN Model Prediction Accuracy on Test Data: {:.4f}'.format(test_score))"
   ]
  }
 ],
 "metadata": {
  "kernelspec": {
   "display_name": "Python 3",
   "language": "python",
   "name": "python3"
  },
  "language_info": {
   "codemirror_mode": {
    "name": "ipython",
    "version": 3
   },
   "file_extension": ".py",
   "mimetype": "text/x-python",
   "name": "python",
   "nbconvert_exporter": "python",
   "pygments_lexer": "ipython3",
   "version": "3.6.3"
  }
 },
 "nbformat": 4,
 "nbformat_minor": 2
}
