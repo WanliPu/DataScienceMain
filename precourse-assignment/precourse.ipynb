{
 "cells": [
  {
   "cell_type": "markdown",
   "metadata": {},
   "source": [
    "# Welcome to the Pre-Course Assignment\n",
    "\n",
    "### So Where am I?\n",
    "If you have never seen this application then you might be wondering what a strange place you have landed on the internet. You are now running a **Jupyter Notebook** server locally from your localhost at default port 8888. This specific notebook is using an ipython kernel capable of executing python commands."
   ]
  },
  {
   "cell_type": "markdown",
   "metadata": {},
   "source": [
    "### What are Jupyter Notebooks and why are we using them?\n",
    "Jupyter notebooks allow you to interactively write code, visualize results and enhance the ouput via markdown, html <button>Pointless html button</button>, latex ($c = \\sqrt{a^2 + b^2}$) and other rich content streams(see python image!). \n",
    "\n",
    "# I don's like pictures of snakes:)))\n",
    "\n",
    "We are using them because they provide an excellent means to iteratively and interactively explore and visualize data in one place. They are also great for showing examples and providing space for students to complete exercises all in one place.\n",
    "\n",
    "### What's the difference between ipython notebooks and jupyter notebooks?\n",
    "If you are already familiar with these notebooks you might be wondering why these notebooks are referred to as jupyter and not ipython notebooks. The original research for this projcet stemmed from the need of an easily shareable interactive python document and so was aptly named ipython notebook. The developers then began to include [many other language kernels](https://github.com/ipython/ipython/wiki/IPython-kernels-for-other-languages) for interactive computing of which python was just one. The project was renamed [Jupyter](https://blog.jupyter.org/2015/04/15/the-big-split/) as the framework for interactive computing was language agnostic only with the backend kernels differing. It turns out, lots of people enjoy working in this type of an environment and hopefully you will too.\n",
    "\n",
    "### What are some drawback to jupyter notebooks?\n",
    "Perhaps the biggest drawback is the unwieldly mess that these notebooks can become if used for beyond their purpose. These notebooks unfortunately lend themselves to out of order operation where you can find yourself utilizing an output from a cell below for a cell above. Keeping track of variables from one cell to another can have you using values for variables you never intended. These notebooks are also pretty horrible for developing production quality code. Its best to open up a normal text editor for production purposes. But for exploration and teaching these notebooks are excellent!\n",
    "\n",
    "### What else do I need to know about these notebooks?\n",
    "Well, there are [books](http://www.amazon.com/IPython-Notebook-Essentials-Felipe-Martins/dp/1783988347) just about the notebook. Theres also a user interface tour under the Help menu above(please check it out now). The basics of the notebook work as follows. The notebook is made up of cells, which you can see outlines for below. This cell probably doesn't have an outline since its not clicked. But if you click it once you will see the outline. The main types of cells are code and markdown. Code cells can only run python (or your current kernel) commands or magic commands(not important now). Markdown cells can contain markdown, html and latex. This current cell is a markdown cell with markdown, html and latex. You can double click this cell to see the underlying input. Press shift + enter to put it back the way it was.\n",
    "\n",
    "### How do I change cell type?\n",
    "From the Cell dropdown menu above or with the keyboard shortcut(**esc + M**) for markdown and **esc + Y** for code)"
   ]
  },
  {
   "cell_type": "markdown",
   "metadata": {},
   "source": [
    "### Keyboard Shortcuts\n",
    "Keyboard shortcuts are great and are very useful in these notebooks. Please look through the keyboard shortcut list in the help dropdown menu above. The keyboard shortcuts in the **command mode** section are probably going to be more useful. The shortcuts in the **edit mode** (when there is a flashing cursor on your screen so you can type) are going to be more familiar and for the most part are just normal text editing keyboard shortcuts.\n",
    "\n",
    "### Your first problem!\n",
    "Use the command mode keyboard shortcut (esc + dd) to delete the cell below. Make sure you click in that cell first!"
   ]
  },
  {
   "cell_type": "markdown",
   "metadata": {},
   "source": [
    "### What other useful things are there to know about the notebook?\n",
    "Even though ipython/jupyter notebooks have been in development for several years now, they will occasionally crash or  you will write code when executed that is in an infinite loop or just takes too much computation. To stop execution, press the stop button above or from the Kernel menu above select restart. All variable and function definitions will be lost when this happens. If you are still unable to stop the execution, you need to go back to the terminal where you launched the notebook from and kill it (ctrl + c).\n",
    "\n",
    "One other note. If you exit this browser tab, the notebook will still be running until you kill it from the terminal. This means that all variables will remain alive if you reopen the notebook with the kernel it was started with still running.\n",
    "\n",
    "### Where is the python part of this notebook?\n",
    "OK, finally we are ready to move onto python. It is assumed that all students will have some python knowledge before the course starts. If your python skills are weak, you will likely have a difficult time during the course and so this tutorial will be very valuable for you. On the other hand if you already have strong python skills then this will be a breeze.\n",
    "\n",
    "### What actually is python?\n",
    "For a computer, python is simply characters on a screen. These characters have no idea what to do with themselves unless some other computer program translates them to a language that a machine can understand. Its important to understand that python is a programming language and that python the programming language has many different implementations that turn those characters to executable machine code. The original implementation of python is called CPython written in C by the ['Benevolent Dictator for Life'](https://en.wikipedia.org/wiki/Benevolent_dictator_for_life) Guido van Rossum which started in the 80's and was released in 1991. CPython parses the python code and compiles it to python bytecode which is then interpretted by the CPython virtual machine.\n",
    "\n",
    "It is an open source language that anyone can contribute to. See the [github repository](https://github.com/python/cpython) where [Guido](https://github.com/gvanrossum) still commits to frequently. Python is a dynamic language (variable types don't need to be declared before assignment). Because python is not compiled down to machine code but rather interpreted at run-time (with CPython) it can execute slower than compiled languages like C or Fortran.\n",
    "\n",
    "### Why use python?\n",
    "Python is a high-level language. High-level as, it is a programming language for dummies and is easy to learn, with simple and compact syntax that can look like executable pseudocode. See:   `my_variable is not None`. \n",
    "\n",
    "Since Python does not have to be compiled, it can be used interactively which makes it excellent for scientific computing where results from operations need to be seen to write further code. Your code can also actually look very similar to what it would look like on paper as a scientist.\n",
    "\n",
    "Python handles many things under the hood like memory management that a lower language like C does not so that you can concentrate on development.\n",
    "\n",
    "It is a general purpose programming languages allowing you easily to develop a wide range of applications from the web to full scale data science pipelines.\n",
    "\n",
    "So, a small sacrifice in inefficiency allows for great productivity as a developer.\n",
    "\n",
    "### Quick note on Python 2 vs Python 3\n",
    "For practical purposes of this class, there should be almost no difference. The main difference for us would be how python handles simple division. Python 2 truncates all division outputs to an integer where as python 3 keeps the value as float. So `17/4` evaluates to 4 in python 2 and 4.25 in python 3. There are many other differences but they should not affect the course if you happen to love python 2 (which will be supported until 2020)\n",
    "\n",
    "### Your first lines of python in this notebook\n",
    "As previously mentioned, you can only execute python code in code cells. The type of the cell is always written in a text box in the header of this page. Code blocks also always have **`In [ ]:`** to the left of them. If there is a number in the brackets, it means that cell was executed and you will see an **`Out[10]:`** area below. The number in brackets is the rank of that cells last execution. So, if you see a 10 in the cell, it means that it was the 10th cell to be executed the last time it was ran.\n",
    "\n",
    "# Don't use a calculator, use python!\n",
    "To kick things off we can start off using python as a calculator. All the standard operators work as expected. Execute the expressions in the code cells below.\n",
    "**imoprtant execution note** While in the cell press **shift+enter** to execute the cell and move on to the next cell. To remain in the current cell press **ctrl+enter**"
   ]
  },
  {
   "cell_type": "code",
   "execution_count": 1,
   "metadata": {
    "collapsed": false
   },
   "outputs": [
    {
     "data": {
      "text/plain": [
       "15.666666666666668"
      ]
     },
     "execution_count": 1,
     "metadata": {},
     "output_type": "execute_result"
    }
   ],
   "source": [
    "#add, sub, mul, divide all happen as expected\n",
    "7 * 7 - 50 + 100 / 6"
   ]
  },
  {
   "cell_type": "markdown",
   "metadata": {},
   "source": [
    "### Comments in code blocks\n",
    "To insert a comment simply put use the hash (#) and that line will be commented out. The keyboard shortcut to comment out a line is **ctrl + /** or **cmd + /** on a mac"
   ]
  },
  {
   "cell_type": "code",
   "execution_count": 3,
   "metadata": {
    "collapsed": false
   },
   "outputs": [
    {
     "data": {
      "text/plain": [
       "1"
      ]
     },
     "execution_count": 3,
     "metadata": {},
     "output_type": "execute_result"
    }
   ],
   "source": [
    "#Integer division is done with //\n",
    "12 // 7"
   ]
  },
  {
   "cell_type": "code",
   "execution_count": 4,
   "metadata": {
    "collapsed": false
   },
   "outputs": [
    {
     "data": {
      "text/plain": [
       "64"
      ]
     },
     "execution_count": 4,
     "metadata": {},
     "output_type": "execute_result"
    }
   ],
   "source": [
    "# use ** to raise to a power\n",
    "4 ** 3"
   ]
  },
  {
   "cell_type": "code",
   "execution_count": 5,
   "metadata": {
    "collapsed": false
   },
   "outputs": [
    {
     "data": {
      "text/plain": [
       "11"
      ]
     },
     "execution_count": 5,
     "metadata": {},
     "output_type": "execute_result"
    }
   ],
   "source": [
    "# % is the modulus operator to get a remainder\n",
    "89 % 13"
   ]
  },
  {
   "cell_type": "markdown",
   "metadata": {},
   "source": [
    "### Where do I enter my code for this assignment?\n",
    "So far you have only had one problem to do. From here on out there will be many cells that contain a problem that requires some python code to be entered in. Any code block that requires your input will end with **`# your code here`**.\n",
    "\n",
    "### Problem 1\n",
    "<span style=\"color:green\">How many seconds are there in a century?</span>"
   ]
  },
  {
   "cell_type": "code",
   "execution_count": 2,
   "metadata": {
    "collapsed": false
   },
   "outputs": [
    {
     "data": {
      "text/plain": [
       "3155760000.0"
      ]
     },
     "execution_count": 2,
     "metadata": {},
     "output_type": "execute_result"
    }
   ],
   "source": [
    "# your code here\n",
    "100*365.25*24*60*60"
   ]
  },
  {
   "cell_type": "markdown",
   "metadata": {},
   "source": [
    "### Advanced:\n",
    "Occasionally there will be diversions to more 'advanced' topics for those already comfortable with basic python, but since python is simple most of these advanced topics will be doable for those not very familiar with the language.\n",
    "\n",
    "### Advanced: operator and math library\n",
    "These will not be necessary for the course but are good to know none the less. The **operator** and **math** modules are part of the standard python libraries. The operator library has many built-in operators as functions. Operators as functions? Yes. For instance the `mul` function takes two arguments and multiplies them together. The `math` library has many math functions, though not nearly as numpy (a popular library we will cover briefly in class)"
   ]
  },
  {
   "cell_type": "code",
   "execution_count": 3,
   "metadata": {
    "collapsed": true
   },
   "outputs": [],
   "source": [
    "# Lets import some math and operator functions and see them working\n",
    "from operator import mul, le # multiplication and less than or equal to operator\n",
    "from math import log, cos"
   ]
  },
  {
   "cell_type": "code",
   "execution_count": 4,
   "metadata": {
    "collapsed": false
   },
   "outputs": [
    {
     "data": {
      "text/plain": [
       "50"
      ]
     },
     "execution_count": 4,
     "metadata": {},
     "output_type": "execute_result"
    }
   ],
   "source": [
    "# a simple operation with mul\n",
    "mul(10, 5)"
   ]
  },
  {
   "cell_type": "code",
   "execution_count": 5,
   "metadata": {
    "collapsed": false
   },
   "outputs": [
    {
     "data": {
      "text/plain": [
       "-0.039"
      ]
     },
     "execution_count": 5,
     "metadata": {},
     "output_type": "execute_result"
    }
   ],
   "source": [
    "#nested operation with log and cos. Round is a builtin function\n",
    "round(cos(log(5)), 3)"
   ]
  },
  {
   "cell_type": "code",
   "execution_count": 6,
   "metadata": {
    "collapsed": true
   },
   "outputs": [],
   "source": [
    "round?"
   ]
  },
  {
   "cell_type": "code",
   "execution_count": 7,
   "metadata": {
    "collapsed": false
   },
   "outputs": [
    {
     "data": {
      "text/plain": [
       "False"
      ]
     },
     "execution_count": 7,
     "metadata": {},
     "output_type": "execute_result"
    }
   ],
   "source": [
    "# is 20 times 5 less than or equal to the log of 200 using only operator and math libraries\n",
    "le(mul(20,5), log(200))"
   ]
  },
  {
   "cell_type": "markdown",
   "metadata": {},
   "source": [
    "### Advanced: Problem 2\n",
    "<span style=\"color:green\">Write an expression using only operator and math libraries to see if the area of a circle with radius 5 is greater than or equal to 40</span>"
   ]
  },
  {
   "cell_type": "code",
   "execution_count": 10,
   "metadata": {
    "collapsed": true
   },
   "outputs": [],
   "source": [
    "mul?"
   ]
  },
  {
   "cell_type": "code",
   "execution_count": 11,
   "metadata": {
    "collapsed": false
   },
   "outputs": [
    {
     "data": {
      "text/plain": [
       "True"
      ]
     },
     "execution_count": 11,
     "metadata": {},
     "output_type": "execute_result"
    }
   ],
   "source": [
    "# your code here\n",
    "from operator import mul, ge # multiplication and less than or equal to operator\n",
    "from math import pi\n",
    "\n",
    "ge(mul(pi, mul(5, 5)), 40)"
   ]
  },
  {
   "cell_type": "markdown",
   "metadata": {},
   "source": [
    "### Assigning values to variables\n",
    "Variable assignment is easy as well and happens with the equal sign"
   ]
  },
  {
   "cell_type": "code",
   "execution_count": 12,
   "metadata": {
    "collapsed": true
   },
   "outputs": [],
   "source": [
    "a = 10\n",
    "b = log(a)\n",
    "c = b ** 3"
   ]
  },
  {
   "cell_type": "code",
   "execution_count": 13,
   "metadata": {
    "collapsed": false
   },
   "outputs": [
    {
     "data": {
      "text/plain": [
       "10"
      ]
     },
     "execution_count": 13,
     "metadata": {},
     "output_type": "execute_result"
    }
   ],
   "source": [
    "a"
   ]
  },
  {
   "cell_type": "code",
   "execution_count": 14,
   "metadata": {
    "collapsed": false
   },
   "outputs": [
    {
     "data": {
      "text/plain": [
       "2.302585092994046"
      ]
     },
     "execution_count": 14,
     "metadata": {},
     "output_type": "execute_result"
    }
   ],
   "source": [
    "b"
   ]
  },
  {
   "cell_type": "code",
   "execution_count": 15,
   "metadata": {
    "collapsed": false
   },
   "outputs": [
    {
     "data": {
      "text/plain": [
       "12.208071553760862"
      ]
     },
     "execution_count": 15,
     "metadata": {},
     "output_type": "execute_result"
    }
   ],
   "source": [
    "c"
   ]
  },
  {
   "cell_type": "markdown",
   "metadata": {},
   "source": [
    "### Outputting more than one variable at a same time\n",
    "You can output all three variables at the same time if you separate them with commas. This technically creates a tuple which we will talk about later"
   ]
  },
  {
   "cell_type": "code",
   "execution_count": 13,
   "metadata": {
    "collapsed": false
   },
   "outputs": [
    {
     "data": {
      "text/plain": [
       "(10, 2.302585092994046, 12.208071553760862)"
      ]
     },
     "execution_count": 13,
     "metadata": {},
     "output_type": "execute_result"
    }
   ],
   "source": [
    "# output multiple variables\n",
    "a, b, c"
   ]
  },
  {
   "cell_type": "markdown",
   "metadata": {},
   "source": [
    "### Problem 3\n",
    "<span style=\"color:green\">Use three different variables to store a 15% sales tax on a $70 meal to get the total and return them all as output at the same time</span>"
   ]
  },
  {
   "cell_type": "code",
   "execution_count": 14,
   "metadata": {
    "collapsed": false
   },
   "outputs": [
    {
     "data": {
      "text/plain": [
       "(0.15, 70, 80.5)"
      ]
     },
     "execution_count": 14,
     "metadata": {},
     "output_type": "execute_result"
    }
   ],
   "source": [
    "# your code here\n",
    "tax_rate = 0.15\n",
    "meal_price = 70\n",
    "total = meal_price * (tax_rate + 1)\n",
    "\n",
    "tax_rate, meal_price, total"
   ]
  },
  {
   "cell_type": "markdown",
   "metadata": {},
   "source": [
    "# Strings\n",
    "Python has an absurd amount of power when dealing with strings.\n",
    "### What are strings?\n",
    "Strings are sequences of characters\n",
    "### So what are characters?\n",
    "This brings up one of the primary divisions between python 2 and 3. Python 3 handles characters and thus strings more robustly by defaulting characters to be unicode. Strings are bytes in python 2. To declare a string you simply put characters between quotes"
   ]
  },
  {
   "cell_type": "code",
   "execution_count": 15,
   "metadata": {
    "collapsed": true
   },
   "outputs": [],
   "source": [
    "# Define a string\n",
    "my_string = 'my own personal string'"
   ]
  },
  {
   "cell_type": "code",
   "execution_count": 16,
   "metadata": {
    "collapsed": false
   },
   "outputs": [
    {
     "data": {
      "text/plain": [
       "\"asdfsa'asdf\""
      ]
     },
     "execution_count": 16,
     "metadata": {},
     "output_type": "execute_result"
    }
   ],
   "source": [
    "# Define a string with quotes inside. Escape the quote with \\\n",
    "my_string_w_quotes = 'asdfsa\\'asdf'\n",
    "my_string_w_quotes"
   ]
  },
  {
   "cell_type": "code",
   "execution_count": 17,
   "metadata": {
    "collapsed": false
   },
   "outputs": [
    {
     "data": {
      "text/plain": [
       "\"my own personal string with an inner quote. it's grand!\""
      ]
     },
     "execution_count": 17,
     "metadata": {},
     "output_type": "execute_result"
    }
   ],
   "source": [
    "# both sinlge and double quotes work with python\n",
    "# a more elegant way to handle quotes inside quotes is to use both double/single quotes\n",
    "my_string_w_quotes = \"my own personal string with an inner quote. it's grand!\"\n",
    "my_string_w_quotes"
   ]
  },
  {
   "cell_type": "code",
   "execution_count": 18,
   "metadata": {
    "collapsed": false
   },
   "outputs": [
    {
     "data": {
      "text/plain": [
       "'My friend said, \"I\\'m only a mediocre pythonista\". I got mad! '"
      ]
     },
     "execution_count": 18,
     "metadata": {},
     "output_type": "execute_result"
    }
   ],
   "source": [
    "# If you have a bizarre string with both double and single quotes you can go one level up and use triple quotes\n",
    "my_string_w_2_quote_types = '''My friend said, \"I'm only a mediocre pythonista\". I got mad! '''\n",
    "my_string_w_2_quote_types"
   ]
  },
  {
   "cell_type": "code",
   "execution_count": 22,
   "metadata": {
    "collapsed": true
   },
   "outputs": [],
   "source": [
    "# The interpreter outputted an escaped '"
   ]
  },
  {
   "cell_type": "markdown",
   "metadata": {},
   "source": [
    "### Print as a function\n",
    "One other notable change between python 2 and 3 is that print is now a function and not a statement. In the last example the output has an escaped character. To view the string in a prettier format with the outer quotes and escaped characters omitted use the print function"
   ]
  },
  {
   "cell_type": "code",
   "execution_count": 19,
   "metadata": {
    "collapsed": false
   },
   "outputs": [
    {
     "name": "stdout",
     "output_type": "stream",
     "text": [
      "My friend said, \"I'm only a mediocre pythonista\". I got mad! \n"
     ]
    }
   ],
   "source": [
    "print(my_string_w_2_quote_types)"
   ]
  },
  {
   "cell_type": "code",
   "execution_count": 20,
   "metadata": {
    "collapsed": false
   },
   "outputs": [],
   "source": [
    "# Triple quotes can be used as block quotes\n",
    "block_quote = \"\"\"\n",
    "This is\n",
    "my \n",
    "block\n",
    "quote\n",
    "y'all\n",
    "\"\"\""
   ]
  },
  {
   "cell_type": "code",
   "execution_count": 21,
   "metadata": {
    "collapsed": false
   },
   "outputs": [
    {
     "data": {
      "text/plain": [
       "\"\\nThis is\\nmy \\nblock\\nquote\\ny'all\\n\""
      ]
     },
     "execution_count": 21,
     "metadata": {},
     "output_type": "execute_result"
    }
   ],
   "source": [
    "# ugly with newline \\n char\n",
    "block_quote"
   ]
  },
  {
   "cell_type": "code",
   "execution_count": 22,
   "metadata": {
    "collapsed": false
   },
   "outputs": [
    {
     "name": "stdout",
     "output_type": "stream",
     "text": [
      "\n",
      "This is\n",
      "my \n",
      "block\n",
      "quote\n",
      "y'all\n",
      "\n"
     ]
    }
   ],
   "source": [
    "# pretty\n",
    "print(block_quote)"
   ]
  },
  {
   "cell_type": "markdown",
   "metadata": {},
   "source": [
    "### The many string methods\n",
    "The str class has many methods. Methods are called with the . (dot) notation. object.method(arguments)"
   ]
  },
  {
   "cell_type": "code",
   "execution_count": 24,
   "metadata": {
    "collapsed": true
   },
   "outputs": [],
   "source": [
    "# Methods are called with object.method(arguments) notation\n",
    "# test many methods on string\n",
    "test_string = 'this is a TesT string.'"
   ]
  },
  {
   "cell_type": "code",
   "execution_count": 25,
   "metadata": {
    "collapsed": false
   },
   "outputs": [
    {
     "data": {
      "text/plain": [
       "'This is a test string.'"
      ]
     },
     "execution_count": 25,
     "metadata": {},
     "output_type": "execute_result"
    }
   ],
   "source": [
    "# Capitalize first letter\n",
    "test_string.capitalize()"
   ]
  },
  {
   "cell_type": "code",
   "execution_count": 26,
   "metadata": {
    "collapsed": false
   },
   "outputs": [
    {
     "data": {
      "text/plain": [
       "'this is a test string.'"
      ]
     },
     "execution_count": 26,
     "metadata": {},
     "output_type": "execute_result"
    }
   ],
   "source": [
    "#make lowercase\n",
    "test_string.lower()"
   ]
  },
  {
   "cell_type": "code",
   "execution_count": 27,
   "metadata": {
    "collapsed": false
   },
   "outputs": [
    {
     "data": {
      "text/plain": [
       "2"
      ]
     },
     "execution_count": 27,
     "metadata": {},
     "output_type": "execute_result"
    }
   ],
   "source": [
    "#count occurences of a substring\n",
    "test_string.count('is')"
   ]
  },
  {
   "cell_type": "code",
   "execution_count": 28,
   "metadata": {
    "collapsed": false
   },
   "outputs": [
    {
     "data": {
      "text/plain": [
       "False"
      ]
     },
     "execution_count": 28,
     "metadata": {},
     "output_type": "execute_result"
    }
   ],
   "source": [
    "# are all characters alphanumeric?\n",
    "test_string.isalnum()"
   ]
  },
  {
   "cell_type": "code",
   "execution_count": 29,
   "metadata": {
    "collapsed": false
   },
   "outputs": [
    {
     "data": {
      "text/plain": [
       "['this', 'is', 'a', 'TesT', 'string.']"
      ]
     },
     "execution_count": 29,
     "metadata": {},
     "output_type": "execute_result"
    }
   ],
   "source": [
    "#split a string by a given character. Default is space. Returns a list\n",
    "test_string.split()"
   ]
  },
  {
   "cell_type": "markdown",
   "metadata": {},
   "source": [
    "### So how many string methods are there?\n",
    "There are far too many methods to remember for all the python objects that you will encounter. To get all the methods use the dir command"
   ]
  },
  {
   "cell_type": "code",
   "execution_count": 30,
   "metadata": {
    "collapsed": false
   },
   "outputs": [
    {
     "name": "stdout",
     "output_type": "stream",
     "text": [
      "['__add__', '__class__', '__contains__', '__delattr__', '__dir__', '__doc__', '__eq__', '__format__', '__ge__', '__getattribute__', '__getitem__', '__getnewargs__', '__gt__', '__hash__', '__init__', '__iter__', '__le__', '__len__', '__lt__', '__mod__', '__mul__', '__ne__', '__new__', '__reduce__', '__reduce_ex__', '__repr__', '__rmod__', '__rmul__', '__setattr__', '__sizeof__', '__str__', '__subclasshook__', 'capitalize', 'casefold', 'center', 'count', 'encode', 'endswith', 'expandtabs', 'find', 'format', 'format_map', 'index', 'isalnum', 'isalpha', 'isdecimal', 'isdigit', 'isidentifier', 'islower', 'isnumeric', 'isprintable', 'isspace', 'istitle', 'isupper', 'join', 'ljust', 'lower', 'lstrip', 'maketrans', 'partition', 'replace', 'rfind', 'rindex', 'rjust', 'rpartition', 'rsplit', 'rstrip', 'split', 'splitlines', 'startswith', 'strip', 'swapcase', 'title', 'translate', 'upper', 'zfill']\n"
     ]
    }
   ],
   "source": [
    "# use print to make the output shorter and wider and not one long list\n",
    "print(dir(test_string))"
   ]
  },
  {
   "cell_type": "markdown",
   "metadata": {},
   "source": [
    "### What are all those methods with underscores?\n",
    "There are actually two underscores before and after the first half of the methods above. These signify special standard builtin methods available (but not necessarily implemented) for all python objects. For instance, the `__add__` method alerts the programmer that you can use the plus sign (+) operator with this object."
   ]
  },
  {
   "cell_type": "markdown",
   "metadata": {},
   "source": [
    "### Advanced: How can you view all the normal string methods?\n",
    "We will have to print out only those methods without the double underscores (pronounced 'dunder' in the python world)"
   ]
  },
  {
   "cell_type": "code",
   "execution_count": 31,
   "metadata": {
    "collapsed": false
   },
   "outputs": [
    {
     "name": "stdout",
     "output_type": "stream",
     "text": [
      "['capitalize', 'casefold', 'center', 'count', 'encode', 'endswith', 'expandtabs', 'find', 'format', 'format_map', 'index', 'isalnum', 'isalpha', 'isdecimal', 'isdigit', 'isidentifier', 'islower', 'isnumeric', 'isprintable', 'isspace', 'istitle', 'isupper', 'join', 'ljust', 'lower', 'lstrip', 'maketrans', 'partition', 'replace', 'rfind', 'rindex', 'rjust', 'rpartition', 'rsplit', 'rstrip', 'split', 'splitlines', 'startswith', 'strip', 'swapcase', 'title', 'translate', 'upper', 'zfill']\n"
     ]
    }
   ],
   "source": [
    "# print out only the normal methods. This will be explained later if it doesn't make sense now\n",
    "print([method for method in dir(test_string) if method[0] != '_'])"
   ]
  },
  {
   "cell_type": "markdown",
   "metadata": {},
   "source": [
    "### How do I find out what these methods do?\n",
    "Use the help function to see the documentation. Lets find out what the `endswith` method does."
   ]
  },
  {
   "cell_type": "code",
   "execution_count": 32,
   "metadata": {
    "collapsed": false
   },
   "outputs": [
    {
     "name": "stdout",
     "output_type": "stream",
     "text": [
      "Help on built-in function endswith:\n",
      "\n",
      "endswith(...) method of builtins.str instance\n",
      "    S.endswith(suffix[, start[, end]]) -> bool\n",
      "    \n",
      "    Return True if S ends with the specified suffix, False otherwise.\n",
      "    With optional start, test S beginning at that position.\n",
      "    With optional end, stop comparing S at that position.\n",
      "    suffix can also be a tuple of strings to try.\n",
      "\n"
     ]
    }
   ],
   "source": [
    "# get documentation for endswith. You can also just add a ? to the method to do the same thing\n",
    "help(test_string.endswith)"
   ]
  },
  {
   "cell_type": "code",
   "execution_count": 13,
   "metadata": {
    "collapsed": false
   },
   "outputs": [
    {
     "data": {
      "text/plain": [
       "False"
      ]
     },
     "execution_count": 13,
     "metadata": {},
     "output_type": "execute_result"
    }
   ],
   "source": [
    "# endswith has one required argument, the suffix and returns True or False if the string ends in that suffix\n",
    "test_string = 'yet another TEST StrinG'\n",
    "test_string.endswith('string')"
   ]
  },
  {
   "cell_type": "markdown",
   "metadata": {},
   "source": [
    "### Problem 4\n",
    "<span style=\"color:green\">Find and use the string method that will replace all each letter a with A. </span>"
   ]
  },
  {
   "cell_type": "code",
   "execution_count": 14,
   "metadata": {
    "collapsed": true
   },
   "outputs": [],
   "source": [
    "test_string.replace?"
   ]
  },
  {
   "cell_type": "code",
   "execution_count": 93,
   "metadata": {
    "collapsed": false
   },
   "outputs": [
    {
     "data": {
      "text/plain": [
       "'replAce eAch letter A in this string with A'"
      ]
     },
     "execution_count": 93,
     "metadata": {},
     "output_type": "execute_result"
    }
   ],
   "source": [
    "replace_string = 'replace each letter a in this string with A'\n",
    "# your code here\n",
    "news_string = replace_string.replace(\"a\", \"A\")\n",
    "news_string"
   ]
  },
  {
   "cell_type": "markdown",
   "metadata": {},
   "source": [
    "### Chaining methods\n",
    "If there are many string methods that you would like to use in succession, you can continue to use the dot notation to continue doing sting operations since many string methods return strings"
   ]
  },
  {
   "cell_type": "code",
   "execution_count": 18,
   "metadata": {
    "collapsed": false
   },
   "outputs": [
    {
     "data": {
      "text/plain": [
       "2"
      ]
     },
     "execution_count": 18,
     "metadata": {},
     "output_type": "execute_result"
    }
   ],
   "source": [
    "test_string = '?!?!?!A HIDDEN TEST STRING??!!?!'\n",
    "# Lets remove punctuation, make lower case, replace all t's with e and count the instances of e\n",
    "test_string.strip('?!').lower().replace('t', 'a').count('e')\n",
    "## Wow that was 4 chained methods ??!!\n"
   ]
  },
  {
   "cell_type": "markdown",
   "metadata": {},
   "source": [
    "### Problem 5\n",
    "<span style=\"color:green\">Strip all the letter a's from the right side, switch each letter from lower to upper case and find the position(aka index) of the first letter 'o' </span>"
   ]
  },
  {
   "cell_type": "code",
   "execution_count": 9,
   "metadata": {
    "collapsed": true
   },
   "outputs": [],
   "source": [
    "test_string.rstrip?"
   ]
  },
  {
   "cell_type": "code",
   "execution_count": 94,
   "metadata": {
    "collapsed": false
   },
   "outputs": [
    {
     "data": {
      "text/plain": [
       "6"
      ]
     },
     "execution_count": 94,
     "metadata": {},
     "output_type": "execute_result"
    }
   ],
   "source": [
    "test_string = 'aaaa TOO many aaaaaaaaa'\n",
    "#test_string.rstrip('a')\n",
    "# your code here\n",
    "test_string.rstrip('a').upper().find('O')"
   ]
  },
  {
   "cell_type": "markdown",
   "metadata": {},
   "source": [
    "### remember that `__add__` special method\n",
    "Using the plus sign is how you concatenate strings in python"
   ]
  },
  {
   "cell_type": "code",
   "execution_count": 23,
   "metadata": {
    "collapsed": false
   },
   "outputs": [
    {
     "data": {
      "text/plain": [
       "'abcdefghijklmnop'"
      ]
     },
     "execution_count": 23,
     "metadata": {},
     "output_type": "execute_result"
    }
   ],
   "source": [
    "'abcde' + 'fghijk' + 'lmnop'"
   ]
  },
  {
   "cell_type": "markdown",
   "metadata": {},
   "source": [
    "### What happens if you subtract strings?\n",
    "Since the `__sub__` special method was not in the string method list, this will yield an error"
   ]
  },
  {
   "cell_type": "code",
   "execution_count": 24,
   "metadata": {
    "collapsed": false
   },
   "outputs": [
    {
     "ename": "TypeError",
     "evalue": "unsupported operand type(s) for -: 'str' and 'str'",
     "output_type": "error",
     "traceback": [
      "\u001b[1;31m---------------------------------------------------------------------------\u001b[0m",
      "\u001b[1;31mTypeError\u001b[0m                                 Traceback (most recent call last)",
      "\u001b[1;32m<ipython-input-24-1bc7f4cd5547>\u001b[0m in \u001b[0;36m<module>\u001b[1;34m()\u001b[0m\n\u001b[1;32m----> 1\u001b[1;33m \u001b[1;34m'asdfa'\u001b[0m \u001b[1;33m-\u001b[0m \u001b[1;34m'a'\u001b[0m\u001b[1;33m\u001b[0m\u001b[0m\n\u001b[0m",
      "\u001b[1;31mTypeError\u001b[0m: unsupported operand type(s) for -: 'str' and 'str'"
     ]
    }
   ],
   "source": [
    "'asdfa' - 'a'"
   ]
  },
  {
   "cell_type": "markdown",
   "metadata": {},
   "source": [
    "### Why is there a `__mul__` special method?\n",
    "Looking back up the notebook, you can see the special method `__mul__`. This alerts the programmer that the multiplication operator (`*`) has been implemented. What does it do?"
   ]
  },
  {
   "cell_type": "code",
   "execution_count": 25,
   "metadata": {
    "collapsed": false
   },
   "outputs": [
    {
     "data": {
      "text/plain": [
       "'some test words |some test words |some test words |some test words |some test words |'"
      ]
     },
     "execution_count": 25,
     "metadata": {},
     "output_type": "execute_result"
    }
   ],
   "source": [
    "# The string is repeatedly concatenated to itself via multiplication\n",
    "'some test words |' * 5"
   ]
  },
  {
   "cell_type": "markdown",
   "metadata": {},
   "source": [
    "### String Interpolation\n",
    "String interpolation is substituting variables inside of strings. There are a couple ways to do this, including a new more [intuitive way](https://www.python.org/dev/peps/pep-0501/) in python 3.6. But we will go over the most popular one to date. There is much [more to string interpolation](https://pyformat.info/)"
   ]
  },
  {
   "cell_type": "code",
   "execution_count": 27,
   "metadata": {
    "collapsed": false
   },
   "outputs": [
    {
     "name": "stdout",
     "output_type": "stream",
     "text": [
      "Employee Ted is a data scientist and earns 0 per year\n"
     ]
    }
   ],
   "source": [
    "# Put curly braces every place within a string where you want a substitution to occur.\n",
    "# After closing string quote, use .format method with arguments equal to the order that you would like them substituted\n",
    "name = 'Ted'\n",
    "occupation = 'data scientist'\n",
    "salary = 0\n",
    "\n",
    "worker_info = 'Employee {} is a {} and earns {} per year'.format(name, occupation, salary)\n",
    "print(worker_info)"
   ]
  },
  {
   "cell_type": "markdown",
   "metadata": {},
   "source": [
    "### Get substrings of strings\n",
    "Here is where we first introduce the bracket operator [ ] which is fundamental to most all scientific computing in python. The [ ] operator has the ability to grab item(s) from a sequence and grab them in most any manner you wish. Since strings are sequences of characters the [ ] operator provides lots of functionality for strings"
   ]
  },
  {
   "cell_type": "code",
   "execution_count": 28,
   "metadata": {
    "collapsed": true
   },
   "outputs": [],
   "source": [
    "test_string = 'is this precourse too easy?'"
   ]
  },
  {
   "cell_type": "code",
   "execution_count": 29,
   "metadata": {
    "collapsed": false
   },
   "outputs": [
    {
     "data": {
      "text/plain": [
       "'h'"
      ]
     },
     "execution_count": 29,
     "metadata": {},
     "output_type": "execute_result"
    }
   ],
   "source": [
    "# Let's get the 4th character\n",
    "test_string[4]"
   ]
  },
  {
   "cell_type": "code",
   "execution_count": 46,
   "metadata": {
    "collapsed": false
   },
   "outputs": [
    {
     "data": {
      "text/plain": [
       "'i'"
      ]
     },
     "execution_count": 46,
     "metadata": {},
     "output_type": "execute_result"
    }
   ],
   "source": [
    "# 'h' appears to be the 5th character and not the 4th. Like most programming languages, \n",
    "#  sequences are 0-indexed in python\n",
    "test_string[0]"
   ]
  },
  {
   "cell_type": "code",
   "execution_count": 47,
   "metadata": {
    "collapsed": false
   },
   "outputs": [
    {
     "data": {
      "text/plain": [
       "'?'"
      ]
     },
     "execution_count": 47,
     "metadata": {},
     "output_type": "execute_result"
    }
   ],
   "source": [
    "# How to get the last letter of the string?\n",
    "# First we get the length\n",
    "last_position = len(test_string) - 1\n",
    "test_string[last_position]"
   ]
  },
  {
   "cell_type": "code",
   "execution_count": 48,
   "metadata": {
    "collapsed": false
   },
   "outputs": [
    {
     "data": {
      "text/plain": [
       "'?'"
      ]
     },
     "execution_count": 48,
     "metadata": {},
     "output_type": "execute_result"
    }
   ],
   "source": [
    "# There is an easier way. Python allows indexing from the last element using negative indices starting with -1\n",
    "test_string[-1]"
   ]
  },
  {
   "cell_type": "code",
   "execution_count": 49,
   "metadata": {
    "collapsed": false
   },
   "outputs": [
    {
     "data": {
      "text/plain": [
       "'e'"
      ]
     },
     "execution_count": 49,
     "metadata": {},
     "output_type": "execute_result"
    }
   ],
   "source": [
    "test_string[-5]"
   ]
  },
  {
   "cell_type": "markdown",
   "metadata": {},
   "source": [
    "### Slicing strings"
   ]
  },
  {
   "cell_type": "code",
   "execution_count": 50,
   "metadata": {
    "collapsed": false
   },
   "outputs": [
    {
     "data": {
      "text/plain": [
       "'his p'"
      ]
     },
     "execution_count": 50,
     "metadata": {},
     "output_type": "execute_result"
    }
   ],
   "source": [
    "# substrings are easily retrieved by giving the [] operator a starting and ending position separated by a :\n",
    "test_string[4:9]"
   ]
  },
  {
   "cell_type": "code",
   "execution_count": 51,
   "metadata": {
    "collapsed": false
   },
   "outputs": [
    {
     "data": {
      "text/plain": [
       "'easy'"
      ]
     },
     "execution_count": 51,
     "metadata": {},
     "output_type": "execute_result"
    }
   ],
   "source": [
    "# you can also slice from the end using negative indices\n",
    "test_string[-5:-1]"
   ]
  },
  {
   "cell_type": "code",
   "execution_count": 52,
   "metadata": {
    "collapsed": false
   },
   "outputs": [
    {
     "data": {
      "text/plain": [
       "'is thi'"
      ]
     },
     "execution_count": 52,
     "metadata": {},
     "output_type": "execute_result"
    }
   ],
   "source": [
    "# You can slice by only giving either a starting or ending index\n",
    "test_string[:6]"
   ]
  },
  {
   "cell_type": "code",
   "execution_count": 53,
   "metadata": {
    "collapsed": false
   },
   "outputs": [
    {
     "data": {
      "text/plain": [
       "'o easy?'"
      ]
     },
     "execution_count": 53,
     "metadata": {},
     "output_type": "execute_result"
    }
   ],
   "source": [
    "test_string[-7:]"
   ]
  },
  {
   "cell_type": "code",
   "execution_count": 54,
   "metadata": {
    "collapsed": false
   },
   "outputs": [
    {
     "data": {
      "text/plain": [
       "'our'"
      ]
     },
     "execution_count": 54,
     "metadata": {},
     "output_type": "execute_result"
    }
   ],
   "source": [
    "# you can chain together slicing\n",
    "test_string[5:15][-3:]"
   ]
  },
  {
   "cell_type": "code",
   "execution_count": 55,
   "metadata": {
    "collapsed": false
   },
   "outputs": [
    {
     "data": {
      "text/plain": [
       "'hsp'"
      ]
     },
     "execution_count": 55,
     "metadata": {},
     "output_type": "execute_result"
    }
   ],
   "source": [
    "# its also possible to slice every nth letter with the syntax [start:stop:step]\n",
    "# This slices location 4 to 10 picking up every other character\n",
    "test_string[4:10:2]"
   ]
  },
  {
   "cell_type": "code",
   "execution_count": 56,
   "metadata": {
    "collapsed": false
   },
   "outputs": [
    {
     "data": {
      "text/plain": [
       "'psh'"
      ]
     },
     "execution_count": 56,
     "metadata": {},
     "output_type": "execute_result"
    }
   ],
   "source": [
    "# Very usefully, it is possible to take negative steps. Make sure start is higher than stop this time\n",
    "test_string[8:3:-2]"
   ]
  },
  {
   "cell_type": "code",
   "execution_count": 57,
   "metadata": {
    "collapsed": true
   },
   "outputs": [],
   "source": [
    "# And to fully reverse a string simply do not input a start or stop, just a step of -1"
   ]
  },
  {
   "cell_type": "code",
   "execution_count": 58,
   "metadata": {
    "collapsed": false
   },
   "outputs": [
    {
     "data": {
      "text/plain": [
       "'?ysae oot esruocerp siht si'"
      ]
     },
     "execution_count": 58,
     "metadata": {},
     "output_type": "execute_result"
    }
   ],
   "source": [
    "test_string[::-1]"
   ]
  },
  {
   "cell_type": "code",
   "execution_count": 59,
   "metadata": {
    "collapsed": false
   },
   "outputs": [
    {
     "ename": "IndexError",
     "evalue": "string index out of range",
     "output_type": "error",
     "traceback": [
      "\u001b[0;31m---------------------------------------------------------------------------\u001b[0m",
      "\u001b[0;31mIndexError\u001b[0m                                Traceback (most recent call last)",
      "\u001b[0;32m<ipython-input-59-9d1568d589c4>\u001b[0m in \u001b[0;36m<module>\u001b[0;34m()\u001b[0m\n\u001b[1;32m      1\u001b[0m \u001b[0;31m# error will occur if you try and access an index out of range\u001b[0m\u001b[0;34m\u001b[0m\u001b[0;34m\u001b[0m\u001b[0m\n\u001b[0;32m----> 2\u001b[0;31m \u001b[0mtest_string\u001b[0m\u001b[0;34m[\u001b[0m\u001b[0;36m40\u001b[0m\u001b[0;34m]\u001b[0m\u001b[0;34m\u001b[0m\u001b[0m\n\u001b[0m",
      "\u001b[0;31mIndexError\u001b[0m: string index out of range"
     ]
    }
   ],
   "source": [
    "# error will occur if you try and access an index out of range\n",
    "test_string[40]"
   ]
  },
  {
   "cell_type": "code",
   "execution_count": 60,
   "metadata": {
    "collapsed": false
   },
   "outputs": [
    {
     "data": {
      "text/plain": [
       "'his precourse too easy?'"
      ]
     },
     "execution_count": 60,
     "metadata": {},
     "output_type": "execute_result"
    }
   ],
   "source": [
    "# but no error will occur when your index is out of range in a slice\n",
    "test_string[4:600]"
   ]
  },
  {
   "cell_type": "markdown",
   "metadata": {},
   "source": [
    "### Problem 6\n",
    "<span style=\"color:green\">Slice this string from index 5 to the end by every 4th element</span>"
   ]
  },
  {
   "cell_type": "code",
   "execution_count": 97,
   "metadata": {
    "collapsed": false
   },
   "outputs": [
    {
     "data": {
      "text/plain": [
       "' sertdit'"
      ]
     },
     "execution_count": 97,
     "metadata": {},
     "output_type": "execute_result"
    }
   ],
   "source": [
    "test_string = 'or is this precourse too difficult?'\n",
    "# your code here\n",
    "test_string[5::4]"
   ]
  },
  {
   "cell_type": "markdown",
   "metadata": {},
   "source": [
    "### Problem 7\n",
    "<span style=\"color:green\">Get every third element starting from the end to the beginning </span>"
   ]
  },
  {
   "cell_type": "code",
   "execution_count": 99,
   "metadata": {
    "collapsed": false
   },
   "outputs": [
    {
     "data": {
      "text/plain": [
       "'liio rcpi  '"
      ]
     },
     "execution_count": 99,
     "metadata": {},
     "output_type": "execute_result"
    }
   ],
   "source": [
    "# your code here\n",
    "test_string[-3::-3]"
   ]
  },
  {
   "cell_type": "markdown",
   "metadata": {},
   "source": [
    "### Problem 8\n",
    "<span style=\"color:green\">Use four chained operators on a string of your choice </span>"
   ]
  },
  {
   "cell_type": "code",
   "execution_count": 108,
   "metadata": {
    "collapsed": false
   },
   "outputs": [
    {
     "data": {
      "text/plain": [
       "'Choice'"
      ]
     },
     "execution_count": 108,
     "metadata": {},
     "output_type": "execute_result"
    }
   ],
   "source": [
    "# Enter in a string inside the quotes\n",
    "your_string = 'Use four chained operators on a string of your choice:):):):)'\n",
    "# your code here\n",
    "your_string.upper()[-15:].rstrip(\":)\").strip().capitalize()"
   ]
  },
  {
   "cell_type": "markdown",
   "metadata": {},
   "source": [
    "### What happens if you try and assign a new value to a character or slice of a string?\n",
    "Since strings are immutable (can't be changed once created) so this will cause an error"
   ]
  },
  {
   "cell_type": "code",
   "execution_count": 64,
   "metadata": {
    "collapsed": false
   },
   "outputs": [
    {
     "ename": "TypeError",
     "evalue": "'str' object does not support item assignment",
     "output_type": "error",
     "traceback": [
      "\u001b[0;31m---------------------------------------------------------------------------\u001b[0m",
      "\u001b[0;31mTypeError\u001b[0m                                 Traceback (most recent call last)",
      "\u001b[0;32m<ipython-input-64-48c8add3df84>\u001b[0m in \u001b[0;36m<module>\u001b[0;34m()\u001b[0m\n\u001b[0;32m----> 1\u001b[0;31m \u001b[0mtest_string\u001b[0m\u001b[0;34m[\u001b[0m\u001b[0;36m7\u001b[0m\u001b[0;34m]\u001b[0m \u001b[0;34m=\u001b[0m \u001b[0;34m'z'\u001b[0m\u001b[0;34m\u001b[0m\u001b[0m\n\u001b[0m",
      "\u001b[0;31mTypeError\u001b[0m: 'str' object does not support item assignment"
     ]
    }
   ],
   "source": [
    "test_string[7] = 'z'"
   ]
  },
  {
   "cell_type": "code",
   "execution_count": 65,
   "metadata": {
    "collapsed": false
   },
   "outputs": [
    {
     "ename": "TypeError",
     "evalue": "'str' object does not support item assignment",
     "output_type": "error",
     "traceback": [
      "\u001b[0;31m---------------------------------------------------------------------------\u001b[0m",
      "\u001b[0;31mTypeError\u001b[0m                                 Traceback (most recent call last)",
      "\u001b[0;32m<ipython-input-65-f2192b9adde1>\u001b[0m in \u001b[0;36m<module>\u001b[0;34m()\u001b[0m\n\u001b[0;32m----> 1\u001b[0;31m \u001b[0mtest_string\u001b[0m\u001b[0;34m[\u001b[0m\u001b[0;36m7\u001b[0m\u001b[0;34m:\u001b[0m\u001b[0;36m20\u001b[0m\u001b[0;34m:\u001b[0m\u001b[0;34m-\u001b[0m\u001b[0;36m1\u001b[0m\u001b[0;34m]\u001b[0m \u001b[0;34m=\u001b[0m \u001b[0;34m'z'\u001b[0m\u001b[0;34m\u001b[0m\u001b[0m\n\u001b[0m",
      "\u001b[0;31mTypeError\u001b[0m: 'str' object does not support item assignment"
     ]
    }
   ],
   "source": [
    "test_string[7:20:-1] = 'z'"
   ]
  },
  {
   "cell_type": "markdown",
   "metadata": {},
   "source": [
    "### Lists\n",
    "One of python's most powerful built-in data structure is the list. It is very versatile and able to many things, even crude data exploration and matrix algebra can be done using lists. Lists are sequences of objects separated by commas. Anything can go inside lists, even other lists"
   ]
  },
  {
   "cell_type": "code",
   "execution_count": 66,
   "metadata": {
    "collapsed": true
   },
   "outputs": [],
   "source": [
    "my_list = [1, 2, 3, 4, 'one', 'two', 4.9]"
   ]
  },
  {
   "cell_type": "code",
   "execution_count": 67,
   "metadata": {
    "collapsed": false
   },
   "outputs": [
    {
     "name": "stdout",
     "output_type": "stream",
     "text": [
      "['__add__', '__class__', '__contains__', '__delattr__', '__delitem__', '__dir__', '__doc__', '__eq__', '__format__', '__ge__', '__getattribute__', '__getitem__', '__gt__', '__hash__', '__iadd__', '__imul__', '__init__', '__iter__', '__le__', '__len__', '__lt__', '__mul__', '__ne__', '__new__', '__reduce__', '__reduce_ex__', '__repr__', '__reversed__', '__rmul__', '__setattr__', '__setitem__', '__sizeof__', '__str__', '__subclasshook__', 'append', 'clear', 'copy', 'count', 'extend', 'index', 'insert', 'pop', 'remove', 'reverse', 'sort']\n"
     ]
    }
   ],
   "source": [
    "# like we did with strings lets see all the methods that are available to lists\n",
    "print(dir(my_list))\n",
    "# it looks like there are many more special methods and far less normal methods. Special methods are universal\n",
    "# to all python objects so this is why you will see many repeated special method for objects of different types"
   ]
  },
  {
   "cell_type": "code",
   "execution_count": 68,
   "metadata": {
    "collapsed": true
   },
   "outputs": [],
   "source": [
    "my_list.append(5)"
   ]
  },
  {
   "cell_type": "code",
   "execution_count": 69,
   "metadata": {
    "collapsed": false
   },
   "outputs": [
    {
     "data": {
      "text/plain": [
       "[1, 2, 3, 4, 'one', 'two', 4.9, 5]"
      ]
     },
     "execution_count": 69,
     "metadata": {},
     "output_type": "execute_result"
    }
   ],
   "source": [
    "my_list"
   ]
  },
  {
   "cell_type": "code",
   "execution_count": 70,
   "metadata": {
    "collapsed": true
   },
   "outputs": [],
   "source": [
    "# lets go through some list methods\n",
    "# to add an element to a list use append\n",
    "my_list.append(22)"
   ]
  },
  {
   "cell_type": "markdown",
   "metadata": {},
   "source": [
    "### What happened there was no output?\n",
    "When a method returns no output(actually None) in python, an operation has happened in place. The number 22 was added to my_list and None was returned"
   ]
  },
  {
   "cell_type": "code",
   "execution_count": 71,
   "metadata": {
    "collapsed": false
   },
   "outputs": [
    {
     "data": {
      "text/plain": [
       "[1, 2, 3, 4, 'one', 'two', 4.9, 5, 22]"
      ]
     },
     "execution_count": 71,
     "metadata": {},
     "output_type": "execute_result"
    }
   ],
   "source": [
    "# See that 22 was appended\n",
    "my_list"
   ]
  },
  {
   "cell_type": "code",
   "execution_count": 72,
   "metadata": {
    "collapsed": false
   },
   "outputs": [
    {
     "data": {
      "text/plain": [
       "[]"
      ]
     },
     "execution_count": 72,
     "metadata": {},
     "output_type": "execute_result"
    }
   ],
   "source": [
    "# clear empties the list\n",
    "my_list.clear()\n",
    "my_list"
   ]
  },
  {
   "cell_type": "code",
   "execution_count": 73,
   "metadata": {
    "collapsed": false
   },
   "outputs": [],
   "source": [
    "my_list = [1, 2, 3, 4, 'one', 'two', 4.9]"
   ]
  },
  {
   "cell_type": "code",
   "execution_count": 74,
   "metadata": {
    "collapsed": false
   },
   "outputs": [
    {
     "data": {
      "text/plain": [
       "[1, 2, 3, 4, 'one', 'two', 4.9]"
      ]
     },
     "execution_count": 74,
     "metadata": {},
     "output_type": "execute_result"
    }
   ],
   "source": [
    "# copy list\n",
    "my_list2 = my_list.copy()\n",
    "my_list2"
   ]
  },
  {
   "cell_type": "code",
   "execution_count": 75,
   "metadata": {
    "collapsed": true
   },
   "outputs": [],
   "source": [
    "# be very careful when setting another variable to a list without a copy\n",
    "my_list3 = my_list"
   ]
  },
  {
   "cell_type": "code",
   "execution_count": 76,
   "metadata": {
    "collapsed": true
   },
   "outputs": [],
   "source": [
    "my_list.append('This is a newly appended item. Where else did it get appended?')"
   ]
  },
  {
   "cell_type": "code",
   "execution_count": 77,
   "metadata": {
    "collapsed": false
   },
   "outputs": [
    {
     "data": {
      "text/plain": [
       "[1,\n",
       " 2,\n",
       " 3,\n",
       " 4,\n",
       " 'one',\n",
       " 'two',\n",
       " 4.9,\n",
       " 'This is a newly appended item. Where else did it get appended?']"
      ]
     },
     "execution_count": 77,
     "metadata": {},
     "output_type": "execute_result"
    }
   ],
   "source": [
    "my_list"
   ]
  },
  {
   "cell_type": "code",
   "execution_count": 78,
   "metadata": {
    "collapsed": false
   },
   "outputs": [
    {
     "data": {
      "text/plain": [
       "[1, 2, 3, 4, 'one', 'two', 4.9]"
      ]
     },
     "execution_count": 78,
     "metadata": {},
     "output_type": "execute_result"
    }
   ],
   "source": [
    "my_list2"
   ]
  },
  {
   "cell_type": "code",
   "execution_count": 79,
   "metadata": {
    "collapsed": false
   },
   "outputs": [
    {
     "data": {
      "text/plain": [
       "[1,\n",
       " 2,\n",
       " 3,\n",
       " 4,\n",
       " 'one',\n",
       " 'two',\n",
       " 4.9,\n",
       " 'This is a newly appended item. Where else did it get appended?']"
      ]
     },
     "execution_count": 79,
     "metadata": {},
     "output_type": "execute_result"
    }
   ],
   "source": [
    "my_list3"
   ]
  },
  {
   "cell_type": "code",
   "execution_count": 80,
   "metadata": {
    "collapsed": true
   },
   "outputs": [],
   "source": [
    "# my_list and my_list3 are pointing to the same object"
   ]
  },
  {
   "cell_type": "code",
   "execution_count": 81,
   "metadata": {
    "collapsed": false
   },
   "outputs": [
    {
     "data": {
      "text/plain": [
       "4"
      ]
     },
     "execution_count": 81,
     "metadata": {},
     "output_type": "execute_result"
    }
   ],
   "source": [
    "# find first occurence of item in list\n",
    "my_list.index('one')"
   ]
  },
  {
   "cell_type": "code",
   "execution_count": 82,
   "metadata": {
    "collapsed": false
   },
   "outputs": [
    {
     "data": {
      "text/plain": [
       "[1,\n",
       " 2,\n",
       " 3,\n",
       " 4,\n",
       " 'one',\n",
       " 'fifth',\n",
       " 'two',\n",
       " 4.9,\n",
       " 'This is a newly appended item. Where else did it get appended?']"
      ]
     },
     "execution_count": 82,
     "metadata": {},
     "output_type": "execute_result"
    }
   ],
   "source": [
    "#insert item after fifth inderx\n",
    "my_list.insert(5, 'fifth')\n",
    "my_list"
   ]
  },
  {
   "cell_type": "code",
   "execution_count": 83,
   "metadata": {
    "collapsed": false
   },
   "outputs": [],
   "source": [
    "# reverse a list in place\n",
    "my_list.reverse()"
   ]
  },
  {
   "cell_type": "code",
   "execution_count": 84,
   "metadata": {
    "collapsed": false
   },
   "outputs": [
    {
     "data": {
      "text/plain": [
       "['This is a newly appended item. Where else did it get appended?',\n",
       " 4.9,\n",
       " 'two',\n",
       " 'fifth',\n",
       " 'one',\n",
       " 4,\n",
       " 3,\n",
       " 2,\n",
       " 1]"
      ]
     },
     "execution_count": 84,
     "metadata": {},
     "output_type": "execute_result"
    }
   ],
   "source": [
    "my_list"
   ]
  },
  {
   "cell_type": "code",
   "execution_count": 85,
   "metadata": {
    "collapsed": false
   },
   "outputs": [
    {
     "ename": "TypeError",
     "evalue": "unorderable types: float() < str()",
     "output_type": "error",
     "traceback": [
      "\u001b[0;31m---------------------------------------------------------------------------\u001b[0m",
      "\u001b[0;31mTypeError\u001b[0m                                 Traceback (most recent call last)",
      "\u001b[0;32m<ipython-input-85-ac6ec5e37cb1>\u001b[0m in \u001b[0;36m<module>\u001b[0;34m()\u001b[0m\n\u001b[1;32m      1\u001b[0m \u001b[0;31m#sort the list\u001b[0m\u001b[0;34m\u001b[0m\u001b[0;34m\u001b[0m\u001b[0m\n\u001b[0;32m----> 2\u001b[0;31m \u001b[0mmy_list\u001b[0m\u001b[0;34m.\u001b[0m\u001b[0msort\u001b[0m\u001b[0;34m(\u001b[0m\u001b[0;34m)\u001b[0m\u001b[0;34m\u001b[0m\u001b[0m\n\u001b[0m",
      "\u001b[0;31mTypeError\u001b[0m: unorderable types: float() < str()"
     ]
    }
   ],
   "source": [
    "#sort the list\n",
    "my_list.sort()"
   ]
  },
  {
   "cell_type": "code",
   "execution_count": 86,
   "metadata": {
    "collapsed": false
   },
   "outputs": [],
   "source": [
    "# oops. They are not all the same type\n",
    "# we can fix this by changing the sorting mechanism. The argument key takes a function that gets applied to each\n",
    "# element of the list. The list is then sorted after this applied operation\n",
    "# In this example the str function is applied to each element which turn each element into a number.\n",
    "# This sort operation then completes successfully in place\n",
    "my_list.sort(key=str)"
   ]
  },
  {
   "cell_type": "code",
   "execution_count": 87,
   "metadata": {
    "collapsed": false
   },
   "outputs": [
    {
     "data": {
      "text/plain": [
       "[1,\n",
       " 2,\n",
       " 3,\n",
       " 4,\n",
       " 4.9,\n",
       " 'This is a newly appended item. Where else did it get appended?',\n",
       " 'fifth',\n",
       " 'one',\n",
       " 'two']"
      ]
     },
     "execution_count": 87,
     "metadata": {},
     "output_type": "execute_result"
    }
   ],
   "source": [
    "my_list"
   ]
  },
  {
   "cell_type": "markdown",
   "metadata": {},
   "source": [
    "### Slicing in lists\n",
    "Slicing and element grabbing happens the same way in lists as it does in strings. The big difference is that lists are mutable (each element is able to be changed). Strings are not."
   ]
  },
  {
   "cell_type": "code",
   "execution_count": 88,
   "metadata": {
    "collapsed": false
   },
   "outputs": [
    {
     "data": {
      "text/plain": [
       "(1, 'two')"
      ]
     },
     "execution_count": 88,
     "metadata": {},
     "output_type": "execute_result"
    }
   ],
   "source": [
    "#choose elements\n",
    "my_list[0], my_list[-1]"
   ]
  },
  {
   "cell_type": "code",
   "execution_count": 89,
   "metadata": {
    "collapsed": false
   },
   "outputs": [
    {
     "data": {
      "text/plain": [
       "[1, 2, 3]"
      ]
     },
     "execution_count": 89,
     "metadata": {},
     "output_type": "execute_result"
    }
   ],
   "source": [
    "my_list[:3]"
   ]
  },
  {
   "cell_type": "code",
   "execution_count": 90,
   "metadata": {
    "collapsed": false
   },
   "outputs": [
    {
     "data": {
      "text/plain": [
       "[4,\n",
       " 4.9,\n",
       " 'This is a newly appended item. Where else did it get appended?',\n",
       " 'fifth',\n",
       " 'one',\n",
       " 'two']"
      ]
     },
     "execution_count": 90,
     "metadata": {},
     "output_type": "execute_result"
    }
   ],
   "source": [
    "my_list[3:]"
   ]
  },
  {
   "cell_type": "code",
   "execution_count": 91,
   "metadata": {
    "collapsed": false
   },
   "outputs": [
    {
     "data": {
      "text/plain": [
       "True"
      ]
     },
     "execution_count": 91,
     "metadata": {},
     "output_type": "execute_result"
    }
   ],
   "source": [
    "# lists support the + operator. It concatenates lists just like it concatenates strings. \n",
    "# Also supported is the equality operator. All elements in the list must match exactly and be in the same order\n",
    "my_list[:3] + my_list[3:] == my_list"
   ]
  },
  {
   "cell_type": "code",
   "execution_count": 92,
   "metadata": {
    "collapsed": false
   },
   "outputs": [
    {
     "data": {
      "text/plain": [
       "False"
      ]
     },
     "execution_count": 92,
     "metadata": {},
     "output_type": "execute_result"
    }
   ],
   "source": [
    "my_list[3:] + my_list[:3] == my_list"
   ]
  },
  {
   "cell_type": "code",
   "execution_count": 93,
   "metadata": {
    "collapsed": false
   },
   "outputs": [
    {
     "data": {
      "text/plain": [
       "[2, 4.9, 'one']"
      ]
     },
     "execution_count": 93,
     "metadata": {},
     "output_type": "execute_result"
    }
   ],
   "source": [
    "#step\n",
    "my_list[1:9:3]"
   ]
  },
  {
   "cell_type": "code",
   "execution_count": 94,
   "metadata": {
    "collapsed": false
   },
   "outputs": [
    {
     "data": {
      "text/plain": [
       "['two',\n",
       " 'one',\n",
       " 'fifth',\n",
       " 'This is a newly appended item. Where else did it get appended?',\n",
       " 4.9,\n",
       " 4,\n",
       " 3,\n",
       " 2,\n",
       " 1]"
      ]
     },
     "execution_count": 94,
     "metadata": {},
     "output_type": "execute_result"
    }
   ],
   "source": [
    "#reverse\n",
    "my_list[::-1]"
   ]
  },
  {
   "cell_type": "code",
   "execution_count": 95,
   "metadata": {
    "collapsed": false
   },
   "outputs": [
    {
     "data": {
      "text/plain": [
       "['two', 'fifth', 4.9]"
      ]
     },
     "execution_count": 95,
     "metadata": {},
     "output_type": "execute_result"
    }
   ],
   "source": [
    "# reverse step\n",
    "my_list[8:3:-2]"
   ]
  },
  {
   "cell_type": "code",
   "execution_count": 96,
   "metadata": {
    "collapsed": false
   },
   "outputs": [
    {
     "data": {
      "text/plain": [
       "[1,\n",
       " 2,\n",
       " 3,\n",
       " 4,\n",
       " 'mutation',\n",
       " 'This is a newly appended item. Where else did it get appended?',\n",
       " 'fifth',\n",
       " 'one',\n",
       " 'two']"
      ]
     },
     "execution_count": 96,
     "metadata": {},
     "output_type": "execute_result"
    }
   ],
   "source": [
    "# Mutation\n",
    "my_list[4] = 'mutation'\n",
    "my_list"
   ]
  },
  {
   "cell_type": "code",
   "execution_count": 97,
   "metadata": {
    "collapsed": true
   },
   "outputs": [],
   "source": [
    "# replace a large slice with a single element\n",
    "my_list[5:] = ['replacement']"
   ]
  },
  {
   "cell_type": "code",
   "execution_count": 98,
   "metadata": {
    "collapsed": false
   },
   "outputs": [
    {
     "data": {
      "text/plain": [
       "[1, 2, 3, 4, 'mutation', 'replacement']"
      ]
     },
     "execution_count": 98,
     "metadata": {},
     "output_type": "execute_result"
    }
   ],
   "source": [
    "my_list"
   ]
  },
  {
   "cell_type": "code",
   "execution_count": 99,
   "metadata": {
    "collapsed": false
   },
   "outputs": [
    {
     "ename": "ValueError",
     "evalue": "attempt to assign sequence of size 1 to extended slice of size 3",
     "output_type": "error",
     "traceback": [
      "\u001b[0;31m---------------------------------------------------------------------------\u001b[0m",
      "\u001b[0;31mValueError\u001b[0m                                Traceback (most recent call last)",
      "\u001b[0;32m<ipython-input-99-bf3b933dad22>\u001b[0m in \u001b[0;36m<module>\u001b[0;34m()\u001b[0m\n\u001b[1;32m      1\u001b[0m \u001b[0;31m# Can you replace a slice with steps with a single element?\u001b[0m\u001b[0;34m\u001b[0m\u001b[0;34m\u001b[0m\u001b[0m\n\u001b[0;32m----> 2\u001b[0;31m \u001b[0mmy_list\u001b[0m\u001b[0;34m[\u001b[0m\u001b[0;34m:\u001b[0m\u001b[0;34m:\u001b[0m\u001b[0;36m2\u001b[0m\u001b[0;34m]\u001b[0m \u001b[0;34m=\u001b[0m \u001b[0;34m[\u001b[0m\u001b[0;34m'can we do this'\u001b[0m\u001b[0;34m]\u001b[0m\u001b[0;34m\u001b[0m\u001b[0m\n\u001b[0m",
      "\u001b[0;31mValueError\u001b[0m: attempt to assign sequence of size 1 to extended slice of size 3"
     ]
    }
   ],
   "source": [
    "# Can you replace a slice with steps with a single element?\n",
    "my_list[::2] = ['can we do this']"
   ]
  },
  {
   "cell_type": "code",
   "execution_count": 100,
   "metadata": {
    "collapsed": true
   },
   "outputs": [],
   "source": [
    "# No. But can you replace the slice with steps with a list of equal size?\n",
    "my_list[::2] = ['can we', 'do', 'this?']"
   ]
  },
  {
   "cell_type": "code",
   "execution_count": 101,
   "metadata": {
    "collapsed": false
   },
   "outputs": [
    {
     "data": {
      "text/plain": [
       "['can we', 2, 'do', 4, 'this?', 'replacement']"
      ]
     },
     "execution_count": 101,
     "metadata": {},
     "output_type": "execute_result"
    }
   ],
   "source": [
    "# every other item can be mutated if a list of the same size is given\n",
    "my_list"
   ]
  },
  {
   "cell_type": "markdown",
   "metadata": {},
   "source": [
    "### Problem 9\n",
    "<span style=\"color:green\">Take the following list and get every other element starting from 0 </span>"
   ]
  },
  {
   "cell_type": "code",
   "execution_count": 121,
   "metadata": {
    "collapsed": false
   },
   "outputs": [
    {
     "data": {
      "text/plain": [
       "['a', 'b', 'c', 'd', 'e', 'f', 'g', 'h', 'i', 'j', 'k', 'l']"
      ]
     },
     "execution_count": 121,
     "metadata": {},
     "output_type": "execute_result"
    }
   ],
   "source": [
    "# Turn every character in string into a list element\n",
    "test_list = list('abcdefghijkl')\n",
    "test_list"
   ]
  },
  {
   "cell_type": "code",
   "execution_count": 110,
   "metadata": {
    "collapsed": false
   },
   "outputs": [
    {
     "data": {
      "text/plain": [
       "['a', 'c', 'e', 'g', 'i', 'k']"
      ]
     },
     "execution_count": 110,
     "metadata": {},
     "output_type": "execute_result"
    }
   ],
   "source": [
    "# your code here\n",
    "new_list = test_list[0::2]\n",
    "new_list"
   ]
  },
  {
   "cell_type": "markdown",
   "metadata": {},
   "source": [
    "### Problem 10\n",
    "<span style=\"color:green\">use the + operator to concatenate two lists. Make the first list the even elements indices of test_list and the second list the odd elements of test_list</span>"
   ]
  },
  {
   "cell_type": "code",
   "execution_count": 111,
   "metadata": {
    "collapsed": false
   },
   "outputs": [
    {
     "data": {
      "text/plain": [
       "['a', 'c', 'e', 'g', 'i', 'k', 'b', 'd', 'f', 'h', 'j', 'l']"
      ]
     },
     "execution_count": 111,
     "metadata": {},
     "output_type": "execute_result"
    }
   ],
   "source": [
    "# your code here\n",
    "first_list = test_list[0::2]\n",
    "second_list = test_list[1::2]\n",
    "new_list = first_list + second_list\n",
    "new_list"
   ]
  },
  {
   "cell_type": "markdown",
   "metadata": {},
   "source": [
    "### Problem 11\n",
    "<span style=\"color:green\">Replace every 4 element of test_list starting from the end with something else </span>"
   ]
  },
  {
   "cell_type": "code",
   "execution_count": 127,
   "metadata": {
    "collapsed": false
   },
   "outputs": [
    {
     "data": {
      "text/plain": [
       "['haha', 'b', 'c', 'd', 'haha', 'f', 'g', 'h', 'haha', 'j', 'k', 'l']"
      ]
     },
     "execution_count": 127,
     "metadata": {},
     "output_type": "execute_result"
    }
   ],
   "source": [
    "# your code here\n",
    "test_list = list('abcdefghijkl')\n",
    "test_list.reverse()\n",
    "for i in range(len(test_list)):\n",
    "    if (i+1)%4 == 0:\n",
    "        test_list[i] = 'haha'\n",
    "test_list.reverse()\n",
    "test_list"
   ]
  },
  {
   "cell_type": "markdown",
   "metadata": {},
   "source": [
    "### Problem 12\n",
    "<span style=\"color:green\">Replace the last half of the list with a single item </span>"
   ]
  },
  {
   "cell_type": "code",
   "execution_count": 134,
   "metadata": {
    "collapsed": false
   },
   "outputs": [
    {
     "data": {
      "text/plain": [
       "['a', 'b', 'c', 'd', 'e', 'f', '^_________________________________________^']"
      ]
     },
     "execution_count": 134,
     "metadata": {},
     "output_type": "execute_result"
    }
   ],
   "source": [
    "# your code here\n",
    "test_list = list('abcdefghijkl')\n",
    "test_list[int(len(test_list)/2)] = \"^_________________________________________^\" \n",
    "test_list = test_list[0:int(len(test_list)/2) + 1]\n",
    "test_list"
   ]
  },
  {
   "cell_type": "markdown",
   "metadata": {},
   "source": [
    "### Problem 13\n",
    "<span style=\"color:green\">Use the help function to use the `extend` method correctly for a list</span>"
   ]
  },
  {
   "cell_type": "code",
   "execution_count": 139,
   "metadata": {
    "collapsed": false
   },
   "outputs": [
    {
     "data": {
      "text/plain": [
       "['a',\n",
       " 'b',\n",
       " 'c',\n",
       " 'd',\n",
       " 'e',\n",
       " 'f',\n",
       " 'g',\n",
       " 'h',\n",
       " 'i',\n",
       " 'j',\n",
       " 'k',\n",
       " 'l',\n",
       " 'w',\n",
       " 'h',\n",
       " 'a',\n",
       " 't',\n",
       " ' ',\n",
       " 'i',\n",
       " 's',\n",
       " ' ',\n",
       " 't',\n",
       " 'h',\n",
       " 'i',\n",
       " 's',\n",
       " '?',\n",
       " '?',\n",
       " '?']"
      ]
     },
     "execution_count": 139,
     "metadata": {},
     "output_type": "execute_result"
    }
   ],
   "source": [
    "# your code here\n",
    "\n",
    "test_list = list('abcdefghijkl')\n",
    "test_list.extend?\n",
    "test_list.extend(\"what is this???\")\n",
    "test_list"
   ]
  },
  {
   "cell_type": "markdown",
   "metadata": {},
   "source": [
    "### Problem 14\n",
    "<span style=\"color:green\">In words, without actually programming, what will <strong>my_list * 5</strong> do?</span>"
   ]
  },
  {
   "cell_type": "markdown",
   "metadata": {},
   "source": [
    "Enter you answer (double click here to edit cell): extend list 4 times with itself"
   ]
  },
  {
   "cell_type": "markdown",
   "metadata": {},
   "source": [
    "### Lists of Lists\n",
    "Lists of lists are similar to n-dimensional arrays in scientific computing"
   ]
  },
  {
   "cell_type": "code",
   "execution_count": 108,
   "metadata": {
    "collapsed": true
   },
   "outputs": [],
   "source": [
    "# create a list of lists\n",
    "# lists can even contain functions\n",
    "list_list = [[1, 2, 3], [5,6], [90, 100, 109], max]"
   ]
  },
  {
   "cell_type": "code",
   "execution_count": 109,
   "metadata": {
    "collapsed": false
   },
   "outputs": [
    {
     "data": {
      "text/plain": [
       "8"
      ]
     },
     "execution_count": 109,
     "metadata": {},
     "output_type": "execute_result"
    }
   ],
   "source": [
    "# get the max of two numbers in a really bizarre way\n",
    "list_list[3](5,8)"
   ]
  },
  {
   "cell_type": "code",
   "execution_count": 110,
   "metadata": {
    "collapsed": false
   },
   "outputs": [
    {
     "data": {
      "text/plain": [
       "[1, 2, 3]"
      ]
     },
     "execution_count": 110,
     "metadata": {},
     "output_type": "execute_result"
    }
   ],
   "source": [
    "# What happens when we access the first element?\n",
    "list_list[0]"
   ]
  },
  {
   "cell_type": "code",
   "execution_count": 111,
   "metadata": {
    "collapsed": false
   },
   "outputs": [
    {
     "data": {
      "text/plain": [
       "3"
      ]
     },
     "execution_count": 111,
     "metadata": {},
     "output_type": "execute_result"
    }
   ],
   "source": [
    "# How to access nested lists\n",
    "list_list[0][2]"
   ]
  },
  {
   "cell_type": "code",
   "execution_count": 112,
   "metadata": {
    "collapsed": false
   },
   "outputs": [
    {
     "data": {
      "text/plain": [
       "3"
      ]
     },
     "execution_count": 112,
     "metadata": {},
     "output_type": "execute_result"
    }
   ],
   "source": [
    "# Use different indices to get the same item\n",
    "list_list[-4][-1]"
   ]
  },
  {
   "cell_type": "code",
   "execution_count": 113,
   "metadata": {
    "collapsed": false
   },
   "outputs": [
    {
     "data": {
      "text/plain": [
       "[100, 109]"
      ]
     },
     "execution_count": 113,
     "metadata": {},
     "output_type": "execute_result"
    }
   ],
   "source": [
    "# get a  slice of a list of a list\n",
    "list_list[2][1:]"
   ]
  },
  {
   "cell_type": "code",
   "execution_count": 114,
   "metadata": {
    "collapsed": false
   },
   "outputs": [
    {
     "data": {
      "text/plain": [
       "[[1, 2, 3], [5, 6], [90, 900, 909], <function max>]"
      ]
     },
     "execution_count": 114,
     "metadata": {},
     "output_type": "execute_result"
    }
   ],
   "source": [
    "# mutate this list of list\n",
    "list_list[2][1:] = [900, 909]\n",
    "list_list"
   ]
  },
  {
   "cell_type": "markdown",
   "metadata": {},
   "source": [
    "### Problem 15\n",
    "<span style=\"color:green\">First create a list containing at list three inner lists. Replace the second list with a reverse of the third list</span>"
   ]
  },
  {
   "cell_type": "code",
   "execution_count": 64,
   "metadata": {
    "collapsed": false
   },
   "outputs": [
    {
     "data": {
      "text/plain": [
       "[[1, 2, 3], [9, 8, 7], [7, 8, 9]]"
      ]
     },
     "execution_count": 64,
     "metadata": {},
     "output_type": "execute_result"
    }
   ],
   "source": [
    "# your code here\n",
    "inner_list = [[1, 2, 3], [4, 5, 6], [7, 8, 9]]\n",
    "inner_list[1] = inner_list[2].copy()\n",
    "inner_list[1].reverse()\n",
    "inner_list"
   ]
  },
  {
   "cell_type": "markdown",
   "metadata": {},
   "source": [
    "### Advanced: Problem 16\n",
    "<span style=\"color:green\">Think of a list of lists as a matrix. Write a function that transposes this matrix.</span>"
   ]
  },
  {
   "cell_type": "code",
   "execution_count": 157,
   "metadata": {
    "collapsed": false
   },
   "outputs": [
    {
     "data": {
      "text/plain": [
       "[[1, 4], [2, 5], [3, 6]]"
      ]
     },
     "execution_count": 157,
     "metadata": {},
     "output_type": "execute_result"
    }
   ],
   "source": [
    "# your code here\n",
    "def t_matrix(matrix):\n",
    "    if len(matrix) == 0:\n",
    "        return None\n",
    "    height = len(matrix)\n",
    "    width = len(matrix[0])        \n",
    "    return [[matrix[row][col] for row in range(0,height)] for col in range(0,width)]\n",
    "\n",
    "alist = [[1, 2, 3,], [4, 5, 6]]\n",
    "t_matrix(alist)"
   ]
  },
  {
   "cell_type": "markdown",
   "metadata": {},
   "source": [
    "### Indenting in python\n",
    "python's syntax is so simple that it relies upon indentation beneath code blocks to mark their beginning and end if, for, function, with are all statements that have indentend code blocks underneath them. A block is exited when the indentation is removed. PEP8 a popular python style guide suggests 4 spaces (not tabs) for indentation. The notebook defaults to 4 spaces as well and takes care of it for you when you begin a code block that requires indentation\n",
    "\n",
    "### Control flow\n",
    "if statements use simple syntax with no parentheses or curly braces. Just a colon at the end of the statement and an indentation for all the lines below the if statement that get triggered when the condition is true. You can have any number of conditions in your conditional and any number of elif(statements which must follow an if which get triggered only if the immediately preceeding if statement is false) statements"
   ]
  },
  {
   "cell_type": "code",
   "execution_count": 117,
   "metadata": {
    "collapsed": false
   },
   "outputs": [
    {
     "name": "stdout",
     "output_type": "stream",
     "text": [
      "There are more than 4 a's in your string\n"
     ]
    }
   ],
   "source": [
    "test_string = 'asdfklasdflasjdfasdfasdf'\n",
    "if test_string.count('a') > 4:\n",
    "    print(\"There are more than 4 a's in your string\")\n",
    "elif test_string.index('k') > 10:\n",
    "    print(\"The first k occurs after the 11th element\")\n",
    "else:\n",
    "    print(\"My super intelligent responses did not find any info on your string. Please change it\")"
   ]
  },
  {
   "cell_type": "markdown",
   "metadata": {},
   "source": [
    "### Iteration\n",
    "Yet another benefit of python is the ease of element by element iteration of a sequence. Strings, lists, sets, dictionaries, tuples and many other sequence types can be iterated over. "
   ]
  },
  {
   "cell_type": "code",
   "execution_count": 118,
   "metadata": {
    "collapsed": false
   },
   "outputs": [
    {
     "name": "stdout",
     "output_type": "stream",
     "text": [
      "97\n",
      "98\n",
      "99\n",
      "100\n",
      "101\n",
      "102\n",
      "103\n",
      "104\n",
      "105\n",
      "106\n",
      "107\n"
     ]
    }
   ],
   "source": [
    "# a simple iteration over a string. For each character (which is assigned to variable s) in my_string \n",
    "# its numerical value (ord) will be printed\n",
    "my_string = 'abcdefghijk'\n",
    "for s in my_string:\n",
    "    print(ord(s))"
   ]
  },
  {
   "cell_type": "markdown",
   "metadata": {},
   "source": [
    "### Iteration by hand?\n",
    "If you enjoy handcrafted iteration, python provides a way for you to do this. All iterators implicity call the next method until StopIteration is thrown."
   ]
  },
  {
   "cell_type": "code",
   "execution_count": 119,
   "metadata": {
    "collapsed": true
   },
   "outputs": [],
   "source": [
    "# first declare an iterator with the iter method\n",
    "my_string_iter = iter(my_string)"
   ]
  },
  {
   "cell_type": "code",
   "execution_count": 120,
   "metadata": {
    "collapsed": false
   },
   "outputs": [
    {
     "data": {
      "text/plain": [
       "'a'"
      ]
     },
     "execution_count": 120,
     "metadata": {},
     "output_type": "execute_result"
    }
   ],
   "source": [
    "# then let the hand crafted iteration begin! This is what a for loop is doing internally\n",
    "next(my_string_iter)"
   ]
  },
  {
   "cell_type": "code",
   "execution_count": 121,
   "metadata": {
    "collapsed": false
   },
   "outputs": [
    {
     "data": {
      "text/plain": [
       "'b'"
      ]
     },
     "execution_count": 121,
     "metadata": {},
     "output_type": "execute_result"
    }
   ],
   "source": [
    "next(my_string_iter)"
   ]
  },
  {
   "cell_type": "code",
   "execution_count": 122,
   "metadata": {
    "collapsed": false
   },
   "outputs": [
    {
     "data": {
      "text/plain": [
       "'c'"
      ]
     },
     "execution_count": 122,
     "metadata": {},
     "output_type": "execute_result"
    }
   ],
   "source": [
    "next(my_string_iter)"
   ]
  },
  {
   "cell_type": "markdown",
   "metadata": {},
   "source": [
    "### The range builtin function\n",
    "The builtin range function takes start, stop, step arguments to create a sequence of numbers in the same manner as sequence slicing as covered above. The range function in python 3 is actually a generator whereas in python 2 it actually created the whole list of numbers given to it which was a problem when given a very large number. The generator only holds the next item of the sequence in memory so is much more memory efficient. If you absolutely need a list from the range function simply wrap the range inside the list function: `list(range(10))`"
   ]
  },
  {
   "cell_type": "code",
   "execution_count": 123,
   "metadata": {
    "collapsed": false
   },
   "outputs": [
    {
     "name": "stdout",
     "output_type": "stream",
     "text": [
      "0\n",
      "3\n",
      "6\n",
      "9\n",
      "12\n",
      "15\n",
      "18\n"
     ]
    }
   ],
   "source": [
    "# typical use of looping through a range. Also notice how one line for loops can be created. \n",
    "# Not ideal practice but it works\n",
    "for num in range(0, 20, 3): print(num)"
   ]
  },
  {
   "cell_type": "markdown",
   "metadata": {},
   "source": [
    "### Problem 17\n",
    "<span style=\"color:green\">Use a for loop to iterate over the first 10 positive integers, printing out their squared value</span>"
   ]
  },
  {
   "cell_type": "code",
   "execution_count": 69,
   "metadata": {
    "collapsed": false
   },
   "outputs": [
    {
     "name": "stdout",
     "output_type": "stream",
     "text": [
      "1\n",
      "4\n",
      "9\n",
      "16\n",
      "25\n",
      "36\n",
      "49\n",
      "64\n",
      "81\n",
      "100\n"
     ]
    }
   ],
   "source": [
    "#your code here\n",
    "for i in range(1,11):\n",
    "    print (i*i)"
   ]
  },
  {
   "cell_type": "markdown",
   "metadata": {},
   "source": [
    "### Problem 18\n",
    "<span style=\"color:green\">Use a for loop to iterate over the first 10 positive integers, printing out their squared value only if the value is greater than 50</span>"
   ]
  },
  {
   "cell_type": "code",
   "execution_count": 70,
   "metadata": {
    "collapsed": false
   },
   "outputs": [
    {
     "name": "stdout",
     "output_type": "stream",
     "text": [
      "64\n",
      "81\n",
      "100\n"
     ]
    }
   ],
   "source": [
    "#your code here\n",
    "for i in range(1,11):\n",
    "    if (i*i) > 50:\n",
    "        print (i*i)"
   ]
  },
  {
   "cell_type": "markdown",
   "metadata": {},
   "source": [
    "### Problem 19\n",
    "<span style=\"color:green\">Use a for loop to iterate over every sixth integer of the first 1000, appending their squared value to a list. Do not print this result out.</span>"
   ]
  },
  {
   "cell_type": "code",
   "execution_count": 158,
   "metadata": {
    "collapsed": false
   },
   "outputs": [],
   "source": [
    "squared_list = []\n",
    "# your code here\n",
    "for i in range(6,1001,6):\n",
    "    squared_list.append(i*i)\n"
   ]
  },
  {
   "cell_type": "markdown",
   "metadata": {},
   "source": [
    "### List comprehensions\n",
    "The last problem could have been handled by the very powerful list comprehension. A list comprehension is a single list iterating statement that stores results into a list and happens to read similarly to standard mathematical notation"
   ]
  },
  {
   "cell_type": "code",
   "execution_count": 127,
   "metadata": {
    "collapsed": false
   },
   "outputs": [],
   "source": [
    "# The following list comprehension loops through nubmers 0 - 9 and stores the square of that number in a list\n",
    "squared_nums = [x ** 2 for x in range(10)]"
   ]
  },
  {
   "cell_type": "code",
   "execution_count": 128,
   "metadata": {
    "collapsed": false
   },
   "outputs": [
    {
     "data": {
      "text/plain": [
       "[0, 1, 4, 9, 16, 25, 36, 49, 64, 81]"
      ]
     },
     "execution_count": 128,
     "metadata": {},
     "output_type": "execute_result"
    }
   ],
   "source": [
    "# The above is equivalent to this\n",
    "squared_nums = []\n",
    "for x in range(10):\n",
    "    squared_nums.append(x ** 2)\n",
    "    \n",
    "squared_nums"
   ]
  },
  {
   "cell_type": "markdown",
   "metadata": {},
   "source": [
    "### Reading list comprehensions\n",
    "list comprehensions should not be read left to right (at least not when first encountered). Always start with the for loop first and read all the way to the right bracket before looping around to the left bracket and reading until you've reached the for loop again."
   ]
  },
  {
   "cell_type": "code",
   "execution_count": 129,
   "metadata": {
    "collapsed": false
   },
   "outputs": [],
   "source": [
    "### Using a conditional in a list comprehension\n",
    "squared_nums = [x ** 2 if x % 2 == 0 else x ** 3 for x in range(100) if x > 30 and x < 50]"
   ]
  },
  {
   "cell_type": "code",
   "execution_count": 130,
   "metadata": {
    "collapsed": false
   },
   "outputs": [
    {
     "name": "stdout",
     "output_type": "stream",
     "text": [
      "[29791, 1024, 35937, 1156, 42875, 1296, 50653, 1444, 59319, 1600, 68921, 1764, 79507, 1936, 91125, 2116, 103823, 2304, 117649]\n"
     ]
    }
   ],
   "source": [
    "# The above is equivalent to this\n",
    "squared_nums = []\n",
    "for x in range(100):\n",
    "    if x > 30 and x < 50:\n",
    "        if x % 2 == 0:\n",
    "            squared_nums.append(x ** 2)\n",
    "        else:\n",
    "            squared_nums.append(x ** 3)\n",
    "    \n",
    "print(squared_nums)"
   ]
  },
  {
   "cell_type": "markdown",
   "metadata": {},
   "source": [
    "### Reading conditionals in list comps\n",
    "Again, list comps are read beginning at the for the loop. Here all the values from 0 to 99 are passed tot the conditional x > 30 and x < 50. Only those that pass the conditional make it the left hand side where they are squared if they are even and cubed if they are odd."
   ]
  },
  {
   "cell_type": "markdown",
   "metadata": {},
   "source": [
    "### Conditional assignments in one line\n",
    "In the above list comp, the statement to the left of the for loop might have been confusing. [Check here](https://en.wikipedia.org/wiki/%3F:#Python) to learn more about the ternary operator in python which assigns the variable to the first value if the statement is true otherwise assigns the variable to the last operator"
   ]
  },
  {
   "cell_type": "code",
   "execution_count": 131,
   "metadata": {
    "collapsed": false
   },
   "outputs": [
    {
     "data": {
      "text/plain": [
       "'low'"
      ]
     },
     "execution_count": 131,
     "metadata": {},
     "output_type": "execute_result"
    }
   ],
   "source": [
    "# Simple ternary operator\n",
    "x = 5\n",
    "variable_type = 'low' if x < 10 else 'high'\n",
    "variable_type"
   ]
  },
  {
   "cell_type": "markdown",
   "metadata": {},
   "source": [
    "### Problem 20\n",
    "\n",
    "<span style=\"color:green\">Write a list comprehension that loops through all numbers between 1 and 100 and squares all those that end in 3 or 7 (hint: use modulus operator)</span>"
   ]
  },
  {
   "cell_type": "code",
   "execution_count": 159,
   "metadata": {
    "collapsed": false
   },
   "outputs": [
    {
     "data": {
      "text/plain": [
       "[9,\n",
       " 49,\n",
       " 169,\n",
       " 289,\n",
       " 529,\n",
       " 729,\n",
       " 1089,\n",
       " 1369,\n",
       " 1849,\n",
       " 2209,\n",
       " 2809,\n",
       " 3249,\n",
       " 3969,\n",
       " 4489,\n",
       " 5329,\n",
       " 5929,\n",
       " 6889,\n",
       " 7569,\n",
       " 8649,\n",
       " 9409]"
      ]
     },
     "execution_count": 159,
     "metadata": {},
     "output_type": "execute_result"
    }
   ],
   "source": [
    "# your code here\n",
    "test_nums = [x ** 2 for x in range(1, 101) if x%10 == 3 or x%10 == 7]\n",
    "test_nums"
   ]
  },
  {
   "cell_type": "markdown",
   "metadata": {},
   "source": [
    "### Advanced: Problem 21\n",
    "\n",
    "<span style=\"color:green\">Write a list comprehension that loops through all the characters of the word 'abrACaDabra' and for only the lowercase letters, returns 'vowel' if the letter is a vowel and 'consonant' otherwise </span>"
   ]
  },
  {
   "cell_type": "code",
   "execution_count": 177,
   "metadata": {
    "collapsed": false
   },
   "outputs": [
    {
     "name": "stdout",
     "output_type": "stream",
     "text": [
      "['vowel', 'consonant', 'consonant', 'vowel', 'consonant', 'vowel', 'consonant', 'vowel', 'consonant', 'consonant', 'vowel']\n"
     ]
    }
   ],
   "source": [
    "word = 'abrACaDabra'\n",
    "# your code here\n",
    "\n",
    "def vowel(item):\n",
    "    new = item.lower()\n",
    "    if new == \"a\" or new == \"e\" or new == \"i\" or new == \"o\" or new == \"u\":\n",
    "        return \"vowel\"\n",
    "    else:\n",
    "        return \"consonant\"\n",
    "\n",
    "vowel = [vowel(item) for item in list(word)]\n",
    "\n",
    "print(vowel)\n"
   ]
  },
  {
   "cell_type": "markdown",
   "metadata": {},
   "source": [
    "### Nested for loops inside list comps\n",
    "Just like you can nest for loops, you can nest as many for loops as you would like inside list comps"
   ]
  },
  {
   "cell_type": "code",
   "execution_count": 134,
   "metadata": {
    "collapsed": true
   },
   "outputs": [],
   "source": [
    "create_words = [x + y + z for x in 'bmr' for y in 'aei' for z in 'dt']"
   ]
  },
  {
   "cell_type": "code",
   "execution_count": 135,
   "metadata": {
    "collapsed": false
   },
   "outputs": [
    {
     "name": "stdout",
     "output_type": "stream",
     "text": [
      "['bad', 'bat', 'bed', 'bet', 'bid', 'bit', 'mad', 'mat', 'med', 'met', 'mid', 'mit', 'rad', 'rat', 'red', 'ret', 'rid', 'rit']\n"
     ]
    }
   ],
   "source": [
    "# the above is equivalent to\n",
    "create_words = []\n",
    "for x in 'bmr':\n",
    "    for y in 'aei':\n",
    "        for z in 'dt':\n",
    "            create_words.append(x + y + z)\n",
    "print(create_words)"
   ]
  },
  {
   "cell_type": "markdown",
   "metadata": {},
   "source": [
    "### Problem 22\n",
    "\n",
    "<span style=\"color:green\">Write a list comprehension that uses nested for loops to get the total price of carpeting for all possible house size combinations where there is at least 100 square feet of house. Store values in total_price list</span>"
   ]
  },
  {
   "cell_type": "code",
   "execution_count": 92,
   "metadata": {
    "collapsed": false
   },
   "outputs": [],
   "source": [
    "height = range(10, 30, 5)\n",
    "width = range(2,40,2)\n",
    "price_per_square_foot = [1, 1.75, 2.5, 4.88]\n",
    "# your code here\n",
    "total_price = [h * w * punit for h in height for w in width for punit in price_per_square_foot]\n"
   ]
  },
  {
   "cell_type": "markdown",
   "metadata": {},
   "source": [
    "### Advanced: enumerate function\n",
    "enumerate is a nice function that allows you to grab he index of the iteration in a loop without using the dreaded range(len(list_name))"
   ]
  },
  {
   "cell_type": "code",
   "execution_count": 137,
   "metadata": {
    "collapsed": false
   },
   "outputs": [
    {
     "name": "stdout",
     "output_type": "stream",
     "text": [
      "0 a\n",
      "1 b\n",
      "2 c\n",
      "3 d\n",
      "4 e\n",
      "5 f\n"
     ]
    }
   ],
   "source": [
    "letters = list('abcdef')\n",
    "for i, letter in enumerate(letters):\n",
    "    print(i, letter)"
   ]
  },
  {
   "cell_type": "code",
   "execution_count": 138,
   "metadata": {
    "collapsed": false
   },
   "outputs": [
    {
     "name": "stdout",
     "output_type": "stream",
     "text": [
      "0 a\n",
      "1 b\n",
      "2 c\n",
      "3 d\n",
      "4 e\n",
      "5 f\n"
     ]
    }
   ],
   "source": [
    "# which is much more elegant than\n",
    "letters = list('abcdef')\n",
    "for i in range(len(letters)):\n",
    "    print(i, letters[i])"
   ]
  },
  {
   "cell_type": "markdown",
   "metadata": {},
   "source": [
    "### Problem 23\n",
    "\n",
    "<span style=\"color:green\">Write a for list that uses enumerate to iterate over the total_price list in problem 22 and prints out the message, \"House number i costs x amount of dollars\". Use the format method of str object to interpolate the variables in your message </span>"
   ]
  },
  {
   "cell_type": "code",
   "execution_count": 181,
   "metadata": {
    "collapsed": false
   },
   "outputs": [
    {
     "name": "stdout",
     "output_type": "stream",
     "text": [
      "House number 1 costs 1000 amount of dollars\n",
      "House number 2 costs 2000 amount of dollars\n",
      "House number 3 costs 3000 amount of dollars\n",
      "House number 4 costs 4000 amount of dollars\n",
      "House number 5 costs 5000 amount of dollars\n"
     ]
    }
   ],
   "source": [
    "# your code here\n",
    "def printHousePrice(item):\n",
    "    for i in range(len(item)):\n",
    "        print('House number {} costs {} amount of dollars'.format(i+1, item[i]))\n",
    "    \n",
    "test = [1000, 2000, 3000, 4000,5000]\n",
    "printHousePrice(test)\n"
   ]
  },
  {
   "cell_type": "markdown",
   "metadata": {},
   "source": [
    "### User defined functions\n",
    "Now for some real programming. Functions are always defined in python using the keyword `def` and always return an object. The `return` keyword is used to signify the end of execution of a function. If no return statemnt is found then None is returned. When writing your own functions, its good practice to keep the focused on a single particular task. If you find yourself writing overly complex functions that accomplish more than one taks, you should think about splitting it up into multiple functions."
   ]
  },
  {
   "cell_type": "code",
   "execution_count": 140,
   "metadata": {
    "collapsed": true
   },
   "outputs": [],
   "source": [
    "#simple find area function\n",
    "def area_cirlce(radius):\n",
    "    pi = 3.14\n",
    "    return pi * radius ** 2"
   ]
  },
  {
   "cell_type": "code",
   "execution_count": 141,
   "metadata": {
    "collapsed": false
   },
   "outputs": [
    {
     "data": {
      "text/plain": [
       "78.5"
      ]
     },
     "execution_count": 141,
     "metadata": {},
     "output_type": "execute_result"
    }
   ],
   "source": [
    "area_cirlce(5)"
   ]
  },
  {
   "cell_type": "markdown",
   "metadata": {},
   "source": [
    "### Anonymous functions\n",
    "python has the flexibility of creating functions on the fly without having to declare separate variables for them. They are called lambda expressions. They actually can be assigned to a variable and called in the same manner as a normal function. anonymous functions are especially useful in data exploration when we want to apply a simple function accross all members of a particular column of a dataset"
   ]
  },
  {
   "cell_type": "code",
   "execution_count": 142,
   "metadata": {
    "collapsed": true
   },
   "outputs": [],
   "source": [
    "area_circle2 = lambda radius: 3.14 * radius ** 2"
   ]
  },
  {
   "cell_type": "code",
   "execution_count": 5,
   "metadata": {
    "collapsed": false
   },
   "outputs": [
    {
     "data": {
      "text/plain": [
       "['apple', 'banana', 'orange', 'strawberry']"
      ]
     },
     "execution_count": 5,
     "metadata": {},
     "output_type": "execute_result"
    }
   ],
   "source": [
    "# Example use case of lambda function. Sorting a list of strings by their second letter\n",
    "string_list = ['apple', 'banana', 'orange', 'strawberry']\n",
    "# a normal sort would yield a sort by the first letter\n",
    "sorted(string_list)"
   ]
  },
  {
   "cell_type": "code",
   "execution_count": 144,
   "metadata": {
    "collapsed": false
   },
   "outputs": [
    {
     "data": {
      "text/plain": [
       "['banana', 'apple', 'orange', 'strawberry']"
      ]
     },
     "execution_count": 144,
     "metadata": {},
     "output_type": "execute_result"
    }
   ],
   "source": [
    "# but what if we wanted to sort by the second letter\n",
    "sorted(string_list, key=lambda x: x[1])"
   ]
  },
  {
   "cell_type": "code",
   "execution_count": 9,
   "metadata": {
    "collapsed": true
   },
   "outputs": [],
   "source": [
    "sorted?"
   ]
  },
  {
   "cell_type": "code",
   "execution_count": 3,
   "metadata": {
    "collapsed": false
   },
   "outputs": [
    {
     "data": {
      "text/plain": [
       "'3'"
      ]
     },
     "execution_count": 3,
     "metadata": {},
     "output_type": "execute_result"
    }
   ],
   "source": [
    "str(123)[-1]"
   ]
  },
  {
   "cell_type": "markdown",
   "metadata": {},
   "source": [
    "### Problem 24\n",
    "\n",
    "<span style=\"color:green\">Use the sorted builtin function (with the `key` argument) to sort a list of numbers by their last number. Use a lambda expression to find this last number.</span>"
   ]
  },
  {
   "cell_type": "code",
   "execution_count": 4,
   "metadata": {
    "collapsed": false
   },
   "outputs": [
    {
     "data": {
      "text/plain": [
       "[9000, 11, 1, 13, 33, 45, 456, 177, 87, 808]"
      ]
     },
     "execution_count": 4,
     "metadata": {},
     "output_type": "execute_result"
    }
   ],
   "source": [
    "num_list = [13, 11, 9000, 808, 45, 33, 177, 1, 87, 456]\n",
    "# your code here\n",
    "sorted(num_list, key=lambda x: str(x)[-1])"
   ]
  },
  {
   "cell_type": "code",
   "execution_count": 6,
   "metadata": {
    "collapsed": false
   },
   "outputs": [
    {
     "data": {
      "text/plain": [
       "['banana', 'apple', 'orange', 'strawberry']"
      ]
     },
     "execution_count": 6,
     "metadata": {},
     "output_type": "execute_result"
    }
   ],
   "source": [
    "sorted(string_list, key=lambda word: max([ord(letter) for letter in word]) - min([ord(letter) for letter in word]) )"
   ]
  },
  {
   "cell_type": "markdown",
   "metadata": {},
   "source": [
    "### Advanced Problem 25\n",
    "\n",
    "<span style=\"color:green\">Use the sorted function (with the `key` argument) to sort a list of strings by the third lowest alphabetical letter. Use a lambda expression to find this thrid lowest letter. Take the word 'python' for example. If you sort it by letter it becomes hnopty. The third lowest letter is therefore 'o'. This one is quite hard</span>"
   ]
  },
  {
   "cell_type": "code",
   "execution_count": 8,
   "metadata": {
    "collapsed": false
   },
   "outputs": [
    {
     "data": {
      "text/plain": [
       "['banana', 'strawberry', 'orange', 'apple']"
      ]
     },
     "execution_count": 8,
     "metadata": {},
     "output_type": "execute_result"
    }
   ],
   "source": [
    "# your code here\n",
    "sorted(string_list, key=lambda word: sorted(list(word))[2])"
   ]
  },
  {
   "cell_type": "markdown",
   "metadata": {},
   "source": [
    "### Deleting Objects\n",
    "Sometimes you get tired of something and need it gone. Python handles this nicely with the `del` statement. Not only can you delete entire objects but you can delete parts of mutable objects"
   ]
  },
  {
   "cell_type": "code",
   "execution_count": 14,
   "metadata": {
    "collapsed": true
   },
   "outputs": [],
   "source": [
    "my_list = list(range(10000))"
   ]
  },
  {
   "cell_type": "code",
   "execution_count": 15,
   "metadata": {
    "collapsed": true
   },
   "outputs": [],
   "source": [
    "del my_list"
   ]
  },
  {
   "cell_type": "code",
   "execution_count": 16,
   "metadata": {
    "collapsed": false
   },
   "outputs": [
    {
     "ename": "NameError",
     "evalue": "name 'my_list' is not defined",
     "output_type": "error",
     "traceback": [
      "\u001b[1;31m---------------------------------------------------------------------------\u001b[0m",
      "\u001b[1;31mNameError\u001b[0m                                 Traceback (most recent call last)",
      "\u001b[1;32m<ipython-input-16-cac102ff3c52>\u001b[0m in \u001b[0;36m<module>\u001b[1;34m()\u001b[0m\n\u001b[0;32m      1\u001b[0m \u001b[1;31m## Is it really gone?\u001b[0m\u001b[1;33m\u001b[0m\u001b[1;33m\u001b[0m\u001b[0m\n\u001b[1;32m----> 2\u001b[1;33m \u001b[0mmy_list\u001b[0m\u001b[1;33m\u001b[0m\u001b[0m\n\u001b[0m",
      "\u001b[1;31mNameError\u001b[0m: name 'my_list' is not defined"
     ]
    }
   ],
   "source": [
    "## Is it really gone?\n",
    "my_list"
   ]
  },
  {
   "cell_type": "code",
   "execution_count": 17,
   "metadata": {
    "collapsed": true
   },
   "outputs": [],
   "source": [
    "my_list = list(range(10))"
   ]
  },
  {
   "cell_type": "code",
   "execution_count": 18,
   "metadata": {
    "collapsed": true
   },
   "outputs": [],
   "source": [
    "# delete part of a list\n",
    "del my_list[4:7]"
   ]
  },
  {
   "cell_type": "code",
   "execution_count": 19,
   "metadata": {
    "collapsed": false
   },
   "outputs": [
    {
     "data": {
      "text/plain": [
       "[0, 1, 2, 3, 7, 8, 9]"
      ]
     },
     "execution_count": 19,
     "metadata": {},
     "output_type": "execute_result"
    }
   ],
   "source": [
    "my_list"
   ]
  },
  {
   "cell_type": "markdown",
   "metadata": {},
   "source": [
    "# Tuples, Sets and Dictionaries\n",
    "In this last section we will cover three major data types\n",
    "### Tuples\n",
    "This is probably cringeworthy (by pythonistas) but tuples can be thought of as immutable lists. Once you initialize a tuple it is frozen forever until deletion. Tuples are declared with a sequence of objects wrapped in parentheses."
   ]
  },
  {
   "cell_type": "code",
   "execution_count": 21,
   "metadata": {
    "collapsed": false
   },
   "outputs": [
    {
     "data": {
      "text/plain": [
       "tuple"
      ]
     },
     "execution_count": 21,
     "metadata": {},
     "output_type": "execute_result"
    }
   ],
   "source": [
    "### Declare a tuple and insert many different types into it\n",
    "a = (8,6,8,'asfd', max)\n",
    "# an empty tuple must be declared using the keyword tuple\n",
    "b = tuple()\n",
    "# a single element tuple must have a comma after its only element\n",
    "c = (8,)\n",
    "type(c)"
   ]
  },
  {
   "cell_type": "markdown",
   "metadata": {},
   "source": [
    "### What methods do tuples and lists have in common?\n",
    "Since tuples and lists are so similar, it'd be nice to know which methods they have in common and which ones are different. An elegant solution to this is provided with python sets. Sets are unordered sequences of items that only appear once. You cannot have duplicates in sets as opposed to lists or tuples which can contain any number of items repeated.Python sets support all the functionality that normal mathematical sets have - intersection, union, difference, etc..."
   ]
  },
  {
   "cell_type": "code",
   "execution_count": 22,
   "metadata": {
    "collapsed": true
   },
   "outputs": [],
   "source": [
    "# Store all methods to a set\n",
    "some_list = []\n",
    "some_tuple = tuple()\n",
    "list_methods_set = set(dir(some_list))\n",
    "tuple_methods_set = set(dir(some_tuple))"
   ]
  },
  {
   "cell_type": "code",
   "execution_count": 23,
   "metadata": {
    "collapsed": false
   },
   "outputs": [
    {
     "name": "stdout",
     "output_type": "stream",
     "text": [
      "{'__setattr__', '__ne__', '__format__', '__subclasshook__', '__gt__', '__reduce_ex__', '__getitem__', '__reduce__', 'index', '__getattribute__', '__init__', '__rmul__', '__add__', '__ge__', '__delattr__', '__dir__', '__lt__', '__iter__', '__sizeof__', '__len__', '__new__', '__doc__', '__contains__', '__le__', '__repr__', '__str__', '__mul__', 'count', '__hash__', '__eq__', '__class__'}\n"
     ]
    }
   ],
   "source": [
    "# the & operator creates an intersection of sets\n",
    "print(list_methods_set & tuple_methods_set)"
   ]
  },
  {
   "cell_type": "code",
   "execution_count": 24,
   "metadata": {
    "collapsed": false
   },
   "outputs": [
    {
     "name": "stdout",
     "output_type": "stream",
     "text": [
      "{'__iadd__', '__imul__', 'append', 'sort', '__setitem__', 'insert', 'copy', 'remove', '__reversed__', 'pop', 'reverse', 'extend', 'clear', '__delitem__'}\n"
     ]
    }
   ],
   "source": [
    "# The subtract operator removes elements of set b from a\n",
    "print(list_methods_set - tuple_methods_set)"
   ]
  },
  {
   "cell_type": "markdown",
   "metadata": {},
   "source": [
    "### The method differences between lists and tuples\n",
    "As expected it looks like all the methods that are in common between sets and tuples are ones that don't alter the underlying object and the methods that are part of list object only all do some mutation."
   ]
  },
  {
   "cell_type": "markdown",
   "metadata": {},
   "source": [
    "### Problem 26\n",
    "\n",
    "<span style=\"color:green\">Find all the methods that are in tuple and not in list</span>"
   ]
  },
  {
   "cell_type": "code",
   "execution_count": 25,
   "metadata": {
    "collapsed": false
   },
   "outputs": [
    {
     "name": "stdout",
     "output_type": "stream",
     "text": [
      "{'__getnewargs__'}\n"
     ]
    }
   ],
   "source": [
    "# your code here\n",
    "print(tuple_methods_set - list_methods_set)"
   ]
  },
  {
   "cell_type": "markdown",
   "metadata": {},
   "source": [
    "### Problem 27: Advanced.\n",
    "<span style=\"color:green\">Create a function to make a list of all the fibonacci numbers less than 1000 and another function to make a list of all the prime numbers less than a 1000. Use a set to find the numbers that are in both groups</span>"
   ]
  },
  {
   "cell_type": "code",
   "execution_count": 36,
   "metadata": {
    "collapsed": false
   },
   "outputs": [
    {
     "name": "stdout",
     "output_type": "stream",
     "text": [
      "[1, 1, 2, 3, 5, 8, 13, 21, 34, 55, 89, 144, 233, 377, 610, 987]\n",
      "[2, 3, 5, 7, 11, 13, 17, 19, 23, 27, 29, 31, 35, 37, 41, 43, 47, 53, 59, 61, 67, 71, 73, 79, 83, 87, 89, 95, 97, 101, 103, 107, 109, 113, 119, 123, 127, 131, 135, 137, 139, 143, 147, 149, 151, 157, 163, 167, 173, 179, 181, 191, 193, 197, 199, 203, 207, 211, 215, 219, 223, 227, 229, 233, 239, 241, 251, 255, 257, 263, 269, 271, 275, 277, 281, 283, 289, 293, 299, 303, 307, 311, 313, 317, 323, 327, 331, 335, 337, 347, 349, 353, 359, 363, 367, 373, 379, 383, 387, 389, 395, 397, 401, 407, 409, 419, 421, 431, 433, 439, 443, 447, 449, 455, 457, 461, 463, 467, 473, 479, 483, 487, 491, 499, 503, 509, 515, 521, 523, 527, 533, 539, 541, 547, 555, 557, 563, 567, 569, 571, 577, 583, 587, 593, 599, 601, 607, 613, 617, 619, 623, 627, 631, 635, 641, 643, 647, 653, 659, 661, 671, 673, 677, 683, 689, 691, 695, 699, 701, 707, 709, 719, 725, 727, 733, 739, 743, 747, 751, 757, 761, 767, 769, 773, 779, 787, 795, 797, 803, 809, 811, 817, 821, 823, 827, 829, 839, 843, 851, 853, 857, 859, 863, 867, 875, 877, 881, 883, 887, 893, 899, 907, 911, 915, 919, 923, 927, 929, 935, 937, 941, 947, 953, 959, 965, 967, 971, 975, 977, 983, 991, 997, 1003]\n",
      "{2, 3, 5, 233, 13, 89}\n"
     ]
    }
   ],
   "source": [
    "# your code here\n",
    "def fi_nums(num = 1000):\n",
    "    fi_list = [1, 1]\n",
    "    fi_next = fi_list[-1] + fi_list[-2]\n",
    "    while fi_next < 1000:\n",
    "        fi_list.append(fi_next)\n",
    "        fi_next = fi_list[-1] + fi_list[-2]\n",
    "    return fi_list\n",
    "\n",
    "print(fi_nums())\n",
    "\n",
    "def pri_nums(num = 1000):\n",
    "    pri_list = []\n",
    "    i = 2\n",
    "    while i < num:\n",
    "        for j in range(2, i):\n",
    "            if i%j == 0:\n",
    "                i += 1\n",
    "        pri_list.append(i)\n",
    "        i += 1        \n",
    "        \n",
    "    return pri_list\n",
    "print(pri_nums())\n",
    "\n",
    "print(set(pri_nums()) & set(fi_nums()))"
   ]
  },
  {
   "cell_type": "markdown",
   "metadata": {},
   "source": [
    "### Dictionaries are sets with values\n",
    "Dictionaries are flexible data structures that are unordered mappings from a `key` to a `value`. Every key has exactly one value that is associated with it. Dictionaries have incredibly fast lookups regardless of their size. This is because they are implemented with hash tables under the hood. Dictionary keys must be immutable (hashable objects that always return the same hash value). Values on the other hand can be of any type, even other dictionaries and thus they are great data types for storing very large detailed information. If your are familiar with json then python dictionaries follow nearly the same structure."
   ]
  },
  {
   "cell_type": "code",
   "execution_count": 160,
   "metadata": {
    "collapsed": false
   },
   "outputs": [],
   "source": [
    "# Let's create a python dictionary by hand. There are many ways to create dictionaries\n",
    "# dictionaries, like sets also use the curly brace notation. Sets can be thought of as valueless dictionaries\n",
    "\n",
    "d1 = {'a': 1, 'b': 2, 'c': 3}\n",
    "d2 = dict(a = 1, b = 2, c = 3) # this seems strange but python automatically converts the key to a string here\n",
    "d3 = dict([['a', 1], ['b', 2], ['c', 3]])\n",
    "d4 = {letter : place + 1 for place, letter in enumerate('abc')} # dictionary comprehension using enumerate"
   ]
  },
  {
   "cell_type": "code",
   "execution_count": 161,
   "metadata": {
    "collapsed": false
   },
   "outputs": [
    {
     "data": {
      "text/plain": [
       "({'a': 1, 'b': 2, 'c': 3},\n",
       " {'a': 1, 'b': 2, 'c': 3},\n",
       " {'a': 1, 'b': 2, 'c': 3},\n",
       " {'a': 1, 'b': 2, 'c': 3})"
      ]
     },
     "execution_count": 161,
     "metadata": {},
     "output_type": "execute_result"
    }
   ],
   "source": [
    "# all dictionary declarations yielded the same dictionary data\n",
    "# the keys are the letters and the values are the numbers\n",
    "d1, d2, d3, d4"
   ]
  },
  {
   "cell_type": "code",
   "execution_count": 162,
   "metadata": {
    "collapsed": false
   },
   "outputs": [
    {
     "ename": "TypeError",
     "evalue": "unhashable type: 'list'",
     "output_type": "error",
     "traceback": [
      "\u001b[0;31m---------------------------------------------------------------------------\u001b[0m",
      "\u001b[0;31mTypeError\u001b[0m                                 Traceback (most recent call last)",
      "\u001b[0;32m<ipython-input-162-4dc2096ea4f8>\u001b[0m in \u001b[0;36m<module>\u001b[0;34m()\u001b[0m\n\u001b[1;32m      1\u001b[0m \u001b[0;31m# What happens when we attempt to use a list as a key to a dictionary\u001b[0m\u001b[0;34m\u001b[0m\u001b[0;34m\u001b[0m\u001b[0m\n\u001b[0;32m----> 2\u001b[0;31m \u001b[0md5\u001b[0m \u001b[0;34m=\u001b[0m \u001b[0;34m{\u001b[0m\u001b[0;34m[\u001b[0m\u001b[0;36m1\u001b[0m\u001b[0;34m,\u001b[0m\u001b[0;36m2\u001b[0m\u001b[0;34m,\u001b[0m\u001b[0;36m3\u001b[0m\u001b[0;34m,\u001b[0m\u001b[0;36m4\u001b[0m\u001b[0;34m]\u001b[0m\u001b[0;34m:\u001b[0m\u001b[0;34m'numbers'\u001b[0m\u001b[0;34m}\u001b[0m\u001b[0;34m\u001b[0m\u001b[0m\n\u001b[0m",
      "\u001b[0;31mTypeError\u001b[0m: unhashable type: 'list'"
     ]
    }
   ],
   "source": [
    "# What happens when we attempt to use a list as a key to a dictionary\n",
    "d5 = {[1,2,3,4]:'numbers'}"
   ]
  },
  {
   "cell_type": "code",
   "execution_count": 163,
   "metadata": {
    "collapsed": true
   },
   "outputs": [],
   "source": [
    "# We get an unhashable type, meaning the key is mutable. Hash tables require an immutable object\n",
    "# Let's try tuples since they are immutable\n",
    "d5 = {(1,2,3,4) : 'numbers'}"
   ]
  },
  {
   "cell_type": "code",
   "execution_count": 164,
   "metadata": {
    "collapsed": false
   },
   "outputs": [
    {
     "data": {
      "text/plain": [
       "{(1, 2, 3, 4): 'numbers'}"
      ]
     },
     "execution_count": 164,
     "metadata": {},
     "output_type": "execute_result"
    }
   ],
   "source": [
    "# success!\n",
    "d5"
   ]
  },
  {
   "cell_type": "code",
   "execution_count": 37,
   "metadata": {
    "collapsed": false
   },
   "outputs": [
    {
     "data": {
      "text/plain": [
       "{'Adeline': [65, 22, 10], 'Jane': [45, 98, 77], 'Sally': [87, 76, 65]}"
      ]
     },
     "execution_count": 37,
     "metadata": {},
     "output_type": "execute_result"
    }
   ],
   "source": [
    "# Let's say we are teachers with students that have test score grades\n",
    "# A dictionary is an excellent data structure to keep track of the scores\n",
    "# Let's manually create some data with 3 students that each have 3 test scores\n",
    "students = {'Sally': [87, 76, 65], 'Jane' : [45, 98, 77], 'Adeline' : [65, 22, 10]}\n",
    "students"
   ]
  },
  {
   "cell_type": "code",
   "execution_count": 43,
   "metadata": {
    "collapsed": false
   },
   "outputs": [
    {
     "name": "stdout",
     "output_type": "stream",
     "text": [
      "['__class__', '__contains__', '__delattr__', '__delitem__', '__dir__', '__doc__', '__eq__', '__format__', '__ge__', '__getattribute__', '__getitem__', '__gt__', '__hash__', '__init__', '__iter__', '__le__', '__len__', '__lt__', '__ne__', '__new__', '__reduce__', '__reduce_ex__', '__repr__', '__setattr__', '__setitem__', '__sizeof__', '__str__', '__subclasshook__', 'clear', 'copy', 'fromkeys', 'get', 'items', 'keys', 'pop', 'popitem', 'setdefault', 'update', 'values']\n"
     ]
    }
   ],
   "source": [
    "print (dir(students))"
   ]
  },
  {
   "cell_type": "code",
   "execution_count": 45,
   "metadata": {
    "collapsed": false
   },
   "outputs": [
    {
     "data": {
      "text/plain": [
       "[65, 22, 10]"
      ]
     },
     "execution_count": 45,
     "metadata": {},
     "output_type": "execute_result"
    }
   ],
   "source": [
    "students.get('Adeline')"
   ]
  },
  {
   "cell_type": "code",
   "execution_count": 166,
   "metadata": {
    "collapsed": false
   },
   "outputs": [
    {
     "data": {
      "text/plain": [
       "False"
      ]
     },
     "execution_count": 166,
     "metadata": {},
     "output_type": "execute_result"
    }
   ],
   "source": [
    "# Test whether 'Tom' is a student\n",
    "# use the in operator. Its very fast no matter how large the dictionary becomes\n",
    "# The in operator only looks up keys not values\n",
    "'Tom' in students"
   ]
  },
  {
   "cell_type": "code",
   "execution_count": 167,
   "metadata": {
    "collapsed": false
   },
   "outputs": [
    {
     "data": {
      "text/plain": [
       "[45, 98, 77]"
      ]
     },
     "execution_count": 167,
     "metadata": {},
     "output_type": "execute_result"
    }
   ],
   "source": [
    "# To get values out of dictionary you pass them the key inside of []\n",
    "# Get the test scores for Jane\n",
    "students['Jane']"
   ]
  },
  {
   "cell_type": "code",
   "execution_count": 168,
   "metadata": {
    "collapsed": false
   },
   "outputs": [],
   "source": [
    "# add a new student by assigning a new list of scores, though you can assign anything as the value to this new student\n",
    "students['Brian'] = [87, 76, 35]"
   ]
  },
  {
   "cell_type": "code",
   "execution_count": 169,
   "metadata": {
    "collapsed": false
   },
   "outputs": [
    {
     "data": {
      "text/plain": [
       "dict_keys(['Sally', 'Brian', 'Jane', 'Adeline'])"
      ]
     },
     "execution_count": 169,
     "metadata": {},
     "output_type": "execute_result"
    }
   ],
   "source": [
    "# Get just the keys\n",
    "students.keys()"
   ]
  },
  {
   "cell_type": "markdown",
   "metadata": {},
   "source": [
    "### Attempting to lookup a key that is not in the dictionary\n",
    "A KeyError will be generated if you attempt to return a value for a key not in the dictionary. To gracefully avoid this error the value `get` method can be used. This allows you to return a default value instead of creating an error."
   ]
  },
  {
   "cell_type": "code",
   "execution_count": 170,
   "metadata": {
    "collapsed": false
   },
   "outputs": [
    {
     "ename": "KeyError",
     "evalue": "'Tom'",
     "output_type": "error",
     "traceback": [
      "\u001b[0;31m---------------------------------------------------------------------------\u001b[0m",
      "\u001b[0;31mKeyError\u001b[0m                                  Traceback (most recent call last)",
      "\u001b[0;32m<ipython-input-170-abde901d02a2>\u001b[0m in \u001b[0;36m<module>\u001b[0;34m()\u001b[0m\n\u001b[1;32m      1\u001b[0m \u001b[0;31m# Attempt to get student Tom\u001b[0m\u001b[0;34m\u001b[0m\u001b[0;34m\u001b[0m\u001b[0m\n\u001b[0;32m----> 2\u001b[0;31m \u001b[0mstudents\u001b[0m\u001b[0;34m[\u001b[0m\u001b[0;34m'Tom'\u001b[0m\u001b[0;34m]\u001b[0m\u001b[0;34m\u001b[0m\u001b[0m\n\u001b[0m",
      "\u001b[0;31mKeyError\u001b[0m: 'Tom'"
     ]
    }
   ],
   "source": [
    "# Attempt to get student Tom\n",
    "students['Tom']"
   ]
  },
  {
   "cell_type": "code",
   "execution_count": 171,
   "metadata": {
    "collapsed": false
   },
   "outputs": [
    {
     "data": {
      "text/plain": [
       "-1"
      ]
     },
     "execution_count": 171,
     "metadata": {},
     "output_type": "execute_result"
    }
   ],
   "source": [
    "# use get to return a default value\n",
    "students.get('Tom', -1)"
   ]
  },
  {
   "cell_type": "code",
   "execution_count": 172,
   "metadata": {
    "collapsed": false
   },
   "outputs": [
    {
     "data": {
      "text/plain": [
       "[87, 76, 35]"
      ]
     },
     "execution_count": 172,
     "metadata": {},
     "output_type": "execute_result"
    }
   ],
   "source": [
    "# get returns the normal student value if the key is in the dict\n",
    "students.get('Brian', -1)"
   ]
  },
  {
   "cell_type": "markdown",
   "metadata": {},
   "source": [
    "### Problem 28\n",
    "\n",
    "<span style=\"color:green\">Create a function that accepts two parameters, a dictionary, and a string. If that string is in the dictionary return that value. If not, create a new record in the dictionary with the string as a key and an empty list as its value</span>"
   ]
  },
  {
   "cell_type": "code",
   "execution_count": 51,
   "metadata": {
    "collapsed": false
   },
   "outputs": [
    {
     "data": {
      "text/plain": [
       "{'a': 1, 'b': 2, 'c': [], 'x': 'x'}"
      ]
     },
     "execution_count": 51,
     "metadata": {},
     "output_type": "execute_result"
    }
   ],
   "source": [
    "# here is some starter code\n",
    "def add_to_dict(my_dict, my_string):\n",
    "    if my_string in my_dict:\n",
    "        # your code here\n",
    "        #print (\"it's already there\")\n",
    "        return my_dict.get(my_string)\n",
    "    else:\n",
    "        my_dict[my_string] = []\n",
    "        #print('added')\n",
    "\n",
    "test = {'a':1, 'b':2, 'x':'x'}\n",
    "add_to_dict(test, 'c')\n",
    "add_to_dict(test, 'b')\n",
    "test"
   ]
  },
  {
   "cell_type": "markdown",
   "metadata": {},
   "source": [
    "### Iterate through dictionaries\n",
    "One of the most common operations on a dictionary is to loop through it key by key to do some calculation on the values. Since dictionaries are unordered, the order of your iteration is not known ahead of time. If you need an ordered dict(by its keys) lookup the OrderedDict object in the collections module. When you iterate through a dictionary, you are free to define the variables which will hold the key and the value. In the below example, the variable `student` is assigned to the key and `scores` is assigned to the value (a list in this case)"
   ]
  },
  {
   "cell_type": "code",
   "execution_count": 174,
   "metadata": {
    "collapsed": false
   },
   "outputs": [
    {
     "data": {
      "text/plain": [
       "{'Adeline': 65, 'Brian': 87, 'Jane': 98, 'Sally': 87}"
      ]
     },
     "execution_count": 174,
     "metadata": {},
     "output_type": "execute_result"
    }
   ],
   "source": [
    "# To iterate, use the items method which return both key and value of each entry\n",
    "# Let's find the maximum test score for each student\n",
    "{student: max(scores) for student, scores in students.items()}"
   ]
  },
  {
   "cell_type": "markdown",
   "metadata": {},
   "source": [
    "A dictionary comprehension was used above to make a new dictionary that mapped the student name to the maximum score. Dictionary comps are identical to list comps in that they are read beginning at the for statement to the right and then looped back around to the left. The difference is that dictionary comps must return a key : value pair for each iteration"
   ]
  },
  {
   "cell_type": "markdown",
   "metadata": {},
   "source": [
    "### Problem 29\n",
    "\n",
    "<span style=\"color:green\">Create a new dictionary through a dictionary comp that gets the average score for each student</span>"
   ]
  },
  {
   "cell_type": "code",
   "execution_count": 55,
   "metadata": {
    "collapsed": false
   },
   "outputs": [
    {
     "data": {
      "text/plain": [
       "{'Adeline': 32.333333333333336, 'Jane': 73.33333333333333, 'Sally': 76.0}"
      ]
     },
     "execution_count": 55,
     "metadata": {},
     "output_type": "execute_result"
    }
   ],
   "source": [
    "# your code here\n",
    "import statistics\n",
    "{student: statistics.mean(scores) for student, scores in students.items()}"
   ]
  },
  {
   "cell_type": "markdown",
   "metadata": {},
   "source": [
    "### Problem 30\n",
    "\n",
    "<span style=\"color:green\">Create a dictoinary through a dictionary comp that gets the lowest grade for those students that contain an 'e' in their name </span>"
   ]
  },
  {
   "cell_type": "code",
   "execution_count": 58,
   "metadata": {
    "collapsed": false,
    "scrolled": true
   },
   "outputs": [
    {
     "data": {
      "text/plain": [
       "{'Adeline': 10, 'Jane': 45}"
      ]
     },
     "execution_count": 58,
     "metadata": {},
     "output_type": "execute_result"
    }
   ],
   "source": [
    "# your code here\n",
    "{student: min(scores) for student, scores in students.items() if student.find('e') != -1}"
   ]
  },
  {
   "cell_type": "markdown",
   "metadata": {},
   "source": [
    "### What if the values change in the dictionary\n",
    "Lets say that a student gets a new test grade. We can just append the test score to the values"
   ]
  },
  {
   "cell_type": "code",
   "execution_count": 177,
   "metadata": {
    "collapsed": false
   },
   "outputs": [
    {
     "data": {
      "text/plain": [
       "{'Adeline': [65, 22, 10, 76],\n",
       " 'Brian': [87, 76, 35],\n",
       " 'Jane': [45, 98, 77],\n",
       " 'Sally': [87, 76, 65]}"
      ]
     },
     "execution_count": 177,
     "metadata": {},
     "output_type": "execute_result"
    }
   ],
   "source": [
    "# append a score to a test\n",
    "students['Adeline'].append(76)\n",
    "students"
   ]
  },
  {
   "cell_type": "markdown",
   "metadata": {},
   "source": [
    "### Advanced: Problem 31\n",
    "\n",
    "<span style=\"color:green\">Iterate through each student and drop their lowest test grade. Replace it with 100.</span>"
   ]
  },
  {
   "cell_type": "code",
   "execution_count": 65,
   "metadata": {
    "collapsed": false
   },
   "outputs": [
    {
     "data": {
      "text/plain": [
       "{'Adeline': [65, 22, 100], 'Jane': [98, 77, 100], 'Sally': [87, 76, 100]}"
      ]
     },
     "execution_count": 65,
     "metadata": {},
     "output_type": "execute_result"
    }
   ],
   "source": [
    "# your code here\n",
    "students = {'Sally': [87, 76, 65], 'Jane' : [45, 98, 77], 'Adeline' : [65, 22, 10]}\n",
    "for student, scores in students.items():\n",
    "    students[student].remove(min(scores))\n",
    "    students[student].append(100)\n",
    "\n",
    "students"
   ]
  },
  {
   "cell_type": "markdown",
   "metadata": {},
   "source": [
    "# Congrats! You've reached the end\n",
    "This is just a small sampling of small sampling of what python is capable of doing. Only the most important aspects of the language have been covered but if you have internalized this material you will be able to do very well during the actual course."
   ]
  }
 ],
 "metadata": {
  "kernelspec": {
   "display_name": "Python 3",
   "language": "python",
   "name": "python3"
  },
  "language_info": {
   "codemirror_mode": {
    "name": "ipython",
    "version": 3
   },
   "file_extension": ".py",
   "mimetype": "text/x-python",
   "name": "python",
   "nbconvert_exporter": "python",
   "pygments_lexer": "ipython3",
   "version": "3.5.1"
  }
 },
 "nbformat": 4,
 "nbformat_minor": 0
}
