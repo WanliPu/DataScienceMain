{
 "cells": [
  {
   "cell_type": "markdown",
   "metadata": {},
   "source": [
    "# Bubble Sort"
   ]
  },
  {
   "cell_type": "code",
   "execution_count": 34,
   "metadata": {
    "collapsed": true
   },
   "outputs": [],
   "source": [
    "def bubbleSort(alist):\n",
    "    arrayLength = len(alist)\n",
    "    sortedLength = 0\n",
    "    while sortedLength < arrayLength:\n",
    "        isSorted = True\n",
    "        for i in range(1, arrayLength - sortedLength):\n",
    "            if alist[i-1] > alist[i]:\n",
    "                alist[i-1], alist[i] = alist[i], alist[i-1]\n",
    "                isSorted = False\n",
    "        sortedLength += 1\n",
    "        if isSorted:\n",
    "            return alist\n",
    "    return alist"
   ]
  },
  {
   "cell_type": "code",
   "execution_count": 35,
   "metadata": {},
   "outputs": [
    {
     "name": "stdout",
     "output_type": "stream",
     "text": [
      "[0, 1, 2, 3, 4, 5, 6, 7, 8, 9]\n",
      "[0, 1, 2, 3, 4, 5, 6, 7, 8, 9]\n"
     ]
    }
   ],
   "source": [
    "alist1 = [9, 8, 7, 6, 5, 4, 3, 2, 1, 0]\n",
    "alist2 = [0, 1, 2, 3, 4, 5, 6, 7, 8, 9]\n",
    "\n",
    "print (bubbleSort(alist1))\n",
    "print (bubbleSort(alist2))"
   ]
  },
  {
   "cell_type": "code",
   "execution_count": 50,
   "metadata": {
    "collapsed": true
   },
   "outputs": [],
   "source": [
    "def bubbleSort2(alist):\n",
    "    arrayLength = len(alist)\n",
    "    for i in range(arrayLength):\n",
    "        isSorted = True\n",
    "        for j in range(1, arrayLength - i):\n",
    "            if alist[j-1] < alist[j]:\n",
    "                alist[j-1], alist[j] = alist[j], alist[j-1]\n",
    "                isSorted = False\n",
    "        if isSorted:\n",
    "            return alist\n",
    "    return alist"
   ]
  },
  {
   "cell_type": "code",
   "execution_count": 51,
   "metadata": {},
   "outputs": [
    {
     "name": "stdout",
     "output_type": "stream",
     "text": [
      "[9, 8, 7, 6, 5, 4, 3, 2, 1, 0]\n",
      "[9, 8, 7, 6, 5, 4, 3, 2, 1, 0]\n"
     ]
    }
   ],
   "source": [
    "alist1 = [9, 8, 7, 6, 5, 4, 3, 2, 1, 0]\n",
    "alist2 = [0, 1, 2, 3, 4, 5, 6, 7, 8, 9]\n",
    "\n",
    "print (bubbleSort2(alist1))\n",
    "print (bubbleSort2(alist2))"
   ]
  },
  {
   "cell_type": "markdown",
   "metadata": {},
   "source": [
    "# Select Sort"
   ]
  },
  {
   "cell_type": "code",
   "execution_count": 55,
   "metadata": {
    "collapsed": true
   },
   "outputs": [],
   "source": [
    "def selectSort(alist):\n",
    "    arrayLength = len(alist)\n",
    "    for i in range(arrayLength):\n",
    "        maxLoc = 0\n",
    "        for j in range(1, arrayLength - i):\n",
    "            if alist[maxLoc] < alist[j]:\n",
    "                maxLoc = j\n",
    "        alist[maxLoc], alist[arrayLength - i -1] = alist[arrayLength - i - 1], alist[maxLoc]\n",
    "    return alist\n",
    "            "
   ]
  },
  {
   "cell_type": "code",
   "execution_count": 56,
   "metadata": {},
   "outputs": [
    {
     "name": "stdout",
     "output_type": "stream",
     "text": [
      "[0, 1, 2, 3, 4, 5, 6, 7, 8, 9]\n",
      "[0, 1, 2, 3, 4, 5, 6, 7, 8, 9]\n"
     ]
    }
   ],
   "source": [
    "alist1 = [9, 8, 7, 6, 5, 4, 3, 2, 1, 0]\n",
    "alist2 = [0, 1, 2, 3, 4, 5, 6, 7, 8, 9]\n",
    "\n",
    "print (selectSort(alist1))\n",
    "print (selectSort(alist2))"
   ]
  },
  {
   "cell_type": "markdown",
   "metadata": {},
   "source": [
    "# Insert Sort"
   ]
  },
  {
   "cell_type": "code",
   "execution_count": 57,
   "metadata": {
    "collapsed": true
   },
   "outputs": [],
   "source": [
    "def insertSort(alist):\n",
    "    arrayLength = len(alist)\n",
    "    for i in range(1, arrayLength):\n",
    "        for j in range(i):\n",
    "            if alist[i-j] < alist[i-j-1]:\n",
    "                alist[i-j], alist[i-j-1] = alist[i-j-1], alist[i-j]\n",
    "    return alist"
   ]
  },
  {
   "cell_type": "code",
   "execution_count": 58,
   "metadata": {},
   "outputs": [
    {
     "name": "stdout",
     "output_type": "stream",
     "text": [
      "[0, 1, 2, 3, 4, 5, 6, 7, 8, 9]\n",
      "[0, 1, 2, 3, 4, 5, 6, 7, 8, 9]\n"
     ]
    }
   ],
   "source": [
    "alist1 = [9, 8, 7, 6, 5, 4, 3, 2, 1, 0]\n",
    "alist2 = [0, 1, 2, 3, 4, 5, 6, 7, 8, 9]\n",
    "\n",
    "print (insertSort(alist1))\n",
    "print (insertSort(alist2))"
   ]
  },
  {
   "cell_type": "code",
   "execution_count": 59,
   "metadata": {
    "collapsed": true
   },
   "outputs": [],
   "source": [
    "def insertSort2(alist):\n",
    "    arrayLength = len(alist)\n",
    "    for i in range(1, arrayLength):\n",
    "        for j in range(i):\n",
    "            if alist[i] < alist[j]:\n",
    "                alist[i], alist[j] = alist[j], alist[i]\n",
    "    return alist"
   ]
  },
  {
   "cell_type": "code",
   "execution_count": 60,
   "metadata": {},
   "outputs": [
    {
     "name": "stdout",
     "output_type": "stream",
     "text": [
      "[0, 1, 2, 3, 4, 5, 6, 7, 8, 9]\n",
      "[0, 1, 2, 3, 4, 5, 6, 7, 8, 9]\n"
     ]
    }
   ],
   "source": [
    "alist1 = [9, 8, 7, 6, 5, 4, 3, 2, 1, 0]\n",
    "alist2 = [0, 1, 2, 3, 4, 5, 6, 7, 8, 9]\n",
    "\n",
    "print (insertSort2(alist1))\n",
    "print (insertSort2(alist2))"
   ]
  },
  {
   "cell_type": "markdown",
   "metadata": {},
   "source": [
    "# count sort"
   ]
  },
  {
   "cell_type": "code",
   "execution_count": 3,
   "metadata": {
    "collapsed": true
   },
   "outputs": [],
   "source": [
    "def countSort(alist):\n",
    "    minL = min(alist)\n",
    "    maxL = max(alist)\n",
    "    countTable = [0]*(maxL - minL + 1)\n",
    "    for num in alist:\n",
    "        countTable[num - minL] += 1\n",
    "    results = []\n",
    "    for i in range(len(countTable)):\n",
    "        for j in range(countTable[i]):\n",
    "            results.append(i+minL)\n",
    "    return results"
   ]
  },
  {
   "cell_type": "code",
   "execution_count": 4,
   "metadata": {},
   "outputs": [
    {
     "name": "stdout",
     "output_type": "stream",
     "text": [
      "[-1, 0, 0, 1, 2, 3, 4, 5, 6, 7, 7, 8, 8, 9, 9]\n",
      "[-1000, 0, 1, 2, 3, 4, 5, 5, 6, 7, 8, 9, 9, 100]\n"
     ]
    }
   ],
   "source": [
    "alist1 = [9, 8, 7, 6, 5, 4, 3, 2, 1, 0, 0, -1, 9, 8, 7]\n",
    "alist2 = [0, 1, 2, 3, 4, 5, 6, 7, 8, 9, 100, 5, -1000, 9]\n",
    "\n",
    "print (countSort(alist1))\n",
    "print (countSort(alist2))"
   ]
  },
  {
   "cell_type": "markdown",
   "metadata": {},
   "source": [
    "# quick sort"
   ]
  },
  {
   "cell_type": "code",
   "execution_count": 2,
   "metadata": {},
   "outputs": [
    {
     "name": "stdout",
     "output_type": "stream",
     "text": [
      "[1, 3, 4, 6, 9, 14, 20, 21, 21, 25]\n"
     ]
    }
   ],
   "source": [
    "\"\"\"Implement quick sort in Python.\n",
    "Input a list.\n",
    "Output a sorted list.\"\"\"\n",
    "def quicksort(array):\n",
    "    helper2(array, 0, len(array)-1)\n",
    "    return array\n",
    "\n",
    "# pick furthest to the right as the pivot number\n",
    "def helper1(array, start, end):\n",
    "    left = start\n",
    "    right = end-1\n",
    "    pivot = end\n",
    "    # print array, pivot\n",
    "    while left <= right: \n",
    "        # have to use equal rign for array[left] <= array[pivot], otherwise can't sort [21, 21]\n",
    "        while left <= right and array[left] <= array[pivot]:\n",
    "            left += 1\n",
    "        while left <= right and array[right] >= array[pivot]:\n",
    "            right -= 1\n",
    "            \n",
    "        if left > right:\n",
    "            array[left], array[pivot] = array[pivot], array[left]\n",
    "            # left is the partition point\n",
    "            helper1(array, start, left-1)\n",
    "            helper1(array, left+1, end)\n",
    "        else:\n",
    "            array[left], array[right] = array[right], array[left]\n",
    "            # left += 1\n",
    "            # right -= 1\n",
    "\n",
    "# pick furthest to the left as the pivot number\n",
    "def helper2(array, start, end):\n",
    "    left = start+1\n",
    "    right = end\n",
    "    pivot = start\n",
    "    # print array, pivot\n",
    "    while left <= right:\n",
    "        # have to keep the comparison order left <= right and array[right] > array[pivot], otherwiese will out of index\n",
    "        while left <= right and array[right] >= array[pivot]:\n",
    "            right -= 1\n",
    "        while left <= right and array[left] <= array[pivot]:\n",
    "            left += 1\n",
    "\n",
    "        if left > right:\n",
    "            array[right], array[pivot] = array[pivot], array[right]\n",
    "            # right is the partition point\n",
    "            helper2(array, start, right-1)\n",
    "            helper2(array, right+1, end)\n",
    "        else:\n",
    "            array[left], array[right] = array[right], array[left]\n",
    "            # left += 1\n",
    "            # right -= 1\n",
    "    \n",
    "test = [21, 4, 1, 3, 9, 20, 25, 6, 21, 14]\n",
    "# test = [25, 21, 21, 20]\n",
    "# test = [21, 21]\n",
    "# # test = [20, 21, 21]\n",
    "\n",
    "print (quicksort(test))"
   ]
  }
 ],
 "metadata": {
  "kernelspec": {
   "display_name": "Python 3",
   "language": "python",
   "name": "python3"
  },
  "language_info": {
   "codemirror_mode": {
    "name": "ipython",
    "version": 3
   },
   "file_extension": ".py",
   "mimetype": "text/x-python",
   "name": "python",
   "nbconvert_exporter": "python",
   "pygments_lexer": "ipython3",
   "version": "3.6.3"
  }
 },
 "nbformat": 4,
 "nbformat_minor": 2
}
