{
 "cells": [
  {
   "cell_type": "code",
   "execution_count": 1,
   "metadata": {
    "collapsed": true
   },
   "outputs": [],
   "source": [
    "def sequentialSearch(alist, item):\n",
    "    found = False\n",
    "    pos = 0\n",
    "    for ele in alist:\n",
    "        if ele == item:\n",
    "            return (True, pos)\n",
    "        pos += 1\n",
    "    return found"
   ]
  },
  {
   "cell_type": "code",
   "execution_count": 3,
   "metadata": {},
   "outputs": [
    {
     "name": "stdout",
     "output_type": "stream",
     "text": [
      "False\n",
      "(True, 7)\n"
     ]
    }
   ],
   "source": [
    "testlist = [1, 2, 32, 8, 17, 19, 42, 13, 0]\n",
    "print (sequentialSearch(testlist, 3))\n",
    "print (sequentialSearch(testlist, 13))"
   ]
  },
  {
   "cell_type": "code",
   "execution_count": 33,
   "metadata": {
    "collapsed": true
   },
   "outputs": [],
   "source": [
    "def binarySearchRecursive(alist, item):\n",
    "    if len(alist) == 0:\n",
    "        return False\n",
    "    middle = int(len(alist)/2)\n",
    "    if alist[middle] == item:\n",
    "        return True\n",
    "    elif item < alist[middle]:\n",
    "        return binarySearchRecursive(alist[:middle], item)\n",
    "    else:\n",
    "        return binarySearchRecursive(alist[middle+1:], item)\n",
    "    return found"
   ]
  },
  {
   "cell_type": "code",
   "execution_count": 34,
   "metadata": {},
   "outputs": [
    {
     "name": "stdout",
     "output_type": "stream",
     "text": [
      "False\n",
      "True\n",
      "False\n"
     ]
    }
   ],
   "source": [
    "testlist = [0, 1, 2, 8, 13, 17, 19, 32, 42]\n",
    "print(binarySearchRecursive(testlist, 3))\n",
    "print(binarySearchRecursive(testlist, 13))\n",
    "print(binarySearchRecursive(testlist, 113))"
   ]
  },
  {
   "cell_type": "code",
   "execution_count": 36,
   "metadata": {
    "collapsed": true
   },
   "outputs": [],
   "source": [
    "def binarySearch(alist, item):\n",
    "    first = 0\n",
    "    last = len(alist) - 1\n",
    "    found = False\n",
    "    while first <= last:\n",
    "        middle = int((first+last)/2)\n",
    "        if item == alist[middle]:\n",
    "            return True\n",
    "        elif item < alist[middle]:\n",
    "            last = middle-1\n",
    "        else:\n",
    "            first = middle+1\n",
    "    return found\n",
    "            "
   ]
  },
  {
   "cell_type": "code",
   "execution_count": 37,
   "metadata": {},
   "outputs": [
    {
     "name": "stdout",
     "output_type": "stream",
     "text": [
      "False\n",
      "True\n",
      "False\n"
     ]
    }
   ],
   "source": [
    "testlist = [0, 1, 2, 8, 13, 17, 19, 32, 42]\n",
    "print(binarySearch(testlist, 3))\n",
    "print(binarySearch(testlist, 13))\n",
    "print(binarySearch(testlist, 113))"
   ]
  }
 ],
 "metadata": {
  "kernelspec": {
   "display_name": "Python 3",
   "language": "python",
   "name": "python3"
  },
  "language_info": {
   "codemirror_mode": {
    "name": "ipython",
    "version": 3
   },
   "file_extension": ".py",
   "mimetype": "text/x-python",
   "name": "python",
   "nbconvert_exporter": "python",
   "pygments_lexer": "ipython3",
   "version": "3.6.3"
  }
 },
 "nbformat": 4,
 "nbformat_minor": 2
}
