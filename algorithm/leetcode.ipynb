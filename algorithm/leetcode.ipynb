{
 "cells": [
  {
   "cell_type": "markdown",
   "metadata": {},
   "source": [
    "# 28. Implement strStr()"
   ]
  },
  {
   "cell_type": "code",
   "execution_count": 13,
   "metadata": {},
   "outputs": [
    {
     "name": "stdout",
     "output_type": "stream",
     "text": [
      "0 0\n",
      "1 0\n",
      "2 0\n",
      "3 0\n",
      "4 0\n",
      "5 0\n",
      "he\n",
      "-1\n"
     ]
    }
   ],
   "source": [
    "class Solution:\n",
    "    def strStr(self, haystack, needle):\n",
    "        \"\"\"\n",
    "        :type haystack: str\n",
    "        :type needle: str\n",
    "        :rtype: int\n",
    "        \"\"\"\n",
    "        for i in range(len(haystack)+1):\n",
    "            for j in range(len(needle)+1):\n",
    "                print (i, j)\n",
    "                if j == len(needle):\n",
    "                    print ('ha')\n",
    "                    return i\n",
    "                if i + j == len(haystack):\n",
    "                    print ('he')\n",
    "                    return -1\n",
    "                if haystack[i+j] != needle[j]:\n",
    "                    break\n",
    "\n",
    "test = Solution()\n",
    "print (test.strStr('aaaaa', 'baa'))"
   ]
  },
  {
   "cell_type": "markdown",
   "metadata": {},
   "source": [
    "# 557. Reverse Words in a String III"
   ]
  },
  {
   "cell_type": "code",
   "execution_count": 5,
   "metadata": {
    "collapsed": true
   },
   "outputs": [],
   "source": [
    "def reverseWords(s):\n",
    "    \"\"\"\n",
    "    :type s: str\n",
    "    :rtype: str\n",
    "    \"\"\"\n",
    "    results = ''\n",
    "    spaceLoc = s.find(' ')\n",
    "    while spaceLoc != -1:\n",
    "        results += s[:spaceLoc][::-1] + ' '\n",
    "        s = s[spaceLoc+1:]\n",
    "        spaceLoc = s.find(' ')\n",
    "\n",
    "    results += s[::-1]\n",
    "    return results"
   ]
  },
  {
   "cell_type": "code",
   "execution_count": 9,
   "metadata": {
    "collapsed": true
   },
   "outputs": [],
   "source": [
    "def reverseWords2(s):\n",
    "    \"\"\"\n",
    "    :type s: str\n",
    "    :rtype: str\n",
    "    \"\"\"\n",
    "    words = s.split(' ')\n",
    "    results = ''\n",
    "    for i in range(len(words)):\n",
    "        results += words[i][::-1] + ' '\n",
    "    return results[:-1]\n",
    "    "
   ]
  },
  {
   "cell_type": "code",
   "execution_count": null,
   "metadata": {
    "collapsed": true
   },
   "outputs": [],
   "source": [
    "def reverseWords3(s):\n",
    "    \"\"\"\n",
    "    :type s: str\n",
    "    :rtype: str\n",
    "    \"\"\"\n",
    "    words = s.split(' ')\n",
    "    results = list(map(lambda x:x[::-1], words))\n",
    "    return ' '.join(results)\n",
    "    "
   ]
  },
  {
   "cell_type": "code",
   "execution_count": 6,
   "metadata": {},
   "outputs": [
    {
     "data": {
      "text/plain": [
       "'tset tset'"
      ]
     },
     "execution_count": 6,
     "metadata": {},
     "output_type": "execute_result"
    }
   ],
   "source": [
    "reverseWords('test test')"
   ]
  },
  {
   "cell_type": "code",
   "execution_count": 10,
   "metadata": {},
   "outputs": [
    {
     "data": {
      "text/plain": [
       "'tset tset'"
      ]
     },
     "execution_count": 10,
     "metadata": {},
     "output_type": "execute_result"
    }
   ],
   "source": [
    "reverseWords2('test test')"
   ]
  },
  {
   "cell_type": "code",
   "execution_count": 14,
   "metadata": {},
   "outputs": [
    {
     "data": {
      "text/plain": [
       "'sdrow tset'"
      ]
     },
     "execution_count": 14,
     "metadata": {},
     "output_type": "execute_result"
    }
   ],
   "source": [
    "' '.join(list(map(lambda x:x[::-1], ['words', 'test'])))"
   ]
  },
  {
   "cell_type": "code",
   "execution_count": 13,
   "metadata": {},
   "outputs": [
    {
     "data": {
      "text/plain": [
       "<map at 0x24f28b23978>"
      ]
     },
     "execution_count": 13,
     "metadata": {},
     "output_type": "execute_result"
    }
   ],
   "source": [
    "map(lambda x:x[::-1], ['words', 'test'])"
   ]
  },
  {
   "cell_type": "markdown",
   "metadata": {},
   "source": [
    "# 151. Reverse Words in a String"
   ]
  },
  {
   "cell_type": "code",
   "execution_count": 17,
   "metadata": {
    "collapsed": true
   },
   "outputs": [],
   "source": [
    "def reverseWords(s):\n",
    "    \"\"\"\n",
    "    :type s: str\n",
    "    :rtype: str\n",
    "    \"\"\"\n",
    "    return ' '.join(s.split(' ')[::-1])"
   ]
  },
  {
   "cell_type": "code",
   "execution_count": 18,
   "metadata": {},
   "outputs": [
    {
     "data": {
      "text/plain": [
       "'hello test'"
      ]
     },
     "execution_count": 18,
     "metadata": {},
     "output_type": "execute_result"
    }
   ],
   "source": [
    "reverseWords('test hello')"
   ]
  },
  {
   "cell_type": "code",
   "execution_count": 22,
   "metadata": {
    "collapsed": true
   },
   "outputs": [],
   "source": [
    "test = 'test   hello   '"
   ]
  },
  {
   "cell_type": "code",
   "execution_count": 23,
   "metadata": {},
   "outputs": [
    {
     "data": {
      "text/plain": [
       "['test', 'hello']"
      ]
     },
     "execution_count": 23,
     "metadata": {},
     "output_type": "execute_result"
    }
   ],
   "source": [
    "#test.split(' ')\n",
    "test.split()"
   ]
  },
  {
   "cell_type": "code",
   "execution_count": 2,
   "metadata": {},
   "outputs": [
    {
     "data": {
      "text/plain": [
       "str"
      ]
     },
     "execution_count": 2,
     "metadata": {},
     "output_type": "execute_result"
    }
   ],
   "source": [
    "type(bin(100))"
   ]
  },
  {
   "cell_type": "markdown",
   "metadata": {},
   "source": [
    "# 200. Island"
   ]
  },
  {
   "cell_type": "code",
   "execution_count": 74,
   "metadata": {},
   "outputs": [
    {
     "name": "stdout",
     "output_type": "stream",
     "text": [
      "aaa\n",
      "aaa\n",
      "aaa\n",
      "aaa\n",
      "4\n"
     ]
    }
   ],
   "source": [
    "class Solution:\n",
    "    def numIslands(self, grid):\n",
    "        \"\"\"\n",
    "        :type grid: List[List[str]]\n",
    "        :rtype: int\n",
    "        \"\"\"\n",
    "        if not grid:\n",
    "            return 0\n",
    "        \n",
    "        count = 0\n",
    "        rows = len(grid)\n",
    "        cols = len(grid[0])\n",
    "        \n",
    "        for i in range(rows):\n",
    "            for j in range(cols):\n",
    "                if grid[i][j] == '1':\n",
    "                    self.islands_helper(i, j, grid, rows, cols)\n",
    "                    count += 1\n",
    "        return count\n",
    "    \n",
    "    def islands_helper(self, i, j, grid, rows, cols):\n",
    "        if i<0 or j<0 or i>=rows or j>=cols or grid[i][j] != '1':\n",
    "            return\n",
    "        grid[i][j] = 'haha'\n",
    "        self.islands_helper(i-1, j, grid, rows, cols)\n",
    "        self.islands_helper(i+1, j, grid, rows, cols)\n",
    "        self.islands_helper(i, j-1, grid, rows, cols)\n",
    "        self.islands_helper(i, j+1, grid, rows, cols)\n",
    "        \n",
    "test = [['1', '1', '1', '1', '1'],\n",
    "        ['0', '0', '0', '0', '1'],\n",
    "        ['1', '0', '0', '0', '1'],\n",
    "        ['0', '0', '0', '0', '0'],\n",
    "        ['1', '1', '1', '0', '1']]\n",
    "problem = Solution()\n",
    "print (problem.numIslands(test))\n"
   ]
  },
  {
   "cell_type": "code",
   "execution_count": 76,
   "metadata": {},
   "outputs": [
    {
     "name": "stdout",
     "output_type": "stream",
     "text": [
      "4\n"
     ]
    }
   ],
   "source": [
    "def numIslands(grid):\n",
    "    \"\"\"\n",
    "    :type grid: List[List[str]]\n",
    "    :rtype: int\n",
    "    \"\"\"\n",
    "    if not grid:\n",
    "        return 0\n",
    "\n",
    "    count = 0\n",
    "    rows = len(grid)\n",
    "    cols = len(grid[0])\n",
    "\n",
    "    for i in range(rows):\n",
    "        for j in range(cols):\n",
    "            if grid[i][j] == '1':\n",
    "                islands_helper(i, j, grid, rows, cols)\n",
    "                count += 1\n",
    "    return count\n",
    "\n",
    "def islands_helper(i, j, grid, rows, cols):\n",
    "    if i<0 or j<0 or i>=rows or j>=cols or grid[i][j] != '1':\n",
    "        return\n",
    "    grid[i][j] = 'haha'\n",
    "    islands_helper(i-1, j, grid, rows, cols)\n",
    "    islands_helper(i+1, j, grid, rows, cols)\n",
    "    islands_helper(i, j-1, grid, rows, cols)\n",
    "    islands_helper(i, j+1, grid, rows, cols)\n",
    "        \n",
    "test = [['1', '1', '1', '1', '1'],\n",
    "        ['0', '0', '0', '0', '1'],\n",
    "        ['1', '0', '0', '0', '1'],\n",
    "        ['0', '0', '0', '0', '0'],\n",
    "        ['1', '1', '1', '0', '1']]\n",
    "print (numIslands(test))"
   ]
  },
  {
   "cell_type": "markdown",
   "metadata": {},
   "source": [
    "# GS # 9"
   ]
  },
  {
   "cell_type": "code",
   "execution_count": 64,
   "metadata": {},
   "outputs": [
    {
     "name": "stdout",
     "output_type": "stream",
     "text": [
      "abcedf2\n"
     ]
    }
   ],
   "source": [
    "def compressStr(aString):\n",
    "    if not aString:\n",
    "        return ''\n",
    "    pre = ''\n",
    "    results = ''\n",
    "    count = 1\n",
    "    for ith in range(len(aString)):\n",
    "        if ith > 0:\n",
    "            if pre == aString[ith]:\n",
    "                count += 1\n",
    "                lastcount = count\n",
    "            else:\n",
    "                if count == 1:\n",
    "                    results += pre\n",
    "                else:\n",
    "                    results += pre + str(count)\n",
    "#                 lastcount = count\n",
    "                count = 1\n",
    "        pre = aString[ith]\n",
    "    if not results:\n",
    "        return pre\n",
    "    elif pre == aString[-2]:\n",
    "        return results+pre + str(lastcount)\n",
    "    else:\n",
    "        return results + pre\n",
    "test = 'abcedff'\n",
    "print (compressStr(test))"
   ]
  },
  {
   "cell_type": "markdown",
   "metadata": {},
   "source": [
    "# GS # 8"
   ]
  },
  {
   "cell_type": "code",
   "execution_count": 9,
   "metadata": {
    "collapsed": true
   },
   "outputs": [],
   "source": [
    "def twoSum(alist, total):\n",
    "    aDict = {}\n",
    "    for i in range(len(alist)):\n",
    "        if total - alist[i] in aDict:\n",
    "            return (i, aDict[total - alist[i]])\n",
    "        else:\n",
    "            aDict[alist[i]] = i\n",
    "    return None"
   ]
  },
  {
   "cell_type": "code",
   "execution_count": 10,
   "metadata": {},
   "outputs": [
    {
     "name": "stdout",
     "output_type": "stream",
     "text": [
      "(2, 1)\n"
     ]
    }
   ],
   "source": [
    "test = [1, 2, 6, 9, 123]\n",
    "print (twoSum(test, 8))"
   ]
  },
  {
   "cell_type": "code",
   "execution_count": 18,
   "metadata": {},
   "outputs": [
    {
     "name": "stdout",
     "output_type": "stream",
     "text": [
      "{1: 3, 2: 3, 3: 3}\n"
     ]
    },
    {
     "data": {
      "text/plain": [
       "12"
      ]
     },
     "execution_count": 18,
     "metadata": {},
     "output_type": "execute_result"
    }
   ],
   "source": [
    "def twoSumCount(alist, total):\n",
    "    aDict = {}\n",
    "    for num in alist:\n",
    "        if num not in aDict:\n",
    "            aDict[num] = 1\n",
    "        else:\n",
    "            aDict[num] += 1\n",
    "    print (aDict)\n",
    "    count = 0\n",
    "    for num in alist:\n",
    "        if total - num in aDict:\n",
    "            if num == total - num:\n",
    "                count += aDict[total-num] -1\n",
    "            else:\n",
    "                count += aDict[total-num]\n",
    "    return count//2\n",
    "    \n",
    "    \n",
    "    \n",
    "test = [1, 1, 1, 2, 2, 2, 3, 3, 3]\n",
    "twoSumCount(test, 4)"
   ]
  },
  {
   "cell_type": "markdown",
   "metadata": {},
   "source": [
    "# GS # 7"
   ]
  },
  {
   "cell_type": "code",
   "execution_count": 21,
   "metadata": {},
   "outputs": [
    {
     "name": "stdout",
     "output_type": "stream",
     "text": [
      "32\n"
     ]
    }
   ],
   "source": [
    "def dotProduct(alist, blist):\n",
    "    if len(alist) != len(blist):\n",
    "        return False\n",
    "    product = 0\n",
    "    for i in range(len(alist)):\n",
    "        product += alist[i]*blist[i]\n",
    "    return product\n",
    "testa = [1, 2, 3]\n",
    "testb = [4, 5, 6]\n",
    "print (dotProduct(testa, testb))"
   ]
  },
  {
   "cell_type": "markdown",
   "metadata": {},
   "source": [
    "# GS # 6"
   ]
  },
  {
   "cell_type": "code",
   "execution_count": 25,
   "metadata": {},
   "outputs": [
    {
     "name": "stdout",
     "output_type": "stream",
     "text": [
      "True\n"
     ]
    }
   ],
   "source": [
    "def isAnagram(stra, strb):\n",
    "    return stra == strb[::-1]\n",
    "\n",
    "testa = 'hello'\n",
    "testb = 'olleh'\n",
    "print (isAnagram(testa, testb))"
   ]
  },
  {
   "cell_type": "markdown",
   "metadata": {},
   "source": [
    "# GS # 5 # Find the first Unique Char"
   ]
  },
  {
   "cell_type": "code",
   "execution_count": 67,
   "metadata": {},
   "outputs": [
    {
     "name": "stdout",
     "output_type": "stream",
     "text": [
      "9\n"
     ]
    }
   ],
   "source": [
    "class Solution:\n",
    "    def firstUniqChar(self, s):\n",
    "        \"\"\"\n",
    "        :type s: str\n",
    "        :rtype: int\n",
    "        \"\"\"\n",
    "        aDict = {}\n",
    "        \n",
    "        for ith in range(len(s)):\n",
    "            if s[ith] not in aDict:\n",
    "                aDict[s[ith]] = ith\n",
    "            else:\n",
    "                aDict[s[ith]] = -1\n",
    "        results = [idx for key, idx in aDict.items() if idx > -1]\n",
    "        # results = []\n",
    "        # for key, idx in aDict.items():\n",
    "        #     if idx >-1:\n",
    "        #         results.append(idx)\n",
    "        return -1 if len(results)==0 else min(results)\n",
    "if __name__ == '__main__':\n",
    "    test = 'abbccddffgat'\n",
    "    testSol = Solution()\n",
    "    print (testSol.firstUniqChar(test))"
   ]
  },
  {
   "cell_type": "markdown",
   "metadata": {},
   "source": [
    "# GS # 4"
   ]
  },
  {
   "cell_type": "code",
   "execution_count": 79,
   "metadata": {},
   "outputs": [
    {
     "name": "stdout",
     "output_type": "stream",
     "text": [
      "1\n"
     ]
    }
   ],
   "source": [
    "def findSecMin(alist):\n",
    "    if len(alist)<2:\n",
    "        return False\n",
    "    \n",
    "    firstMin = min(alist)\n",
    "    \n",
    "    while firstMin in alist:\n",
    "        alist.remove(firstMin)\n",
    "        \n",
    "    if not alist:\n",
    "        return False\n",
    "    \n",
    "    return min(alist)\n",
    "test = [0, 1, 0, 2, 3, 3]\n",
    "print (findSecMin(test))"
   ]
  },
  {
   "cell_type": "code",
   "execution_count": 70,
   "metadata": {},
   "outputs": [
    {
     "name": "stdout",
     "output_type": "stream",
     "text": [
      "2\n"
     ]
    }
   ],
   "source": [
    "def findThirdMin(alist):\n",
    "    if len(alist)<3:\n",
    "        return False\n",
    "    firstMin = min(alist)\n",
    "    while firstMin in alist:\n",
    "        alist.remove(firstMin)\n",
    "    if len(alist)<2:\n",
    "        return False\n",
    "    secondMin = min(alist)\n",
    "    while secondMin in alist:\n",
    "        alist.remove(secondMin)\n",
    "    if len(alist)<1:\n",
    "        return False\n",
    "    return min(alist)\n",
    "test = [0, 2, 4, 1, 0, 5]\n",
    "print (findThirdMin(test))"
   ]
  },
  {
   "cell_type": "markdown",
   "metadata": {},
   "source": [
    "# GS # 3"
   ]
  },
  {
   "cell_type": "code",
   "execution_count": 42,
   "metadata": {},
   "outputs": [
    {
     "name": "stdout",
     "output_type": "stream",
     "text": [
      "274\n"
     ]
    }
   ],
   "source": [
    "def climbStairs(n):\n",
    "    counts = [0 for i in range(n+1)]\n",
    "    counts[0] = 1\n",
    "    counts[1] = 1\n",
    "    for i in range(2, n+1):\n",
    "        if i == 2:\n",
    "            counts[i] = counts[i-1] + counts[i-2]\n",
    "        else:\n",
    "            counts[i] = counts[i-1] + counts[i-2] + counts[i-3]\n",
    "    return counts[n]\n",
    "\n",
    "print (climbStairs(10))"
   ]
  },
  {
   "cell_type": "markdown",
   "metadata": {},
   "source": [
    "# GS # 2"
   ]
  },
  {
   "cell_type": "code",
   "execution_count": 49,
   "metadata": {},
   "outputs": [
    {
     "name": "stdout",
     "output_type": "stream",
     "text": [
      "88\n"
     ]
    }
   ],
   "source": [
    "import math\n",
    "def scores(alist):\n",
    "    aDict = {}\n",
    "    for item in alist:\n",
    "        if item[0] not in aDict:\n",
    "            aDict[item[0]] = [float(item[1])]\n",
    "        else:\n",
    "            aDict[item[0]].append(float(item[1]))\n",
    "    scorelist = []\n",
    "    for name, scores in aDict.items():\n",
    "        scorelist.append(math.floor(sum(scores)/len(scores)))\n",
    "    return sorted(scorelist)[-1]\n",
    "                         \n",
    "test = [['bob', '88'], ['ted', '100'], ['ted', '20']]\n",
    "print (scores(test))"
   ]
  },
  {
   "cell_type": "markdown",
   "metadata": {},
   "source": [
    "# GS # 1"
   ]
  },
  {
   "cell_type": "code",
   "execution_count": 30,
   "metadata": {},
   "outputs": [
    {
     "name": "stdout",
     "output_type": "stream",
     "text": [
      "['abc', 'bcd', 'cdh', 'dhh', 'efg', 'hef', 'hhe', 'hhh']\n"
     ]
    }
   ],
   "source": [
    "def uniqueSubStr(aString, k):\n",
    "    aDict = {}\n",
    "    results = []\n",
    "    for i in range(len(aString)-k+1):\n",
    "        if aString[i:i+k] not in aDict:\n",
    "            aDict[aString[i:i+k]] = 1\n",
    "            results.append(aString[i:i+k])\n",
    "    return sorted(results)\n",
    "\n",
    "test = 'abcdhhhefg'\n",
    "print (uniqueSubStr(test, 3))"
   ]
  },
  {
   "cell_type": "markdown",
   "metadata": {},
   "source": [
    "# GS # 0"
   ]
  },
  {
   "cell_type": "code",
   "execution_count": 82,
   "metadata": {},
   "outputs": [
    {
     "name": "stdout",
     "output_type": "stream",
     "text": [
      "9.0\n",
      "4.5\n",
      "6.0\n"
     ]
    }
   ],
   "source": [
    "def shortestDist(astr, word1, word2):\n",
    "    distance = float('inf')\n",
    "    idx1 = None\n",
    "    idx2 = None\n",
    "    for idx in range(len(astr)):\n",
    "        if idx+len(word1) <= len(astr) and astr[idx:idx+len(word1)] == word1:\n",
    "            idx1 = idx + float(len(word1)-1)/2\n",
    "        if idx+len(word2) <= len(astr) and astr[idx:idx+len(word2)] == word2:\n",
    "            idx2 = idx + float(len(word2)-1)/2\n",
    "        if idx1 and idx2:\n",
    "            distance = min(distance, abs(idx1 - idx2))\n",
    "    return distance\n",
    "\n",
    "test = 'wo ji bu de na duan hua le'\n",
    "print (shortestDist(test, 'wo', 'de'))\n",
    "print (shortestDist(test, 'duan', 'hua'))\n",
    "print (shortestDist(test, 'bu', 'wo'))"
   ]
  }
 ],
 "metadata": {
  "kernelspec": {
   "display_name": "Python 3",
   "language": "python",
   "name": "python3"
  },
  "language_info": {
   "codemirror_mode": {
    "name": "ipython",
    "version": 3
   },
   "file_extension": ".py",
   "mimetype": "text/x-python",
   "name": "python",
   "nbconvert_exporter": "python",
   "pygments_lexer": "ipython3",
   "version": "3.6.3"
  }
 },
 "nbformat": 4,
 "nbformat_minor": 2
}
