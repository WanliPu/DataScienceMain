{
 "cells": [
  {
   "cell_type": "markdown",
   "metadata": {},
   "source": [
    "# Welcome to ....\n",
    "![](https://dataaspirant.files.wordpress.com/2014/10/pandas.png)\n",
    "\n",
    "### What is pandas?\n",
    "pandas is possibly the best open source data exploration library available currently available. It gives the user tremendous power to easily explore, manipulate, query, aggregate, visualize, `<insert cool sounding data word>`, etc... tabular (row, column) data.\n",
    "\n",
    "### Why pandas and not xyz?\n",
    "It's 2016, and by now there are many dozens of other competitors that can essentially do many, if not more, than what the pandas library can do. However, there are many aspects of pandas that set it apart and continue to make it have one the fastest growing user bases.\n",
    "1. It's a Python library, which makes it easy to read, easy to develop, and easily integrates with other popular Python libraries like matplotlib, numpy, and scikit-learn.\n",
    "2. Like python its easy to use and quick to get up and running\n",
    "3. It is nearly self-contained in that tremendous functionality is built in one package. This contrasts with R, where many packages are needed to obtain the functionality.\n",
    "4. The community is amazing. Looking at stackoverflow for example there are [nearly 23,000](http://stackoverflow.com/questions/tagged/pandas) pandas questions. SAS, a multibillion dollar revenue analytics software maker has only 6k questions. This is one huge benefit of open source in general. If you need help, you are nearly guaranteed to find it very quickly. After a while most of your questions will be answered in the top 3 search results from google.\n",
    "5. Lightning fast development. New features are added all the time thanks to the huge community. This contrasts with propriety softwarer which can never move as fast.\n",
    "6. powerful, simple, amazing community!!!\n",
    "\n",
    "### Why is it named after an east Asian bear?\n",
    "pandas was built by a young kid named Wes McKinney beginning in 2008 at a hedge fund named AQR. Finance speak is to call tabular data 'panel data' which smashed together becomes pandas. If you are really interested in the history, you can hear it from the creator [himself](https://www.youtube.com/watch?v=kHdkFyGCxiY)\n",
    "\n",
    "### Python already has data structures to handle data, why do we need another one?\n",
    "Even though python itself is a high level language, its primary built-in data structures - lists and dicts - do not easily lend themself to tabular data in ways that humans can easily visualize them and do vectorized (no for loops) operations. Just summing up items in a list can be quite slow. Check this example below."
   ]
  },
  {
   "cell_type": "code",
   "execution_count": 20,
   "metadata": {
    "collapsed": true
   },
   "outputs": [],
   "source": [
    "# import numpy and alias it to np as is convention\n",
    "import numpy as np"
   ]
  },
  {
   "cell_type": "code",
   "execution_count": 21,
   "metadata": {
    "collapsed": true
   },
   "outputs": [],
   "source": [
    "# 1 million numbers\n",
    "n = 1000000\n",
    "my_list = list(range(n))"
   ]
  },
  {
   "cell_type": "markdown",
   "metadata": {},
   "source": [
    "%%timeit is a cell magic command"
   ]
  },
  {
   "cell_type": "code",
   "execution_count": 22,
   "metadata": {
    "collapsed": false
   },
   "outputs": [
    {
     "name": "stdout",
     "output_type": "stream",
     "text": [
      "100 loops, best of 3: 11.5 ms per loop\n"
     ]
    }
   ],
   "source": [
    "%%timeit\n",
    "sum1 = sum(my_list)"
   ]
  },
  {
   "cell_type": "code",
   "execution_count": 23,
   "metadata": {
    "collapsed": true
   },
   "outputs": [],
   "source": [
    "array = np.arange(n)"
   ]
  },
  {
   "cell_type": "code",
   "execution_count": 24,
   "metadata": {
    "collapsed": false
   },
   "outputs": [
    {
     "name": "stdout",
     "output_type": "stream",
     "text": [
      "1000 loops, best of 3: 775 µs per loop\n"
     ]
    }
   ],
   "source": [
    "%%timeit \n",
    "sum2 = np.sum(array)"
   ]
  },
  {
   "cell_type": "markdown",
   "metadata": {},
   "source": [
    "### What just happened?\n",
    "ipython notebooks come with handy dandy magic commands that give you some great extra functionality. The one I use the most is timeit which times the length of the operation. Precede it by % for a single line magic and %% for entire cell magic. Using the builtin sum with list took approximately 20 times longer than using numpy and this was just a simple sum of a list of numbers. This difference will increases with complexity of the operation performed on the data.\n",
    "\n",
    "### Why is numpy so fast?\n",
    "First off, numpy is one of the most popular (and one of the older) numerical computing packages for python. It provides an n-dimensional (ndarray) data structure that can be of any size with the ability to apply a large suite of mathematical functions on it. numpy ndarrays are homogenous (all elements have the same type) and its operations are executed in pre-compiled C code which makes for much faster execution times. A python list in contrast must be iterated through at run-time, can take any number of different types and so is not well suited to do large numerical computations. "
   ]
  },
  {
   "cell_type": "markdown",
   "metadata": {},
   "source": [
    "### Why not numpy?\n",
    "Though numpy is fast and can handle most of our data needs, it still is relatively low-level.  For example, the ndarray is just a brick of numbers.  pandas adds a simple layer on top of numpy and leverages the speed of numpy.  The main building block in pandas, the ndframe is built directly upon numpy's building block (the ndarray).  But pandas allows much easier access to rows and columns, powerful statistical functionality, enhanced merging and grouping, `<insert many data exploration techniques>`. We will not delve into the specifics of numpy, but remembering that pandas building blocks consists of numpy building blocks as its base is useful. More info on numpy can be found [in the docs](http://docs.scipy.org/doc/numpy-1.10.1/index.html). We actually will be using some numpy functionality but it should be self explanatory when it comes up."
   ]
  },
  {
   "cell_type": "code",
   "execution_count": 25,
   "metadata": {
    "collapsed": false
   },
   "outputs": [
    {
     "data": {
      "application/json": {
       "cell": {
        "!": "OSMagics",
        "HTML": "Other",
        "SVG": "Other",
        "bash": "Other",
        "capture": "ExecutionMagics",
        "debug": "ExecutionMagics",
        "file": "Other",
        "html": "DisplayMagics",
        "javascript": "DisplayMagics",
        "latex": "DisplayMagics",
        "perl": "Other",
        "prun": "ExecutionMagics",
        "pypy": "Other",
        "python": "Other",
        "python2": "Other",
        "python3": "Other",
        "ruby": "Other",
        "script": "ScriptMagics",
        "sh": "Other",
        "svg": "DisplayMagics",
        "sx": "OSMagics",
        "system": "OSMagics",
        "time": "ExecutionMagics",
        "timeit": "ExecutionMagics",
        "writefile": "OSMagics"
       },
       "line": {
        "alias": "OSMagics",
        "alias_magic": "BasicMagics",
        "autocall": "AutoMagics",
        "automagic": "AutoMagics",
        "autosave": "KernelMagics",
        "bookmark": "OSMagics",
        "cat": "Other",
        "cd": "OSMagics",
        "clear": "KernelMagics",
        "colors": "BasicMagics",
        "config": "ConfigMagics",
        "connect_info": "KernelMagics",
        "cp": "Other",
        "debug": "ExecutionMagics",
        "dhist": "OSMagics",
        "dirs": "OSMagics",
        "doctest_mode": "BasicMagics",
        "ed": "Other",
        "edit": "KernelMagics",
        "env": "OSMagics",
        "gui": "BasicMagics",
        "hist": "Other",
        "history": "HistoryMagics",
        "install_default_config": "DeprecatedMagics",
        "install_ext": "ExtensionMagics",
        "install_profiles": "DeprecatedMagics",
        "killbgscripts": "ScriptMagics",
        "ldir": "Other",
        "less": "KernelMagics",
        "lf": "Other",
        "lk": "Other",
        "ll": "Other",
        "load": "CodeMagics",
        "load_ext": "ExtensionMagics",
        "loadpy": "CodeMagics",
        "logoff": "LoggingMagics",
        "logon": "LoggingMagics",
        "logstart": "LoggingMagics",
        "logstate": "LoggingMagics",
        "logstop": "LoggingMagics",
        "ls": "Other",
        "lsmagic": "BasicMagics",
        "lx": "Other",
        "macro": "ExecutionMagics",
        "magic": "BasicMagics",
        "man": "KernelMagics",
        "matplotlib": "PylabMagics",
        "mkdir": "Other",
        "more": "KernelMagics",
        "mv": "Other",
        "notebook": "BasicMagics",
        "page": "BasicMagics",
        "pastebin": "CodeMagics",
        "pdb": "ExecutionMagics",
        "pdef": "NamespaceMagics",
        "pdoc": "NamespaceMagics",
        "pfile": "NamespaceMagics",
        "pinfo": "NamespaceMagics",
        "pinfo2": "NamespaceMagics",
        "popd": "OSMagics",
        "pprint": "BasicMagics",
        "precision": "BasicMagics",
        "profile": "BasicMagics",
        "prun": "ExecutionMagics",
        "psearch": "NamespaceMagics",
        "psource": "NamespaceMagics",
        "pushd": "OSMagics",
        "pwd": "OSMagics",
        "pycat": "OSMagics",
        "pylab": "PylabMagics",
        "qtconsole": "KernelMagics",
        "quickref": "BasicMagics",
        "recall": "HistoryMagics",
        "rehashx": "OSMagics",
        "reload_ext": "ExtensionMagics",
        "rep": "Other",
        "rerun": "HistoryMagics",
        "reset": "NamespaceMagics",
        "reset_selective": "NamespaceMagics",
        "rm": "Other",
        "rmdir": "Other",
        "run": "ExecutionMagics",
        "save": "CodeMagics",
        "sc": "OSMagics",
        "set_env": "OSMagics",
        "store": "StoreMagics",
        "sx": "OSMagics",
        "system": "OSMagics",
        "tb": "ExecutionMagics",
        "time": "ExecutionMagics",
        "timeit": "ExecutionMagics",
        "unalias": "OSMagics",
        "unload_ext": "ExtensionMagics",
        "who": "NamespaceMagics",
        "who_ls": "NamespaceMagics",
        "whos": "NamespaceMagics",
        "xdel": "NamespaceMagics",
        "xmode": "BasicMagics"
       }
      },
      "text/plain": [
       "Available line magics:\n",
       "%alias  %alias_magic  %autocall  %automagic  %autosave  %bookmark  %cat  %cd  %clear  %colors  %config  %connect_info  %cp  %debug  %dhist  %dirs  %doctest_mode  %ed  %edit  %env  %gui  %hist  %history  %install_default_config  %install_ext  %install_profiles  %killbgscripts  %ldir  %less  %lf  %lk  %ll  %load  %load_ext  %loadpy  %logoff  %logon  %logstart  %logstate  %logstop  %ls  %lsmagic  %lx  %macro  %magic  %man  %matplotlib  %mkdir  %more  %mv  %notebook  %page  %pastebin  %pdb  %pdef  %pdoc  %pfile  %pinfo  %pinfo2  %popd  %pprint  %precision  %profile  %prun  %psearch  %psource  %pushd  %pwd  %pycat  %pylab  %qtconsole  %quickref  %recall  %rehashx  %reload_ext  %rep  %rerun  %reset  %reset_selective  %rm  %rmdir  %run  %save  %sc  %set_env  %store  %sx  %system  %tb  %time  %timeit  %unalias  %unload_ext  %who  %who_ls  %whos  %xdel  %xmode\n",
       "\n",
       "Available cell magics:\n",
       "%%!  %%HTML  %%SVG  %%bash  %%capture  %%debug  %%file  %%html  %%javascript  %%latex  %%perl  %%prun  %%pypy  %%python  %%python2  %%python3  %%ruby  %%script  %%sh  %%svg  %%sx  %%system  %%time  %%timeit  %%writefile\n",
       "\n",
       "Automagic is ON, % prefix IS NOT needed for line magics."
      ]
     },
     "execution_count": 25,
     "metadata": {},
     "output_type": "execute_result"
    }
   ],
   "source": [
    "# Want to view all the magical abilites?\n",
    "# view all the magic commands\n",
    "%lsmagic"
   ]
  },
  {
   "cell_type": "markdown",
   "metadata": {},
   "source": [
    "### Pandas is simple: There's really only one type of data structure\n",
    "Data representation is simple. It's just plopped in what most people would call a table. Rows, columns, thats it. \n",
    "\n",
    "![Boring Table](http://www.homeandlearn.co.uk/powerpoint/images/charts/8Table9.gif) \n",
    "\n",
    "You've seen this every day of your life. So no more explaning. \n",
    "\n",
    "Well, not exactly.  There are numerous formats for data (XML, json, raw bytes, etc...), but for our purposes today we will only be examining what everyone thinks of when the they think of data - a table.\n",
    "\n",
    "pandas is built just for analyzing this tabular, rectangular, very deceptively normal concept of data. There are two primary objects that account for everything we will be covering today. \n",
    "\n",
    "**The Series and the DataFrame.**\n",
    "\n",
    "A DataFrame is simply a sequence of Series and a Series is just a one column table with an index identifying the row.  The column is simply a numpy ndarray and it is this index that separates a pandas Series from a numpy ndarray. As we will come to see over and over again, this index is VERY important."
   ]
  },
  {
   "cell_type": "markdown",
   "metadata": {},
   "source": [
    "## Series: A manual build\n",
    "We will start our first lines of pandas by building a Series, a single dimensional array with an index."
   ]
  },
  {
   "cell_type": "code",
   "execution_count": 26,
   "metadata": {
    "collapsed": true
   },
   "outputs": [],
   "source": [
    "# import pandas and alias it to pd as is convention\n",
    "import pandas as pd"
   ]
  },
  {
   "cell_type": "code",
   "execution_count": 27,
   "metadata": {
    "collapsed": false
   },
   "outputs": [
    {
     "data": {
      "text/plain": [
       "0     1\n",
       "1     3\n",
       "2     3\n",
       "3    77\n",
       "dtype: int64"
      ]
     },
     "execution_count": 27,
     "metadata": {},
     "output_type": "execute_result"
    }
   ],
   "source": [
    "# to construct a Series, simply pass it a python list\n",
    "s = pd.Series([1,3,3,77])\n",
    "s"
   ]
  },
  {
   "cell_type": "markdown",
   "metadata": {},
   "source": [
    "### What are these things that just got printed on my screen?\n",
    "A 4 item series was created and stored to the variable s. But, several more things were printed to the screen as well. To the left of the created series is the index beginning at 0. This is the default index when none is given during the construction of the Series object. Also printed out is the data type (dtype) of the series `int64` which stands for a 64 bit integer"
   ]
  },
  {
   "cell_type": "code",
   "execution_count": 28,
   "metadata": {
    "collapsed": false
   },
   "outputs": [
    {
     "name": "stdout",
     "output_type": "stream",
     "text": [
      "['T', 'abs', 'add', 'add_prefix', 'add_suffix', 'align', 'all', 'any', 'append', 'apply', 'argmax', 'argmin', 'argsort', 'as_blocks', 'as_matrix', 'asfreq', 'asof', 'astype', 'at', 'at_time', 'autocorr', 'axes', 'base', 'between', 'between_time', 'bfill', 'blocks', 'bool', 'clip', 'clip_lower', 'clip_upper', 'combine', 'combine_first', 'compound', 'compress', 'consolidate', 'convert_objects', 'copy', 'corr', 'count', 'cov', 'cummax', 'cummin', 'cumprod', 'cumsum', 'data', 'describe', 'diff', 'div', 'divide', 'dot', 'drop', 'drop_duplicates', 'dropna', 'dtype', 'dtypes', 'duplicated', 'empty', 'eq', 'equals', 'ewm', 'expanding', 'factorize', 'ffill', 'fillna', 'filter', 'first', 'first_valid_index', 'flags', 'floordiv', 'from_array', 'from_csv', 'ftype', 'ftypes', 'ge', 'get', 'get_dtype_counts', 'get_ftype_counts', 'get_value', 'get_values', 'groupby', 'gt', 'hasnans', 'head', 'hist', 'iat', 'idxmax', 'idxmin', 'iget', 'iget_value', 'iloc', 'imag', 'index', 'interpolate', 'irow', 'is_copy', 'is_time_series', 'is_unique', 'isin', 'isnull', 'item', 'items', 'itemsize', 'iteritems', 'iterkv', 'ix', 'keys', 'kurt', 'kurtosis', 'last', 'last_valid_index', 'le', 'loc', 'lt', 'mad', 'map', 'mask', 'max', 'mean', 'median', 'memory_usage', 'min', 'mod', 'mode', 'mul', 'multiply', 'nbytes', 'ndim', 'ne', 'nlargest', 'nonzero', 'notnull', 'nsmallest', 'nunique', 'order', 'pct_change', 'pipe', 'plot', 'pop', 'pow', 'prod', 'product', 'ptp', 'put', 'quantile', 'radd', 'rank', 'ravel', 'rdiv', 'real', 'reindex', 'reindex_axis', 'reindex_like', 'rename', 'rename_axis', 'reorder_levels', 'repeat', 'replace', 'resample', 'reset_index', 'reshape', 'rfloordiv', 'rmod', 'rmul', 'rolling', 'round', 'rpow', 'rsub', 'rtruediv', 'sample', 'searchsorted', 'select', 'sem', 'set_axis', 'set_value', 'shape', 'shift', 'size', 'skew', 'slice_shift', 'sort', 'sort_index', 'sort_values', 'sortlevel', 'squeeze', 'std', 'strides', 'sub', 'subtract', 'sum', 'swapaxes', 'swaplevel', 'tail', 'take', 'to_clipboard', 'to_csv', 'to_dense', 'to_dict', 'to_frame', 'to_hdf', 'to_json', 'to_msgpack', 'to_period', 'to_pickle', 'to_sparse', 'to_sql', 'to_string', 'to_timestamp', 'to_xarray', 'tolist', 'transpose', 'truediv', 'truncate', 'tshift', 'tz_convert', 'tz_localize', 'unique', 'unstack', 'update', 'valid', 'value_counts', 'values', 'var', 'view', 'where', 'xs']\n"
     ]
    }
   ],
   "source": [
    "# As was done in the precourse, lets print out all the methods/attributes that are associated with this series object\n",
    "print([method for method in dir(s) if method[0] != '_'])"
   ]
  },
  {
   "cell_type": "markdown",
   "metadata": {},
   "source": [
    "### Help?\n",
    "Those are an unbelievalbe amount of methods. Its not likely that you will have them handily remembered to use at any time in the future so be prepared to get help when using pandas, especially in the beginning. Luckily for us help is quite easy to get. Pandas has excellent [documentation](http://pandas.pydata.org/pandas-docs/stable/index.html) with plenty of examples that you should go through completely if you want to know just about every single feature the library has to offer. That link is always to the newest (stable) pandas version.\n",
    "\n",
    "To get help inside the notebook use the help funciton to have the help printed to the screen or put a '?' at the end of the method to bring up a separate help window on the bottom or if you want to see even more put '??' at the end to view the source code. To view the source code of the value_counts method at its source navigate to /path/to/anaconda/lib/python3.5/site-packages/pandas/core/base.py\n",
    "\n",
    "And one more excellent way to get help and my personal favorite - is to press shift + tab + tab once inside the parentheses of a method"
   ]
  },
  {
   "cell_type": "code",
   "execution_count": 29,
   "metadata": {
    "collapsed": false
   },
   "outputs": [],
   "source": [
    "s.value_counts??"
   ]
  },
  {
   "cell_type": "code",
   "execution_count": 30,
   "metadata": {
    "collapsed": false
   },
   "outputs": [
    {
     "data": {
      "text/plain": [
       "3     2\n",
       "77    1\n",
       "1     1\n",
       "dtype: int64"
      ]
     },
     "execution_count": 30,
     "metadata": {},
     "output_type": "execute_result"
    }
   ],
   "source": [
    "s.value_counts()"
   ]
  },
  {
   "cell_type": "code",
   "execution_count": 31,
   "metadata": {
    "collapsed": false
   },
   "outputs": [
    {
     "data": {
      "text/plain": [
       "array([ 1,  3,  3, 77])"
      ]
     },
     "execution_count": 31,
     "metadata": {},
     "output_type": "execute_result"
    }
   ],
   "source": [
    "# return just the values to a 1 dimensional numpy array\n",
    "s.values"
   ]
  },
  {
   "cell_type": "code",
   "execution_count": 32,
   "metadata": {
    "collapsed": false
   },
   "outputs": [
    {
     "data": {
      "text/plain": [
       "0     6\n",
       "1     8\n",
       "2     8\n",
       "3    82\n",
       "dtype: int64"
      ]
     },
     "execution_count": 32,
     "metadata": {},
     "output_type": "execute_result"
    }
   ],
   "source": [
    "# do a simple operation to all elements\n",
    "s + 5"
   ]
  },
  {
   "cell_type": "markdown",
   "metadata": {},
   "source": [
    "### Perform simple vectorized operations\n",
    "If you have only worked with python lists and dictionaries for holding data in python then the last statement should amaze you. Although its obvious what has happend this simple functionality does not come out of the box with a python list."
   ]
  },
  {
   "cell_type": "code",
   "execution_count": 33,
   "metadata": {
    "collapsed": false
   },
   "outputs": [
    {
     "ename": "TypeError",
     "evalue": "can only concatenate list (not \"int\") to list",
     "output_type": "error",
     "traceback": [
      "\u001b[0;31m---------------------------------------------------------------------------\u001b[0m",
      "\u001b[0;31mTypeError\u001b[0m                                 Traceback (most recent call last)",
      "\u001b[0;32m<ipython-input-33-21385fd030ff>\u001b[0m in \u001b[0;36m<module>\u001b[0;34m()\u001b[0m\n\u001b[1;32m      1\u001b[0m \u001b[0mmy_list\u001b[0m \u001b[0;34m=\u001b[0m \u001b[0mlist\u001b[0m\u001b[0;34m(\u001b[0m\u001b[0mrange\u001b[0m\u001b[0;34m(\u001b[0m\u001b[0;36m4\u001b[0m\u001b[0;34m)\u001b[0m\u001b[0;34m)\u001b[0m\u001b[0;34m\u001b[0m\u001b[0m\n\u001b[0;32m----> 2\u001b[0;31m \u001b[0mmy_list\u001b[0m \u001b[0;34m+\u001b[0m \u001b[0;36m5\u001b[0m\u001b[0;34m\u001b[0m\u001b[0m\n\u001b[0m",
      "\u001b[0;31mTypeError\u001b[0m: can only concatenate list (not \"int\") to list"
     ]
    }
   ],
   "source": [
    "my_list = list(range(4))\n",
    "my_list + 5"
   ]
  },
  {
   "cell_type": "markdown",
   "metadata": {},
   "source": [
    "Remembering from the precourse assignment, lists implement the `__add__` special method which defines how lists concatenate to other lists. Since 5 is an int and not a list, an error is thrown. Python has no idea that you would like to add 5 to each of the elements. pandas natively understands that you would like to actually add 5 to every element. Concatenating to a Series is a bit more troublesome than concatentating to a python list (more on this later)."
   ]
  },
  {
   "cell_type": "markdown",
   "metadata": {},
   "source": [
    "### What are vectorized operations\n",
    "pandas/numpy is filled with vectorized operations going on all the time. A vectorized operation is one where a sequence of numbers is operated on without the explicit writing of for loops. They are handled outside of python in pre-compiled C/fortran code that has been optimized a long time ago. Vectorized operations allow you to execute many operations with ease that normally take a very long time to write through normal iterative methods in python.\n",
    "\n",
    "<h1><del>LOOPS</del></h1>\n",
    "Because of vectorization, we can say goodbye to loops. If you are writing loops in pandas, you are probably doing it wrong."
   ]
  },
  {
   "cell_type": "code",
   "execution_count": 34,
   "metadata": {
    "collapsed": false
   },
   "outputs": [
    {
     "data": {
      "text/plain": [
       "0   -3.992308e+01\n",
       "1   -3.376923e+01\n",
       "2   -3.376923e+01\n",
       "3    2.704040e+06\n",
       "dtype: float64"
      ]
     },
     "execution_count": 34,
     "metadata": {},
     "output_type": "execute_result"
    }
   ],
   "source": [
    "### A slew of other mathematical operations are able to be performed on a python series\n",
    "## raise every element to a power and continue doing element by element math\n",
    "s.pow(4) / 13 - 40"
   ]
  },
  {
   "cell_type": "code",
   "execution_count": 35,
   "metadata": {
    "collapsed": false
   },
   "outputs": [
    {
     "data": {
      "text/plain": [
       "0     6\n",
       "1     8\n",
       "2     8\n",
       "3    82\n",
       "dtype: int64"
      ]
     },
     "execution_count": 35,
     "metadata": {},
     "output_type": "execute_result"
    }
   ],
   "source": [
    "s.add(5) # add 5 using a method"
   ]
  },
  {
   "cell_type": "code",
   "execution_count": 36,
   "metadata": {
    "collapsed": false
   },
   "outputs": [
    {
     "data": {
      "text/plain": [
       "84"
      ]
     },
     "execution_count": 36,
     "metadata": {},
     "output_type": "execute_result"
    }
   ],
   "source": [
    "s.sum() #sum up all the items"
   ]
  },
  {
   "cell_type": "code",
   "execution_count": 37,
   "metadata": {
    "collapsed": false
   },
   "outputs": [
    {
     "data": {
      "text/plain": [
       "3    77\n",
       "2     3\n",
       "1     3\n",
       "0     1\n",
       "dtype: int64"
      ]
     },
     "execution_count": 37,
     "metadata": {},
     "output_type": "execute_result"
    }
   ],
   "source": [
    "# many methods have very valuable arguments that can be set to get a different result. \n",
    "# Here we sort from largest to smallest\n",
    "s.sort_values(ascending=False)"
   ]
  },
  {
   "cell_type": "code",
   "execution_count": 38,
   "metadata": {
    "collapsed": false
   },
   "outputs": [
    {
     "data": {
      "text/plain": [
       "(37.345236197762446, 1394.6666666666667, 1, 77, 21.0, 3.0, 0    3\n",
       " dtype: int64)"
      ]
     },
     "execution_count": 38,
     "metadata": {},
     "output_type": "execute_result"
    }
   ],
   "source": [
    "# more aggregations\n",
    "s.std(), s.var(), s.min(), s.max(), s.mean(), s.median(), s.mode() "
   ]
  },
  {
   "cell_type": "code",
   "execution_count": 39,
   "metadata": {
    "collapsed": false
   },
   "outputs": [
    {
     "data": {
      "text/plain": [
       "0     1\n",
       "1     4\n",
       "2     7\n",
       "3    84\n",
       "dtype: int64"
      ]
     },
     "execution_count": 39,
     "metadata": {},
     "output_type": "execute_result"
    }
   ],
   "source": [
    "# execute operations that return the entire data set\n",
    "# keep track of sum as you iterate down the column\n",
    "s.cumsum()"
   ]
  },
  {
   "cell_type": "code",
   "execution_count": 40,
   "metadata": {
    "collapsed": false
   },
   "outputs": [
    {
     "data": {
      "text/plain": [
       "0      1\n",
       "1      3\n",
       "2      9\n",
       "3    693\n",
       "dtype: int64"
      ]
     },
     "execution_count": 40,
     "metadata": {},
     "output_type": "execute_result"
    }
   ],
   "source": [
    "# keep track of product as you iterate down the column\n",
    "s.cumprod()"
   ]
  },
  {
   "cell_type": "markdown",
   "metadata": {},
   "source": [
    "### Accessing individual elements of a Series\n",
    "pandas gives you a ridiculous amount of ways to access the elements of your series. Many of the methods seen below will give you a different way of doing the same thing. This is a common theme throughout pandas. You will feel completely overwhelmed (I still do) by the number of methods available to you. Take a look at the pandas [API reference](http://pandas.pydata.org/pandas-docs/stable/api.html) to see all things possible."
   ]
  },
  {
   "cell_type": "code",
   "execution_count": 41,
   "metadata": {
    "collapsed": false
   },
   "outputs": [
    {
     "data": {
      "text/plain": [
       "1"
      ]
     },
     "execution_count": 41,
     "metadata": {},
     "output_type": "execute_result"
    }
   ],
   "source": [
    "# How to get the first element of a Series\n",
    "s[0]"
   ]
  },
  {
   "cell_type": "markdown",
   "metadata": {},
   "source": [
    "### Advanced function below:"
   ]
  },
  {
   "cell_type": "code",
   "execution_count": 42,
   "metadata": {
    "collapsed": false
   },
   "outputs": [],
   "source": [
    "# define a function to attempt an index lookup in a Series\n",
    "def try_lookup(a_series, idx):\n",
    "    '''\n",
    "    This function returns a printed statement of either the value at the index or an error message.\n",
    "    \n",
    "    a_series : A pandas series you want to attempt a lookup with \n",
    "    \n",
    "    idx : A numerical or string index that you would like to lookup in the passed series\n",
    "    '''\n",
    "    try:\n",
    "        return a_series[idx]\n",
    "    except Exception as e:\n",
    "        return 'We got an error! {}'.format(type(e))"
   ]
  },
  {
   "cell_type": "code",
   "execution_count": 43,
   "metadata": {
    "collapsed": false
   },
   "outputs": [
    {
     "data": {
      "text/plain": [
       "(1, 3, \"We got an error! <class 'KeyError'>\")"
      ]
     },
     "execution_count": 43,
     "metadata": {},
     "output_type": "execute_result"
    }
   ],
   "source": [
    "try_lookup(s, 0), try_lookup(s, 2), try_lookup(s, -1)"
   ]
  },
  {
   "cell_type": "code",
   "execution_count": 44,
   "metadata": {
    "collapsed": false
   },
   "outputs": [
    {
     "data": {
      "text/plain": [
       "(1, 1)"
      ]
     },
     "execution_count": 44,
     "metadata": {},
     "output_type": "execute_result"
    }
   ],
   "source": [
    "s[0], try_lookup(s, 0)"
   ]
  },
  {
   "cell_type": "code",
   "execution_count": 45,
   "metadata": {
    "collapsed": false
   },
   "outputs": [
    {
     "data": {
      "text/plain": [
       "\"We got an error! <class 'KeyError'>\""
      ]
     },
     "execution_count": 45,
     "metadata": {},
     "output_type": "execute_result"
    }
   ],
   "source": [
    "try_lookup(s, -1)"
   ]
  },
  {
   "cell_type": "code",
   "execution_count": 46,
   "metadata": {
    "collapsed": false
   },
   "outputs": [],
   "source": [
    "# s[-1] # we get a KeyError!"
   ]
  },
  {
   "cell_type": "markdown",
   "metadata": {},
   "source": [
    "### Is getting an item in a Series equivalent to getting an item in a python list?\n",
    "**NO!** The previous example should clearly demonstrated this. So, how did the first example work? When using the [ ] (brackets) operator to lookup an element in a Series, the index is looked up and not the position of the Series. But since 0 is both the **position** and the **label** then this lookup worked."
   ]
  },
  {
   "cell_type": "code",
   "execution_count": 47,
   "metadata": {
    "collapsed": false
   },
   "outputs": [
    {
     "data": {
      "text/plain": [
       "a    8\n",
       "b    2\n",
       "c    3\n",
       "dtype: int64"
      ]
     },
     "execution_count": 47,
     "metadata": {},
     "output_type": "execute_result"
    }
   ],
   "source": [
    "# Create a series with strings as indices\n",
    "s1 = pd.Series(data=[8,2,3], index=['a', 'b', 'c'])\n",
    "s1"
   ]
  },
  {
   "cell_type": "code",
   "execution_count": 48,
   "metadata": {
    "collapsed": false
   },
   "outputs": [
    {
     "data": {
      "text/plain": [
       "(8, 2, 3)"
      ]
     },
     "execution_count": 48,
     "metadata": {},
     "output_type": "execute_result"
    }
   ],
   "source": [
    "# This should fail?!\n",
    "s1[0], s1[1], s1[2]\n",
    "# But it works???"
   ]
  },
  {
   "cell_type": "markdown",
   "metadata": {},
   "source": [
    "### How did that work?\n",
    "There are some esoteric rules when it comes to grabbing items using the [ ] operator.\n",
    "1. When the index is all integers, lookup by label. Error if label is not in index\n",
    "2. When index is all strings or a mix of strings and integers, search for label first and then fall back to position if label is not found"
   ]
  },
  {
   "cell_type": "markdown",
   "metadata": {},
   "source": [
    "### Label vs Position for indexes\n",
    "This is important terminology in the pandas indexing world  \n",
    "**Label** : The actual value, a string or numeric at a particular index location\n",
    "\n",
    "**Position** : The numerical positional order of the particular location in an index\n",
    "\n",
    "When you read **label**, you should think of how keys are looked up in a python dictionary.\n",
    "\n",
    "When you read **position**, you should think of how items are accessed in a python list."
   ]
  },
  {
   "cell_type": "code",
   "execution_count": 49,
   "metadata": {
    "collapsed": false
   },
   "outputs": [
    {
     "data": {
      "text/plain": [
       "(8, 3, 5, 5)"
      ]
     },
     "execution_count": 49,
     "metadata": {},
     "output_type": "execute_result"
    }
   ],
   "source": [
    "# What happens when there is a mix of integers and strings\n",
    "s2 = pd.Series(data=[8,2,3,5],index=['a', 'b', 'c', 0])\n",
    "s2['a'], s2['c'], s2[-1], s2[0]"
   ]
  },
  {
   "cell_type": "code",
   "execution_count": 50,
   "metadata": {
    "collapsed": false
   },
   "outputs": [
    {
     "data": {
      "text/plain": [
       "(3, 1, 4)"
      ]
     },
     "execution_count": 50,
     "metadata": {},
     "output_type": "execute_result"
    }
   ],
   "source": [
    "s3 = pd.Series(data=[1,2,3,4],index=[-1, 'b', 'c', 0])\n",
    "s3['c'], s3[-1], s3[0]"
   ]
  },
  {
   "cell_type": "markdown",
   "metadata": {},
   "source": [
    "### Lookups with .ix[ ]\n",
    ".ix works nearly the same way as the plain [ ] operator except that when the index is a mix of strings and integers it defaults to the lookup by position first and then location if the item is not in the index. .ix also uses the brackets notation"
   ]
  },
  {
   "cell_type": "code",
   "execution_count": 51,
   "metadata": {
    "collapsed": false
   },
   "outputs": [
    {
     "data": {
      "text/plain": [
       "-1    1\n",
       "b     2\n",
       "c     3\n",
       "0     4\n",
       "dtype: int64"
      ]
     },
     "execution_count": 51,
     "metadata": {},
     "output_type": "execute_result"
    }
   ],
   "source": [
    "# begin with mixed integer/string indexed series\n",
    "s3"
   ]
  },
  {
   "cell_type": "code",
   "execution_count": 52,
   "metadata": {
    "collapsed": false
   },
   "outputs": [
    {
     "data": {
      "text/plain": [
       "(1, 4)"
      ]
     },
     "execution_count": 52,
     "metadata": {},
     "output_type": "execute_result"
    }
   ],
   "source": [
    "# lookup differenes betwee [ ] and .ix\n",
    "s3[-1], s3.ix[-1]"
   ]
  },
  {
   "cell_type": "code",
   "execution_count": 53,
   "metadata": {
    "collapsed": false
   },
   "outputs": [
    {
     "data": {
      "text/plain": [
       "(4, 1)"
      ]
     },
     "execution_count": 53,
     "metadata": {},
     "output_type": "execute_result"
    }
   ],
   "source": [
    "s3[0], s3.ix[0]"
   ]
  },
  {
   "cell_type": "code",
   "execution_count": 54,
   "metadata": {
    "collapsed": false
   },
   "outputs": [
    {
     "data": {
      "text/plain": [
       "2     5\n",
       "5    10\n",
       "9     2\n",
       "dtype: int64"
      ]
     },
     "execution_count": 54,
     "metadata": {},
     "output_type": "execute_result"
    }
   ],
   "source": [
    "# For Series with only integers, ix will only lookup based on label and not fall back on position\n",
    "s4 = pd.Series([5,10,2], index=[2,5,9])\n",
    "s4"
   ]
  },
  {
   "cell_type": "code",
   "execution_count": 55,
   "metadata": {
    "collapsed": false
   },
   "outputs": [
    {
     "data": {
      "text/plain": [
       "2"
      ]
     },
     "execution_count": 55,
     "metadata": {},
     "output_type": "execute_result"
    }
   ],
   "source": [
    "# s4.ix[0] # KeyError\n",
    "# s4.ix[-1] # KeyError\n",
    "s4.ix[9]"
   ]
  },
  {
   "cell_type": "markdown",
   "metadata": {},
   "source": [
    "### Lookups with slices in the [ ] and .ix[ ] operators\n",
    "To add to the confusion you can use slicing to always get integer positional [ ] regardless if the index type.\n",
    "Slices in .ix[ ] will be used positionally for mixed indexes and via label for all integer indexes"
   ]
  },
  {
   "cell_type": "code",
   "execution_count": 56,
   "metadata": {
    "collapsed": false
   },
   "outputs": [
    {
     "data": {
      "text/plain": [
       "-1    1\n",
       "b     2\n",
       "c     3\n",
       "0     4\n",
       "dtype: int64"
      ]
     },
     "execution_count": 56,
     "metadata": {},
     "output_type": "execute_result"
    }
   ],
   "source": [
    "# start with mixed string/integer serries index\n",
    "s3"
   ]
  },
  {
   "cell_type": "code",
   "execution_count": 57,
   "metadata": {
    "collapsed": false
   },
   "outputs": [
    {
     "data": {
      "text/plain": [
       "b    2\n",
       "c    3\n",
       "dtype: int64"
      ]
     },
     "execution_count": 57,
     "metadata": {},
     "output_type": "execute_result"
    }
   ],
   "source": [
    "s3[1:3] #get positional slice. Do not grab last element"
   ]
  },
  {
   "cell_type": "code",
   "execution_count": 58,
   "metadata": {
    "collapsed": false
   },
   "outputs": [
    {
     "data": {
      "text/plain": [
       "c    3\n",
       "0    4\n",
       "dtype: int64"
      ]
     },
     "execution_count": 58,
     "metadata": {},
     "output_type": "execute_result"
    }
   ],
   "source": [
    "# you can pass slices that are out of range\n",
    "s3[2:100]"
   ]
  },
  {
   "cell_type": "code",
   "execution_count": 59,
   "metadata": {
    "collapsed": false
   },
   "outputs": [
    {
     "data": {
      "text/plain": [
       "b    2\n",
       "c    3\n",
       "0    4\n",
       "dtype: int64"
      ]
     },
     "execution_count": 59,
     "metadata": {},
     "output_type": "execute_result"
    }
   ],
   "source": [
    "#now for ix\n",
    "s3.ix[1:] # using only position"
   ]
  },
  {
   "cell_type": "code",
   "execution_count": 60,
   "metadata": {
    "collapsed": false
   },
   "outputs": [
    {
     "data": {
      "text/plain": [
       "0    4\n",
       "dtype: int64"
      ]
     },
     "execution_count": 60,
     "metadata": {},
     "output_type": "execute_result"
    }
   ],
   "source": [
    "s3.ix[-1:] # start from the last"
   ]
  },
  {
   "cell_type": "code",
   "execution_count": 62,
   "metadata": {
    "collapsed": false
   },
   "outputs": [
    {
     "data": {
      "text/plain": [
       "2     5\n",
       "5    10\n",
       "9     2\n",
       "dtype: int64"
      ]
     },
     "execution_count": 62,
     "metadata": {},
     "output_type": "execute_result"
    }
   ],
   "source": [
    "# Lets look at an all integer indexed series\n",
    "s4"
   ]
  },
  {
   "cell_type": "code",
   "execution_count": 63,
   "metadata": {
    "collapsed": false
   },
   "outputs": [
    {
     "data": {
      "text/plain": [
       "2    5\n",
       "dtype: int64"
      ]
     },
     "execution_count": 63,
     "metadata": {},
     "output_type": "execute_result"
    }
   ],
   "source": [
    "s4[:1] # grabs up to the 1st element"
   ]
  },
  {
   "cell_type": "code",
   "execution_count": 64,
   "metadata": {
    "collapsed": false
   },
   "outputs": [
    {
     "data": {
      "text/plain": [
       "Series([], dtype: int64)"
      ]
     },
     "execution_count": 64,
     "metadata": {},
     "output_type": "execute_result"
    }
   ],
   "source": [
    "s4[5:] # gets from the 5th element onward"
   ]
  },
  {
   "cell_type": "code",
   "execution_count": 65,
   "metadata": {
    "collapsed": false
   },
   "outputs": [
    {
     "data": {
      "text/plain": [
       "2     5\n",
       "5    10\n",
       "9     2\n",
       "dtype: int64"
      ]
     },
     "execution_count": 65,
     "metadata": {},
     "output_type": "execute_result"
    }
   ],
   "source": [
    "s4[:3] # gets up to the third element"
   ]
  },
  {
   "cell_type": "code",
   "execution_count": 66,
   "metadata": {
    "collapsed": false
   },
   "outputs": [
    {
     "data": {
      "text/plain": [
       "2    5\n",
       "dtype: int64"
      ]
     },
     "execution_count": 66,
     "metadata": {},
     "output_type": "execute_result"
    }
   ],
   "source": [
    "#now for ix - this is where the difference happens!\n",
    "# the lookup is label-based when passing a slice to an all integer series index\n",
    "s4.ix[:3] "
   ]
  },
  {
   "cell_type": "code",
   "execution_count": 67,
   "metadata": {
    "collapsed": false
   },
   "outputs": [
    {
     "data": {
      "text/plain": [
       "5    10\n",
       "9     2\n",
       "dtype: int64"
      ]
     },
     "execution_count": 67,
     "metadata": {},
     "output_type": "execute_result"
    }
   ],
   "source": [
    "# when using label based lookups the right label is included as opposed to positional sliced indexes\n",
    "# where the right edge of the slice is not included\n",
    "s4.ix[5:9] "
   ]
  },
  {
   "cell_type": "markdown",
   "metadata": {},
   "source": [
    "### Passing lists of labels/positions to  [ ], .ix\n",
    "Python lists can also be passed inside [ ] and .ix. This is useful to get non-adjacent values in a series. Here are some examples with the rules"
   ]
  },
  {
   "cell_type": "code",
   "execution_count": 68,
   "metadata": {
    "collapsed": false
   },
   "outputs": [
    {
     "data": {
      "text/plain": [
       "-1    1\n",
       "b     2\n",
       "c     3\n",
       "0     4\n",
       "dtype: int64"
      ]
     },
     "execution_count": 68,
     "metadata": {},
     "output_type": "execute_result"
    }
   ],
   "source": [
    "# Again start with mixed label indexed series\n",
    "s3"
   ]
  },
  {
   "cell_type": "code",
   "execution_count": 69,
   "metadata": {
    "collapsed": false
   },
   "outputs": [
    {
     "data": {
      "text/plain": [
       "b     2\n",
       "-1    1\n",
       "0     4\n",
       "c     3\n",
       "dtype: int64"
      ]
     },
     "execution_count": 69,
     "metadata": {},
     "output_type": "execute_result"
    }
   ],
   "source": [
    "# lookup by label first then fall back to position\n",
    "s3[[1, 0, -1, -2]] # -1 and 0 will use labels. 1 and -2 will use positional"
   ]
  },
  {
   "cell_type": "code",
   "execution_count": 70,
   "metadata": {
    "collapsed": true
   },
   "outputs": [],
   "source": [
    "# s3[[1, 0, -1, -2, 5]] # raise index error because 5 is not a label and then not a positional index"
   ]
  },
  {
   "cell_type": "code",
   "execution_count": 71,
   "metadata": {
    "collapsed": false
   },
   "outputs": [
    {
     "data": {
      "text/plain": [
       "0    4\n",
       "dtype: int64"
      ]
     },
     "execution_count": 71,
     "metadata": {},
     "output_type": "execute_result"
    }
   ],
   "source": [
    "# use ix\n",
    "s3.ix[[0]] # Lookup first by label. return NaN if label not in index "
   ]
  },
  {
   "cell_type": "code",
   "execution_count": 72,
   "metadata": {
    "collapsed": false
   },
   "outputs": [],
   "source": [
    "# s3.ix[[0, 1]] # IndexError. This is bizarre... possibly a bug?"
   ]
  },
  {
   "cell_type": "code",
   "execution_count": 73,
   "metadata": {
    "collapsed": false
   },
   "outputs": [
    {
     "data": {
      "text/plain": [
       "2     5\n",
       "5    10\n",
       "9     2\n",
       "dtype: int64"
      ]
     },
     "execution_count": 73,
     "metadata": {},
     "output_type": "execute_result"
    }
   ],
   "source": [
    "# and for good measure - only integer index\n",
    "s4"
   ]
  },
  {
   "cell_type": "code",
   "execution_count": 74,
   "metadata": {
    "collapsed": false
   },
   "outputs": [
    {
     "data": {
      "text/plain": [
       "0   NaN\n",
       "1   NaN\n",
       "dtype: float64"
      ]
     },
     "execution_count": 74,
     "metadata": {},
     "output_type": "execute_result"
    }
   ],
   "source": [
    "# use only labels for [ ]\n",
    "s4[[0, 1]] "
   ]
  },
  {
   "cell_type": "code",
   "execution_count": 75,
   "metadata": {
    "collapsed": false
   },
   "outputs": [
    {
     "data": {
      "text/plain": [
       "2    5\n",
       "9    2\n",
       "dtype: int64"
      ]
     },
     "execution_count": 75,
     "metadata": {},
     "output_type": "execute_result"
    }
   ],
   "source": [
    "s4[[2,9]]"
   ]
  },
  {
   "cell_type": "code",
   "execution_count": 76,
   "metadata": {
    "collapsed": false
   },
   "outputs": [
    {
     "data": {
      "text/plain": [
       "0   NaN\n",
       "1   NaN\n",
       "dtype: float64"
      ]
     },
     "execution_count": 76,
     "metadata": {},
     "output_type": "execute_result"
    }
   ],
   "source": [
    "#now for ix\n",
    "s4.ix[[0, 1]] # does the same thing as [ ]"
   ]
  },
  {
   "cell_type": "code",
   "execution_count": 77,
   "metadata": {
    "collapsed": false
   },
   "outputs": [
    {
     "data": {
      "text/plain": [
       "2    5\n",
       "9    2\n",
       "dtype: int64"
      ]
     },
     "execution_count": 77,
     "metadata": {},
     "output_type": "execute_result"
    }
   ],
   "source": [
    "s4.ix[[2, 9]]"
   ]
  },
  {
   "cell_type": "markdown",
   "metadata": {},
   "source": [
    "<h1 style=\"text-align:center\"> Summarizing [ ] and .ix[ ]</h1>\n",
    "<table>\n",
    "    <thead >\n",
    "        <tr>\n",
    "            <th style=\"text-align:center\">Action when passed a ...</th>\n",
    "            <th style=\"text-align:center\">[ ]</th>\n",
    "            <th style=\"text-align:center\">.ix[ ]</th>\n",
    "        </tr>\n",
    "   </thead>\n",
    "   <tbody>\n",
    "       <tr>\n",
    "            <td>single integer when index is all integers</td>\n",
    "            <td>Lookup by label and raise KeyError when not in index. No positional lookup</td>\n",
    "            <td>Lookup by label and raise KeyError when not in index. No positional lookup</td>\n",
    "       </tr>\n",
    "       <tr>\n",
    "            <td>single integer when index is mixed strings and ints</td>\n",
    "            <td>Use label for lookup then fall back to position if label not found</td>\n",
    "            <td>Use position for lookup then fall back to label if position not found.</td>\n",
    "       </tr>\n",
    "       <tr>\n",
    "            <td>slice (as in s[3:20:5]) for all integer series</td>\n",
    "            <td>Lookup positions and do not raise an error if slice goes out of bounds</td>\n",
    "            <td>Lookup by label and do not raise an error if slice goes out of bounds</td>\n",
    "       </tr>\n",
    "       <tr>\n",
    "            <td>slice (as in s[3:20:5]) for a mixed index series</td>\n",
    "            <td>Lookup positions and do not raise an error if slice goes out of bounds</td>\n",
    "            <td>Lookup positions and do not raise an error if slice goes out of bounds</td>\n",
    "       </tr>\n",
    "       <tr>\n",
    "            <td>list of integers when index is all integers</td>\n",
    "            <td>Use label only. Return NaN if element in list not in index</td>\n",
    "            <td>Use label only. Return NaN if element in list not in index</td>\n",
    "       </tr>\n",
    "       <tr>\n",
    "            <td>list of integers when index is mixed strings and ints</td>\n",
    "            <td>Lookup label, then position, before finally raising an IndexError</td>\n",
    "            <td>Lookup by label then raise IndexError if not found.</td>\n",
    "       </tr>\n",
    "   </tbody>\n",
    "<table>"
   ]
  },
  {
   "cell_type": "markdown",
   "metadata": {},
   "source": [
    "# This is incredibly confusing!!! There must be a better way\n",
    "These rules can get very confusing and lucky for us there is quite a bit of good news here. First, looking up values in a series is somewhat of a rarity as its more common to operate on a series as a whole.  There are more direct non-ambiguous methods that we will talk about next. Also since, .ix handles both label and positional locations, its performance is worst of the lookup mechanisms."
   ]
  },
  {
   "cell_type": "markdown",
   "metadata": {},
   "source": [
    "### .loc[ ] and .iloc[ ] for much less confusion\n",
    "To simplify matters, pandas provides the .loc and .iloc lookup methods to simplify lookups. .loc lookups only use the **label** and error if the label is not in the index. .iloc lookups only use the **integer position** just like lists and numpy arrays. These methods are much prefered to .ix since they are non-ambiguous and faster."
   ]
  },
  {
   "cell_type": "code",
   "execution_count": 78,
   "metadata": {
    "collapsed": false
   },
   "outputs": [
    {
     "data": {
      "text/plain": [
       "-1    1\n",
       "b     2\n",
       "c     3\n",
       "0     4\n",
       "dtype: int64"
      ]
     },
     "execution_count": 78,
     "metadata": {},
     "output_type": "execute_result"
    }
   ],
   "source": [
    "s3"
   ]
  },
  {
   "cell_type": "code",
   "execution_count": 79,
   "metadata": {
    "collapsed": false
   },
   "outputs": [
    {
     "data": {
      "text/plain": [
       "(2, 4)"
      ]
     },
     "execution_count": 79,
     "metadata": {},
     "output_type": "execute_result"
    }
   ],
   "source": [
    "# .loc can take both integers and strings as long as they are a label in the index\n",
    "s3.loc['b'], s3.loc[0]"
   ]
  },
  {
   "cell_type": "code",
   "execution_count": 80,
   "metadata": {
    "collapsed": false
   },
   "outputs": [
    {
     "data": {
      "text/plain": [
       "-1    1.0\n",
       "5     NaN\n",
       "c     3.0\n",
       "dtype: float64"
      ]
     },
     "execution_count": 80,
     "metadata": {},
     "output_type": "execute_result"
    }
   ],
   "source": [
    "# can pass in a list to .loc\n",
    "s3.loc[[-1, 5, 'c']]"
   ]
  },
  {
   "cell_type": "code",
   "execution_count": 81,
   "metadata": {
    "collapsed": false
   },
   "outputs": [
    {
     "data": {
      "text/plain": [
       "b    2\n",
       "c    3\n",
       "0    4\n",
       "dtype: int64"
      ]
     },
     "execution_count": 81,
     "metadata": {},
     "output_type": "execute_result"
    }
   ],
   "source": [
    "# you can slice from element to another\n",
    "s3.loc['b':]"
   ]
  },
  {
   "cell_type": "code",
   "execution_count": 82,
   "metadata": {
    "collapsed": false
   },
   "outputs": [],
   "source": [
    "# loc doesnt take integers\n",
    "# s3.loc[1:] TypeError"
   ]
  },
  {
   "cell_type": "code",
   "execution_count": 83,
   "metadata": {
    "collapsed": false
   },
   "outputs": [
    {
     "data": {
      "text/plain": [
       "(4, 1, 2)"
      ]
     },
     "execution_count": 83,
     "metadata": {},
     "output_type": "execute_result"
    }
   ],
   "source": [
    "# lets look at iloc - only takes integer positions. works just like a list. finally simple!\n",
    "s3.iloc[3], s3.iloc[0], s3.iloc[-3]"
   ]
  },
  {
   "cell_type": "code",
   "execution_count": 84,
   "metadata": {
    "collapsed": false
   },
   "outputs": [
    {
     "data": {
      "text/plain": [
       "c    3\n",
       "0    4\n",
       "dtype: int64"
      ]
     },
     "execution_count": 84,
     "metadata": {},
     "output_type": "execute_result"
    }
   ],
   "source": [
    "# slice just like lists\n",
    "s3.iloc[-2:]"
   ]
  },
  {
   "cell_type": "code",
   "execution_count": 85,
   "metadata": {
    "collapsed": false
   },
   "outputs": [
    {
     "data": {
      "text/plain": [
       "-1    1\n",
       "b     2\n",
       "c     3\n",
       "dtype: int64"
      ]
     },
     "execution_count": 85,
     "metadata": {},
     "output_type": "execute_result"
    }
   ],
   "source": [
    "s3.iloc[:-1]"
   ]
  },
  {
   "cell_type": "code",
   "execution_count": 86,
   "metadata": {
    "collapsed": false
   },
   "outputs": [
    {
     "data": {
      "text/plain": [
       "-1    1\n",
       "c     3\n",
       "dtype: int64"
      ]
     },
     "execution_count": 86,
     "metadata": {},
     "output_type": "execute_result"
    }
   ],
   "source": [
    "#get every other element\n",
    "s3.iloc[::2]"
   ]
  },
  {
   "cell_type": "code",
   "execution_count": 87,
   "metadata": {
    "collapsed": false
   },
   "outputs": [
    {
     "data": {
      "text/plain": [
       "Series([], dtype: int64)"
      ]
     },
     "execution_count": 87,
     "metadata": {},
     "output_type": "execute_result"
    }
   ],
   "source": [
    "# can slice out of range just like lists\n",
    "s3.iloc[5:500]"
   ]
  },
  {
   "cell_type": "code",
   "execution_count": 88,
   "metadata": {
    "collapsed": false
   },
   "outputs": [
    {
     "data": {
      "text/plain": [
       "b    2\n",
       "c    3\n",
       "0    4\n",
       "dtype: int64"
      ]
     },
     "execution_count": 88,
     "metadata": {},
     "output_type": "execute_result"
    }
   ],
   "source": [
    "# can pass a list as well - will IndexError here if out of range\n",
    "s3.iloc[[1,2,-1]]"
   ]
  },
  {
   "cell_type": "code",
   "execution_count": 89,
   "metadata": {
    "collapsed": false
   },
   "outputs": [
    {
     "data": {
      "text/plain": [
       "2     5\n",
       "5    10\n",
       "9     2\n",
       "dtype: int64"
      ]
     },
     "execution_count": 89,
     "metadata": {},
     "output_type": "execute_result"
    }
   ],
   "source": [
    "# all integer index\n",
    "s4"
   ]
  },
  {
   "cell_type": "code",
   "execution_count": 90,
   "metadata": {
    "collapsed": false
   },
   "outputs": [
    {
     "data": {
      "text/plain": [
       "2     5\n",
       "5    10\n",
       "dtype: int64"
      ]
     },
     "execution_count": 90,
     "metadata": {},
     "output_type": "execute_result"
    }
   ],
   "source": [
    "# since all index values are ints, integer lookups and slicing work for .loc\n",
    "s4.loc[2:5]"
   ]
  },
  {
   "cell_type": "markdown",
   "metadata": {},
   "source": [
    "### .at[ ] and .iat for scalar lookups\n",
    ".at and .iat are analogous to .loc and .iloc except they only lookup single scalar values - no lists or slices\n",
    "\n",
    ".at accepts a single label location\n",
    ".iat accepts a single integer location"
   ]
  },
  {
   "cell_type": "code",
   "execution_count": 91,
   "metadata": {
    "collapsed": false
   },
   "outputs": [
    {
     "data": {
      "text/plain": [
       "(4, 2)"
      ]
     },
     "execution_count": 91,
     "metadata": {},
     "output_type": "execute_result"
    }
   ],
   "source": [
    "s3.iat[3], s3.at['b']"
   ]
  },
  {
   "cell_type": "markdown",
   "metadata": {},
   "source": [
    "### A use case for .ix\n",
    ".ix is not all bad... though it should be avoided when possible. Since it does have the ability to handle both positional and label locations, it works well with multiindexed series and dataframes - those with more than one index level. "
   ]
  },
  {
   "cell_type": "markdown",
   "metadata": {},
   "source": [
    "# Why all the fuss over this index\n",
    "indexes in Series and DataFrames play a huge (and perhaps surprising) roll in pandas. Lets begin with one of these surprising examples"
   ]
  },
  {
   "cell_type": "code",
   "execution_count": 92,
   "metadata": {
    "collapsed": true
   },
   "outputs": [],
   "source": [
    "#no more strange mixed string/integer index series\n",
    "# its typical to fill a series with a numpy array\n",
    "s1 = pd.Series(np.arange(10))\n",
    "s2 = pd.Series(np.arange(10), index = np.arange(1, 11))"
   ]
  },
  {
   "cell_type": "code",
   "execution_count": 93,
   "metadata": {
    "collapsed": false
   },
   "outputs": [
    {
     "data": {
      "text/plain": [
       "0    0\n",
       "1    1\n",
       "2    2\n",
       "3    3\n",
       "4    4\n",
       "5    5\n",
       "6    6\n",
       "7    7\n",
       "8    8\n",
       "9    9\n",
       "dtype: int64"
      ]
     },
     "execution_count": 93,
     "metadata": {},
     "output_type": "execute_result"
    }
   ],
   "source": [
    "s1"
   ]
  },
  {
   "cell_type": "code",
   "execution_count": 94,
   "metadata": {
    "collapsed": false
   },
   "outputs": [
    {
     "data": {
      "text/plain": [
       "1     0\n",
       "2     1\n",
       "3     2\n",
       "4     3\n",
       "5     4\n",
       "6     5\n",
       "7     6\n",
       "8     7\n",
       "9     8\n",
       "10    9\n",
       "dtype: int64"
      ]
     },
     "execution_count": 94,
     "metadata": {},
     "output_type": "execute_result"
    }
   ],
   "source": [
    "s2"
   ]
  },
  {
   "cell_type": "code",
   "execution_count": 95,
   "metadata": {
    "collapsed": false
   },
   "outputs": [
    {
     "data": {
      "text/plain": [
       "array([ 0,  2,  4,  6,  8, 10, 12, 14, 16, 18])"
      ]
     },
     "execution_count": 95,
     "metadata": {},
     "output_type": "execute_result"
    }
   ],
   "source": [
    "# These series only differ by 1 in their index and have the same values\n",
    "# first lets just add the values (which are just the original numpy arrays)\n",
    "s1.values + s2.values"
   ]
  },
  {
   "cell_type": "markdown",
   "metadata": {},
   "source": [
    "### That made sense. Lets see what happens when we add the series together"
   ]
  },
  {
   "cell_type": "code",
   "execution_count": 96,
   "metadata": {
    "collapsed": false
   },
   "outputs": [
    {
     "data": {
      "text/plain": [
       "0      NaN\n",
       "1      1.0\n",
       "2      3.0\n",
       "3      5.0\n",
       "4      7.0\n",
       "5      9.0\n",
       "6     11.0\n",
       "7     13.0\n",
       "8     15.0\n",
       "9     17.0\n",
       "10     NaN\n",
       "dtype: float64"
      ]
     },
     "execution_count": 96,
     "metadata": {},
     "output_type": "execute_result"
    }
   ],
   "source": [
    "# wtf?\n",
    "s1 + s2"
   ]
  },
  {
   "cell_type": "markdown",
   "metadata": {},
   "source": [
    "### What happened?\n",
    "A couple things look wrong. Not only are the values one off the original numpy array addition, there are to NaNs (not a number, also known as missing values). What happened here is the key to many pandas operations. The series automatically aligned on its index (not by its integer position).  Index 1 in `s1` got aligned with index 1 in `s2` which produced the operation 1 + 0. Only the indices 1 - 9 got paired up. Index 0 from s1 and index 10 from s2 didn't align but still returned a NaN result. This is actually similar to a sql outer join.\n",
    "\n",
    "Lets look at one more example to drive the point home"
   ]
  },
  {
   "cell_type": "code",
   "execution_count": 97,
   "metadata": {
    "collapsed": false
   },
   "outputs": [
    {
     "data": {
      "text/plain": [
       "a    NaN\n",
       "b    NaN\n",
       "c    NaN\n",
       "d    3.0\n",
       "e    NaN\n",
       "f    NaN\n",
       "g    NaN\n",
       "dtype: float64"
      ]
     },
     "execution_count": 97,
     "metadata": {},
     "output_type": "execute_result"
    }
   ],
   "source": [
    "# The only index label in common was 'd'. The rest are missing\n",
    "s1 = pd.Series(np.arange(4), index=list('abcd'))\n",
    "s2 = pd.Series(np.arange(4), index=list('defg'))\n",
    "s1 + s2"
   ]
  },
  {
   "cell_type": "markdown",
   "metadata": {},
   "source": [
    "### More surprises with indexes\n",
    "There is no enforcement of uniqueness on the index so all your elements in your series can have the same index value. Lets look at some operations on series when they have there are duplicated indexes."
   ]
  },
  {
   "cell_type": "code",
   "execution_count": 98,
   "metadata": {
    "collapsed": false
   },
   "outputs": [],
   "source": [
    "s1 = pd.Series(np.arange(8), index=list('aaaabbbb'))\n",
    "s2 = pd.Series(np.arange(5), index=list('aabbc'))"
   ]
  },
  {
   "cell_type": "code",
   "execution_count": 99,
   "metadata": {
    "collapsed": false
   },
   "outputs": [
    {
     "data": {
      "text/plain": [
       "a     0.0\n",
       "a     1.0\n",
       "a     1.0\n",
       "a     2.0\n",
       "a     2.0\n",
       "a     3.0\n",
       "a     3.0\n",
       "a     4.0\n",
       "b     6.0\n",
       "b     7.0\n",
       "b     7.0\n",
       "b     8.0\n",
       "b     8.0\n",
       "b     9.0\n",
       "b     9.0\n",
       "b    10.0\n",
       "c     NaN\n",
       "dtype: float64"
      ]
     },
     "execution_count": 99,
     "metadata": {},
     "output_type": "execute_result"
    }
   ],
   "source": [
    "s1 + s2"
   ]
  },
  {
   "cell_type": "code",
   "execution_count": 552,
   "metadata": {
    "collapsed": false
   },
   "outputs": [
    {
     "data": {
      "text/html": [
       "<div>\n",
       "<table border=\"1\" class=\"dataframe\">\n",
       "  <thead>\n",
       "    <tr style=\"text-align: right;\">\n",
       "      <th></th>\n",
       "      <th>s1</th>\n",
       "      <th>s2</th>\n",
       "      <th>sum</th>\n",
       "    </tr>\n",
       "  </thead>\n",
       "  <tbody>\n",
       "    <tr>\n",
       "      <th>a</th>\n",
       "      <td>0.0</td>\n",
       "      <td>0</td>\n",
       "      <td>0.0</td>\n",
       "    </tr>\n",
       "    <tr>\n",
       "      <th>a</th>\n",
       "      <td>0.0</td>\n",
       "      <td>1</td>\n",
       "      <td>1.0</td>\n",
       "    </tr>\n",
       "    <tr>\n",
       "      <th>a</th>\n",
       "      <td>1.0</td>\n",
       "      <td>0</td>\n",
       "      <td>1.0</td>\n",
       "    </tr>\n",
       "    <tr>\n",
       "      <th>a</th>\n",
       "      <td>1.0</td>\n",
       "      <td>1</td>\n",
       "      <td>2.0</td>\n",
       "    </tr>\n",
       "    <tr>\n",
       "      <th>a</th>\n",
       "      <td>2.0</td>\n",
       "      <td>0</td>\n",
       "      <td>2.0</td>\n",
       "    </tr>\n",
       "    <tr>\n",
       "      <th>a</th>\n",
       "      <td>2.0</td>\n",
       "      <td>1</td>\n",
       "      <td>3.0</td>\n",
       "    </tr>\n",
       "    <tr>\n",
       "      <th>a</th>\n",
       "      <td>3.0</td>\n",
       "      <td>0</td>\n",
       "      <td>3.0</td>\n",
       "    </tr>\n",
       "    <tr>\n",
       "      <th>a</th>\n",
       "      <td>3.0</td>\n",
       "      <td>1</td>\n",
       "      <td>4.0</td>\n",
       "    </tr>\n",
       "    <tr>\n",
       "      <th>b</th>\n",
       "      <td>4.0</td>\n",
       "      <td>2</td>\n",
       "      <td>6.0</td>\n",
       "    </tr>\n",
       "    <tr>\n",
       "      <th>b</th>\n",
       "      <td>4.0</td>\n",
       "      <td>3</td>\n",
       "      <td>7.0</td>\n",
       "    </tr>\n",
       "    <tr>\n",
       "      <th>b</th>\n",
       "      <td>5.0</td>\n",
       "      <td>2</td>\n",
       "      <td>7.0</td>\n",
       "    </tr>\n",
       "    <tr>\n",
       "      <th>b</th>\n",
       "      <td>5.0</td>\n",
       "      <td>3</td>\n",
       "      <td>8.0</td>\n",
       "    </tr>\n",
       "    <tr>\n",
       "      <th>b</th>\n",
       "      <td>6.0</td>\n",
       "      <td>2</td>\n",
       "      <td>8.0</td>\n",
       "    </tr>\n",
       "    <tr>\n",
       "      <th>b</th>\n",
       "      <td>6.0</td>\n",
       "      <td>3</td>\n",
       "      <td>9.0</td>\n",
       "    </tr>\n",
       "    <tr>\n",
       "      <th>b</th>\n",
       "      <td>7.0</td>\n",
       "      <td>2</td>\n",
       "      <td>9.0</td>\n",
       "    </tr>\n",
       "    <tr>\n",
       "      <th>b</th>\n",
       "      <td>7.0</td>\n",
       "      <td>3</td>\n",
       "      <td>10.0</td>\n",
       "    </tr>\n",
       "    <tr>\n",
       "      <th>c</th>\n",
       "      <td>NaN</td>\n",
       "      <td>4</td>\n",
       "      <td>NaN</td>\n",
       "    </tr>\n",
       "  </tbody>\n",
       "</table>\n",
       "</div>"
      ],
      "text/plain": [
       "    s1  s2   sum\n",
       "a  0.0   0   0.0\n",
       "a  0.0   1   1.0\n",
       "a  1.0   0   1.0\n",
       "a  1.0   1   2.0\n",
       "a  2.0   0   2.0\n",
       "a  2.0   1   3.0\n",
       "a  3.0   0   3.0\n",
       "a  3.0   1   4.0\n",
       "b  4.0   2   6.0\n",
       "b  4.0   3   7.0\n",
       "b  5.0   2   7.0\n",
       "b  5.0   3   8.0\n",
       "b  6.0   2   8.0\n",
       "b  6.0   3   9.0\n",
       "b  7.0   2   9.0\n",
       "b  7.0   3  10.0\n",
       "c  NaN   4   NaN"
      ]
     },
     "execution_count": 552,
     "metadata": {},
     "output_type": "execute_result"
    }
   ],
   "source": [
    "# A bit advancd but gives us a clearer look of how the aligning is happening\n",
    "df = s1.to_frame(name='s1').join(s2.to_frame('s2'), how='outer')\n",
    "df['sum'] = df['s1'] + df['s2']\n",
    "df"
   ]
  },
  {
   "cell_type": "markdown",
   "metadata": {},
   "source": [
    "### A Cartesian product aligns the values first and then the sum executes\n",
    "A cartesian product is simply every element in the first series pairing up with every matching element in the second series. If there were 5 'a' indices in the first series and 7 'a' indices in the second series then there would be 35 total 'a' indices after summing both series (like we did above). This behavior is very different than a numpy array which simply aligns elements by their position first and then adds them. \n",
    "\n",
    "Also worth mentioning is that index aligning allows you to add series of different lengths while numpy arrays of different lengths cannot be added."
   ]
  },
  {
   "cell_type": "markdown",
   "metadata": {},
   "source": [
    "### More differences with numpy\n",
    "pandas gives you more leniency by ignoring missing data when doing aggregations on your data."
   ]
  },
  {
   "cell_type": "code",
   "execution_count": 100,
   "metadata": {
    "collapsed": false
   },
   "outputs": [],
   "source": [
    "# store the series from above in a variable and store its values in a numpy array\n",
    "s3 = s1 + s2\n",
    "array = s3.values"
   ]
  },
  {
   "cell_type": "code",
   "execution_count": 101,
   "metadata": {
    "collapsed": false
   },
   "outputs": [
    {
     "data": {
      "text/plain": [
       "(nan, nan, nan, 5.0)"
      ]
     },
     "execution_count": 101,
     "metadata": {},
     "output_type": "execute_result"
    }
   ],
   "source": [
    "# As a default numpy returns nan when doing an aggregation on an array.\n",
    "# Numpy does have special funcitons to get around this behavior\n",
    "array.mean(), array.sum(), array.max(), np.nanmean(array)"
   ]
  },
  {
   "cell_type": "code",
   "execution_count": 102,
   "metadata": {
    "collapsed": false
   },
   "outputs": [
    {
     "data": {
      "text/plain": [
       "(5.0, 80.0, 10.0, nan)"
      ]
     },
     "execution_count": 102,
     "metadata": {},
     "output_type": "execute_result"
    }
   ],
   "source": [
    "# pandas on the other hand assumes you are aware that there are missing data and returns a non-missing value\n",
    "# you can use the skipna parameter to match numpys default\n",
    "s3.mean(), s3.sum(), s3.max(), s3.min(skipna=False)"
   ]
  },
  {
   "cell_type": "markdown",
   "metadata": {},
   "source": [
    "# Boolean Indexing\n",
    "A more common method of extracting the values in a series is to choose them based on certain criteria. Boolean indexing is done by passing a boolean (only true/false values) array or series to the [ ] operator. If a series is passed then, every index in the outer series must have a true value associated to it in the inner series. If an array is passed, it must be the same length as the series.\n",
    "\n",
    "As usual, lets do some boolean indexing by hand."
   ]
  },
  {
   "cell_type": "code",
   "execution_count": 103,
   "metadata": {
    "collapsed": false
   },
   "outputs": [
    {
     "data": {
      "text/plain": [
       "a     True\n",
       "b    False\n",
       "c     True\n",
       "dtype: bool"
      ]
     },
     "execution_count": 103,
     "metadata": {},
     "output_type": "execute_result"
    }
   ],
   "source": [
    "# Create a series that maps bools to each index label from s3\n",
    "keep = pd.Series([True, False, True], index=list('abc'))\n",
    "keep"
   ]
  },
  {
   "cell_type": "code",
   "execution_count": 104,
   "metadata": {
    "collapsed": false
   },
   "outputs": [
    {
     "data": {
      "text/plain": [
       "a    0.0\n",
       "a    1.0\n",
       "a    1.0\n",
       "a    2.0\n",
       "a    2.0\n",
       "a    3.0\n",
       "a    3.0\n",
       "a    4.0\n",
       "c    NaN\n",
       "dtype: float64"
      ]
     },
     "execution_count": 104,
     "metadata": {},
     "output_type": "execute_result"
    }
   ],
   "source": [
    "# This will keep only a and c labels\n",
    "s3[keep]"
   ]
  },
  {
   "cell_type": "code",
   "execution_count": 105,
   "metadata": {
    "collapsed": false
   },
   "outputs": [
    {
     "data": {
      "text/plain": [
       "a    False\n",
       "a    False\n",
       "a    False\n",
       "a    False\n",
       "a    False\n",
       "a    False\n",
       "a    False\n",
       "a    False\n",
       "b     True\n",
       "b     True\n",
       "b     True\n",
       "b     True\n",
       "b     True\n",
       "b     True\n",
       "b     True\n",
       "b     True\n",
       "c    False\n",
       "dtype: bool"
      ]
     },
     "execution_count": 105,
     "metadata": {},
     "output_type": "execute_result"
    }
   ],
   "source": [
    "# Lets get a series based on some critera\n",
    "criteria = s3 > 5\n",
    "criteria"
   ]
  },
  {
   "cell_type": "code",
   "execution_count": 106,
   "metadata": {
    "collapsed": false
   },
   "outputs": [
    {
     "data": {
      "text/plain": [
       "b     6.0\n",
       "b     7.0\n",
       "b     7.0\n",
       "b     8.0\n",
       "b     8.0\n",
       "b     9.0\n",
       "b     9.0\n",
       "b    10.0\n",
       "dtype: float64"
      ]
     },
     "execution_count": 106,
     "metadata": {},
     "output_type": "execute_result"
    }
   ],
   "source": [
    "# we can now pass this criteria to our original series to get only values above 5\n",
    "s3[criteria]"
   ]
  },
  {
   "cell_type": "code",
   "execution_count": 107,
   "metadata": {
    "collapsed": false
   },
   "outputs": [
    {
     "data": {
      "text/plain": [
       "b     6.0\n",
       "b     7.0\n",
       "b     7.0\n",
       "b     8.0\n",
       "b     8.0\n",
       "b     9.0\n",
       "b     9.0\n",
       "b    10.0\n",
       "dtype: float64"
      ]
     },
     "execution_count": 107,
     "metadata": {},
     "output_type": "execute_result"
    }
   ],
   "source": [
    "# you can do this all in one step without an intermediate variable\n",
    "s3[s3 > 5]"
   ]
  },
  {
   "cell_type": "code",
   "execution_count": 108,
   "metadata": {
    "collapsed": false
   },
   "outputs": [
    {
     "data": {
      "text/plain": [
       "array([False, False, False, False, False, False, False, False,  True,\n",
       "        True,  True,  True,  True,  True,  True,  True, False], dtype=bool)"
      ]
     },
     "execution_count": 108,
     "metadata": {},
     "output_type": "execute_result"
    }
   ],
   "source": [
    "# Get just the index b\n",
    "criteria = s3.index == 'b'\n",
    "criteria"
   ]
  },
  {
   "cell_type": "code",
   "execution_count": 109,
   "metadata": {
    "collapsed": false
   },
   "outputs": [
    {
     "data": {
      "text/plain": [
       "b     6.0\n",
       "b     7.0\n",
       "b     7.0\n",
       "b     8.0\n",
       "b     8.0\n",
       "b     9.0\n",
       "b     9.0\n",
       "b    10.0\n",
       "dtype: float64"
      ]
     },
     "execution_count": 109,
     "metadata": {},
     "output_type": "execute_result"
    }
   ],
   "source": [
    "# and now display the index b\n",
    "s3[criteria]"
   ]
  },
  {
   "cell_type": "code",
   "execution_count": 110,
   "metadata": {
    "collapsed": false
   },
   "outputs": [
    {
     "data": {
      "text/plain": [
       "b     6.0\n",
       "b     7.0\n",
       "b     7.0\n",
       "b     8.0\n",
       "b     8.0\n",
       "b     9.0\n",
       "b     9.0\n",
       "b    10.0\n",
       "dtype: float64"
      ]
     },
     "execution_count": 110,
     "metadata": {},
     "output_type": "execute_result"
    }
   ],
   "source": [
    "# Wait, wasn't that really repetitive?\n",
    "# of course! We could have just done\n",
    "s3.loc['b']"
   ]
  },
  {
   "cell_type": "code",
   "execution_count": 111,
   "metadata": {
    "collapsed": false
   },
   "outputs": [
    {
     "name": "stdout",
     "output_type": "stream",
     "text": [
      "10000 loops, best of 3: 135 µs per loop\n"
     ]
    }
   ],
   "source": [
    "%timeit s3.loc['b']"
   ]
  },
  {
   "cell_type": "code",
   "execution_count": 112,
   "metadata": {
    "collapsed": false
   },
   "outputs": [
    {
     "name": "stdout",
     "output_type": "stream",
     "text": [
      "1000 loops, best of 3: 479 µs per loop\n"
     ]
    }
   ],
   "source": [
    "%timeit s3[s3.index == 'b']"
   ]
  },
  {
   "cell_type": "code",
   "execution_count": 113,
   "metadata": {
    "collapsed": true
   },
   "outputs": [],
   "source": [
    "# 3-4 times faster"
   ]
  },
  {
   "cell_type": "markdown",
   "metadata": {},
   "source": [
    "### More complex boolean slicing\n",
    "Any number of boolean conditions can be strung together to retrieve certain values just as they can in python. Instead of `and` use the `&` symbol and instead of `or` use the `|` symbol and wrap each condition with a parentheses"
   ]
  },
  {
   "cell_type": "code",
   "execution_count": 114,
   "metadata": {
    "collapsed": true
   },
   "outputs": [],
   "source": [
    "# lets start with a long series of numbers\n",
    "s = pd.Series(np.arange(500))"
   ]
  },
  {
   "cell_type": "code",
   "execution_count": 115,
   "metadata": {
    "collapsed": true
   },
   "outputs": [],
   "source": [
    "#Lets get all the numbers that are divisible by both 2 and 13\n",
    "# or divisible by 100\n",
    "criteria = (s % 2 == 0) & (s % 13 == 0) | (s % 100 == 0)"
   ]
  },
  {
   "cell_type": "code",
   "execution_count": 116,
   "metadata": {
    "collapsed": false
   },
   "outputs": [
    {
     "data": {
      "text/plain": [
       "0        0\n",
       "26      26\n",
       "52      52\n",
       "78      78\n",
       "100    100\n",
       "104    104\n",
       "130    130\n",
       "156    156\n",
       "182    182\n",
       "200    200\n",
       "208    208\n",
       "234    234\n",
       "260    260\n",
       "286    286\n",
       "300    300\n",
       "312    312\n",
       "338    338\n",
       "364    364\n",
       "390    390\n",
       "400    400\n",
       "416    416\n",
       "442    442\n",
       "468    468\n",
       "494    494\n",
       "dtype: int64"
      ]
     },
     "execution_count": 116,
     "metadata": {},
     "output_type": "execute_result"
    }
   ],
   "source": [
    "# every number here must meet the above criteria\n",
    "s[criteria]"
   ]
  },
  {
   "cell_type": "code",
   "execution_count": 117,
   "metadata": {
    "collapsed": true
   },
   "outputs": [],
   "source": [
    "# we can also use aggregations in our boolean indexing\n",
    "# generate 500 mean = 0, std = 1 normal random variables\n",
    "# Multiply by 100 to get a larger spread and round to get whole numbers and add 300 to \n",
    "s = pd.Series(np.round(np.random.randn(500) * 100) + 300)"
   ]
  },
  {
   "cell_type": "code",
   "execution_count": 118,
   "metadata": {
    "collapsed": false
   },
   "outputs": [
    {
     "data": {
      "text/plain": [
       "305.0    7\n",
       "293.0    6\n",
       "314.0    5\n",
       "239.0    5\n",
       "218.0    5\n",
       "345.0    5\n",
       "341.0    5\n",
       "322.0    4\n",
       "292.0    4\n",
       "269.0    4\n",
       "dtype: int64"
      ]
     },
     "execution_count": 118,
     "metadata": {},
     "output_type": "execute_result"
    }
   ],
   "source": [
    "# Lets first get a quick look at the distribution of points\n",
    "# use value_counts method to get the most common number\n",
    "# since this is a normal distribution we would expect the numbers closest its mean(300) to show up the most\n",
    "# Since there are likely hundreds of unique points,use head to get the first n rows. n defaults to 5 if left blank\n",
    "s.value_counts().head(10)"
   ]
  },
  {
   "cell_type": "markdown",
   "metadata": {},
   "source": [
    "### Use boolean selection to test assumptions of normality\n",
    "Lets pretend we didn't know this data was generated from a normal distribution but wanted to test the assumption that 2/3 of data lie within 1 standard deviation from the mean. We will need both the mean and the standard deviation to get started."
   ]
  },
  {
   "cell_type": "code",
   "execution_count": 119,
   "metadata": {
    "collapsed": false
   },
   "outputs": [
    {
     "data": {
      "text/plain": [
       "(299.822, 97.52559047550129)"
      ]
     },
     "execution_count": 119,
     "metadata": {},
     "output_type": "execute_result"
    }
   ],
   "source": [
    "# get mean and std\n",
    "mean = s.mean()\n",
    "std = s.std()\n",
    "mean, std"
   ]
  },
  {
   "cell_type": "code",
   "execution_count": 120,
   "metadata": {
    "collapsed": true
   },
   "outputs": [],
   "source": [
    "# get a true value for every value less than 1 standard deviation away from normal\n",
    "criteria = abs(s - mean) / std < 1"
   ]
  },
  {
   "cell_type": "code",
   "execution_count": 121,
   "metadata": {
    "collapsed": false
   },
   "outputs": [],
   "source": [
    "# select only the true values\n",
    "s1 = s[criteria]"
   ]
  },
  {
   "cell_type": "code",
   "execution_count": 122,
   "metadata": {
    "collapsed": false
   },
   "outputs": [
    {
     "data": {
      "text/plain": [
       "(342, 342, 342)"
      ]
     },
     "execution_count": 122,
     "metadata": {},
     "output_type": "execute_result"
    }
   ],
   "source": [
    "# To see if 2/3 of the data remain we need the length of the series. There are many ways to get this\n",
    "len(s1), s1.size, s1.shape[0]"
   ]
  },
  {
   "cell_type": "code",
   "execution_count": 123,
   "metadata": {
    "collapsed": false
   },
   "outputs": [
    {
     "data": {
      "text/plain": [
       "0.684"
      ]
     },
     "execution_count": 123,
     "metadata": {},
     "output_type": "execute_result"
    }
   ],
   "source": [
    "#finally, divide the length of the above series by the length of the original series\n",
    "s1.size / s.size"
   ]
  },
  {
   "cell_type": "markdown",
   "metadata": {},
   "source": [
    "### How to check the entire series for truth\n",
    "Lets say we wanted to ensure that all observations were within 4 standard deviations (a very impropable outcome for any one event). We can use the .all or .any methods"
   ]
  },
  {
   "cell_type": "code",
   "execution_count": 124,
   "metadata": {
    "collapsed": false
   },
   "outputs": [
    {
     "data": {
      "text/plain": [
       "True"
      ]
     },
     "execution_count": 124,
     "metadata": {},
     "output_type": "execute_result"
    }
   ],
   "source": [
    "# find the criteria in one step\n",
    "s1 =  s[abs(s - mean) / std < 4]\n",
    "\n",
    "# Are all of them less than 4 std?\n",
    "s1.all()"
   ]
  },
  {
   "cell_type": "code",
   "execution_count": 125,
   "metadata": {
    "collapsed": false
   },
   "outputs": [
    {
     "data": {
      "text/plain": [
       "False"
      ]
     },
     "execution_count": 125,
     "metadata": {},
     "output_type": "execute_result"
    }
   ],
   "source": [
    "# alternatively you could ask if any of them were greater than 4 std deviations\n",
    "s1 =  s[abs(s - mean) / std > 4]\n",
    "s1.any()"
   ]
  },
  {
   "cell_type": "markdown",
   "metadata": {},
   "source": [
    "# Your Turn!\n",
    "We have covered quite a bit of material and now its your turn to practice. Since we are still getting our feet wet, these problems will be more monotonous and drill the basics of what we just covered."
   ]
  },
  {
   "cell_type": "markdown",
   "metadata": {},
   "source": [
    "## Problem 1\n",
    "<span  style=\"color:green; font-size:16px\">Create a 3 element pandas series by hand with characters as the index</span>"
   ]
  },
  {
   "cell_type": "code",
   "execution_count": 658,
   "metadata": {
    "collapsed": true
   },
   "outputs": [],
   "source": [
    "# your code here"
   ]
  },
  {
   "cell_type": "markdown",
   "metadata": {},
   "source": [
    "## Problem 2\n",
    "<span  style=\"color:green; font-size:16px\">Another way to create a series is to pass the pandas series constructor a dictionary. Make the keys as integers and the values as strings.</span>"
   ]
  },
  {
   "cell_type": "code",
   "execution_count": 659,
   "metadata": {
    "collapsed": true
   },
   "outputs": [],
   "source": [
    "# your code here"
   ]
  },
  {
   "cell_type": "markdown",
   "metadata": {},
   "source": [
    "## Problem 3\n",
    "<span  style=\"color:green; font-size:16px\">Create a series by passing the constructor a np.random.rand array. Make the array 1000 elements long and store it to a variable s (we will continually refer to this variable the rest of the problems). Reprint out all the series methods using the `dir` command and explore the use of at least 5 methods not used in the lecture above. idxmax is a good one to get you started. Use the help function or ? command or by pressing shift + tab + tab after parentheses opening to get help. No stackoverflow here :) </span>"
   ]
  },
  {
   "cell_type": "code",
   "execution_count": 660,
   "metadata": {
    "collapsed": true
   },
   "outputs": [],
   "source": [
    "# your code here"
   ]
  },
  {
   "cell_type": "markdown",
   "metadata": {},
   "source": [
    "## Problem 4\n",
    "<span  style=\"color:green; font-size:16px\"> Sort the series by descending value and save it to another variable s1</span>"
   ]
  },
  {
   "cell_type": "code",
   "execution_count": null,
   "metadata": {
    "collapsed": true
   },
   "outputs": [],
   "source": [
    "# your code here"
   ]
  },
  {
   "cell_type": "markdown",
   "metadata": {},
   "source": [
    "## Problem 5\n",
    "<span  style=\"color:green; font-size:16px\">Now re-sort the series s1 in place (meaning it will return None) by index ascending</span>"
   ]
  },
  {
   "cell_type": "code",
   "execution_count": null,
   "metadata": {
    "collapsed": true
   },
   "outputs": [],
   "source": [
    "# your code here"
   ]
  },
  {
   "cell_type": "markdown",
   "metadata": {},
   "source": [
    "## Problem 6\n",
    "<span  style=\"color:green; font-size:16px\">Use the series method all to and boolean logic to show that your series s equals s1</span>"
   ]
  },
  {
   "cell_type": "code",
   "execution_count": null,
   "metadata": {
    "collapsed": true
   },
   "outputs": [],
   "source": [
    "# your code here"
   ]
  },
  {
   "cell_type": "markdown",
   "metadata": {},
   "source": [
    "## Problem 7\n",
    "<span  style=\"color:green; font-size:16px\">Slicing! Using iloc, slice series s:<ol><li>Retrieve the first 6 elements</li><li>Retrieve every 18th element</li><li>Reverse the series</li><li>Write two ways to get every 4th element starting from the 993rd element to the 593rd</li><li>Chain your slicing multiple times by getting every other element, then every third element, then every 4th element, then every 5th element</li></ol>\n",
    "</span>"
   ]
  },
  {
   "cell_type": "code",
   "execution_count": null,
   "metadata": {
    "collapsed": true
   },
   "outputs": [],
   "source": [
    "# your code here (use keyboard shortcut ESC + B to make more cells below for each slice)"
   ]
  },
  {
   "cell_type": "markdown",
   "metadata": {},
   "source": [
    "## Problem 8\n",
    "<span  style=\"color:green; font-size:16px\">What will happen when you create two series that have no indexes in common and you add them together? Test it out by making two small series and adding them together</span>"
   ]
  },
  {
   "cell_type": "code",
   "execution_count": 661,
   "metadata": {
    "collapsed": true
   },
   "outputs": [],
   "source": [
    "# your code here"
   ]
  },
  {
   "cell_type": "markdown",
   "metadata": {},
   "source": [
    "## Problem 9\n",
    "<span  style=\"color:green; font-size:16px\"> Lookup the definition for interquartile range and smartly slice your way from series s until you are left with the IQR </span>"
   ]
  },
  {
   "cell_type": "code",
   "execution_count": null,
   "metadata": {
    "collapsed": true
   },
   "outputs": [],
   "source": [
    "# your code here"
   ]
  },
  {
   "cell_type": "markdown",
   "metadata": {},
   "source": [
    "## Problem 10\n",
    "<span  style=\"color:green; font-size:16px\">Find the interger position of the largest element in series s. Slice the series from the beginning to the largest element and find the cumulative product of the sliced series</span>"
   ]
  },
  {
   "cell_type": "code",
   "execution_count": null,
   "metadata": {
    "collapsed": true
   },
   "outputs": [],
   "source": [
    "# your problem here"
   ]
  },
  {
   "cell_type": "markdown",
   "metadata": {},
   "source": [
    "## Problem 11\n",
    "<span  style=\"color:green; font-size:16px\">A quick way to count the number of true values in a series is simply to sum it up as True = 1 and False = 0 in python. Find the number of values in series s less than 1.</span>"
   ]
  },
  {
   "cell_type": "code",
   "execution_count": null,
   "metadata": {
    "collapsed": true
   },
   "outputs": [],
   "source": [
    "# your code here"
   ]
  },
  {
   "cell_type": "markdown",
   "metadata": {},
   "source": [
    "## Problem 12\n",
    "<span  style=\"color:green; font-size:16px\">Use boolean indexing to get all numbers in series s between -1 and 1 except for those between -.3 and -.2</span>"
   ]
  },
  {
   "cell_type": "code",
   "execution_count": null,
   "metadata": {
    "collapsed": true
   },
   "outputs": [],
   "source": [
    "# your code here"
   ]
  },
  {
   "cell_type": "markdown",
   "metadata": {},
   "source": [
    "## Problem 13\n",
    "<span  style=\"color:green; font-size:16px\">Assign series s to s1 `s1 = s` and then change the value of the 0th element of s1 to 100. What has happened to s? We didn't talk about series assignment, but does it work as you would expect?</span>"
   ]
  },
  {
   "cell_type": "code",
   "execution_count": 676,
   "metadata": {
    "collapsed": true
   },
   "outputs": [],
   "source": [
    "#your code here"
   ]
  },
  {
   "cell_type": "markdown",
   "metadata": {},
   "source": [
    "## Problem 14\n",
    "<span  style=\"color:green; font-size:16px\">If you are getting a loooooooong output, think about using the `head` method to trim it down..... Continuing from the above problem, assign s to s1 but this time copy it over (research this) and then assign the 100 to the 0th element of s1. What happened to s this time? </span>"
   ]
  },
  {
   "cell_type": "code",
   "execution_count": null,
   "metadata": {
    "collapsed": true
   },
   "outputs": [],
   "source": [
    "# your code here"
   ]
  },
  {
   "cell_type": "markdown",
   "metadata": {},
   "source": [
    "## Problem 15\n",
    "<span  style=\"color:green; font-size:16px\">Assign every 2nd element of s1 the mean of s. What happened to s1? Is it the same size. Now assign elements 100 to 900 the variance of s. How much has s1 changed?</span>"
   ]
  },
  {
   "cell_type": "code",
   "execution_count": 682,
   "metadata": {
    "collapsed": false
   },
   "outputs": [],
   "source": [
    "# your code here"
   ]
  },
  {
   "cell_type": "markdown",
   "metadata": {},
   "source": [
    "## Problem 16\n",
    "<span  style=\"color:green; font-size:16px\">Using the del stament, can you delete every 5th element of a series?</span>"
   ]
  },
  {
   "cell_type": "code",
   "execution_count": 683,
   "metadata": {
    "collapsed": true
   },
   "outputs": [],
   "source": [
    "# your code here"
   ]
  }
 ],
 "metadata": {
  "kernelspec": {
   "display_name": "Python 3",
   "language": "python",
   "name": "python3"
  },
  "language_info": {
   "codemirror_mode": {
    "name": "ipython",
    "version": 3
   },
   "file_extension": ".py",
   "mimetype": "text/x-python",
   "name": "python",
   "nbconvert_exporter": "python",
   "pygments_lexer": "ipython3",
   "version": "3.5.1"
  }
 },
 "nbformat": 4,
 "nbformat_minor": 0
}
