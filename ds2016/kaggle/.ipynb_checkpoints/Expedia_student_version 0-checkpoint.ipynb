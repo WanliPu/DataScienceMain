{
 "cells": [
  {
   "cell_type": "code",
   "execution_count": 1,
   "metadata": {
    "collapsed": false
   },
   "outputs": [],
   "source": [
    "import datetime\n",
    "import pandas as pd\n",
    "import numpy as np\n",
    "import matplotlib.pyplot as plt\n",
    "%matplotlib inline\n",
    "\n",
    "from sklearn.ensemble import RandomForestClassifier\n",
    "from sklearn.cross_validation import train_test_split\n",
    "import ml_metrics as metrics"
   ]
  },
  {
   "cell_type": "code",
   "execution_count": 2,
   "metadata": {
    "collapsed": false
   },
   "outputs": [],
   "source": [
    "dtype={'is_booking':bool,\n",
    "        'srch_ci' : np.str_,\n",
    "        'srch_co' : np.str_,\n",
    "        'srch_adults_cnt' : np.int32,\n",
    "        'srch_children_cnt' : np.int32,\n",
    "        'srch_rm_cnt' : np.int32,\n",
    "        'srch_destination_id':np.str_,\n",
    "        'user_location_country' : np.str_,\n",
    "        'user_location_region' : np.str_,\n",
    "        'user_location_city' : np.str_,\n",
    "        'hotel_cluster' : np.str_,\n",
    "        'orig_destination_distance':np.float64,\n",
    "        'date_time':np.str_,\n",
    "        'hotel_market':np.str_}"
   ]
  },
  {
   "cell_type": "code",
   "execution_count": 3,
   "metadata": {
    "collapsed": false
   },
   "outputs": [],
   "source": [
    "df0 = pd.read_csv('train.csv',dtype=dtype, usecols=dtype, parse_dates=['date_time'] ,sep=',',nrows=2000000)"
   ]
  },
  {
   "cell_type": "code",
   "execution_count": 4,
   "metadata": {
    "collapsed": false
   },
   "outputs": [
    {
     "data": {
      "text/plain": [
       "(64532, 15)"
      ]
     },
     "execution_count": 4,
     "metadata": {},
     "output_type": "execute_result"
    }
   ],
   "source": [
    "# take data from 2014 as sampling 50%\n",
    "df0['year']=df0['date_time'].dt.year\n",
    "train = df0.query('is_booking==True & year==2014').sample(frac=0.6)\n",
    "train.shape"
   ]
  },
  {
   "cell_type": "code",
   "execution_count": null,
   "metadata": {
    "collapsed": true
   },
   "outputs": [],
   "source": [
    "train.isnull().sum(axis = 0)"
   ]
  },
  {
   "cell_type": "markdown",
   "metadata": {},
   "source": [
    "# Feature Engineering"
   ]
  },
  {
   "cell_type": "code",
   "execution_count": 5,
   "metadata": {
    "collapsed": false
   },
   "outputs": [],
   "source": [
    "#datetime features\n",
    "train['srch_ci']=pd.to_datetime(train['srch_ci'],infer_datetime_format = True,errors='coerce')\n",
    "train['srch_co']=pd.to_datetime(train['srch_co'],infer_datetime_format = True,errors='coerce')\n",
    "\n",
    "train['month']= train['date_time'].dt.month\n",
    "train['plan_time'] = ((train['srch_ci']-train['date_time'])/np.timedelta64(1,'D')).astype(float)\n",
    "train['hotel_nights']=((train['srch_co']-train['srch_ci'])/np.timedelta64(1,'D')).astype(float)"
   ]
  },
  {
   "cell_type": "code",
   "execution_count": 6,
   "metadata": {
    "collapsed": false
   },
   "outputs": [],
   "source": [
    "#fill Missing Values\n",
    "\n",
    "#fill orig_destination_distance with mean\n",
    "m=train.orig_destination_distance.mean()\n",
    "train['orig_destination_distance']=train.orig_destination_distance.fillna(m)\n",
    "\n",
    "#fill missing dates with -1\n",
    "train.fillna(-1,inplace=True)"
   ]
  },
  {
   "cell_type": "code",
   "execution_count": 7,
   "metadata": {
    "collapsed": false
   },
   "outputs": [],
   "source": [
    "lst_drop=['date_time','srch_ci','srch_co']\n",
    "train.drop(lst_drop,axis=1,inplace=True)"
   ]
  },
  {
   "cell_type": "code",
   "execution_count": 8,
   "metadata": {
    "collapsed": false
   },
   "outputs": [],
   "source": [
    "y=train['hotel_cluster']\n",
    "X=train.drop(['hotel_cluster','is_booking','year'],axis=1)"
   ]
  },
  {
   "cell_type": "code",
   "execution_count": 9,
   "metadata": {
    "collapsed": false
   },
   "outputs": [
    {
     "data": {
      "text/plain": [
       "((64532,), (64532, 12))"
      ]
     },
     "execution_count": 9,
     "metadata": {},
     "output_type": "execute_result"
    }
   ],
   "source": [
    "y.shape,X.shape"
   ]
  },
  {
   "cell_type": "markdown",
   "metadata": {},
   "source": [
    "# Validation within sampled training set"
   ]
  },
  {
   "cell_type": "code",
   "execution_count": 10,
   "metadata": {
    "collapsed": false
   },
   "outputs": [],
   "source": [
    "X_train, X_test, y_train, y_test = train_test_split(X,y, test_size=0.33)"
   ]
  },
  {
   "cell_type": "code",
   "execution_count": 11,
   "metadata": {
    "collapsed": false
   },
   "outputs": [
    {
     "data": {
      "text/plain": [
       "RandomForestClassifier(bootstrap=True, class_weight=None, criterion='gini',\n",
       "            max_depth=10, max_features='auto', max_leaf_nodes=None,\n",
       "            min_samples_leaf=1, min_samples_split=2,\n",
       "            min_weight_fraction_leaf=0.0, n_estimators=31, n_jobs=1,\n",
       "            oob_score=False, random_state=123, verbose=0, warm_start=False)"
      ]
     },
     "execution_count": 11,
     "metadata": {},
     "output_type": "execute_result"
    }
   ],
   "source": [
    "rf_tree = RandomForestClassifier(n_estimators=31,max_depth=10,random_state=123)\n",
    "rf_tree.fit(X_train,y_train)"
   ]
  },
  {
   "cell_type": "code",
   "execution_count": 12,
   "metadata": {
    "collapsed": false
   },
   "outputs": [],
   "source": [
    "importance = rf_tree.feature_importances_"
   ]
  },
  {
   "cell_type": "code",
   "execution_count": 13,
   "metadata": {
    "collapsed": false
   },
   "outputs": [],
   "source": [
    "indices=np.argsort(importance)[::-1][:10]"
   ]
  },
  {
   "cell_type": "code",
   "execution_count": 14,
   "metadata": {
    "collapsed": false
   },
   "outputs": [
    {
     "data": {
      "text/plain": [
       "array([ 0.22613951,  0.16552908,  0.1198523 ,  0.09751931,  0.0812841 ,\n",
       "        0.07896573,  0.06066776,  0.0527326 ,  0.05046607,  0.03007903])"
      ]
     },
     "execution_count": 14,
     "metadata": {},
     "output_type": "execute_result"
    }
   ],
   "source": [
    "importance[indices]"
   ]
  },
  {
   "cell_type": "code",
   "execution_count": 15,
   "metadata": {
    "collapsed": false
   },
   "outputs": [
    {
     "data": {
      "image/png": "[encoded data removed]",
      "text/plain": [
       "<matplotlib.figure.Figure at 0x101e2dd90>"
      ]
     },
     "metadata": {},
     "output_type": "display_data"
    }
   ],
   "source": [
    "plt.barh(range(10), importance[indices],color='r')\n",
    "plt.yticks(range(10),X_train.columns[indices])\n",
    "plt.xlabel('Feature Importance')\n",
    "plt.show()"
   ]
  },
  {
   "cell_type": "code",
   "execution_count": 16,
   "metadata": {
    "collapsed": false
   },
   "outputs": [],
   "source": [
    "dict_cluster = {}\n",
    "for (k,v) in enumerate(rf_tree.classes_):\n",
    "    dict_cluster[k] = v"
   ]
  },
  {
   "cell_type": "code",
   "execution_count": 17,
   "metadata": {
    "collapsed": true
   },
   "outputs": [],
   "source": [
    "y_pred=rf_tree.predict_proba(X_test)\n",
    "#take largest 5 probablities' indexes\n",
    "a=y_pred.argsort(axis=1)[:,-5:]"
   ]
  },
  {
   "cell_type": "code",
   "execution_count": 18,
   "metadata": {
    "collapsed": true
   },
   "outputs": [],
   "source": [
    "#take the corresonding cluster of the 5 top indices\n",
    "b = []\n",
    "for i in a.flatten():\n",
    "    b.append(dict_cluster.get(i))"
   ]
  },
  {
   "cell_type": "code",
   "execution_count": 19,
   "metadata": {
    "collapsed": false
   },
   "outputs": [],
   "source": [
    "cluster_pred = np.array(b).reshape(a.shape)"
   ]
  },
  {
   "cell_type": "code",
   "execution_count": 20,
   "metadata": {
    "collapsed": false
   },
   "outputs": [
    {
     "data": {
      "text/plain": [
       "array([['78', '5', '82', '2', '28'],\n",
       "       ['58', '59', '64', '46', '37'],\n",
       "       ['91', '48', '40', '33', '42'],\n",
       "       ..., \n",
       "       ['98', '70', '42', '91', '48'],\n",
       "       ['18', '21', '48', '95', '91'],\n",
       "       ['59', '2', '25', '11', '64']], \n",
       "      dtype='|S2')"
      ]
     },
     "execution_count": 20,
     "metadata": {},
     "output_type": "execute_result"
    }
   ],
   "source": [
    "cluster_pred"
   ]
  },
  {
   "cell_type": "code",
   "execution_count": 21,
   "metadata": {
    "collapsed": false
   },
   "outputs": [
    {
     "name": "stdout",
     "output_type": "stream",
     "text": [
      "('score:', 0.083023807287753576)\n"
     ]
    }
   ],
   "source": [
    "print(\"score:\",metrics.mapk(y_test,cluster_pred,k=5))"
   ]
  },
  {
   "cell_type": "markdown",
   "metadata": {},
   "source": [
    "# Train on sampled training data and Predict on partial test data"
   ]
  },
  {
   "cell_type": "code",
   "execution_count": 22,
   "metadata": {
    "collapsed": false
   },
   "outputs": [],
   "source": [
    "#import and process test data\n",
    "dtype1={'srch_ci' : np.str_,\n",
    "        'srch_co' : np.str_,\n",
    "        'srch_adults_cnt' : np.int32,\n",
    "        'srch_children_cnt' : np.int32,\n",
    "        'srch_rm_cnt' : np.int32,\n",
    "        'srch_destination_id':np.str_,\n",
    "        'user_location_country' : np.str_,\n",
    "        'user_location_region' : np.str_,\n",
    "        'user_location_city' : np.str_,\n",
    "        'orig_destination_distance':np.float64,\n",
    "        'date_time':np.str_,\n",
    "        'hotel_market':np.str_}"
   ]
  },
  {
   "cell_type": "code",
   "execution_count": 23,
   "metadata": {
    "collapsed": false
   },
   "outputs": [],
   "source": [
    "test = pd.read_csv('test.csv',dtype=dtype1,usecols=dtype1,parse_dates=['date_time'] ,sep=',')\n",
    "test['srch_ci']=pd.to_datetime(test['srch_ci'],infer_datetime_format = True,errors='coerce')\n",
    "test['srch_co']=pd.to_datetime(test['srch_co'],infer_datetime_format = True,errors='coerce')\n",
    "\n",
    "test['month']=test['date_time'].dt.month\n",
    "test['plan_time'] = ((test['srch_ci']-test['date_time'])/np.timedelta64(1,'D')).astype(float)\n",
    "test['hotel_nights']=((test['srch_co']-test['srch_ci'])/np.timedelta64(1,'D')).astype(float)\n",
    "\n",
    "n=test.orig_destination_distance.mean()\n",
    "test['orig_destination_distance']=test.orig_destination_distance.fillna(m)\n",
    "test.fillna(-1,inplace=True)\n"
   ]
  },
  {
   "cell_type": "code",
   "execution_count": 24,
   "metadata": {
    "collapsed": false
   },
   "outputs": [],
   "source": [
    "test1=test.sample(frac=0.05)"
   ]
  },
  {
   "cell_type": "code",
   "execution_count": 25,
   "metadata": {
    "collapsed": false
   },
   "outputs": [
    {
     "data": {
      "text/plain": [
       "((126412, 15), (64532, 15))"
      ]
     },
     "execution_count": 25,
     "metadata": {},
     "output_type": "execute_result"
    }
   ],
   "source": [
    "test1.shape, train.shape"
   ]
  },
  {
   "cell_type": "code",
   "execution_count": 26,
   "metadata": {
    "collapsed": true
   },
   "outputs": [],
   "source": [
    "lst_drop=['date_time','srch_ci','srch_co']\n",
    "test1.drop(lst_drop,axis=1, inplace=True)"
   ]
  },
  {
   "cell_type": "code",
   "execution_count": 30,
   "metadata": {
    "collapsed": false
   },
   "outputs": [],
   "source": [
    "target=train['hotel_cluster']\n",
    "train1=train.drop(['hotel_cluster','is_booking','year'],axis=1)"
   ]
  },
  {
   "cell_type": "code",
   "execution_count": 33,
   "metadata": {
    "collapsed": false
   },
   "outputs": [
    {
     "data": {
      "text/plain": [
       "((64532, 12), (126412, 12))"
      ]
     },
     "execution_count": 33,
     "metadata": {},
     "output_type": "execute_result"
    }
   ],
   "source": [
    "train1.shape, test1.shape"
   ]
  },
  {
   "cell_type": "code",
   "execution_count": 34,
   "metadata": {
    "collapsed": false
   },
   "outputs": [
    {
     "data": {
      "text/plain": [
       "RandomForestClassifier(bootstrap=True, class_weight=None, criterion='gini',\n",
       "            max_depth=10, max_features='auto', max_leaf_nodes=None,\n",
       "            min_samples_leaf=1, min_samples_split=2,\n",
       "            min_weight_fraction_leaf=0.0, n_estimators=31, n_jobs=1,\n",
       "            oob_score=False, random_state=123, verbose=0, warm_start=False)"
      ]
     },
     "execution_count": 34,
     "metadata": {},
     "output_type": "execute_result"
    }
   ],
   "source": [
    "#on All training sample\n",
    "rf_all = RandomForestClassifier(n_estimators=31,max_depth=10,random_state=123)\n",
    "rf_all.fit(train1,target)"
   ]
  },
  {
   "cell_type": "code",
   "execution_count": 35,
   "metadata": {
    "collapsed": false
   },
   "outputs": [
    {
     "data": {
      "image/png": "[encoded data removed]",
      "text/plain": [
       "<matplotlib.figure.Figure at 0x101ae4e90>"
      ]
     },
     "metadata": {},
     "output_type": "display_data"
    }
   ],
   "source": [
    "importance = rf_all.feature_importances_\n",
    "indices=np.argsort(importance)[::-1][:10]\n",
    "importance[indices]\n",
    "\n",
    "plt.barh(range(10), importance[indices],color='r')\n",
    "plt.yticks(range(10),train1.columns[indices])\n",
    "plt.xlabel('Feature Importance')\n",
    "plt.show()"
   ]
  },
  {
   "cell_type": "code",
   "execution_count": 36,
   "metadata": {
    "collapsed": false
   },
   "outputs": [],
   "source": [
    "y_pred=rf_all.predict_proba(test1)"
   ]
  },
  {
   "cell_type": "code",
   "execution_count": 37,
   "metadata": {
    "collapsed": false
   },
   "outputs": [
    {
     "data": {
      "text/plain": [
       "array([[ 0.00308839,  0.00026104,  0.00825115, ...,  0.00291684,\n",
       "         0.00532073,  0.00809091],\n",
       "       [ 0.01228809,  0.00135506,  0.00775856, ...,  0.01887751,\n",
       "         0.01015955,  0.02648091],\n",
       "       [ 0.01020045,  0.00340528,  0.00681203, ...,  0.00740423,\n",
       "         0.01982303,  0.00701485],\n",
       "       ..., \n",
       "       [ 0.00305509,  0.        ,  0.00953475, ...,  0.00621128,\n",
       "         0.00138713,  0.05696345],\n",
       "       [ 0.01032881,  0.03660085,  0.01603377, ...,  0.01724432,\n",
       "         0.03086507,  0.01196788],\n",
       "       [ 0.00651711,  0.00016049,  0.00631528, ...,  0.00654724,\n",
       "         0.00422   ,  0.01309574]])"
      ]
     },
     "execution_count": 37,
     "metadata": {},
     "output_type": "execute_result"
    }
   ],
   "source": [
    "y_pred"
   ]
  },
  {
   "cell_type": "code",
   "execution_count": 38,
   "metadata": {
    "collapsed": false
   },
   "outputs": [],
   "source": [
    "#take largest 5 probablities' indexes\n",
    "a=y_pred.argsort(axis=1)[:,-5:]"
   ]
  },
  {
   "cell_type": "code",
   "execution_count": 39,
   "metadata": {
    "collapsed": false
   },
   "outputs": [
    {
     "data": {
      "text/plain": [
       "array([[38, 81, 43, 37, 91],\n",
       "       [55, 99, 33, 61, 81],\n",
       "       [46, 75, 37, 43, 91],\n",
       "       ..., \n",
       "       [30, 59, 38, 99, 45],\n",
       "       [31, 91, 36, 98,  1],\n",
       "       [54, 57, 61, 92, 60]])"
      ]
     },
     "execution_count": 39,
     "metadata": {},
     "output_type": "execute_result"
    }
   ],
   "source": [
    "a"
   ]
  },
  {
   "cell_type": "code",
   "execution_count": 40,
   "metadata": {
    "collapsed": false
   },
   "outputs": [],
   "source": [
    "dict_cluster = {}\n",
    "for (k,v) in enumerate(rf_tree.classes_):\n",
    "    dict_cluster[k] = v"
   ]
  },
  {
   "cell_type": "code",
   "execution_count": 41,
   "metadata": {
    "collapsed": false
   },
   "outputs": [],
   "source": [
    "b = []\n",
    "for i in a.flatten():\n",
    "    b.append(dict_cluster.get(i))\n",
    "predict_class=np.array(b).reshape(a.shape)"
   ]
  },
  {
   "cell_type": "code",
   "execution_count": 42,
   "metadata": {
    "collapsed": false
   },
   "outputs": [
    {
     "data": {
      "text/plain": [
       "array([['43', '82', '48', '42', '91'],\n",
       "       ['59', '99', '39', '64', '82'],\n",
       "       ['50', '77', '42', '48', '91'],\n",
       "       ..., \n",
       "       ['36', '62', '43', '99', '5'],\n",
       "       ['37', '91', '41', '98', '1'],\n",
       "       ['58', '60', '64', '92', '63']], \n",
       "      dtype='|S2')"
      ]
     },
     "execution_count": 42,
     "metadata": {},
     "output_type": "execute_result"
    }
   ],
   "source": [
    "predict_class"
   ]
  },
  {
   "cell_type": "code",
   "execution_count": 43,
   "metadata": {
    "collapsed": true
   },
   "outputs": [],
   "source": [
    "predict_class=map(lambda x: ' '.join(map(str,x)), predict_class)"
   ]
  },
  {
   "cell_type": "code",
   "execution_count": 44,
   "metadata": {
    "collapsed": false
   },
   "outputs": [
    {
     "data": {
      "text/plain": [
       "['43 82 48 42 91',\n",
       " '59 99 39 64 82',\n",
       " '50 77 42 48 91',\n",
       " '64 21 25 2 59',\n",
       " '71 91 98 56 70',\n",
       " '41 77 56 76 98',\n",
       " '59 82 36 64 2',\n",
       " '91 46 90 23 36',\n",
       " '43 62 80 67 82',\n",
       " '32 50 42 48 91',\n",
       " '59 82 97 46 64',\n",
       " '18 50 72 48 91',\n",
       " '65 96 0 21 26',\n",
       " '46 62 81 58 63',\n",
       " '58 59 29 64 46',\n",
       " '34 87 66 52 65',\n",
       " '43 37 48 82 36',\n",
       " '72 18 13 48 91',\n",
       " '82 2 58 78 21',\n",
       " '16 28 95 42 91',\n",
       " '82 36 58 46 59',\n",
       " '16 50 48 42 91',\n",
       " '32 28 42 48 91',\n",
       " '82 28 48 42 91',\n",
       " '32 28 48 42 91',\n",
       " '98 11 25 97 64',\n",
       " '32 7 48 42 91',\n",
       " '48 42 95 91 28',\n",
       " '9 64 70 56 98',\n",
       " '91 45 79 54 1',\n",
       " '67 43 46 62 82',\n",
       " '28 42 39 48 91',\n",
       " '39 82 42 48 91',\n",
       " '91 48 42 28 16',\n",
       " '30 67 85 62 82',\n",
       " '81 91 98 82 64',\n",
       " '41 48 18 42 91',\n",
       " '46 16 63 36 61',\n",
       " '85 91 82 48 61',\n",
       " '33 41 98 55 56',\n",
       " '20 59 90 68 4',\n",
       " '42 68 91 28 48',\n",
       " '72 18 95 48 91',\n",
       " '95 48 42 98 91',\n",
       " '37 29 59 64 2',\n",
       " '68 18 48 95 91',\n",
       " '58 46 5 82 15',\n",
       " '59 11 25 64 2',\n",
       " '2 25 64 98 59',\n",
       " '95 18 70 48 91',\n",
       " '59 62 46 64 82',\n",
       " '8 46 26 97 64',\n",
       " '46 9 64 29 2',\n",
       " '82 64 61 99 5',\n",
       " '46 82 25 64 2',\n",
       " '95 41 39 48 91',\n",
       " '46 64 59 82 99',\n",
       " '36 46 5 30 78',\n",
       " '97 11 5 64 25',\n",
       " '18 7 42 48 91',\n",
       " '50 18 98 70 91',\n",
       " '48 42 70 98 91',\n",
       " '78 63 47 29 82',\n",
       " '59 9 64 46 36',\n",
       " '42 43 81 91 82',\n",
       " '58 64 62 67 36',\n",
       " '82 67 20 36 46',\n",
       " '28 48 54 42 91',\n",
       " '55 95 48 91 1',\n",
       " '9 99 22 8 64',\n",
       " '59 61 62 36 82',\n",
       " '2 64 37 9 25',\n",
       " '58 36 67 82 46',\n",
       " '16 42 48 6 91',\n",
       " '49 95 59 98 9',\n",
       " '5 11 2 64 25',\n",
       " '58 64 36 46 81',\n",
       " '81 85 36 82 62',\n",
       " '82 36 2 46 67',\n",
       " '18 16 48 42 91',\n",
       " '11 64 97 25 98',\n",
       " '98 91 4 21 19',\n",
       " '25 59 46 11 64',\n",
       " '18 28 95 48 91',\n",
       " '5 81 82 36 62',\n",
       " '50 28 48 42 91',\n",
       " '13 50 48 39 91',\n",
       " '16 28 95 42 91',\n",
       " '95 28 16 4 91',\n",
       " '62 43 59 2 82',\n",
       " '18 95 28 42 91',\n",
       " '48 4 98 91 21',\n",
       " '62 28 7 29 82',\n",
       " '18 42 28 48 91',\n",
       " '91 70 56 41 98',\n",
       " '96 87 52 66 65',\n",
       " '42 18 48 95 91',\n",
       " '93 28 48 42 91',\n",
       " '54 24 79 45 1',\n",
       " '32 50 42 48 91',\n",
       " '5 62 82 81 36',\n",
       " '64 98 9 25 59',\n",
       " '32 28 48 42 91',\n",
       " '50 28 48 42 91',\n",
       " '78 62 36 82 67',\n",
       " '50 47 18 48 91',\n",
       " '58 64 62 46 82',\n",
       " '95 65 34 0 91',\n",
       " '28 18 91 98 70',\n",
       " '32 28 42 48 91',\n",
       " '36 81 85 62 82',\n",
       " '32 7 42 48 91',\n",
       " '50 16 42 48 91',\n",
       " '48 13 42 50 91',\n",
       " '88 54 79 45 1',\n",
       " '28 95 18 48 91',\n",
       " '50 48 33 42 91',\n",
       " '62 36 46 82 64',\n",
       " '13 28 48 42 91',\n",
       " '39 42 91 48 32',\n",
       " '16 18 48 95 91',\n",
       " '61 82 62 59 36',\n",
       " '7 48 42 32 91',\n",
       " '64 41 56 70 98',\n",
       " '28 32 48 42 91',\n",
       " '32 7 48 42 91',\n",
       " '42 48 28 78 91',\n",
       " '2 68 30 78 14',\n",
       " '50 48 28 42 91',\n",
       " '95 70 91 98 56',\n",
       " '48 18 68 95 91',\n",
       " '42 32 39 91 48',\n",
       " '13 28 48 42 91',\n",
       " '62 28 12 90 16',\n",
       " '99 5 2 25 64',\n",
       " '41 95 48 42 91',\n",
       " '16 18 48 42 91',\n",
       " '32 43 48 42 91',\n",
       " '46 59 82 81 0',\n",
       " '16 34 42 48 91',\n",
       " '81 59 82 62 36',\n",
       " '16 32 42 48 91',\n",
       " '9 2 65 46 95',\n",
       " '78 42 48 82 81',\n",
       " '42 70 95 98 91',\n",
       " '5 46 98 29 99',\n",
       " '32 7 42 48 91',\n",
       " '70 56 64 82 98',\n",
       " '91 1 41 56 98',\n",
       " '82 14 67 36 64',\n",
       " '2 64 46 62 82',\n",
       " '13 28 42 48 91',\n",
       " '46 82 25 2 59',\n",
       " '59 36 62 58 46',\n",
       " '47 98 95 50 91',\n",
       " '28 23 39 48 91',\n",
       " '16 28 48 42 91',\n",
       " '5 22 59 8 64',\n",
       " '95 98 0 91 34',\n",
       " '32 16 42 48 91',\n",
       " '46 25 29 2 64',\n",
       " '64 46 58 80 63',\n",
       " '28 42 48 50 91',\n",
       " '59 98 64 9 97',\n",
       " '42 39 28 48 91',\n",
       " '0 46 67 64 26',\n",
       " '70 91 1 9 98',\n",
       " '56 70 41 91 98',\n",
       " '95 18 48 42 91',\n",
       " '70 41 91 98 56',\n",
       " '28 18 48 42 91',\n",
       " '61 29 62 90 67',\n",
       " '18 48 42 13 91',\n",
       " '28 32 42 48 91',\n",
       " '91 45 79 54 1',\n",
       " '42 28 39 48 91',\n",
       " '82 85 36 12 81',\n",
       " '42 98 70 56 91',\n",
       " '77 18 48 42 91',\n",
       " '98 9 36 82 64',\n",
       " '16 28 42 48 91',\n",
       " '59 99 29 2 64',\n",
       " '98 91 70 56 41',\n",
       " '32 7 48 42 91',\n",
       " '70 91 98 56 13',\n",
       " '95 49 10 21 59',\n",
       " '98 28 48 42 91',\n",
       " '22 2 82 36 43',\n",
       " '97 9 25 64 98',\n",
       " '47 50 39 48 91',\n",
       " '62 29 46 36 82',\n",
       " '50 28 42 48 91',\n",
       " '64 68 2 59 46',\n",
       " '33 48 16 91 95',\n",
       " '36 64 58 62 82',\n",
       " '68 59 98 95 2',\n",
       " '28 18 48 95 91',\n",
       " '82 99 58 91 16',\n",
       " '50 28 42 48 91',\n",
       " '84 26 52 66 65',\n",
       " '98 64 21 25 59',\n",
       " '50 28 48 42 91',\n",
       " '72 56 70 91 41',\n",
       " '16 50 48 42 91',\n",
       " '66 0 87 52 65',\n",
       " '43 62 36 67 82',\n",
       " '42 28 70 91 48',\n",
       " '28 50 48 42 91',\n",
       " '99 36 82 62 5',\n",
       " '50 48 28 91 4',\n",
       " '2 82 62 5 59',\n",
       " '32 7 42 48 91',\n",
       " '96 87 52 65 66',\n",
       " '32 7 48 42 91',\n",
       " '4 42 95 28 91',\n",
       " '29 59 62 99 64',\n",
       " '19 48 4 42 91',\n",
       " '62 21 82 99 5',\n",
       " '46 2 25 64 58',\n",
       " '36 62 29 59 46',\n",
       " '50 32 42 48 91',\n",
       " '50 28 42 48 91',\n",
       " '17 82 98 64 9',\n",
       " '9 62 81 36 46',\n",
       " '77 16 48 42 91',\n",
       " '81 99 46 64 12',\n",
       " '69 70 98 41 56',\n",
       " '62 83 68 67 5',\n",
       " '16 33 42 48 91',\n",
       " '95 18 42 48 91',\n",
       " '42 28 95 48 91',\n",
       " '54 24 45 79 1',\n",
       " '16 28 48 42 91',\n",
       " '61 22 8 82 62',\n",
       " '42 28 18 91 95',\n",
       " '98 18 59 91 95',\n",
       " '47 50 39 48 91',\n",
       " '48 98 63 91 82',\n",
       " '32 28 42 48 91',\n",
       " '50 28 48 42 91',\n",
       " '95 42 18 48 91',\n",
       " '68 42 48 45 91',\n",
       " '39 28 48 42 91',\n",
       " '29 59 82 62 36',\n",
       " '41 91 98 70 56',\n",
       " '7 32 42 48 91',\n",
       " '28 41 48 42 91',\n",
       " '62 64 11 25 2',\n",
       " '90 78 67 36 43',\n",
       " '28 47 42 91 48',\n",
       " '82 64 5 59 8',\n",
       " '66 31 87 52 65',\n",
       " '42 48 18 95 91',\n",
       " '81 46 85 62 82',\n",
       " '28 50 39 48 91',\n",
       " '28 32 48 42 91',\n",
       " '15 99 82 62 85',\n",
       " '82 85 62 21 2',\n",
       " '72 39 42 48 91',\n",
       " '32 39 48 42 91',\n",
       " '28 50 42 48 91',\n",
       " '90 42 48 1 91',\n",
       " '25 21 49 98 59',\n",
       " '48 98 41 28 91',\n",
       " '82 46 64 36 59',\n",
       " '28 50 42 48 91',\n",
       " '46 2 29 25 64',\n",
       " '65 84 73 0 26',\n",
       " '82 62 46 36 59',\n",
       " '50 28 48 42 91',\n",
       " '98 18 48 95 91',\n",
       " '16 28 48 42 91',\n",
       " '82 99 83 25 2',\n",
       " '4 28 48 55 91',\n",
       " '2 8 25 64 59',\n",
       " '28 42 48 32 91',\n",
       " '50 42 98 91 48',\n",
       " '82 12 36 46 67',\n",
       " '95 28 48 18 91',\n",
       " '64 62 82 5 78',\n",
       " '81 46 85 82 36',\n",
       " '97 41 70 98 56',\n",
       " '36 82 46 59 41',\n",
       " '47 82 48 91 42',\n",
       " '42 95 94 48 91',\n",
       " '50 16 42 48 91',\n",
       " '91 41 70 98 56',\n",
       " '16 28 42 48 91',\n",
       " '46 2 36 82 59',\n",
       " '12 64 36 81 46',\n",
       " '46 90 64 78 2',\n",
       " '13 28 42 48 91',\n",
       " '9 98 18 95 91',\n",
       " '18 16 42 48 91',\n",
       " '62 82 2 16 5',\n",
       " '69 70 41 98 56',\n",
       " '43 46 62 67 82',\n",
       " '28 46 44 21 59',\n",
       " '18 42 98 95 91',\n",
       " '98 48 95 28 91',\n",
       " '18 16 42 48 91',\n",
       " '32 50 42 48 91',\n",
       " '2 99 8 22 64',\n",
       " '42 18 48 95 91',\n",
       " '28 42 32 48 91',\n",
       " '58 62 78 82 67',\n",
       " '28 42 39 48 91',\n",
       " '26 0 52 66 65',\n",
       " '42 28 18 95 91',\n",
       " '68 70 41 95 91',\n",
       " '18 95 4 48 91',\n",
       " '46 26 64 66 65',\n",
       " '2 38 25 59 62',\n",
       " '62 11 36 82 64',\n",
       " '37 59 9 64 46',\n",
       " '50 42 43 48 91',\n",
       " '67 90 46 48 82',\n",
       " '36 25 46 99 64',\n",
       " '28 48 42 98 91',\n",
       " '29 55 9 2 58',\n",
       " '97 82 59 46 64',\n",
       " '95 56 42 98 91',\n",
       " '50 28 42 48 91',\n",
       " '62 82 99 21 59',\n",
       " '81 78 59 8 82',\n",
       " '32 28 48 42 91',\n",
       " '81 91 62 43 82',\n",
       " '17 52 96 66 65',\n",
       " '28 48 50 42 91',\n",
       " '82 61 62 99 30',\n",
       " '41 50 48 42 91',\n",
       " '42 18 48 95 91',\n",
       " '81 82 30 62 36',\n",
       " '36 46 81 62 58',\n",
       " '59 5 25 21 64',\n",
       " '9 41 95 68 91',\n",
       " '62 36 59 82 46',\n",
       " '48 98 91 70 56',\n",
       " '59 81 82 36 62',\n",
       " '7 32 42 48 91',\n",
       " '36 81 62 12 99',\n",
       " '64 46 27 63 58',\n",
       " '42 79 91 1 54',\n",
       " '35 8 46 97 64',\n",
       " '43 61 62 67 82',\n",
       " '78 41 2 82 62',\n",
       " '1 39 32 48 91',\n",
       " '42 28 48 94 91',\n",
       " '50 18 48 39 91',\n",
       " '91 48 79 45 1',\n",
       " '58 43 62 67 82',\n",
       " '29 36 81 64 46',\n",
       " '79 95 45 91 1',\n",
       " '48 95 37 28 91',\n",
       " '61 82 78 46 36',\n",
       " '82 58 46 59 0',\n",
       " '32 28 42 48 91',\n",
       " '21 95 91 28 4',\n",
       " '5 36 29 62 82',\n",
       " '28 48 95 42 91',\n",
       " '18 42 94 48 91',\n",
       " '41 28 42 48 91',\n",
       " '41 18 48 91 95',\n",
       " '82 58 63 46 36',\n",
       " '42 18 48 95 91',\n",
       " '39 42 32 48 91',\n",
       " '46 81 36 12 59',\n",
       " '2 46 26 59 64',\n",
       " '82 36 67 64 78',\n",
       " '16 28 42 48 91',\n",
       " '42 48 18 95 91',\n",
       " '18 39 28 48 91',\n",
       " '97 41 70 98 56',\n",
       " '81 62 36 64 82',\n",
       " '63 37 25 64 9',\n",
       " '11 59 21 64 25',\n",
       " '95 48 42 28 91',\n",
       " '16 48 28 42 91',\n",
       " '2 25 22 58 64',\n",
       " '32 39 42 48 91',\n",
       " '36 46 97 99 64',\n",
       " '32 16 42 48 91',\n",
       " '59 98 2 64 25',\n",
       " '16 48 28 42 91',\n",
       " '32 28 48 42 91',\n",
       " '42 32 39 48 91',\n",
       " '7 32 42 48 91',\n",
       " '99 5 64 26 0',\n",
       " '32 28 48 42 91',\n",
       " '28 32 48 42 91',\n",
       " '82 41 36 91 59',\n",
       " '55 46 59 78 81',\n",
       " '82 5 61 66 65',\n",
       " '7 32 48 42 91',\n",
       " '72 50 42 48 91',\n",
       " '21 18 95 28 91',\n",
       " '33 18 6 48 91',\n",
       " '97 46 29 59 64',\n",
       " '2 5 25 64 29',\n",
       " '25 59 2 64 46',\n",
       " '48 1 50 91 54',\n",
       " '41 28 48 42 91',\n",
       " '82 46 64 63 58',\n",
       " '81 90 43 67 82',\n",
       " '32 28 42 48 91',\n",
       " '32 28 42 48 91',\n",
       " '83 41 9 56 98',\n",
       " '26 63 58 25 30',\n",
       " '43 62 82 67 36',\n",
       " '54 24 45 79 1',\n",
       " '68 48 18 91 95',\n",
       " '81 82 36 85 62',\n",
       " '42 95 48 18 91',\n",
       " '18 16 42 48 91',\n",
       " '18 42 95 48 91',\n",
       " '81 30 62 12 67',\n",
       " '4 91 70 56 98',\n",
       " '36 62 78 82 67',\n",
       " '64 67 62 82 36',\n",
       " '62 25 2 82 59',\n",
       " '67 82 36 64 62',\n",
       " '59 58 9 46 36',\n",
       " '18 95 42 48 91',\n",
       " '49 68 90 95 59',\n",
       " '41 14 67 91 50',\n",
       " '61 62 81 82 36',\n",
       " '47 42 48 91 59',\n",
       " '32 28 48 42 91',\n",
       " '48 42 28 95 91',\n",
       " '50 28 42 48 91',\n",
       " '32 28 48 42 91',\n",
       " '50 32 42 48 91',\n",
       " '41 18 50 95 91',\n",
       " '32 28 42 48 91',\n",
       " '98 21 9 99 64',\n",
       " '46 37 64 40 36',\n",
       " '9 46 22 86 64',\n",
       " '79 91 18 98 28',\n",
       " '55 41 70 56 98',\n",
       " '21 98 64 2 25',\n",
       " '42 50 98 48 91',\n",
       " '28 43 48 42 91',\n",
       " '81 62 46 36 64',\n",
       " '9 46 97 98 64',\n",
       " '11 82 46 97 64',\n",
       " '95 48 72 4 91',\n",
       " '59 64 36 9 46',\n",
       " '16 28 48 42 91',\n",
       " '32 28 42 48 91',\n",
       " '66 26 87 52 65',\n",
       " '11 26 46 97 64',\n",
       " '72 28 39 48 91',\n",
       " '50 95 42 48 91',\n",
       " '62 64 81 36 82',\n",
       " '18 77 91 71 34',\n",
       " '28 32 42 48 91',\n",
       " '13 18 48 39 91',\n",
       " '50 45 24 79 1',\n",
       " '95 42 72 91 28',\n",
       " '32 7 48 42 91',\n",
       " '54 24 45 79 1',\n",
       " '9 36 82 64 98',\n",
       " '28 98 48 42 91',\n",
       " '50 47 42 48 91',\n",
       " '16 50 42 48 91',\n",
       " '59 28 25 58 29',\n",
       " '39 28 42 48 91',\n",
       " '47 15 48 42 91',\n",
       " '28 42 18 48 91',\n",
       " '62 22 36 82 64',\n",
       " '50 16 48 42 91',\n",
       " '81 62 15 36 58',\n",
       " '91 54 45 79 1',\n",
       " '41 28 42 48 91',\n",
       " '84 0 64 46 26',\n",
       " '98 70 48 91 41',\n",
       " '47 28 42 48 91',\n",
       " '59 82 64 36 46',\n",
       " '28 50 48 42 91',\n",
       " '98 68 95 18 59',\n",
       " '50 48 28 41 91',\n",
       " '54 45 79 24 1',\n",
       " '28 32 42 48 91',\n",
       " '50 77 42 48 91',\n",
       " '42 68 48 18 91',\n",
       " '47 42 48 91 43',\n",
       " '36 67 43 82 2',\n",
       " '70 55 56 41 98',\n",
       " '42 95 18 48 91',\n",
       " '64 82 78 21 59',\n",
       " '48 91 32 42 50',\n",
       " '80 58 59 99 64',\n",
       " '36 81 99 62 82',\n",
       " '28 18 68 91 95',\n",
       " '67 64 82 58 99',\n",
       " '18 68 98 95 59',\n",
       " '46 25 64 2 59',\n",
       " '64 36 62 82 26',\n",
       " '43 82 67 36 62',\n",
       " '50 28 42 48 91',\n",
       " '5 36 64 58 46',\n",
       " '28 18 48 95 91',\n",
       " '32 28 48 42 91',\n",
       " '48 18 70 98 91',\n",
       " '54 50 42 48 91',\n",
       " '33 18 91 95 37',\n",
       " '78 91 62 81 82',\n",
       " '50 6 42 48 91',\n",
       " '28 50 42 48 91',\n",
       " '67 21 82 36 46',\n",
       " '36 43 58 82 67',\n",
       " '50 28 42 48 91',\n",
       " '10 42 48 54 91',\n",
       " '68 97 64 98 47',\n",
       " '98 28 42 48 91',\n",
       " '25 62 2 59 82',\n",
       " '4 42 91 28 18',\n",
       " '39 7 48 91 42',\n",
       " '50 37 48 42 91',\n",
       " '32 28 42 48 91',\n",
       " '28 42 39 48 91',\n",
       " '73 84 21 0 26',\n",
       " '13 48 18 95 91',\n",
       " '81 62 67 58 82',\n",
       " '28 50 48 42 91',\n",
       " '59 97 29 64 46',\n",
       " '67 81 82 64 36',\n",
       " '72 95 48 28 91',\n",
       " '36 67 58 82 29',\n",
       " '97 72 39 48 91',\n",
       " '4 19 42 48 91',\n",
       " '2 21 59 64 25',\n",
       " '32 28 48 91 42',\n",
       " '2 42 64 36 46',\n",
       " '46 25 7 73 3',\n",
       " '16 28 48 42 91',\n",
       " '68 78 82 30 67',\n",
       " '47 42 41 48 91',\n",
       " '98 95 91 18 55',\n",
       " '32 28 42 48 91',\n",
       " '28 54 42 48 91',\n",
       " '62 64 98 82 6',\n",
       " '70 98 56 41 91',\n",
       " '50 28 42 48 91',\n",
       " '50 32 48 42 91',\n",
       " '86 2 25 64 98',\n",
       " '82 98 43 91 21',\n",
       " '29 8 64 2 97',\n",
       " '58 5 2 64 25',\n",
       " '53 86 64 82 46',\n",
       " '29 25 2 5 64',\n",
       " '42 28 39 48 91',\n",
       " '42 56 91 70 41',\n",
       " '62 59 46 81 36',\n",
       " '42 18 41 48 91',\n",
       " '24 45 79 54 1',\n",
       " '62 46 67 43 82',\n",
       " '16 32 42 48 91',\n",
       " '48 57 42 82 91',\n",
       " '28 18 95 4 91',\n",
       " '32 7 48 42 91',\n",
       " '42 48 18 95 91',\n",
       " '41 48 26 42 91',\n",
       " '37 2 64 22 8',\n",
       " '62 59 64 82 46',\n",
       " '18 95 48 42 91',\n",
       " '5 82 98 9 64',\n",
       " '12 46 62 15 82',\n",
       " '42 98 70 56 91',\n",
       " '72 28 42 48 91',\n",
       " '48 18 91 95 9',\n",
       " '59 58 64 36 46',\n",
       " '58 36 62 46 82',\n",
       " '78 62 30 82 67',\n",
       " '59 11 58 64 25',\n",
       " '16 48 95 42 91',\n",
       " '77 32 42 48 91',\n",
       " '32 28 48 42 91',\n",
       " '7 32 42 91 48',\n",
       " '68 98 91 95 18',\n",
       " '11 99 21 25 64',\n",
       " '91 64 67 29 38',\n",
       " '32 77 42 48 91',\n",
       " '61 85 62 29 82',\n",
       " '2 29 99 64 25',\n",
       " '18 28 24 59 4',\n",
       " '32 28 48 42 91',\n",
       " '43 32 42 48 91',\n",
       " '59 15 82 99 62',\n",
       " '2 64 62 46 59',\n",
       " '4 28 48 95 91',\n",
       " '48 82 61 46 36',\n",
       " '41 28 42 48 91',\n",
       " '62 82 78 20 65',\n",
       " '69 70 98 41 56',\n",
       " '28 29 95 99 25',\n",
       " '25 51 5 64 29',\n",
       " '46 82 11 64 90',\n",
       " '62 67 80 82 59',\n",
       " '61 30 78 62 82',\n",
       " '77 42 48 91 82',\n",
       " '52 42 0 91 65',\n",
       " '28 95 18 48 91',\n",
       " '18 48 28 42 91',\n",
       " '48 18 95 39 91',\n",
       " '55 79 48 41 42',\n",
       " '18 16 42 48 91',\n",
       " '90 46 48 29 82',\n",
       " '16 48 42 1 91',\n",
       " '16 28 42 48 91',\n",
       " '32 42 59 48 91',\n",
       " '5 46 36 81 62',\n",
       " '98 77 41 70 56',\n",
       " '55 70 41 56 98',\n",
       " '81 67 82 62 36',\n",
       " '18 98 54 28 91',\n",
       " '32 28 48 42 91',\n",
       " '98 28 91 48 70',\n",
       " '16 28 48 42 91',\n",
       " '42 48 47 4 91',\n",
       " '42 18 48 95 91',\n",
       " '42 34 71 13 91',\n",
       " '96 87 52 66 65',\n",
       " '18 28 95 4 91',\n",
       " '64 58 81 36 46',\n",
       " '36 5 64 62 59',\n",
       " '82 61 5 81 62',\n",
       " '16 28 48 42 91',\n",
       " '81 99 59 36 62',\n",
       " '50 16 48 42 91',\n",
       " '43 36 62 20 82',\n",
       " '41 95 42 48 91',\n",
       " '32 28 48 42 91',\n",
       " '37 59 2 25 64',\n",
       " '47 36 82 48 91',\n",
       " '55 21 42 95 91',\n",
       " '50 28 42 48 91',\n",
       " '28 98 48 42 91',\n",
       " '28 32 42 48 91',\n",
       " '50 28 42 48 91',\n",
       " '50 28 42 48 91',\n",
       " '42 28 50 39 91',\n",
       " '45 24 54 79 1',\n",
       " '70 91 72 9 98',\n",
       " '95 48 82 42 91',\n",
       " '59 80 61 82 64',\n",
       " '47 48 50 28 91',\n",
       " '39 7 48 42 91',\n",
       " '99 46 16 97 64',\n",
       " '34 66 87 52 65',\n",
       " '98 68 18 91 95',\n",
       " '41 98 56 77 70',\n",
       " '16 50 28 48 91',\n",
       " '18 48 98 42 91',\n",
       " '48 79 91 1 54',\n",
       " '18 28 42 48 91',\n",
       " '81 36 58 64 46',\n",
       " '18 28 48 95 91',\n",
       " '29 36 62 64 82',\n",
       " '28 39 48 42 91',\n",
       " '29 64 25 99 59',\n",
       " '29 59 64 46 2',\n",
       " '36 2 62 82 46',\n",
       " '36 62 82 8 67',\n",
       " '48 18 28 98 91',\n",
       " '41 95 48 18 91',\n",
       " '28 42 39 48 91',\n",
       " '36 46 81 97 64',\n",
       " '67 98 91 46 82',\n",
       " '28 1 95 48 91',\n",
       " '58 82 36 62 46',\n",
       " '81 82 46 36 62',\n",
       " '98 47 42 48 91',\n",
       " '25 2 17 64 99',\n",
       " '70 18 95 48 91',\n",
       " '85 82 81 36 62',\n",
       " '28 80 48 42 91',\n",
       " '64 36 81 46 59',\n",
       " '30 0 21 46 59',\n",
       " '32 28 42 48 91',\n",
       " '82 25 59 36 46',\n",
       " '65 52 67 80 82',\n",
       " '5 46 2 25 64',\n",
       " '95 98 46 62 59',\n",
       " '15 25 2 22 64',\n",
       " '98 65 71 34 91',\n",
       " '2 59 25 29 64',\n",
       " '61 29 43 81 82',\n",
       " '62 43 67 36 82',\n",
       " '54 24 45 79 1',\n",
       " '25 98 46 82 64',\n",
       " '16 13 42 48 91',\n",
       " '36 46 8 97 64',\n",
       " '28 55 48 41 91',\n",
       " '50 42 32 48 91',\n",
       " '23 28 42 48 91',\n",
       " '43 58 36 67 82',\n",
       " '28 18 48 95 91',\n",
       " '13 72 95 0 91',\n",
       " '70 41 91 56 98',\n",
       " '70 91 41 56 98',\n",
       " '43 62 36 82 67',\n",
       " '41 42 48 98 91',\n",
       " '28 18 42 91 95',\n",
       " '50 28 48 42 91',\n",
       " '28 41 48 42 91',\n",
       " '81 82 62 36 85',\n",
       " '9 59 26 58 0',\n",
       " '95 48 18 42 91',\n",
       " '45 24 79 54 1',\n",
       " '64 59 25 98 2',\n",
       " '42 91 38 48 29',\n",
       " '58 48 99 90 91',\n",
       " '28 50 42 48 91',\n",
       " '50 77 42 48 91',\n",
       " '16 28 42 48 91',\n",
       " '61 36 62 82 59',\n",
       " '70 51 91 16 5',\n",
       " '32 7 42 91 48',\n",
       " '91 39 56 98 70',\n",
       " '59 29 25 2 64',\n",
       " '36 62 82 99 64',\n",
       " '64 66 6 36 46',\n",
       " '32 28 48 91 42',\n",
       " '50 39 59 48 91',\n",
       " '12 82 62 36 46',\n",
       " '32 28 42 48 91',\n",
       " '19 42 48 98 91',\n",
       " '30 85 36 62 82',\n",
       " '48 42 36 82 91',\n",
       " '98 95 70 91 41',\n",
       " '50 39 59 48 91',\n",
       " '57 12 46 36 81',\n",
       " '99 46 9 64 25',\n",
       " '18 98 95 40 91',\n",
       " '28 13 4 91 98',\n",
       " '28 18 42 48 91',\n",
       " '29 28 82 57 46',\n",
       " '32 28 48 42 91',\n",
       " '98 77 49 59 95',\n",
       " '16 47 42 48 91',\n",
       " '50 28 48 42 91',\n",
       " '28 91 95 16 13',\n",
       " '50 18 48 39 91',\n",
       " '28 32 42 48 91',\n",
       " '99 59 81 64 46',\n",
       " '32 28 48 42 91',\n",
       " '32 7 48 91 42',\n",
       " '9 99 64 67 46',\n",
       " '50 42 48 91 54',\n",
       " '72 18 1 48 91',\n",
       " '19 39 4 50 91',\n",
       " '42 43 67 62 82',\n",
       " '61 52 31 66 65',\n",
       " '54 24 79 45 1',\n",
       " '28 18 48 95 91',\n",
       " '36 82 62 63 65',\n",
       " '69 91 70 41 56',\n",
       " '82 36 56 64 98',\n",
       " '22 64 58 8 59',\n",
       " '7 39 48 42 91',\n",
       " '11 5 29 25 64',\n",
       " '18 68 2 90 59',\n",
       " '16 18 48 42 91',\n",
       " '32 28 42 48 91',\n",
       " '46 86 48 62 82',\n",
       " '70 41 42 48 91',\n",
       " '98 82 36 62 85',\n",
       " '30 62 43 67 82',\n",
       " '36 62 43 82 67',\n",
       " '18 28 48 42 91',\n",
       " '67 96 62 36 82',\n",
       " '18 48 91 1 45',\n",
       " '13 28 48 42 91',\n",
       " '63 85 81 46 36',\n",
       " '47 50 42 48 91',\n",
       " '91 70 41 56 98',\n",
       " '21 46 64 25 59',\n",
       " '50 16 48 28 91',\n",
       " '64 46 82 2 5',\n",
       " '16 28 48 95 91',\n",
       " '68 98 18 91 95',\n",
       " '13 39 21 48 91',\n",
       " '95 4 16 28 91',\n",
       " '91 79 45 54 1',\n",
       " '46 62 5 64 99',\n",
       " '25 99 8 22 64',\n",
       " '18 28 48 42 91',\n",
       " '32 42 91 39 48',\n",
       " '7 32 42 48 91',\n",
       " '96 65 73 0 26',\n",
       " '18 55 28 95 91',\n",
       " '98 95 46 9 59',\n",
       " '16 28 42 48 91',\n",
       " '16 95 42 48 91',\n",
       " '28 42 95 48 91',\n",
       " '42 18 48 95 91',\n",
       " '48 82 91 43 31',\n",
       " '82 62 46 36 59',\n",
       " '48 95 70 98 91',\n",
       " '50 28 42 48 91',\n",
       " '32 28 42 48 91',\n",
       " '7 32 42 48 91',\n",
       " '72 42 28 48 91',\n",
       " '67 46 36 81 82',\n",
       " '45 48 95 1 91',\n",
       " '28 48 95 42 91',\n",
       " '46 37 36 81 5',\n",
       " '8 66 87 52 65',\n",
       " '7 32 42 48 91',\n",
       " '17 22 9 64 58',\n",
       " '99 9 25 64 59',\n",
       " '95 70 98 91 56',\n",
       " '81 62 43 82 67',\n",
       " '32 7 42 48 91',\n",
       " '29 30 61 62 82',\n",
       " '42 13 21 48 91',\n",
       " '70 91 41 98 56',\n",
       " '95 98 48 42 91',\n",
       " '46 62 82 67 36',\n",
       " '21 29 64 46 59',\n",
       " '13 50 42 48 91',\n",
       " '45 24 54 79 1',\n",
       " '63 62 36 58 46',\n",
       " '77 18 48 42 91',\n",
       " '95 18 39 48 91',\n",
       " '13 18 50 95 91',\n",
       " '32 42 16 48 91',\n",
       " '39 42 48 50 91',\n",
       " '32 7 42 48 91',\n",
       " '77 20 78 62 82',\n",
       " '63 36 67 82 46',\n",
       " '46 99 58 64 2',\n",
       " '48 42 95 91 28',\n",
       " '78 64 81 30 99',\n",
       " '91 43 26 62 82',\n",
       " '48 56 70 98 91',\n",
       " '29 82 43 30 62',\n",
       " '62 82 67 36 95',\n",
       " '72 48 18 95 91',\n",
       " '2 25 98 97 64',\n",
       " '13 62 82 81 85',\n",
       " '99 58 64 59 46',\n",
       " '99 59 81 64 46',\n",
       " '48 1 47 91 54',\n",
       " '2 8 25 64 59',\n",
       " '67 43 62 36 82',\n",
       " '48 95 70 98 91',\n",
       " '59 30 61 62 82',\n",
       " '25 17 11 22 82',\n",
       " '25 99 64 22 8',\n",
       " '70 41 48 42 91',\n",
       " '47 7 48 42 91',\n",
       " '28 41 42 48 91',\n",
       " '11 59 70 2 98',\n",
       " '16 41 42 48 91',\n",
       " '7 32 42 48 91',\n",
       " '91 29 57 46 82',\n",
       " '8 64 59 25 2',\n",
       " '50 7 42 48 91',\n",
       " '16 28 48 42 91',\n",
       " '46 59 29 64 2',\n",
       " '48 13 42 47 91',\n",
       " '50 42 32 48 91',\n",
       " '46 2 59 64 37',\n",
       " '59 18 95 46 2',\n",
       " '77 18 48 42 91',\n",
       " '42 81 70 98 91',\n",
       " '28 32 42 48 91',\n",
       " '64 99 82 5 81',\n",
       " '42 77 91 71 34',\n",
       " '28 50 48 42 91',\n",
       " '50 16 42 48 91',\n",
       " '95 9 97 64 98',\n",
       " '28 32 42 48 91',\n",
       " '58 43 62 67 82',\n",
       " '62 46 36 99 64',\n",
       " '32 28 42 48 91',\n",
       " '56 18 42 48 91',\n",
       " '81 30 62 36 82',\n",
       " '28 48 18 95 91',\n",
       " '78 43 67 62 82',\n",
       " '94 48 30 82 91',\n",
       " '32 39 42 48 91',\n",
       " '28 95 39 48 91',\n",
       " '32 7 42 48 91',\n",
       " '7 32 48 42 91',\n",
       " '28 4 42 48 91',\n",
       " '46 2 59 82 68',\n",
       " '50 28 48 42 91',\n",
       " '28 18 42 48 91',\n",
       " '16 18 95 48 91',\n",
       " '78 67 62 36 82',\n",
       " '47 42 39 48 91',\n",
       " '82 9 29 46 64',\n",
       " '18 56 70 98 91',\n",
       " '21 42 28 55 91',\n",
       " '95 48 42 18 91',\n",
       " '1 98 18 91 95',\n",
       " '58 62 36 46 59',\n",
       " '42 18 48 95 91',\n",
       " '64 62 36 82 67',\n",
       " '65 73 84 0 26',\n",
       " '82 62 15 46 81',\n",
       " '28 42 39 48 91',\n",
       " '55 48 18 95 91',\n",
       " '32 28 48 42 91',\n",
       " '95 18 48 42 91',\n",
       " '24 45 79 54 1',\n",
       " '98 70 41 91 56',\n",
       " '70 5 61 82 25',\n",
       " '62 82 42 58 90',\n",
       " '62 5 2 82 59',\n",
       " '32 7 42 48 91',\n",
       " '16 28 42 48 91',\n",
       " '32 7 48 42 91',\n",
       " '46 36 5 9 82',\n",
       " '88 24 79 45 1',\n",
       " '29 36 62 82 12',\n",
       " '50 32 42 48 91',\n",
       " '80 34 26 52 65',\n",
       " '73 96 26 66 65',\n",
       " '81 30 64 62 82',\n",
       " '18 28 42 48 91',\n",
       " '68 98 95 1 91',\n",
       " '18 95 42 48 91',\n",
       " '5 59 2 25 64',\n",
       " '46 67 82 11 59',\n",
       " '50 76 48 42 91',\n",
       " '29 48 65 42 91',\n",
       " '39 18 95 91 4',\n",
       " '82 2 67 5 46',\n",
       " '82 36 64 9 67',\n",
       " '39 48 28 95 91',\n",
       " '78 43 67 36 82',\n",
       " '48 28 1 91 54',\n",
       " '70 41 48 42 91',\n",
       " '48 43 7 42 91',\n",
       " '18 41 48 42 91',\n",
       " '28 50 42 48 91',\n",
       " '59 29 25 2 64',\n",
       " '5 82 29 59 2',\n",
       " '62 43 26 59 36',\n",
       " '28 32 42 48 91',\n",
       " '45 48 95 79 1',\n",
       " '2 62 59 5 82',\n",
       " '18 42 69 71 91',\n",
       " '48 42 70 98 91',\n",
       " '28 72 42 48 91',\n",
       " '21 56 98 91 70',\n",
       " '5 81 62 82 36',\n",
       " '26 98 52 91 65',\n",
       " '2 29 21 46 59',\n",
       " '7 40 48 91 42',\n",
       " '41 91 70 98 56',\n",
       " '82 81 62 36 15',\n",
       " '56 21 91 98 70',\n",
       " '42 18 70 98 91',\n",
       " '26 87 66 52 65',\n",
       " '67 30 62 43 82',\n",
       " '68 70 95 91 98',\n",
       " '2 99 8 22 64',\n",
       " '39 32 42 91 48',\n",
       " '68 34 98 56 41',\n",
       " '58 36 59 62 82',\n",
       " '56 70 21 91 41',\n",
       " '7 32 48 42 91',\n",
       " '25 28 42 48 91',\n",
       " '99 82 25 29 64',\n",
       " '36 82 58 64 8',\n",
       " '42 50 48 91 39',\n",
       " '5 59 64 2 25',\n",
       " '36 37 8 22 64',\n",
       " '43 62 29 81 82',\n",
       " '21 64 59 2 25',\n",
       " '43 61 30 62 82',\n",
       " '42 59 48 91 13',\n",
       " '81 21 37 64 46',\n",
       " '2 22 25 5 64',\n",
       " '61 7 36 12 81',\n",
       " '28 32 42 91 48',\n",
       " '16 42 39 48 91',\n",
       " '28 77 48 42 91',\n",
       " '18 41 98 91 56',\n",
       " '85 82 12 81 36',\n",
       " '81 62 29 36 46',\n",
       " '11 97 98 64 25',\n",
       " '5 11 29 25 64',\n",
       " '16 41 48 42 91',\n",
       " '28 48 95 42 91',\n",
       " '42 95 18 48 91',\n",
       " '69 98 70 41 56',\n",
       " '2 46 25 59 82',\n",
       " '70 91 98 41 56',\n",
       " '50 16 48 42 91',\n",
       " '26 87 31 52 65',\n",
       " '83 37 82 64 68',\n",
       " '8 48 41 95 91',\n",
       " '64 36 46 12 81',\n",
       " '28 42 48 95 91',\n",
       " ...]"
      ]
     },
     "execution_count": 44,
     "metadata": {},
     "output_type": "execute_result"
    }
   ],
   "source": [
    "predict_class"
   ]
  },
  {
   "cell_type": "code",
   "execution_count": null,
   "metadata": {
    "collapsed": true
   },
   "outputs": [],
   "source": []
  }
 ],
 "metadata": {
  "kernelspec": {
   "display_name": "Python 2",
   "language": "python",
   "name": "python2"
  },
  "language_info": {
   "codemirror_mode": {
    "name": "ipython",
    "version": 2
   },
   "file_extension": ".py",
   "mimetype": "text/x-python",
   "name": "python",
   "nbconvert_exporter": "python",
   "pygments_lexer": "ipython2",
   "version": "2.7.10"
  }
 },
 "nbformat": 4,
 "nbformat_minor": 0
}
