{
 "cells": [
  {
   "cell_type": "code",
   "execution_count": 1,
   "metadata": {
    "collapsed": true
   },
   "outputs": [],
   "source": [
    "import numpy as np\n",
    "import pandas as pd\n",
    "import matplotlib\n",
    "%matplotlib inline\n",
    "plt = matplotlib.pyplot"
   ]
  },
  {
   "cell_type": "markdown",
   "metadata": {},
   "source": [
    "# Bias - Variance"
   ]
  },
  {
   "cell_type": "code",
   "execution_count": 2,
   "metadata": {
    "collapsed": false,
    "scrolled": true
   },
   "outputs": [
    {
     "data": {
      "image/png": "[encoded data removed]",
      "text/plain": [
       "<matplotlib.figure.Figure at 0xcd510f0>"
      ]
     },
     "metadata": {},
     "output_type": "display_data"
    }
   ],
   "source": [
    "# Balance Varience & Bias\n",
    "np.random.seed(1)\n",
    "x = (np.random.random([30, 1]) * 6 - 4).ravel()\n",
    "y = -2*(5*x)**3 - 30 * (5*x) **2 + 100*(10*x) + 500 * np.random.randn(len(x))\n",
    "plt.scatter(x,y)\n",
    "plt.show()"
   ]
  },
  {
   "cell_type": "markdown",
   "metadata": {},
   "source": [
    "## Simple example"
   ]
  },
  {
   "cell_type": "code",
   "execution_count": 3,
   "metadata": {
    "collapsed": true
   },
   "outputs": [],
   "source": [
    "# the physical law says: S = 1/2 * F / M * t*2\n",
    "# S: displacement, M: mass, F: force\n",
    "# Let's say we know nothing about physics\n",
    "# Given this data measure points: \n",
    "# (t, S) for N points, we want to predict for (t_new) what is S_new"
   ]
  },
  {
   "cell_type": "code",
   "execution_count": 4,
   "metadata": {
    "collapsed": false
   },
   "outputs": [],
   "source": [
    "ground_truth_coef = 1./2 * 10 / 2\n",
    "t = np.random.random(10) * 3\n",
    "#ground_truth_result = ground_truth_coef * t**2\n",
    "ground_truth_result = ground_truth_coef * t ** 2\n",
    "\n",
    "\n",
    "# plus measure error\n",
    "measure_result = ground_truth_result + np.random.randn(10)*2\n",
    "\n",
    "# for prediction\n",
    "t_new = np.random.random(5)\n",
    "#print ground_truth_result\n",
    "#print ground_truth_result2"
   ]
  },
  {
   "cell_type": "code",
   "execution_count": 5,
   "metadata": {
    "collapsed": false,
    "scrolled": true
   },
   "outputs": [
    {
     "name": "stderr",
     "output_type": "stream",
     "text": [
      "C:\\Users\\Wanli\\Anaconda2\\lib\\site-packages\\matplotlib\\figure.py:387: UserWarning: matplotlib is currently using a non-GUI backend, so cannot show the figure\n",
      "  \"matplotlib is currently using a non-GUI backend, \"\n"
     ]
    },
    {
     "data": {
      "image/png": "[encoded data removed]",
      "text/plain": [
       "<matplotlib.figure.Figure at 0xcea7f60>"
      ]
     },
     "metadata": {},
     "output_type": "display_data"
    }
   ],
   "source": [
    "fig = plt.figure(figsize = (14, 6))\n",
    "\n",
    "ax1 = fig.add_subplot(1, 2, 1)\n",
    "ax1.scatter(t, ground_truth_result)\n",
    "# plt.scatter(t, ground_truth_result)\n",
    "\n",
    "ax2 = fig.add_subplot(1, 2, 2)\n",
    "ax2.scatter(t, measure_result)\n",
    "# plt.scatter(t, measure_result)\n",
    "\n",
    "\n",
    "fig.show()"
   ]
  },
  {
   "cell_type": "code",
   "execution_count": 6,
   "metadata": {
    "collapsed": true
   },
   "outputs": [],
   "source": [
    "from sklearn import cross_validation, linear_model, metrics, datasets\n",
    "lm_lr = linear_model.LinearRegression()"
   ]
  },
  {
   "cell_type": "code",
   "execution_count": 7,
   "metadata": {
    "collapsed": false
   },
   "outputs": [
    {
     "data": {
      "text/plain": [
       "(10L,)"
      ]
     },
     "execution_count": 7,
     "metadata": {},
     "output_type": "execute_result"
    }
   ],
   "source": [
    "measure_result.shape"
   ]
  },
  {
   "cell_type": "code",
   "execution_count": 8,
   "metadata": {
    "collapsed": false
   },
   "outputs": [
    {
     "name": "stdout",
     "output_type": "stream",
     "text": [
      "<type 'numpy.ndarray'>\n"
     ]
    }
   ],
   "source": [
    "# Under fitting, what is the error? (using 1 order)\n",
    "# we need to run it over multple times to see the difference\n",
    "#np.random.seed(1)\n",
    "N = 10000\n",
    "error = []\n",
    "#t = np.random.random(10) * 3\n",
    "print type(t)\n",
    "for i in range(N):\n",
    "    t = np.random.random(10) * 3\n",
    "    ground_truth_result = ground_truth_coef * t**2\n",
    "    measure_result = ground_truth_result + np.random.randn(10)*2\n",
    "    t.resize([len(t), 1])\n",
    "    \n",
    "    lm_lr.fit(t, measure_result)\n",
    "    \n",
    "    t_new = np.random.random(5)\n",
    "    ground_truth_result_new = ground_truth_coef * t_new**2\n",
    "    t_new.resize([len(t_new), 1])\n",
    "    y_pred = lm_lr.predict(t_new)\n",
    "    \n",
    "    error.append(metrics.mean_squared_error(ground_truth_result_new, y_pred))\n",
    "    \n",
    "#print type(t)\n",
    "error = np.array(error)"
   ]
  },
  {
   "cell_type": "code",
   "execution_count": 9,
   "metadata": {
    "collapsed": false
   },
   "outputs": [
    {
     "name": "stdout",
     "output_type": "stream",
     "text": [
      "5.78995362821 8.78613127825\n"
     ]
    }
   ],
   "source": [
    "print error.mean(), error.std()"
   ]
  },
  {
   "cell_type": "code",
   "execution_count": 10,
   "metadata": {
    "collapsed": false,
    "scrolled": true
   },
   "outputs": [
    {
     "name": "stdout",
     "output_type": "stream",
     "text": [
      "[-0.37312076]\n",
      "[ 1.03556321]\n",
      "[-0.55266879]\n"
     ]
    }
   ],
   "source": [
    "# run some test on random function\n",
    "#np.random.seed(100)\n",
    "print np.random.randn(1)\n",
    "print np.random.randn(1)\n",
    "print np.random.randn(1)\n"
   ]
  },
  {
   "cell_type": "code",
   "execution_count": 11,
   "metadata": {
    "collapsed": false,
    "scrolled": false
   },
   "outputs": [
    {
     "name": "stdout",
     "output_type": "stream",
     "text": [
      "<type 'numpy.ndarray'>\n"
     ]
    }
   ],
   "source": [
    "# Over fitting? what is the error? (using 2 order)\n",
    "np.random.seed(111)\n",
    "N = 10000\n",
    "error = []\n",
    "for i in range(N):\n",
    "    t = np.random.random(10) * 3\n",
    "    ground_truth_result = ground_truth_coef * t**2\n",
    "    measure_result = ground_truth_result + np.random.randn(10)*2\n",
    "    t.resize([len(t), 1])\n",
    "    t = np.hstack((t, t**2))\n",
    "    #t = np.hstack([t, t**2])\n",
    "\n",
    "    lm_lr.fit(t, measure_result)\n",
    "    \n",
    "    t_new = np.random.random(5)\n",
    "    ground_truth_result_new = ground_truth_coef * t_new**2\n",
    "    t_new.resize([len(t_new), 1])\n",
    "    t_new = np.hstack([t_new, t_new**2])\n",
    "    t_pred = lm_lr.predict(t_new)\n",
    "    \n",
    "    error.append(metrics.mean_squared_error(ground_truth_result_new, t_pred))\n",
    "print type(t) \n",
    "error = np.array(error)"
   ]
  },
  {
   "cell_type": "code",
   "execution_count": 12,
   "metadata": {
    "collapsed": false
   },
   "outputs": [
    {
     "name": "stdout",
     "output_type": "stream",
     "text": [
      "3.260106281 15.2933797734\n"
     ]
    }
   ],
   "source": [
    "print error.mean(), error.std()\n",
    "# 3.260106281 15.2933797734"
   ]
  },
  {
   "cell_type": "code",
   "execution_count": 13,
   "metadata": {
    "collapsed": true
   },
   "outputs": [],
   "source": [
    "# Over fitting? what is the error? (using 3 order)\n",
    "N = 10000\n",
    "error = []\n",
    "for i in range(N):\n",
    "    t = np.random.random(10) * 3\n",
    "    ground_truth_result = ground_truth_coef * t**2\n",
    "    measure_result = ground_truth_result + np.random.randn(10)*2\n",
    "    t.resize([len(t), 1])\n",
    "    t = np.hstack([t, t**2, t**3])\n",
    "    \n",
    "    lm_lr.fit(t, measure_result)\n",
    "    \n",
    "    t_new = np.random.random(5)\n",
    "    ground_truth_result_new = ground_truth_coef * t_new**2\n",
    "    t_new.resize([len(t_new), 1])\n",
    "    t_new = np.hstack([t_new, t_new**2, t_new**3])\n",
    "    t_pred = lm_lr.predict(t_new)\n",
    "    \n",
    "    error.append(metrics.mean_squared_error(ground_truth_result_new, t_pred))\n",
    "#print type(t)    \n",
    "error = np.array(error)"
   ]
  },
  {
   "cell_type": "code",
   "execution_count": 14,
   "metadata": {
    "collapsed": false
   },
   "outputs": [
    {
     "name": "stdout",
     "output_type": "stream",
     "text": [
      "54.8581481614 1560.13803271\n"
     ]
    }
   ],
   "source": [
    "print error.mean(), error.std()"
   ]
  },
  {
   "cell_type": "markdown",
   "metadata": {},
   "source": [
    "## Bias - Variance: model complexity"
   ]
  },
  {
   "cell_type": "code",
   "execution_count": 34,
   "metadata": {
    "collapsed": false
   },
   "outputs": [],
   "source": [
    "np.random.seed(1)\n",
    "# x = np.linspace(-15,25,41)\n",
    "# y = 2*x**3 - 30 * x **2 + 100*x + 1500 * np.random.randn(len(x))\n",
    "x = np.linspace(0, 6.14, 101)\n",
    "y = np.sin(x) + 0.3*np.random.randn(len(x))\n",
    "\n",
    "X = []\n",
    "t_score = []\n",
    "v_score = []\n",
    "for i in range(1,15):\n",
    "    if i == 1:\n",
    "        X.append(x.reshape(len(x), 1))\n",
    "    else:\n",
    "        X.append(np.hstack([X[-1], x.reshape(len(x), 1) ** i]))\n",
    "    \n",
    "    t_score.append([])\n",
    "    v_score.append([])\n",
    "    #for j in range(1000):\n",
    "    for j in range(10):\n",
    "\n",
    "        x_train, x_test, y_train, y_test = cross_validation.train_test_split(\n",
    "            X[-1], y, test_size=0.2, random_state=j)\n",
    "        rlm = linear_model.LinearRegression()\n",
    "        rlm.fit(x_train, y_train)\n",
    "        #print rlm.coef_, rlm.intercept_\n",
    "        t_score[-1].append(metrics.mean_squared_error(y_train, rlm.predict(x_train)))\n",
    "        v_score[-1].append(metrics.mean_squared_error(y_test, rlm.predict(x_test)))\n",
    "\n"
   ]
  },
  {
   "cell_type": "code",
   "execution_count": 35,
   "metadata": {
    "collapsed": false
   },
   "outputs": [],
   "source": [
    "t_score = np.array(t_score)\n",
    "v_score = np.array(v_score)"
   ]
  },
  {
   "cell_type": "code",
   "execution_count": 36,
   "metadata": {
    "collapsed": false
   },
   "outputs": [
    {
     "data": {
      "text/plain": [
       "array([[ 0.2311243 ,  0.25575559,  0.22616385,  0.26122905,  0.23503298,\n",
       "         0.25008365,  0.2446604 ,  0.26267689,  0.23282141,  0.2251843 ],\n",
       "       [ 0.22812442,  0.24233511,  0.22448447,  0.24068734,  0.23296086,\n",
       "         0.24329707,  0.23689855,  0.25754112,  0.23087157,  0.22243484],\n",
       "       [ 0.07549957,  0.08047117,  0.07478305,  0.07854107,  0.07303701,\n",
       "         0.07708626,  0.07127216,  0.07490118,  0.07694778,  0.06771703],\n",
       "       [ 0.07485351,  0.07892477,  0.07369239,  0.07736983,  0.07221923,\n",
       "         0.07649207,  0.07126806,  0.07481817,  0.07449074,  0.06676924],\n",
       "       [ 0.06936871,  0.07453102,  0.07080746,  0.06958499,  0.06586697,\n",
       "         0.07186169,  0.06949615,  0.07183504,  0.07170558,  0.05983677],\n",
       "       [ 0.06920279,  0.07452592,  0.06940091,  0.06921388,  0.06586688,\n",
       "         0.07179073,  0.0678354 ,  0.07067107,  0.07155698,  0.05983465],\n",
       "       [ 0.06823315,  0.0735318 ,  0.06938106,  0.06701508,  0.06416159,\n",
       "         0.07006278,  0.06705267,  0.06933888,  0.07048572,  0.05878652],\n",
       "       [ 0.06748023,  0.07246401,  0.06937894,  0.06407478,  0.06275428,\n",
       "         0.06899293,  0.06645159,  0.0652819 ,  0.06873496,  0.05731842],\n",
       "       [ 0.06747948,  0.07246162,  0.06817901,  0.06390831,  0.06222475,\n",
       "         0.06899252,  0.06577767,  0.06483908,  0.06872106,  0.05702334],\n",
       "       [ 0.06675919,  0.07116047,  0.06771827,  0.06321268,  0.06220844,\n",
       "         0.06877051,  0.06559988,  0.06349558,  0.06705099,  0.0568006 ],\n",
       "       [ 0.06638159,  0.0710408 ,  0.06670286,  0.06318101,  0.06215228,\n",
       "         0.06859616,  0.06505101,  0.06345702,  0.06693902,  0.0567927 ],\n",
       "       [ 0.06622945,  0.0699569 ,  0.06661353,  0.06315269,  0.06207033,\n",
       "         0.06859144,  0.06504946,  0.06342358,  0.06679424,  0.05672858],\n",
       "       [ 0.06401314,  0.06735182,  0.06564398,  0.06095196,  0.05845348,\n",
       "         0.05958625,  0.06237863,  0.06058441,  0.06528062,  0.05417617],\n",
       "       [ 0.06294458,  0.06581646,  0.06315493,  0.05969244,  0.05424082,\n",
       "         0.05834365,  0.06087412,  0.06046785,  0.06427843,  0.05328425]])"
      ]
     },
     "execution_count": 36,
     "metadata": {},
     "output_type": "execute_result"
    }
   ],
   "source": [
    "t_score"
   ]
  },
  {
   "cell_type": "code",
   "execution_count": 17,
   "metadata": {
    "collapsed": true
   },
   "outputs": [],
   "source": [
    "# Q1. Under ALL circumstances, is it that the more complicated a model is, the lower training error? \n",
    "# Q2. Under ALL circumstances, is it that the more complicated a model is, the lower testing error? \n",
    "# Q3. How does standard deviation looks like for both training & testing errors"
   ]
  },
  {
   "cell_type": "code",
   "execution_count": 37,
   "metadata": {
    "collapsed": false
   },
   "outputs": [
    {
     "data": {
      "text/plain": [
       "[<matplotlib.lines.Line2D at 0x195d28d0>]"
      ]
     },
     "execution_count": 37,
     "metadata": {},
     "output_type": "execute_result"
    },
    {
     "data": {
      "image/png": "[encoded data removed]",
      "text/plain": [
       "<matplotlib.figure.Figure at 0xd0b29e8>"
      ]
     },
     "metadata": {},
     "output_type": "display_data"
    }
   ],
   "source": [
    "plt.plot(t_score.mean(axis=1)[:-6])\n",
    "plt.plot(v_score.mean(axis=1)[:-6])"
   ]
  },
  {
   "cell_type": "code",
   "execution_count": 19,
   "metadata": {
    "collapsed": false
   },
   "outputs": [
    {
     "data": {
      "text/plain": [
       "(310026.8193741953, 3839877350438.0674)"
      ]
     },
     "execution_count": 19,
     "metadata": {},
     "output_type": "execute_result"
    }
   ],
   "source": [
    "np.std(t_score), np.std(v_score)"
   ]
  },
  {
   "cell_type": "code",
   "execution_count": 20,
   "metadata": {
    "collapsed": true
   },
   "outputs": [],
   "source": [
    "# under fit vs over fit\n",
    "# In home work: model complexity\n",
    "# Here: data points"
   ]
  },
  {
   "cell_type": "markdown",
   "metadata": {},
   "source": [
    "## Bias - Variance: data size"
   ]
  },
  {
   "cell_type": "code",
   "execution_count": 21,
   "metadata": {
    "collapsed": false
   },
   "outputs": [
    {
     "name": "stdout",
     "output_type": "stream",
     "text": [
      "(1000L, 100L) (1000L,)\n"
     ]
    }
   ],
   "source": [
    "data = datasets.make_regression(n_samples=1000, n_features=100, n_informative=2, noise=100)\n",
    "X = data[0]\n",
    "Y = data[1]\n",
    "print X.shape, Y.shape"
   ]
  },
  {
   "cell_type": "code",
   "execution_count": 22,
   "metadata": {
    "collapsed": false
   },
   "outputs": [],
   "source": [
    "ts_range = np.arange(0.05, 1, 0.05)\n",
    "N_run = 50\n",
    "t_score = []\n",
    "v_score = []\n",
    "for train_s in ts_range:\n",
    "    t_score.append([])\n",
    "    v_score.append([])\n",
    "    for iseed in range(N_run):\n",
    "        X1, X2, Y1, Y2 = cross_validation.train_test_split(X, Y, train_size=train_s, random_state=iseed)\n",
    "        rlm = linear_model.LinearRegression()\n",
    "        rlm.fit(X1, Y1)\n",
    "        t_score[-1].append(metrics.r2_score(Y1, rlm.predict(X1)))\n",
    "        v_score[-1].append(metrics.r2_score(Y2, rlm.predict(X2)))\n",
    "    # print train_s"
   ]
  },
  {
   "cell_type": "code",
   "execution_count": 23,
   "metadata": {
    "collapsed": false
   },
   "outputs": [],
   "source": [
    "t_score = np.array(t_score)\n",
    "v_score = np.array(v_score)"
   ]
  },
  {
   "cell_type": "code",
   "execution_count": 24,
   "metadata": {
    "collapsed": false
   },
   "outputs": [
    {
     "data": {
      "image/png": "[encoded data removed]",
      "text/plain": [
       "<matplotlib.figure.Figure at 0x172b6da0>"
      ]
     },
     "metadata": {},
     "output_type": "display_data"
    }
   ],
   "source": [
    "# errorbar plot (training and validation)\n",
    "fig = plt.figure()\n",
    "ax = fig.add_subplot(1,1,1)\n",
    "\n",
    "x = range(t_score.shape[0])\n",
    "y = t_score.mean(axis=1)\n",
    "s = t_score.std(axis=1)\n",
    "ax.errorbar(x, y, yerr=s)\n",
    "fig.show()"
   ]
  },
  {
   "cell_type": "code",
   "execution_count": 25,
   "metadata": {
    "collapsed": false
   },
   "outputs": [
    {
     "data": {
      "image/png": "[encoded data removed]",
      "text/plain": [
       "<matplotlib.figure.Figure at 0x173df7f0>"
      ]
     },
     "metadata": {},
     "output_type": "display_data"
    }
   ],
   "source": [
    "# errorbar plot (training and validation)\n",
    "fig = plt.figure()\n",
    "ax = fig.add_subplot(1,1,1)\n",
    "\n",
    "x = range(t_score.shape[0])[2:]\n",
    "y = t_score.mean(axis=1)[2:]\n",
    "s = t_score.std(axis=1)[2:]\n",
    "ax.errorbar(x, y, yerr=s)\n",
    "fig.show()"
   ]
  },
  {
   "cell_type": "code",
   "execution_count": 26,
   "metadata": {
    "collapsed": true
   },
   "outputs": [],
   "source": [
    "# Run massive example\n",
    "# large feature, small dataset\n",
    "# small feature, large dataset\n",
    "# Q. do we need to get more data? "
   ]
  },
  {
   "cell_type": "code",
   "execution_count": 27,
   "metadata": {
    "collapsed": true
   },
   "outputs": [],
   "source": [
    "# Exercise: package the above two code into functions, and then try use n_inform=2 and point=10000\n",
    "# explore the training score & validation score relationship"
   ]
  },
  {
   "cell_type": "code",
   "execution_count": 28,
   "metadata": {
    "collapsed": true
   },
   "outputs": [],
   "source": [
    "#t_score, v_score = run_example(1000, 2, error=10)\n",
    "#plot_result(t_score,0)"
   ]
  },
  {
   "cell_type": "code",
   "execution_count": null,
   "metadata": {
    "collapsed": true
   },
   "outputs": [],
   "source": []
  },
  {
   "cell_type": "code",
   "execution_count": 29,
   "metadata": {
    "collapsed": true
   },
   "outputs": [],
   "source": [
    "from sklearn import learning_curve"
   ]
  },
  {
   "cell_type": "code",
   "execution_count": 30,
   "metadata": {
    "collapsed": false
   },
   "outputs": [],
   "source": [
    "learning_curve.learning_curve?"
   ]
  },
  {
   "cell_type": "code",
   "execution_count": null,
   "metadata": {
    "collapsed": true
   },
   "outputs": [],
   "source": [
    "import numpy as np\n",
    "import matplotlib.pyplot as plt\n",
    "from sklearn import cross_validation\n",
    "from sklearn.naive_bayes import GaussianNB\n",
    "from sklearn.svm import SVC\n",
    "from sklearn.datasets import load_digits\n",
    "from sklearn.learning_curve import learning_curve"
   ]
  },
  {
   "cell_type": "code",
   "execution_count": null,
   "metadata": {
    "collapsed": false
   },
   "outputs": [],
   "source": [
    "%%timeit\n",
    "\n",
    "def plot_learning_curve(estimator, title, X, y, ylim=None, cv=None,\n",
    "                        n_jobs=1, train_sizes=np.linspace(.1, 1.0, 5)):\n",
    "    \"\"\"\n",
    "    Generate a simple plot of the test and traning learning curve.\n",
    "\n",
    "    Parameters\n",
    "    ----------\n",
    "    estimator : object type that implements the \"fit\" and \"predict\" methods\n",
    "        An object of that type which is cloned for each validation.\n",
    "\n",
    "    title : string\n",
    "        Title for the chart.\n",
    "\n",
    "    X : array-like, shape (n_samples, n_features)\n",
    "        Training vector, where n_samples is the number of samples and\n",
    "        n_features is the number of features.\n",
    "\n",
    "    y : array-like, shape (n_samples) or (n_samples, n_features), optional\n",
    "        Target relative to X for classification or regression;\n",
    "        None for unsupervised learning.\n",
    "\n",
    "    ylim : tuple, shape (ymin, ymax), optional\n",
    "        Defines minimum and maximum yvalues plotted.\n",
    "\n",
    "    cv : integer, cross-validation generator, optional\n",
    "        If an integer is passed, it is the number of folds (defaults to 3).\n",
    "        Specific cross-validation objects can be passed, see\n",
    "        sklearn.cross_validation module for the list of possible objects\n",
    "\n",
    "    n_jobs : integer, optional\n",
    "        Number of jobs to run in parallel (default 1).\n",
    "    \"\"\"\n",
    "    plt.figure()\n",
    "    plt.title(title)\n",
    "    if ylim is not None:\n",
    "        plt.ylim(*ylim)\n",
    "    plt.xlabel(\"Training examples\")\n",
    "    plt.ylabel(\"Score\")\n",
    "    train_sizes, train_scores, test_scores = learning_curve(\n",
    "        estimator, X, y, cv=cv, n_jobs=n_jobs, train_sizes=train_sizes)\n",
    "    train_scores_mean = np.mean(train_scores, axis=1)\n",
    "    train_scores_std = np.std(train_scores, axis=1)\n",
    "    test_scores_mean = np.mean(test_scores, axis=1)\n",
    "    test_scores_std = np.std(test_scores, axis=1)\n",
    "    plt.grid()\n",
    "\n",
    "    plt.fill_between(train_sizes, train_scores_mean - train_scores_std,\n",
    "                     train_scores_mean + train_scores_std, alpha=0.1,\n",
    "                     color=\"r\")\n",
    "    plt.fill_between(train_sizes, test_scores_mean - test_scores_std,\n",
    "                     test_scores_mean + test_scores_std, alpha=0.1, color=\"g\")\n",
    "    plt.plot(train_sizes, train_scores_mean, 'o-', color=\"r\",\n",
    "             label=\"Training score\")\n",
    "    plt.plot(train_sizes, test_scores_mean, 'o-', color=\"g\",\n",
    "             label=\"Cross-validation score\")\n",
    "\n",
    "    plt.legend(loc=\"best\")\n",
    "    return plt\n",
    "\n",
    "\n",
    "digits = load_digits()\n",
    "X, y = digits.data, digits.target\n",
    "\n",
    "\n",
    "title = \"Learning Curves (Naive Bayes)\"\n",
    "# Cross validation with 100 iterations to get smoother mean test and train\n",
    "# score curves, each time with 20% data randomly selected as a validation set.\n",
    "cv = cross_validation.ShuffleSplit(digits.data.shape[0], n_iter=100,\n",
    "                                   test_size=0.2, random_state=0)\n",
    "\n",
    "estimator = GaussianNB()\n",
    "plot_learning_curve(estimator, title, X, y, ylim=(0.7, 1.01), cv=cv, n_jobs=4)\n",
    "\n",
    "title = \"Learning Curves (SVM, RBF kernel, $\\gamma=0.001$)\"\n",
    "# SVC is more expensive so we do a lower number of CV iterations:\n",
    "cv = cross_validation.ShuffleSplit(digits.data.shape[0], n_iter=10,\n",
    "                                   test_size=0.2, random_state=0)\n",
    "estimator = SVC(gamma=0.001)\n",
    "plot_learning_curve(estimator, title, X, y, (0.7, 1.01), cv=cv, n_jobs=4)\n",
    "\n",
    "# plt.show()"
   ]
  },
  {
   "cell_type": "code",
   "execution_count": null,
   "metadata": {
    "collapsed": false
   },
   "outputs": [],
   "source": [
    "%%timeit\n",
    "\n",
    "def plot_learning_curve(estimator, title, X, y, ylim=None, cv=None,\n",
    "                        n_jobs=1, train_sizes=np.linspace(.1, 1.0, 5)):\n",
    "    \"\"\"\n",
    "    Generate a simple plot of the test and traning learning curve.\n",
    "\n",
    "    Parameters\n",
    "    ----------\n",
    "    estimator : object type that implements the \"fit\" and \"predict\" methods\n",
    "        An object of that type which is cloned for each validation.\n",
    "\n",
    "    title : string\n",
    "        Title for the chart.\n",
    "\n",
    "    X : array-like, shape (n_samples, n_features)\n",
    "        Training vector, where n_samples is the number of samples and\n",
    "        n_features is the number of features.\n",
    "\n",
    "    y : array-like, shape (n_samples) or (n_samples, n_features), optional\n",
    "        Target relative to X for classification or regression;\n",
    "        None for unsupervised learning.\n",
    "\n",
    "    ylim : tuple, shape (ymin, ymax), optional\n",
    "        Defines minimum and maximum yvalues plotted.\n",
    "\n",
    "    cv : integer, cross-validation generator, optional\n",
    "        If an integer is passed, it is the number of folds (defaults to 3).\n",
    "        Specific cross-validation objects can be passed, see\n",
    "        sklearn.cross_validation module for the list of possible objects\n",
    "\n",
    "    n_jobs : integer, optional\n",
    "        Number of jobs to run in parallel (default 1).\n",
    "    \"\"\"\n",
    "    plt.figure()\n",
    "    plt.title(title)\n",
    "    if ylim is not None:\n",
    "        plt.ylim(*ylim)\n",
    "    plt.xlabel(\"Training examples\")\n",
    "    plt.ylabel(\"Score\")\n",
    "    train_sizes, train_scores, test_scores = learning_curve(\n",
    "        estimator, X, y, cv=cv, n_jobs=n_jobs, train_sizes=train_sizes)\n",
    "    train_scores_mean = np.mean(train_scores, axis=1)\n",
    "    train_scores_std = np.std(train_scores, axis=1)\n",
    "    test_scores_mean = np.mean(test_scores, axis=1)\n",
    "    test_scores_std = np.std(test_scores, axis=1)\n",
    "    plt.grid()\n",
    "\n",
    "    plt.fill_between(train_sizes, train_scores_mean - train_scores_std,\n",
    "                     train_scores_mean + train_scores_std, alpha=0.1,\n",
    "                     color=\"r\")\n",
    "    plt.fill_between(train_sizes, test_scores_mean - test_scores_std,\n",
    "                     test_scores_mean + test_scores_std, alpha=0.1, color=\"g\")\n",
    "    plt.plot(train_sizes, train_scores_mean, 'o-', color=\"r\",\n",
    "             label=\"Training score\")\n",
    "    plt.plot(train_sizes, test_scores_mean, 'o-', color=\"g\",\n",
    "             label=\"Cross-validation score\")\n",
    "\n",
    "    plt.legend(loc=\"best\")\n",
    "    return plt\n",
    "\n",
    "\n",
    "digits = load_digits()\n",
    "X, y = digits.data, digits.target\n",
    "\n",
    "\n",
    "title = \"Learning Curves (Naive Bayes)\"\n",
    "# Cross validation with 100 iterations to get smoother mean test and train\n",
    "# score curves, each time with 20% data randomly selected as a validation set.\n",
    "cv = cross_validation.ShuffleSplit(digits.data.shape[0], n_iter=100,\n",
    "                                   test_size=0.2, random_state=0)\n",
    "\n",
    "estimator = GaussianNB()\n",
    "plot_learning_curve(estimator, title, X, y, ylim=(0.7, 1.01), cv=cv, n_jobs=1)\n",
    "\n",
    "title = \"Learning Curves (SVM, RBF kernel, $\\gamma=0.001$)\"\n",
    "# SVC is more expensive so we do a lower number of CV iterations:\n",
    "cv = cross_validation.ShuffleSplit(digits.data.shape[0], n_iter=10,\n",
    "                                   test_size=0.2, random_state=0)\n",
    "estimator = SVC(gamma=0.001)\n",
    "plot_learning_curve(estimator, title, X, y, (0.7, 1.01), cv=cv, n_jobs=1)\n",
    "\n",
    "# plt.show()"
   ]
  },
  {
   "cell_type": "code",
   "execution_count": null,
   "metadata": {
    "collapsed": true
   },
   "outputs": [],
   "source": [
    "# Exercise: try different datasets, and understand how the bias & variance works"
   ]
  },
  {
   "cell_type": "markdown",
   "metadata": {},
   "source": [
    "# Regression in-depth"
   ]
  },
  {
   "cell_type": "markdown",
   "metadata": {},
   "source": [
    "## Ridge"
   ]
  },
  {
   "cell_type": "code",
   "execution_count": null,
   "metadata": {
    "collapsed": false
   },
   "outputs": [],
   "source": [
    "1. / (np.arange(1, 11) + np.arange(0, 10)[:, np.newaxis])"
   ]
  },
  {
   "cell_type": "code",
   "execution_count": null,
   "metadata": {
    "collapsed": false
   },
   "outputs": [],
   "source": [
    "np.arange(0, 10)[:, np.newaxis]"
   ]
  },
  {
   "cell_type": "code",
   "execution_count": null,
   "metadata": {
    "collapsed": false
   },
   "outputs": [],
   "source": [
    "np.arange(1, 11) + np.arange(0, 10)[:, np.newaxis]"
   ]
  },
  {
   "cell_type": "code",
   "execution_count": null,
   "metadata": {
    "collapsed": false
   },
   "outputs": [],
   "source": [
    "np.logspace(5,-1,5)"
   ]
  },
  {
   "cell_type": "code",
   "execution_count": null,
   "metadata": {
    "collapsed": false
   },
   "outputs": [],
   "source": [
    "np.power(10,3.5)"
   ]
  },
  {
   "cell_type": "code",
   "execution_count": null,
   "metadata": {
    "collapsed": false
   },
   "outputs": [],
   "source": [
    "# X is the 10x10 Hilbert matrix\n",
    "# X = 1. / (np.arange(1, 11) + np.arange(0, 10)[:, np.newaxis])\n",
    "# y = np.ones(10)\n",
    "data = datasets.make_regression(n_samples=1000, n_features=30, n_informative=15, random_state=0)\n",
    "\n",
    "X = data[0]\n",
    "y = data[1]\n",
    "\n",
    "###############################################################################\n",
    "# Compute paths\n",
    "\n",
    "n_alphas = 200\n",
    "alphas = np.logspace(5, -1,n_alphas)\n",
    "clf = linear_model.Ridge()\n",
    "\n",
    "coefs = []\n",
    "for a in alphas:\n",
    "    clf.set_params(alpha=a)\n",
    "    clf.fit(X, y)\n",
    "    coefs.append(clf.coef_)\n",
    "\n",
    "###############################################################################\n",
    "# Display results\n",
    "\n",
    "ax = plt.gca()\n",
    "ax.set_color_cycle(['b', 'r', 'g', 'c', 'k', 'y', 'm'])\n",
    "\n",
    "ax.plot(alphas, coefs)\n",
    "ax.set_xscale('log')\n",
    "ax.set_xlim(ax.get_xlim()[::-1])  # reverse axis\n",
    "plt.xlabel('alpha')\n",
    "plt.ylabel('weights')\n",
    "plt.title('Ridge coefficients as a function of the regularization')\n",
    "plt.axis('tight')\n",
    "plt.show()"
   ]
  },
  {
   "cell_type": "code",
   "execution_count": null,
   "metadata": {
    "collapsed": false
   },
   "outputs": [],
   "source": [
    "clf.score?"
   ]
  },
  {
   "cell_type": "code",
   "execution_count": null,
   "metadata": {
    "collapsed": true
   },
   "outputs": [],
   "source": []
  },
  {
   "cell_type": "markdown",
   "metadata": {},
   "source": [
    "## Lasso"
   ]
  },
  {
   "cell_type": "code",
   "execution_count": null,
   "metadata": {
    "collapsed": false
   },
   "outputs": [],
   "source": [
    "###############################################################################\n",
    "# Compute paths\n",
    "\n",
    "n_alphas = 200\n",
    "alphas = np.logspace(-1, 5, n_alphas)\n",
    "clf = linear_model.Lasso()\n",
    "\n",
    "coefs = []\n",
    "for a in alphas:\n",
    "    clf.set_params(alpha=a)\n",
    "    clf.fit(X, y)\n",
    "    coefs.append(clf.coef_)\n",
    "\n",
    "###############################################################################\n",
    "# Display results\n",
    "\n",
    "ax = plt.gca()\n",
    "ax.set_color_cycle(['b', 'r', 'g', 'c', 'k', 'y', 'm'])\n",
    "\n",
    "ax.plot(alphas, coefs)\n",
    "ax.set_xscale('log')\n",
    "ax.set_xlim(ax.get_xlim()[::-1])  # reverse axis\n",
    "plt.xlabel('alpha')\n",
    "plt.ylabel('weights')\n",
    "plt.title('Ridge coefficients as a function of the regularization')\n",
    "plt.axis('tight')\n",
    "plt.show()"
   ]
  },
  {
   "cell_type": "code",
   "execution_count": null,
   "metadata": {
    "collapsed": false
   },
   "outputs": [],
   "source": [
    "# Excercise, run the regression over friedman datasets, see which variables are selected at different alpha\n",
    "data = datasets.make_friedman1(random_state=0)\n",
    "X = data[0]\n",
    "y = data[1]"
   ]
  },
  {
   "cell_type": "markdown",
   "metadata": {},
   "source": [
    "## Elastic Net"
   ]
  },
  {
   "cell_type": "code",
   "execution_count": null,
   "metadata": {
    "collapsed": false
   },
   "outputs": [],
   "source": [
    "###############################################################################\n",
    "# Compute paths\n",
    "\n",
    "n_alphas = 200\n",
    "alphas = np.logspace(-1, 5, n_alphas)\n",
    "clf = linear_model.ElasticNet(l1_ratio=0.5)\n",
    "\n",
    "coefs = []\n",
    "for a in alphas:\n",
    "    clf.set_params(alpha=a)\n",
    "    clf.fit(X, y)\n",
    "    coefs.append(clf.coef_)\n",
    "\n",
    "###############################################################################\n",
    "# Display results\n",
    "\n",
    "ax = plt.gca()\n",
    "ax.set_color_cycle(['b', 'r', 'g', 'c', 'k', 'y', 'm'])\n",
    "\n",
    "ax.plot(alphas, coefs)\n",
    "ax.set_xscale('log')\n",
    "ax.set_xlim(ax.get_xlim()[::-1])  # reverse axis\n",
    "plt.xlabel('alpha')\n",
    "plt.ylabel('weights')\n",
    "plt.title('Ridge coefficients as a function of the regularization')\n",
    "plt.axis('tight')\n",
    "plt.show()"
   ]
  },
  {
   "cell_type": "markdown",
   "metadata": {},
   "source": [
    "## Grid Search"
   ]
  },
  {
   "cell_type": "code",
   "execution_count": null,
   "metadata": {
    "collapsed": true
   },
   "outputs": [],
   "source": [
    "from sklearn import grid_search"
   ]
  },
  {
   "cell_type": "code",
   "execution_count": null,
   "metadata": {
    "collapsed": false
   },
   "outputs": [],
   "source": [
    "np.logspace(-5, 5, 10)"
   ]
  },
  {
   "cell_type": "code",
   "execution_count": null,
   "metadata": {
    "collapsed": false
   },
   "outputs": [],
   "source": [
    "lrg = linear_model.Lasso()\n",
    "the_dict = {'alpha': np.logspace(-5, 5, 20)}\n",
    "gs_lrg = grid_search.GridSearchCV(lrg, the_dict, cv=5)"
   ]
  },
  {
   "cell_type": "code",
   "execution_count": null,
   "metadata": {
    "collapsed": false
   },
   "outputs": [],
   "source": [
    "gs_lrg.fit(X, y)"
   ]
  },
  {
   "cell_type": "code",
   "execution_count": null,
   "metadata": {
    "collapsed": true
   },
   "outputs": [],
   "source": [
    "# Excercise\n",
    "# Q1. what is the best parametr of linear regression for friedman1 datasets for Lasso and Ridge?\n",
    "#     visualize how the coeficient changes along with parameters\n",
    "\n",
    "# Hint: \n",
    "# 1. explore the available results (XX_) after .fit method runs\n",
    "# 2. explore the type and available attributes for the available results\n",
    "\n",
    "\n",
    "# Q2. How about elastic net?"
   ]
  },
  {
   "cell_type": "markdown",
   "metadata": {},
   "source": [
    "## SGD"
   ]
  },
  {
   "cell_type": "code",
   "execution_count": null,
   "metadata": {
    "collapsed": false
   },
   "outputs": [],
   "source": [
    "# Excercise, run the regression over friedman datasets, see which variables are selected at different alpha\n",
    "data = datasets.make_regression(n_samples=10000, n_features=1000, n_informative=1000)\n",
    "X = data[0]\n",
    "y = data[1]"
   ]
  },
  {
   "cell_type": "code",
   "execution_count": null,
   "metadata": {
    "collapsed": true
   },
   "outputs": [],
   "source": [
    "lrg = linear_model.LinearRegression()"
   ]
  },
  {
   "cell_type": "code",
   "execution_count": null,
   "metadata": {
    "collapsed": false
   },
   "outputs": [],
   "source": [
    "%%time\n",
    "lrg1 = linear_model.LinearRegression()\n",
    "lrg1.fit(X, y)"
   ]
  },
  {
   "cell_type": "code",
   "execution_count": null,
   "metadata": {
    "collapsed": false
   },
   "outputs": [],
   "source": [
    "a = lrg1.coef_"
   ]
  },
  {
   "cell_type": "code",
   "execution_count": null,
   "metadata": {
    "collapsed": false
   },
   "outputs": [],
   "source": [
    "%%time\n",
    "lrg2 = linear_model.SGDRegressor()\n",
    "lrg2.fit(X,y)"
   ]
  },
  {
   "cell_type": "code",
   "execution_count": null,
   "metadata": {
    "collapsed": false
   },
   "outputs": [],
   "source": [
    "b = lrg2.coef_"
   ]
  },
  {
   "cell_type": "code",
   "execution_count": null,
   "metadata": {
    "collapsed": true
   },
   "outputs": [],
   "source": [
    "linear_model.SGDRegressor?"
   ]
  },
  {
   "cell_type": "markdown",
   "metadata": {},
   "source": [
    "## Preprocessing"
   ]
  },
  {
   "cell_type": "code",
   "execution_count": null,
   "metadata": {
    "collapsed": true
   },
   "outputs": [],
   "source": [
    "from sklearn import preprocessing"
   ]
  },
  {
   "cell_type": "code",
   "execution_count": null,
   "metadata": {
    "collapsed": true
   },
   "outputs": [],
   "source": [
    "preprocessing.PolynomialFeatures?"
   ]
  },
  {
   "cell_type": "code",
   "execution_count": null,
   "metadata": {
    "collapsed": true
   },
   "outputs": [],
   "source": [
    "# Balance Varience & Bias\n",
    "np.random.seed(1)\n",
    "x = (np.random.random([30, 1]) * 6 - 4).ravel()\n",
    "y = -2*(5*x)**3 - 30 * (5*x) **2 + 100*(10*x) + 500 * np.random.randn(len(x))"
   ]
  },
  {
   "cell_type": "code",
   "execution_count": null,
   "metadata": {
    "collapsed": false
   },
   "outputs": [],
   "source": [
    "pp_pf = preprocessing.PolynomialFeatures(degree=5)"
   ]
  },
  {
   "cell_type": "code",
   "execution_count": null,
   "metadata": {
    "collapsed": true
   },
   "outputs": [],
   "source": []
  },
  {
   "cell_type": "code",
   "execution_count": null,
   "metadata": {
    "collapsed": false
   },
   "outputs": [],
   "source": [
    "pp_pf.fit_transform(x.reshape(30,1)).shape"
   ]
  },
  {
   "cell_type": "code",
   "execution_count": null,
   "metadata": {
    "collapsed": true
   },
   "outputs": [],
   "source": [
    "datasets.load_boston?"
   ]
  },
  {
   "cell_type": "code",
   "execution_count": null,
   "metadata": {
    "collapsed": true
   },
   "outputs": [],
   "source": [
    "# Exercise: re-write the homework using the preprocessing module in Sklearn, do the work\n",
    "# explore the bias & varience"
   ]
  },
  {
   "cell_type": "markdown",
   "metadata": {
    "collapsed": true
   },
   "source": [
    "# Classification Metrics"
   ]
  },
  {
   "cell_type": "code",
   "execution_count": null,
   "metadata": {
    "collapsed": true
   },
   "outputs": [],
   "source": [
    "from sklearn import metrics"
   ]
  },
  {
   "cell_type": "code",
   "execution_count": null,
   "metadata": {
    "collapsed": true
   },
   "outputs": [],
   "source": [
    "# accuracy_score, precision_score, recall_score, f1_score, \n",
    "# confusion_matrix, classification_report"
   ]
  },
  {
   "cell_type": "markdown",
   "metadata": {},
   "source": [
    "## confusion matrix"
   ]
  },
  {
   "cell_type": "code",
   "execution_count": null,
   "metadata": {
    "collapsed": true
   },
   "outputs": [],
   "source": [
    "y_true = [1, 0, 0, 0, 1, 0, 1, 1, 0, 2, 2, 2, 2]\n",
    "y_pred = [1, 1, 0, 0, 0, 1, 1, 1, 0, 2, 1, 2, 2]\n",
    "# metrics.confusion_matrix(y_true, y_pred)"
   ]
  },
  {
   "cell_type": "code",
   "execution_count": null,
   "metadata": {
    "collapsed": true
   },
   "outputs": [],
   "source": [
    "#print metrics.accuracy_score(y_true, y_pred)\n",
    "#print metrics.precision_score(y_true, y_pred)\n",
    "#print metrics.recall_score(y_true, y_pred)"
   ]
  },
  {
   "cell_type": "code",
   "execution_count": null,
   "metadata": {
    "collapsed": false
   },
   "outputs": [],
   "source": [
    "plt.imshow(metrics.confusion_matrix(y_true, y_pred), interpolation='nearest')"
   ]
  },
  {
   "cell_type": "markdown",
   "metadata": {},
   "source": [
    "## ROC curve"
   ]
  },
  {
   "cell_type": "code",
   "execution_count": null,
   "metadata": {
    "collapsed": true
   },
   "outputs": [],
   "source": [
    "y_true = [0, 1, 0, 1, 1, 1, 0, 0] # raw data\n",
    "y_score = [0.2, 0.7, 0.6, 0.6, 0.5, 0.9, 0.4, 0.6] # problistic results\n",
    "y_pred = [0, 1, 1, 1, 1, 1, 0, 1] # final prediction"
   ]
  },
  {
   "cell_type": "code",
   "execution_count": null,
   "metadata": {
    "collapsed": false
   },
   "outputs": [],
   "source": [
    "# How ROC curvie is calculated?\n",
    "# 0.9\n",
    "y_true = [0, 1, 0, 1, 1, 1, 0, 0]\n",
    "y_score = [0.2, 0.7, 0.6, 0.6, 0.5, 0.9, 0.4, 0.6]\n",
    "y_pred = [0, 0, 0, 0, 0, 1, 0, 0]\n",
    "print metrics.confusion_matrix(y_true, y_pred)\n",
    "print metrics.recall_score(y_true, y_pred, pos_label=1), metrics.recall_score(y_true, y_pred,  pos_label=0)"
   ]
  },
  {
   "cell_type": "code",
   "execution_count": null,
   "metadata": {
    "collapsed": false
   },
   "outputs": [],
   "source": [
    "data = metrics.roc_curve(y_true, y_score)\n",
    "data"
   ]
  },
  {
   "cell_type": "code",
   "execution_count": null,
   "metadata": {
    "collapsed": false
   },
   "outputs": [],
   "source": [
    "plt.plot(data[0], data[1], '*-')\n",
    "plt.xlim([-0.1, 1.1])\n",
    "plt.ylim([-0.1, 1.1])"
   ]
  },
  {
   "cell_type": "code",
   "execution_count": null,
   "metadata": {
    "collapsed": false
   },
   "outputs": [],
   "source": [
    "# create advanced learning algorithm & comparison\n",
    "y_true = np.random.randint(0, 2, 100)\n",
    "y_score = np.random.rand(100)\n",
    "\n",
    "data = metrics.roc_curve(y_true, y_score)\n",
    "plt.plot(data[0], data[1], '*-')\n",
    "plt.xlim([-0.1, 1.1])\n",
    "plt.ylim([-0.1, 1.1])"
   ]
  },
  {
   "cell_type": "code",
   "execution_count": null,
   "metadata": {
    "collapsed": true
   },
   "outputs": [],
   "source": [
    "# Exercise: Can you design an advanced learning algorithm, and then run ROC over it?"
   ]
  },
  {
   "cell_type": "code",
   "execution_count": null,
   "metadata": {
    "collapsed": false
   },
   "outputs": [],
   "source": [
    "metrics.roc_auc_score(y_true, y_score)"
   ]
  },
  {
   "cell_type": "code",
   "execution_count": null,
   "metadata": {
    "collapsed": false
   },
   "outputs": [],
   "source": [
    "print metrics.classification_report(y_true, y_pred)"
   ]
  },
  {
   "cell_type": "markdown",
   "metadata": {},
   "source": [
    "# Classification Methods"
   ]
  },
  {
   "cell_type": "markdown",
   "metadata": {},
   "source": [
    "## Logistic regression"
   ]
  },
  {
   "cell_type": "code",
   "execution_count": null,
   "metadata": {
    "collapsed": true
   },
   "outputs": [],
   "source": [
    "from sklearn import linear_model"
   ]
  },
  {
   "cell_type": "code",
   "execution_count": null,
   "metadata": {
    "collapsed": true
   },
   "outputs": [],
   "source": [
    "logrg = linear_model.LogisticRegression()"
   ]
  },
  {
   "cell_type": "code",
   "execution_count": null,
   "metadata": {
    "collapsed": true
   },
   "outputs": [],
   "source": [
    "# load iris data\n",
    "# construct logistic regression"
   ]
  },
  {
   "cell_type": "code",
   "execution_count": null,
   "metadata": {
    "collapsed": true
   },
   "outputs": [],
   "source": [
    "# Excercise: visualize the confusion matrix & ROC curve (for each class respectively)"
   ]
  },
  {
   "cell_type": "code",
   "execution_count": null,
   "metadata": {
    "collapsed": true
   },
   "outputs": [],
   "source": []
  },
  {
   "cell_type": "code",
   "execution_count": null,
   "metadata": {
    "collapsed": true
   },
   "outputs": [],
   "source": []
  },
  {
   "cell_type": "code",
   "execution_count": null,
   "metadata": {
    "collapsed": true
   },
   "outputs": [],
   "source": []
  },
  {
   "cell_type": "markdown",
   "metadata": {},
   "source": [
    "## Visualizing decision boundary"
   ]
  },
  {
   "cell_type": "code",
   "execution_count": null,
   "metadata": {
    "collapsed": true
   },
   "outputs": [],
   "source": [
    "x_min = -1.8\n",
    "x_max = 7.2\n",
    "y_min = -1.8\n",
    "y_max = 7.2\n",
    "h = 0.05\n",
    "xx, yy = np.meshgrid(np.arange(x_min, x_max, h),\n",
    "                     np.arange(y_min, y_max, h))\n",
    "Z = lrg.predict(np.array(zip(xx.ravel(), yy.ravel())))\n",
    "\n",
    "# reshape, contourf"
   ]
  },
  {
   "cell_type": "code",
   "execution_count": null,
   "metadata": {
    "collapsed": true
   },
   "outputs": [],
   "source": []
  },
  {
   "cell_type": "code",
   "execution_count": null,
   "metadata": {
    "collapsed": true
   },
   "outputs": [],
   "source": []
  },
  {
   "cell_type": "markdown",
   "metadata": {},
   "source": [
    "## Decision tree"
   ]
  },
  {
   "cell_type": "code",
   "execution_count": null,
   "metadata": {
    "collapsed": true
   },
   "outputs": [],
   "source": [
    "from sklearn import tree"
   ]
  },
  {
   "cell_type": "code",
   "execution_count": null,
   "metadata": {
    "collapsed": true
   },
   "outputs": [],
   "source": [
    "tree."
   ]
  },
  {
   "cell_type": "markdown",
   "metadata": {},
   "source": [
    "## SVM"
   ]
  },
  {
   "cell_type": "code",
   "execution_count": null,
   "metadata": {
    "collapsed": true
   },
   "outputs": [],
   "source": [
    "from sklearn import svm"
   ]
  },
  {
   "cell_type": "code",
   "execution_count": null,
   "metadata": {
    "collapsed": true
   },
   "outputs": [],
   "source": [
    "svm.LinearSVC?"
   ]
  },
  {
   "cell_type": "code",
   "execution_count": null,
   "metadata": {
    "collapsed": true
   },
   "outputs": [],
   "source": []
  },
  {
   "cell_type": "code",
   "execution_count": null,
   "metadata": {
    "collapsed": true
   },
   "outputs": [],
   "source": [
    "# Exercise: compare the performance for decision tree, SVM, and logistic regression over IRIS data"
   ]
  },
  {
   "cell_type": "code",
   "execution_count": null,
   "metadata": {
    "collapsed": true
   },
   "outputs": [],
   "source": []
  },
  {
   "cell_type": "code",
   "execution_count": null,
   "metadata": {
    "collapsed": true
   },
   "outputs": [],
   "source": []
  },
  {
   "cell_type": "code",
   "execution_count": null,
   "metadata": {
    "collapsed": true
   },
   "outputs": [],
   "source": []
  },
  {
   "cell_type": "code",
   "execution_count": null,
   "metadata": {
    "collapsed": true
   },
   "outputs": [],
   "source": []
  },
  {
   "cell_type": "code",
   "execution_count": null,
   "metadata": {
    "collapsed": true
   },
   "outputs": [],
   "source": []
  },
  {
   "cell_type": "code",
   "execution_count": null,
   "metadata": {
    "collapsed": true
   },
   "outputs": [],
   "source": []
  },
  {
   "cell_type": "code",
   "execution_count": null,
   "metadata": {
    "collapsed": true
   },
   "outputs": [],
   "source": []
  },
  {
   "cell_type": "code",
   "execution_count": null,
   "metadata": {
    "collapsed": true
   },
   "outputs": [],
   "source": []
  },
  {
   "cell_type": "code",
   "execution_count": null,
   "metadata": {
    "collapsed": true
   },
   "outputs": [],
   "source": []
  },
  {
   "cell_type": "code",
   "execution_count": null,
   "metadata": {
    "collapsed": true
   },
   "outputs": [],
   "source": []
  }
 ],
 "metadata": {
  "kernelspec": {
   "display_name": "Python 2",
   "language": "python",
   "name": "python2"
  },
  "language_info": {
   "codemirror_mode": {
    "name": "ipython",
    "version": 2
   },
   "file_extension": ".py",
   "mimetype": "text/x-python",
   "name": "python",
   "nbconvert_exporter": "python",
   "pygments_lexer": "ipython2",
   "version": "2.7.10"
  }
 },
 "nbformat": 4,
 "nbformat_minor": 0
}
