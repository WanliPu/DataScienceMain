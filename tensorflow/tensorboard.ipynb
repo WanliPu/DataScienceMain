{
 "cells": [
  {
   "cell_type": "code",
   "execution_count": 3,
   "metadata": {
    "collapsed": true
   },
   "outputs": [],
   "source": [
    "import tensorflow as tf"
   ]
  },
  {
   "cell_type": "markdown",
   "metadata": {
    "collapsed": true
   },
   "source": [
    "!tensorboard --logdir=temp\\test"
   ]
  },
  {
   "cell_type": "code",
   "execution_count": 4,
   "metadata": {
    "collapsed": true
   },
   "outputs": [],
   "source": [
    "a = tf.constant(5, name = 'input_a')\n",
    "b = tf.constant(3, name = 'input_b')\n",
    "c = tf.multiply(a, b, name = 'multiply_c')\n",
    "d = tf.add(a, b, name = 'add_d')\n",
    "e = tf.add(c, d, name = 'add_e')\n",
    "sess = tf.Session()\n",
    "output = sess.run(e)\n",
    "writer = tf.summary.FileWriter('temp/test', sess.graph) # tf.train.SummaryWriter is deprecated, instead use tf.summary.FileWriter\n",
    "writer.close()\n",
    "sess.close()"
   ]
  },
  {
   "cell_type": "markdown",
   "metadata": {
    "collapsed": true
   },
   "source": [
    "!tensorboard --logdir=temp\\test"
   ]
  },
  {
   "cell_type": "code",
   "execution_count": null,
   "metadata": {
    "collapsed": true
   },
   "outputs": [],
   "source": []
  }
 ],
 "metadata": {
  "kernelspec": {
   "display_name": "Python 3",
   "language": "python",
   "name": "python3"
  },
  "language_info": {
   "codemirror_mode": {
    "name": "ipython",
    "version": 3
   },
   "file_extension": ".py",
   "mimetype": "text/x-python",
   "name": "python",
   "nbconvert_exporter": "python",
   "pygments_lexer": "ipython3",
   "version": "3.6.3"
  }
 },
 "nbformat": 4,
 "nbformat_minor": 2
}
